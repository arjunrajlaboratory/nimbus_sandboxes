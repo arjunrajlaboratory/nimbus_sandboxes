{
 "cells": [
  {
   "cell_type": "code",
   "execution_count": 1,
   "metadata": {},
   "outputs": [
    {
     "name": "stdout",
     "output_type": "stream",
     "text": [
      "Defaulting to user installation because normal site-packages is not writeable\n",
      "Requirement already satisfied: notebook in /Users/arjunraj/Library/Python/3.9/lib/python/site-packages (6.5.4)\n",
      "Requirement already satisfied: matplotlib in /Users/arjunraj/Library/Python/3.9/lib/python/site-packages (3.8.0)\n",
      "Requirement already satisfied: tifffile in /Users/arjunraj/Library/Python/3.9/lib/python/site-packages (2023.4.12)\n",
      "Requirement already satisfied: jupyter-client>=5.3.4 in /Users/arjunraj/Library/Python/3.9/lib/python/site-packages (from notebook) (8.2.0)\n",
      "Requirement already satisfied: pyzmq>=17 in /Users/arjunraj/Library/Python/3.9/lib/python/site-packages (from notebook) (25.0.2)\n",
      "Requirement already satisfied: tornado>=6.1 in /Users/arjunraj/Library/Python/3.9/lib/python/site-packages (from notebook) (6.3)\n",
      "Requirement already satisfied: ipython-genutils in /Users/arjunraj/Library/Python/3.9/lib/python/site-packages (from notebook) (0.2.0)\n",
      "Requirement already satisfied: nest-asyncio>=1.5 in /Users/arjunraj/Library/Python/3.9/lib/python/site-packages (from notebook) (1.5.6)\n",
      "Requirement already satisfied: ipykernel in /Users/arjunraj/Library/Python/3.9/lib/python/site-packages (from notebook) (6.22.0)\n",
      "Requirement already satisfied: argon2-cffi in /Users/arjunraj/Library/Python/3.9/lib/python/site-packages (from notebook) (21.3.0)\n",
      "Requirement already satisfied: nbconvert>=5 in /Users/arjunraj/Library/Python/3.9/lib/python/site-packages (from notebook) (7.3.1)\n",
      "Requirement already satisfied: traitlets>=4.2.1 in /Users/arjunraj/Library/Python/3.9/lib/python/site-packages (from notebook) (5.9.0)\n",
      "Requirement already satisfied: Send2Trash>=1.8.0 in /Users/arjunraj/Library/Python/3.9/lib/python/site-packages (from notebook) (1.8.0)\n",
      "Requirement already satisfied: jinja2 in /Users/arjunraj/Library/Python/3.9/lib/python/site-packages (from notebook) (3.1.2)\n",
      "Requirement already satisfied: nbclassic>=0.4.7 in /Users/arjunraj/Library/Python/3.9/lib/python/site-packages (from notebook) (0.5.5)\n",
      "Requirement already satisfied: jupyter-core>=4.6.1 in /Users/arjunraj/Library/Python/3.9/lib/python/site-packages (from notebook) (5.3.0)\n",
      "Requirement already satisfied: nbformat in /Users/arjunraj/Library/Python/3.9/lib/python/site-packages (from notebook) (5.8.0)\n",
      "Requirement already satisfied: prometheus-client in /Users/arjunraj/Library/Python/3.9/lib/python/site-packages (from notebook) (0.16.0)\n",
      "Requirement already satisfied: terminado>=0.8.3 in /Users/arjunraj/Library/Python/3.9/lib/python/site-packages (from notebook) (0.17.1)\n",
      "Requirement already satisfied: pillow>=6.2.0 in /Users/arjunraj/Library/Python/3.9/lib/python/site-packages (from matplotlib) (9.5.0)\n",
      "Requirement already satisfied: packaging>=20.0 in /Users/arjunraj/Library/Python/3.9/lib/python/site-packages (from matplotlib) (23.1)\n",
      "Requirement already satisfied: python-dateutil>=2.7 in /Users/arjunraj/Library/Python/3.9/lib/python/site-packages (from matplotlib) (2.8.2)\n",
      "Requirement already satisfied: contourpy>=1.0.1 in /Users/arjunraj/Library/Python/3.9/lib/python/site-packages (from matplotlib) (1.1.1)\n",
      "Requirement already satisfied: fonttools>=4.22.0 in /Users/arjunraj/Library/Python/3.9/lib/python/site-packages (from matplotlib) (4.42.1)\n",
      "Requirement already satisfied: numpy<2,>=1.21 in /Users/arjunraj/Library/Python/3.9/lib/python/site-packages (from matplotlib) (1.25.0)\n",
      "Requirement already satisfied: cycler>=0.10 in /Users/arjunraj/Library/Python/3.9/lib/python/site-packages (from matplotlib) (0.11.0)\n",
      "Requirement already satisfied: kiwisolver>=1.0.1 in /Users/arjunraj/Library/Python/3.9/lib/python/site-packages (from matplotlib) (1.4.5)\n",
      "Requirement already satisfied: importlib-resources>=3.2.0 in /Users/arjunraj/Library/Python/3.9/lib/python/site-packages (from matplotlib) (6.1.0)\n",
      "Requirement already satisfied: pyparsing>=2.3.1 in /Users/arjunraj/Library/Python/3.9/lib/python/site-packages (from matplotlib) (3.1.1)\n",
      "Requirement already satisfied: zipp>=3.1.0 in /Users/arjunraj/Library/Python/3.9/lib/python/site-packages (from importlib-resources>=3.2.0->matplotlib) (3.15.0)\n",
      "Requirement already satisfied: importlib-metadata>=4.8.3 in /Users/arjunraj/Library/Python/3.9/lib/python/site-packages (from jupyter-client>=5.3.4->notebook) (6.5.0)\n",
      "Requirement already satisfied: platformdirs>=2.5 in /Users/arjunraj/Library/Python/3.9/lib/python/site-packages (from jupyter-core>=4.6.1->notebook) (3.2.0)\n",
      "Requirement already satisfied: notebook-shim>=0.1.0 in /Users/arjunraj/Library/Python/3.9/lib/python/site-packages (from nbclassic>=0.4.7->notebook) (0.2.2)\n",
      "Requirement already satisfied: jupyter-server>=1.8 in /Users/arjunraj/Library/Python/3.9/lib/python/site-packages (from nbclassic>=0.4.7->notebook) (2.5.0)\n",
      "Requirement already satisfied: websocket-client in /Users/arjunraj/Library/Python/3.9/lib/python/site-packages (from jupyter-server>=1.8->nbclassic>=0.4.7->notebook) (1.5.1)\n",
      "Requirement already satisfied: jupyter-events>=0.4.0 in /Users/arjunraj/Library/Python/3.9/lib/python/site-packages (from jupyter-server>=1.8->nbclassic>=0.4.7->notebook) (0.6.3)\n",
      "Requirement already satisfied: jupyter-server-terminals in /Users/arjunraj/Library/Python/3.9/lib/python/site-packages (from jupyter-server>=1.8->nbclassic>=0.4.7->notebook) (0.4.4)\n",
      "Requirement already satisfied: anyio>=3.1.0 in /Users/arjunraj/Library/Python/3.9/lib/python/site-packages (from jupyter-server>=1.8->nbclassic>=0.4.7->notebook) (3.6.2)\n",
      "Requirement already satisfied: idna>=2.8 in /Users/arjunraj/Library/Python/3.9/lib/python/site-packages (from anyio>=3.1.0->jupyter-server>=1.8->nbclassic>=0.4.7->notebook) (3.4)\n",
      "Requirement already satisfied: sniffio>=1.1 in /Users/arjunraj/Library/Python/3.9/lib/python/site-packages (from anyio>=3.1.0->jupyter-server>=1.8->nbclassic>=0.4.7->notebook) (1.3.0)\n",
      "Requirement already satisfied: python-json-logger>=2.0.4 in /Users/arjunraj/Library/Python/3.9/lib/python/site-packages (from jupyter-events>=0.4.0->jupyter-server>=1.8->nbclassic>=0.4.7->notebook) (2.0.7)\n",
      "Requirement already satisfied: jsonschema[format-nongpl]>=3.2.0 in /Users/arjunraj/Library/Python/3.9/lib/python/site-packages (from jupyter-events>=0.4.0->jupyter-server>=1.8->nbclassic>=0.4.7->notebook) (4.17.3)\n",
      "Requirement already satisfied: pyyaml>=5.3 in /Users/arjunraj/Library/Python/3.9/lib/python/site-packages (from jupyter-events>=0.4.0->jupyter-server>=1.8->nbclassic>=0.4.7->notebook) (6.0)\n",
      "Requirement already satisfied: rfc3986-validator>=0.1.1 in /Users/arjunraj/Library/Python/3.9/lib/python/site-packages (from jupyter-events>=0.4.0->jupyter-server>=1.8->nbclassic>=0.4.7->notebook) (0.1.1)\n",
      "Requirement already satisfied: rfc3339-validator in /Users/arjunraj/Library/Python/3.9/lib/python/site-packages (from jupyter-events>=0.4.0->jupyter-server>=1.8->nbclassic>=0.4.7->notebook) (0.1.4)\n",
      "Requirement already satisfied: pyrsistent!=0.17.0,!=0.17.1,!=0.17.2,>=0.14.0 in /Users/arjunraj/Library/Python/3.9/lib/python/site-packages (from jsonschema[format-nongpl]>=3.2.0->jupyter-events>=0.4.0->jupyter-server>=1.8->nbclassic>=0.4.7->notebook) (0.19.3)\n",
      "Requirement already satisfied: attrs>=17.4.0 in /Users/arjunraj/Library/Python/3.9/lib/python/site-packages (from jsonschema[format-nongpl]>=3.2.0->jupyter-events>=0.4.0->jupyter-server>=1.8->nbclassic>=0.4.7->notebook) (23.1.0)\n",
      "Requirement already satisfied: webcolors>=1.11 in /Users/arjunraj/Library/Python/3.9/lib/python/site-packages (from jsonschema[format-nongpl]>=3.2.0->jupyter-events>=0.4.0->jupyter-server>=1.8->nbclassic>=0.4.7->notebook) (1.13)\n",
      "Requirement already satisfied: fqdn in /Users/arjunraj/Library/Python/3.9/lib/python/site-packages (from jsonschema[format-nongpl]>=3.2.0->jupyter-events>=0.4.0->jupyter-server>=1.8->nbclassic>=0.4.7->notebook) (1.5.1)\n",
      "Requirement already satisfied: uri-template in /Users/arjunraj/Library/Python/3.9/lib/python/site-packages (from jsonschema[format-nongpl]>=3.2.0->jupyter-events>=0.4.0->jupyter-server>=1.8->nbclassic>=0.4.7->notebook) (1.2.0)\n",
      "Requirement already satisfied: jsonpointer>1.13 in /Users/arjunraj/Library/Python/3.9/lib/python/site-packages (from jsonschema[format-nongpl]>=3.2.0->jupyter-events>=0.4.0->jupyter-server>=1.8->nbclassic>=0.4.7->notebook) (2.3)\n",
      "Requirement already satisfied: isoduration in /Users/arjunraj/Library/Python/3.9/lib/python/site-packages (from jsonschema[format-nongpl]>=3.2.0->jupyter-events>=0.4.0->jupyter-server>=1.8->nbclassic>=0.4.7->notebook) (20.11.0)\n",
      "Requirement already satisfied: jupyterlab-pygments in /Users/arjunraj/Library/Python/3.9/lib/python/site-packages (from nbconvert>=5->notebook) (0.2.2)\n",
      "Requirement already satisfied: pandocfilters>=1.4.1 in /Users/arjunraj/Library/Python/3.9/lib/python/site-packages (from nbconvert>=5->notebook) (1.5.0)\n",
      "Requirement already satisfied: mistune<3,>=2.0.3 in /Users/arjunraj/Library/Python/3.9/lib/python/site-packages (from nbconvert>=5->notebook) (2.0.5)\n",
      "Requirement already satisfied: nbclient>=0.5.0 in /Users/arjunraj/Library/Python/3.9/lib/python/site-packages (from nbconvert>=5->notebook) (0.7.3)\n",
      "Requirement already satisfied: beautifulsoup4 in /Users/arjunraj/Library/Python/3.9/lib/python/site-packages (from nbconvert>=5->notebook) (4.12.2)\n",
      "Requirement already satisfied: tinycss2 in /Users/arjunraj/Library/Python/3.9/lib/python/site-packages (from nbconvert>=5->notebook) (1.2.1)\n",
      "Requirement already satisfied: markupsafe>=2.0 in /Users/arjunraj/Library/Python/3.9/lib/python/site-packages (from nbconvert>=5->notebook) (2.1.2)\n",
      "Requirement already satisfied: defusedxml in /Users/arjunraj/Library/Python/3.9/lib/python/site-packages (from nbconvert>=5->notebook) (0.7.1)\n",
      "Requirement already satisfied: bleach in /Users/arjunraj/Library/Python/3.9/lib/python/site-packages (from nbconvert>=5->notebook) (6.0.0)\n",
      "Requirement already satisfied: pygments>=2.4.1 in /Users/arjunraj/Library/Python/3.9/lib/python/site-packages (from nbconvert>=5->notebook) (2.15.1)\n",
      "Requirement already satisfied: fastjsonschema in /Users/arjunraj/Library/Python/3.9/lib/python/site-packages (from nbformat->notebook) (2.16.3)\n",
      "Requirement already satisfied: six>=1.5 in /Users/arjunraj/Library/Python/3.9/lib/python/site-packages (from python-dateutil>=2.7->matplotlib) (1.16.0)\n",
      "Requirement already satisfied: ptyprocess in /Users/arjunraj/Library/Python/3.9/lib/python/site-packages (from terminado>=0.8.3->notebook) (0.7.0)\n",
      "Requirement already satisfied: argon2-cffi-bindings in /Users/arjunraj/Library/Python/3.9/lib/python/site-packages (from argon2-cffi->notebook) (21.2.0)\n",
      "Requirement already satisfied: cffi>=1.0.1 in /Users/arjunraj/Library/Python/3.9/lib/python/site-packages (from argon2-cffi-bindings->argon2-cffi->notebook) (1.15.1)\n",
      "Requirement already satisfied: pycparser in /Users/arjunraj/Library/Python/3.9/lib/python/site-packages (from cffi>=1.0.1->argon2-cffi-bindings->argon2-cffi->notebook) (2.21)\n",
      "Requirement already satisfied: soupsieve>1.2 in /Users/arjunraj/Library/Python/3.9/lib/python/site-packages (from beautifulsoup4->nbconvert>=5->notebook) (2.4.1)\n",
      "Requirement already satisfied: webencodings in /Users/arjunraj/Library/Python/3.9/lib/python/site-packages (from bleach->nbconvert>=5->notebook) (0.5.1)\n",
      "Requirement already satisfied: debugpy>=1.6.5 in /Users/arjunraj/Library/Python/3.9/lib/python/site-packages (from ipykernel->notebook) (1.6.7)\n",
      "Requirement already satisfied: appnope in /Users/arjunraj/Library/Python/3.9/lib/python/site-packages (from ipykernel->notebook) (0.1.3)\n",
      "Requirement already satisfied: psutil in /Users/arjunraj/Library/Python/3.9/lib/python/site-packages (from ipykernel->notebook) (5.9.5)\n",
      "Requirement already satisfied: comm>=0.1.1 in /Users/arjunraj/Library/Python/3.9/lib/python/site-packages (from ipykernel->notebook) (0.1.3)\n",
      "Requirement already satisfied: matplotlib-inline>=0.1 in /Users/arjunraj/Library/Python/3.9/lib/python/site-packages (from ipykernel->notebook) (0.1.6)\n",
      "Requirement already satisfied: ipython>=7.23.1 in /Users/arjunraj/Library/Python/3.9/lib/python/site-packages (from ipykernel->notebook) (8.12.0)\n",
      "Requirement already satisfied: prompt-toolkit!=3.0.37,<3.1.0,>=3.0.30 in /Users/arjunraj/Library/Python/3.9/lib/python/site-packages (from ipython>=7.23.1->ipykernel->notebook) (3.0.38)\n",
      "Requirement already satisfied: stack-data in /Users/arjunraj/Library/Python/3.9/lib/python/site-packages (from ipython>=7.23.1->ipykernel->notebook) (0.6.2)\n",
      "Requirement already satisfied: pexpect>4.3 in /Users/arjunraj/Library/Python/3.9/lib/python/site-packages (from ipython>=7.23.1->ipykernel->notebook) (4.8.0)\n",
      "Requirement already satisfied: backcall in /Users/arjunraj/Library/Python/3.9/lib/python/site-packages (from ipython>=7.23.1->ipykernel->notebook) (0.2.0)\n",
      "Requirement already satisfied: pickleshare in /Users/arjunraj/Library/Python/3.9/lib/python/site-packages (from ipython>=7.23.1->ipykernel->notebook) (0.7.5)\n",
      "Requirement already satisfied: typing-extensions in /Users/arjunraj/Library/Python/3.9/lib/python/site-packages (from ipython>=7.23.1->ipykernel->notebook) (4.5.0)\n",
      "Requirement already satisfied: decorator in /Users/arjunraj/Library/Python/3.9/lib/python/site-packages (from ipython>=7.23.1->ipykernel->notebook) (5.1.1)\n",
      "Requirement already satisfied: jedi>=0.16 in /Users/arjunraj/Library/Python/3.9/lib/python/site-packages (from ipython>=7.23.1->ipykernel->notebook) (0.18.2)\n",
      "Requirement already satisfied: parso<0.9.0,>=0.8.0 in /Users/arjunraj/Library/Python/3.9/lib/python/site-packages (from jedi>=0.16->ipython>=7.23.1->ipykernel->notebook) (0.8.3)\n",
      "Requirement already satisfied: wcwidth in /Users/arjunraj/Library/Python/3.9/lib/python/site-packages (from prompt-toolkit!=3.0.37,<3.1.0,>=3.0.30->ipython>=7.23.1->ipykernel->notebook) (0.2.6)\n",
      "Requirement already satisfied: arrow>=0.15.0 in /Users/arjunraj/Library/Python/3.9/lib/python/site-packages (from isoduration->jsonschema[format-nongpl]>=3.2.0->jupyter-events>=0.4.0->jupyter-server>=1.8->nbclassic>=0.4.7->notebook) (1.2.3)\n",
      "Requirement already satisfied: asttokens>=2.1.0 in /Users/arjunraj/Library/Python/3.9/lib/python/site-packages (from stack-data->ipython>=7.23.1->ipykernel->notebook) (2.2.1)\n",
      "Requirement already satisfied: pure-eval in /Users/arjunraj/Library/Python/3.9/lib/python/site-packages (from stack-data->ipython>=7.23.1->ipykernel->notebook) (0.2.2)\n",
      "Requirement already satisfied: executing>=1.2.0 in /Users/arjunraj/Library/Python/3.9/lib/python/site-packages (from stack-data->ipython>=7.23.1->ipykernel->notebook) (1.2.0)\n",
      "\u001b[33mWARNING: You are using pip version 21.2.4; however, version 23.2.1 is available.\n",
      "You should consider upgrading via the '/Applications/Xcode.app/Contents/Developer/usr/bin/python3 -m pip install --upgrade pip' command.\u001b[0m\n",
      "Note: you may need to restart the kernel to use updated packages.\n",
      "Defaulting to user installation because normal site-packages is not writeable\n",
      "Requirement already satisfied: imagecodecs in /Users/arjunraj/Library/Python/3.9/lib/python/site-packages (2023.9.18)\n",
      "Requirement already satisfied: numpy in /Users/arjunraj/Library/Python/3.9/lib/python/site-packages (from imagecodecs) (1.25.0)\n",
      "\u001b[33mWARNING: You are using pip version 21.2.4; however, version 23.2.1 is available.\n",
      "You should consider upgrading via the '/Applications/Xcode.app/Contents/Developer/usr/bin/python3 -m pip install --upgrade pip' command.\u001b[0m\n",
      "Note: you may need to restart the kernel to use updated packages.\n"
     ]
    }
   ],
   "source": [
    "%pip install notebook matplotlib tifffile\n",
    "%pip install imagecodecs\n"
   ]
  },
  {
   "cell_type": "code",
   "execution_count": 8,
   "metadata": {},
   "outputs": [],
   "source": [
    "import tifffile as tf\n",
    "import os\n",
    "import numpy as np\n"
   ]
  },
  {
   "cell_type": "code",
   "execution_count": null,
   "metadata": {},
   "outputs": [],
   "source": [
    "\n",
    "# Change the working directory to the desired path\n",
    "os.chdir('/Users/arjunraj/Dropbox (RajLab)/TestFilesNimbusImage/test_video_images/small_folder')\n",
    "\n",
    "# Verify that the current working directory has been changed\n",
    "print(\"Updated Working Directory:\", os.getcwd())\n",
    "\n",
    "\n",
    "# Load the TIFF image\n",
    "image = tf.imread(\"red_VID1630_A1_1_00d00h00m.tif\")\n",
    "\n",
    "print(image.shape)\n"
   ]
  },
  {
   "cell_type": "code",
   "execution_count": 3,
   "metadata": {},
   "outputs": [
    {
     "data": {
      "image/png": "[encoded data removed]",
      "text/plain": [
       "<Figure size 640x480 with 1 Axes>"
      ]
     },
     "metadata": {},
     "output_type": "display_data"
    }
   ],
   "source": [
    "import matplotlib.pyplot as plt\n",
    "\n",
    "# Display the image\n",
    "plt.imshow(image, cmap='gray')  # Change the colormap if needed\n",
    "plt.axis('off')  # Hide the axis values\n",
    "plt.show()\n"
   ]
  },
  {
   "cell_type": "code",
   "execution_count": 15,
   "metadata": {},
   "outputs": [
    {
     "name": "stdout",
     "output_type": "stream",
     "text": [
      "Maximum Value: 65533\n",
      "Minimum Value: 0\n",
      "Median Value: 8.0\n",
      "Number of pixels at maximum value (65533): 215\n",
      "Number of pixels at minimum value (0): 13472096\n",
      "Total number of pixels in the image: 62726400\n"
     ]
    }
   ],
   "source": [
    "# Determine the maximum and minimum values of the image\n",
    "max_value = image.max()\n",
    "min_value = image.min()\n",
    "median_value = np.median(image)\n",
    "\n",
    "print(f\"Maximum Value: {max_value}\")\n",
    "print(f\"Minimum Value: {min_value}\")\n",
    "print(f\"Median Value: {median_value}\")\n",
    "\n",
    "\n",
    "# Count pixels with maximum value\n",
    "count_max_pixels = np.sum(image == max_value)\n",
    "\n",
    "# Count pixels with minimum value\n",
    "count_min_pixels = np.sum(image == min_value)\n",
    "\n",
    "print(f\"Number of pixels at maximum value ({max_value}): {count_max_pixels}\")\n",
    "print(f\"Number of pixels at minimum value ({min_value}): {count_min_pixels}\")\n",
    "\n",
    "# Get the total number of pixels in the image\n",
    "total_pixels = image.size\n",
    "\n",
    "print(f\"Total number of pixels in the image: {total_pixels}\")\n",
    "\n"
   ]
  },
  {
   "cell_type": "code",
   "execution_count": 11,
   "metadata": {},
   "outputs": [
    {
     "data": {
      "image/png": "[encoded data removed]",
      "text/plain": [
       "<Figure size 800x600 with 1 Axes>"
      ]
     },
     "metadata": {},
     "output_type": "display_data"
    }
   ],
   "source": [
    "import matplotlib.pyplot as plt\n",
    "\n",
    "# Create a binary mask where maximum pixels are marked as 1 (or True)\n",
    "max_pixel_mask = (image == max_value)\n",
    "\n",
    "# Display the original image and the locations of the maximum pixels\n",
    "fig, ax = plt.subplots(figsize=(8, 6))\n",
    "\n",
    "# Display the original image in grayscale\n",
    "ax.imshow(image, cmap='gray')\n",
    "\n",
    "# Overlay the locations of the maximum pixels in red\n",
    "ax.imshow(max_pixel_mask, cmap='Reds', alpha=0.5)  # `alpha` controls the transparency\n",
    "\n",
    "# Optional: hide axis labels and ticks\n",
    "ax.axis('off')\n",
    "\n",
    "plt.show()\n"
   ]
  },
  {
   "cell_type": "code",
   "execution_count": 12,
   "metadata": {},
   "outputs": [
    {
     "name": "stdout",
     "output_type": "stream",
     "text": [
      "        X     Y\n",
      "0      13  5940\n",
      "1    7903  5940\n",
      "2    7905  5940\n",
      "3    7909  5940\n",
      "4    7911  5940\n",
      "..    ...   ...\n",
      "210  7837  6012\n",
      "211  7839  6012\n",
      "212  7841  6012\n",
      "213  7843  6012\n",
      "214  7847  6012\n",
      "\n",
      "[215 rows x 2 columns]\n"
     ]
    }
   ],
   "source": [
    "import numpy as np\n",
    "import pandas as pd\n",
    "\n",
    "# Get the (y, x) coordinates of the maximum pixels\n",
    "y_coords, x_coords = np.where(image == max_value)\n",
    "\n",
    "# Convert the coordinates to a pandas DataFrame for tabular display\n",
    "df = pd.DataFrame({\n",
    "    'X': x_coords,\n",
    "    'Y': y_coords\n",
    "})\n",
    "\n",
    "# Display the table of coordinates\n",
    "print(df)\n"
   ]
  },
  {
   "cell_type": "code",
   "execution_count": 17,
   "metadata": {},
   "outputs": [
    {
     "data": {
      "image/png": "[encoded data removed]",
      "text/plain": [
       "<Figure size 1000x600 with 1 Axes>"
      ]
     },
     "metadata": {},
     "output_type": "display_data"
    }
   ],
   "source": [
    "import matplotlib.pyplot as plt\n",
    "\n",
    "# Plot the histogram\n",
    "plt.figure(figsize=(10, 6))\n",
    "\n",
    "# Create histogram with a higher number of bins for 16-bit\n",
    "plt.hist(image.ravel(), bins=4096, histtype='step', color='black')\n",
    "\n",
    "plt.title('Histogram of 16-bit Image Values')\n",
    "plt.xlabel('Pixel Value')\n",
    "plt.ylabel('Frequency')\n",
    "\n",
    "# Set y-axis range to be between 1 and 100\n",
    "plt.ylim(1, 20)\n",
    "\n",
    "plt.grid(axis='y', linestyle='--', alpha=0.7)\n",
    "plt.show()\n"
   ]
  },
  {
   "cell_type": "code",
   "execution_count": 16,
   "metadata": {},
   "outputs": [
    {
     "name": "stdout",
     "output_type": "stream",
     "text": [
      "Number of pixels with values between 1000 and 2000: 0\n"
     ]
    }
   ],
   "source": [
    "import numpy as np\n",
    "\n",
    "# Create a mask for pixels with values between 1000 and 2000\n",
    "mask = (image >= 1000) & (image <= 2000)\n",
    "\n",
    "# Count the number of True values in the mask\n",
    "count = np.sum(mask)\n",
    "\n",
    "print(f\"Number of pixels with values between 1000 and 2000: {count}\")\n"
   ]
  },
  {
   "cell_type": "code",
   "execution_count": 18,
   "metadata": {},
   "outputs": [],
   "source": [
    "# '/Users/arjunraj/Dropbox (RajLab)/TestFilesNimbusImage/test_video_images/small_folder'"
   ]
  },
  {
   "cell_type": "code",
   "execution_count": 20,
   "metadata": {},
   "outputs": [
    {
     "name": "stdout",
     "output_type": "stream",
     "text": [
      "Processing 16-bit image: red_VID1630_A1_1_00d00h00m.tif\n",
      "Saved processed image to: /Users/arjunraj/Dropbox (RajLab)/TestFilesNimbusImage/test_video_images/files_fixed/red_VID1630_A1_1_00d00h00m.tif\n",
      "Processing 16-bit image: gfp_VID1630_A1_1_00d23h56m.tif\n",
      "Saved processed image to: /Users/arjunraj/Dropbox (RajLab)/TestFilesNimbusImage/test_video_images/files_fixed/gfp_VID1630_A1_1_00d23h56m.tif\n",
      "Converting 8-bit image to 16-bit: phase_VID1630_A1_1_00d23h56m.tif\n",
      "Saved processed image to: /Users/arjunraj/Dropbox (RajLab)/TestFilesNimbusImage/test_video_images/files_fixed/phase_VID1630_A1_1_00d23h56m.tif\n",
      "Processing 16-bit image: gfp_VID1630_A1_1_00d00h00m.tif\n",
      "Saved processed image to: /Users/arjunraj/Dropbox (RajLab)/TestFilesNimbusImage/test_video_images/files_fixed/gfp_VID1630_A1_1_00d00h00m.tif\n",
      "Processing 16-bit image: red_VID1630_A1_1_00d23h56m.tif\n",
      "Saved processed image to: /Users/arjunraj/Dropbox (RajLab)/TestFilesNimbusImage/test_video_images/files_fixed/red_VID1630_A1_1_00d23h56m.tif\n",
      "Converting 8-bit image to 16-bit: phase_VID1630_A1_1_00d00h00m.tif\n",
      "Saved processed image to: /Users/arjunraj/Dropbox (RajLab)/TestFilesNimbusImage/test_video_images/files_fixed/phase_VID1630_A1_1_00d00h00m.tif\n",
      "Processing complete!\n"
     ]
    }
   ],
   "source": [
    "import os\n",
    "import numpy as np\n",
    "import tifffile as tf\n",
    "\n",
    "source_dir = '/Users/arjunraj/Dropbox (RajLab)/TestFilesNimbusImage/test_video_images/small_folder'\n",
    "destination_dir = '/Users/arjunraj/Dropbox (RajLab)/TestFilesNimbusImage/test_video_images/files_fixed'\n",
    "\n",
    "\n",
    "# Create the destination directory if it doesn't exist\n",
    "if not os.path.exists(destination_dir):\n",
    "    os.makedirs(destination_dir)\n",
    "\n",
    "# Loop through all TIFF files in the source directory\n",
    "for filename in os.listdir(source_dir):\n",
    "    if filename.endswith('.tif') or filename.endswith('.tiff'):\n",
    "        file_path = os.path.join(source_dir, filename)\n",
    "        \n",
    "        # Read the image\n",
    "        image = tf.imread(file_path)\n",
    "        \n",
    "        # Check if the image is 16-bit\n",
    "        if image.dtype == np.uint16:\n",
    "            print(f\"Processing 16-bit image: {filename}\")\n",
    "            \n",
    "            # Replace values above 65,000 with 0\n",
    "            image[image > 65000] = 0\n",
    "        elif image.dtype == np.uint8:\n",
    "            print(f\"Converting 8-bit image to 16-bit: {filename}\")\n",
    "            \n",
    "            # Convert 8-bit to 16-bit\n",
    "            image = np.uint16(image) * 256\n",
    "        \n",
    "        # Save the processed image to the destination directory\n",
    "        destination_path = os.path.join(destination_dir, filename)\n",
    "        tf.imwrite(destination_path, image)\n",
    "        print(f\"Saved processed image to: {destination_path}\")\n",
    "\n",
    "print(\"Processing complete!\")\n"
   ]
  },
  {
   "cell_type": "code",
   "execution_count": null,
   "metadata": {},
   "outputs": [],
   "source": []
  }
 ],
 "metadata": {
  "kernelspec": {
   "display_name": "Python 3",
   "language": "python",
   "name": "python3"
  },
  "language_info": {
   "codemirror_mode": {
    "name": "ipython",
    "version": 3
   },
   "file_extension": ".py",
   "mimetype": "text/x-python",
   "name": "python",
   "nbconvert_exporter": "python",
   "pygments_lexer": "ipython3",
   "version": "3.9.6"
  },
  "orig_nbformat": 4
 },
 "nbformat": 4,
 "nbformat_minor": 2
}
