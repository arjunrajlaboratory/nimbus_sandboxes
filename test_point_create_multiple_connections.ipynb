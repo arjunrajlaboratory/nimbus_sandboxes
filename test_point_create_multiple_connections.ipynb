{
 "cells": [
  {
   "cell_type": "code",
   "execution_count": 18,
   "metadata": {},
   "outputs": [
    {
     "name": "stdout",
     "output_type": "stream",
     "text": [
      "Defaulting to user installation because normal site-packages is not writeable\n",
      "Requirement already satisfied: girder-client in /Users/arjunraj/Library/Python/3.9/lib/python/site-packages (from -r /Users/arjunraj/code/GitHub/UPennContrast/devops/girder/annotation_client/requirements.txt (line 1)) (3.1.20)\n",
      "Requirement already satisfied: diskcache in /Users/arjunraj/Library/Python/3.9/lib/python/site-packages (from girder-client->-r /Users/arjunraj/code/GitHub/UPennContrast/devops/girder/annotation_client/requirements.txt (line 1)) (5.6.1)\n",
      "Requirement already satisfied: requests-toolbelt in /Users/arjunraj/Library/Python/3.9/lib/python/site-packages (from girder-client->-r /Users/arjunraj/code/GitHub/UPennContrast/devops/girder/annotation_client/requirements.txt (line 1)) (1.0.0)\n",
      "Requirement already satisfied: requests>=2.4.2 in /Users/arjunraj/Library/Python/3.9/lib/python/site-packages (from girder-client->-r /Users/arjunraj/code/GitHub/UPennContrast/devops/girder/annotation_client/requirements.txt (line 1)) (2.31.0)\n",
      "Requirement already satisfied: click>=6.7 in /Users/arjunraj/Library/Python/3.9/lib/python/site-packages (from girder-client->-r /Users/arjunraj/code/GitHub/UPennContrast/devops/girder/annotation_client/requirements.txt (line 1)) (8.1.3)\n",
      "Requirement already satisfied: urllib3<3,>=1.21.1 in /Users/arjunraj/Library/Python/3.9/lib/python/site-packages (from requests>=2.4.2->girder-client->-r /Users/arjunraj/code/GitHub/UPennContrast/devops/girder/annotation_client/requirements.txt (line 1)) (2.0.3)\n",
      "Requirement already satisfied: certifi>=2017.4.17 in /Users/arjunraj/Library/Python/3.9/lib/python/site-packages (from requests>=2.4.2->girder-client->-r /Users/arjunraj/code/GitHub/UPennContrast/devops/girder/annotation_client/requirements.txt (line 1)) (2023.5.7)\n",
      "Requirement already satisfied: charset-normalizer<4,>=2 in /Users/arjunraj/Library/Python/3.9/lib/python/site-packages (from requests>=2.4.2->girder-client->-r /Users/arjunraj/code/GitHub/UPennContrast/devops/girder/annotation_client/requirements.txt (line 1)) (3.1.0)\n",
      "Requirement already satisfied: idna<4,>=2.5 in /Users/arjunraj/Library/Python/3.9/lib/python/site-packages (from requests>=2.4.2->girder-client->-r /Users/arjunraj/code/GitHub/UPennContrast/devops/girder/annotation_client/requirements.txt (line 1)) (3.4)\n",
      "\u001b[33mWARNING: You are using pip version 21.2.4; however, version 23.2.1 is available.\n",
      "You should consider upgrading via the '/Applications/Xcode.app/Contents/Developer/usr/bin/python3 -m pip install --upgrade pip' command.\u001b[0m\n",
      "Note: you may need to restart the kernel to use updated packages.\n",
      "Defaulting to user installation because normal site-packages is not writeable\n",
      "Obtaining file:///Users/arjunraj/code/GitHub/UPennContrast/devops/girder/annotation_client\n",
      "Installing collected packages: annotation-client\n",
      "  Attempting uninstall: annotation-client\n",
      "    Found existing installation: annotation-client 0.1\n",
      "    Uninstalling annotation-client-0.1:\n",
      "      Successfully uninstalled annotation-client-0.1\n",
      "  Running setup.py develop for annotation-client\n",
      "Successfully installed annotation-client-0.1\n",
      "\u001b[33mWARNING: You are using pip version 21.2.4; however, version 23.2.1 is available.\n",
      "You should consider upgrading via the '/Applications/Xcode.app/Contents/Developer/usr/bin/python3 -m pip install --upgrade pip' command.\u001b[0m\n",
      "Note: you may need to restart the kernel to use updated packages.\n",
      "Defaulting to user installation because normal site-packages is not writeable\n",
      "Requirement already satisfied: pandas in /Users/arjunraj/Library/Python/3.9/lib/python/site-packages (2.0.2)\n",
      "Requirement already satisfied: tzdata>=2022.1 in /Users/arjunraj/Library/Python/3.9/lib/python/site-packages (from pandas) (2023.3)\n",
      "Requirement already satisfied: numpy>=1.20.3 in /Users/arjunraj/Library/Python/3.9/lib/python/site-packages (from pandas) (1.25.0)\n",
      "Requirement already satisfied: python-dateutil>=2.8.2 in /Users/arjunraj/Library/Python/3.9/lib/python/site-packages (from pandas) (2.8.2)\n",
      "Requirement already satisfied: pytz>=2020.1 in /Users/arjunraj/Library/Python/3.9/lib/python/site-packages (from pandas) (2023.3)\n",
      "Requirement already satisfied: six>=1.5 in /Users/arjunraj/Library/Python/3.9/lib/python/site-packages (from python-dateutil>=2.8.2->pandas) (1.16.0)\n",
      "\u001b[33mWARNING: You are using pip version 21.2.4; however, version 23.2.1 is available.\n",
      "You should consider upgrading via the '/Applications/Xcode.app/Contents/Developer/usr/bin/python3 -m pip install --upgrade pip' command.\u001b[0m\n",
      "Note: you may need to restart the kernel to use updated packages.\n",
      "Defaulting to user installation because normal site-packages is not writeable\n",
      "Requirement already satisfied: imageio in /Users/arjunraj/Library/Python/3.9/lib/python/site-packages (2.31.1)\n",
      "Requirement already satisfied: pillow>=8.3.2 in /Users/arjunraj/Library/Python/3.9/lib/python/site-packages (from imageio) (9.5.0)\n",
      "Requirement already satisfied: numpy in /Users/arjunraj/Library/Python/3.9/lib/python/site-packages (from imageio) (1.25.0)\n",
      "\u001b[33mWARNING: You are using pip version 21.2.4; however, version 23.2.1 is available.\n",
      "You should consider upgrading via the '/Applications/Xcode.app/Contents/Developer/usr/bin/python3 -m pip install --upgrade pip' command.\u001b[0m\n",
      "Note: you may need to restart the kernel to use updated packages.\n",
      "Defaulting to user installation because normal site-packages is not writeable\n",
      "Requirement already satisfied: rtree in /Users/arjunraj/Library/Python/3.9/lib/python/site-packages (1.0.1)\n",
      "\u001b[33mWARNING: You are using pip version 21.2.4; however, version 23.2.1 is available.\n",
      "You should consider upgrading via the '/Applications/Xcode.app/Contents/Developer/usr/bin/python3 -m pip install --upgrade pip' command.\u001b[0m\n",
      "Note: you may need to restart the kernel to use updated packages.\n",
      "Defaulting to user installation because normal site-packages is not writeable\n",
      "Requirement already satisfied: scikit-image in /Users/arjunraj/Library/Python/3.9/lib/python/site-packages (0.21.0)\n",
      "Requirement already satisfied: packaging>=21 in /Users/arjunraj/Library/Python/3.9/lib/python/site-packages (from scikit-image) (23.1)\n",
      "Requirement already satisfied: lazy_loader>=0.2 in /Users/arjunraj/Library/Python/3.9/lib/python/site-packages (from scikit-image) (0.2)\n",
      "Requirement already satisfied: pillow>=9.0.1 in /Users/arjunraj/Library/Python/3.9/lib/python/site-packages (from scikit-image) (9.5.0)\n",
      "Requirement already satisfied: scipy>=1.8 in /Users/arjunraj/Library/Python/3.9/lib/python/site-packages (from scikit-image) (1.11.0)\n",
      "Requirement already satisfied: PyWavelets>=1.1.1 in /Users/arjunraj/Library/Python/3.9/lib/python/site-packages (from scikit-image) (1.4.1)\n",
      "Requirement already satisfied: networkx>=2.8 in /Users/arjunraj/Library/Python/3.9/lib/python/site-packages (from scikit-image) (3.1)\n",
      "Requirement already satisfied: tifffile>=2022.8.12 in /Users/arjunraj/Library/Python/3.9/lib/python/site-packages (from scikit-image) (2023.4.12)\n",
      "Requirement already satisfied: numpy>=1.21.1 in /Users/arjunraj/Library/Python/3.9/lib/python/site-packages (from scikit-image) (1.25.0)\n",
      "Requirement already satisfied: imageio>=2.27 in /Users/arjunraj/Library/Python/3.9/lib/python/site-packages (from scikit-image) (2.31.1)\n",
      "\u001b[33mWARNING: You are using pip version 21.2.4; however, version 23.2.1 is available.\n",
      "You should consider upgrading via the '/Applications/Xcode.app/Contents/Developer/usr/bin/python3 -m pip install --upgrade pip' command.\u001b[0m\n",
      "Note: you may need to restart the kernel to use updated packages.\n",
      "Defaulting to user installation because normal site-packages is not writeable\n",
      "Requirement already satisfied: shapely in /Users/arjunraj/Library/Python/3.9/lib/python/site-packages (2.0.1)\n",
      "Requirement already satisfied: numpy>=1.14 in /Users/arjunraj/Library/Python/3.9/lib/python/site-packages (from shapely) (1.25.0)\n",
      "\u001b[33mWARNING: You are using pip version 21.2.4; however, version 23.2.1 is available.\n",
      "You should consider upgrading via the '/Applications/Xcode.app/Contents/Developer/usr/bin/python3 -m pip install --upgrade pip' command.\u001b[0m\n",
      "Note: you may need to restart the kernel to use updated packages.\n",
      "Defaulting to user installation because normal site-packages is not writeable\n",
      "Requirement already satisfied: nd2reader in /Users/arjunraj/Library/Python/3.9/lib/python/site-packages (3.3.0)\n",
      "Requirement already satisfied: pims>=0.3.0 in /Users/arjunraj/Library/Python/3.9/lib/python/site-packages (from nd2reader) (0.6.1)\n",
      "Requirement already satisfied: six>=1.4 in /Users/arjunraj/Library/Python/3.9/lib/python/site-packages (from nd2reader) (1.16.0)\n",
      "Requirement already satisfied: numpy>=1.14 in /Users/arjunraj/Library/Python/3.9/lib/python/site-packages (from nd2reader) (1.25.0)\n",
      "Requirement already satisfied: xmltodict>=0.9.2 in /Users/arjunraj/Library/Python/3.9/lib/python/site-packages (from nd2reader) (0.13.0)\n",
      "Requirement already satisfied: imageio in /Users/arjunraj/Library/Python/3.9/lib/python/site-packages (from pims>=0.3.0->nd2reader) (2.31.1)\n",
      "Requirement already satisfied: slicerator>=0.9.8 in /Users/arjunraj/Library/Python/3.9/lib/python/site-packages (from pims>=0.3.0->nd2reader) (1.1.0)\n",
      "Requirement already satisfied: pillow>=8.3.2 in /Users/arjunraj/Library/Python/3.9/lib/python/site-packages (from imageio->pims>=0.3.0->nd2reader) (9.5.0)\n",
      "\u001b[33mWARNING: You are using pip version 21.2.4; however, version 23.2.1 is available.\n",
      "You should consider upgrading via the '/Applications/Xcode.app/Contents/Developer/usr/bin/python3 -m pip install --upgrade pip' command.\u001b[0m\n",
      "Note: you may need to restart the kernel to use updated packages.\n",
      "Defaulting to user installation because normal site-packages is not writeable\n",
      "Collecting geopandas\n",
      "  Downloading geopandas-0.13.2-py3-none-any.whl (1.1 MB)\n",
      "\u001b[K     |████████████████████████████████| 1.1 MB 9.8 MB/s eta 0:00:01\n",
      "\u001b[?25hRequirement already satisfied: pandas>=1.1.0 in /Users/arjunraj/Library/Python/3.9/lib/python/site-packages (from geopandas) (2.0.2)\n",
      "Requirement already satisfied: shapely>=1.7.1 in /Users/arjunraj/Library/Python/3.9/lib/python/site-packages (from geopandas) (2.0.1)\n",
      "Requirement already satisfied: packaging in /Users/arjunraj/Library/Python/3.9/lib/python/site-packages (from geopandas) (23.1)\n",
      "Collecting fiona>=1.8.19\n",
      "  Downloading Fiona-1.9.4.post1-cp39-cp39-macosx_11_0_arm64.whl (14.8 MB)\n",
      "\u001b[K     |████████████████████████████████| 14.8 MB 67.5 MB/s eta 0:00:01s eta 0:00:01�█▋         | 10.5 MB 67.5 MB/s eta 0:00:01\n",
      "\u001b[?25hCollecting pyproj>=3.0.1\n",
      "  Downloading pyproj-3.6.0-cp39-cp39-macosx_11_0_arm64.whl (4.7 MB)\n",
      "\u001b[K     |████████████████████████████████| 4.7 MB 58.7 MB/s eta 0:00:01\n",
      "\u001b[?25hRequirement already satisfied: attrs>=19.2.0 in /Users/arjunraj/Library/Python/3.9/lib/python/site-packages (from fiona>=1.8.19->geopandas) (23.1.0)\n",
      "Requirement already satisfied: importlib-metadata in /Users/arjunraj/Library/Python/3.9/lib/python/site-packages (from fiona>=1.8.19->geopandas) (6.5.0)\n",
      "Collecting cligj>=0.5\n",
      "  Downloading cligj-0.7.2-py3-none-any.whl (7.1 kB)\n",
      "Requirement already satisfied: click~=8.0 in /Users/arjunraj/Library/Python/3.9/lib/python/site-packages (from fiona>=1.8.19->geopandas) (8.1.3)\n",
      "Requirement already satisfied: six in /Users/arjunraj/Library/Python/3.9/lib/python/site-packages (from fiona>=1.8.19->geopandas) (1.16.0)\n",
      "Collecting click-plugins>=1.0\n",
      "  Downloading click_plugins-1.1.1-py2.py3-none-any.whl (7.5 kB)\n",
      "Requirement already satisfied: certifi in /Users/arjunraj/Library/Python/3.9/lib/python/site-packages (from fiona>=1.8.19->geopandas) (2023.5.7)\n",
      "Requirement already satisfied: numpy>=1.20.3 in /Users/arjunraj/Library/Python/3.9/lib/python/site-packages (from pandas>=1.1.0->geopandas) (1.25.0)\n",
      "Requirement already satisfied: pytz>=2020.1 in /Users/arjunraj/Library/Python/3.9/lib/python/site-packages (from pandas>=1.1.0->geopandas) (2023.3)\n",
      "Requirement already satisfied: tzdata>=2022.1 in /Users/arjunraj/Library/Python/3.9/lib/python/site-packages (from pandas>=1.1.0->geopandas) (2023.3)\n",
      "Requirement already satisfied: python-dateutil>=2.8.2 in /Users/arjunraj/Library/Python/3.9/lib/python/site-packages (from pandas>=1.1.0->geopandas) (2.8.2)\n",
      "Requirement already satisfied: zipp>=0.5 in /Users/arjunraj/Library/Python/3.9/lib/python/site-packages (from importlib-metadata->fiona>=1.8.19->geopandas) (3.15.0)\n",
      "Installing collected packages: cligj, click-plugins, pyproj, fiona, geopandas\n",
      "Successfully installed click-plugins-1.1.1 cligj-0.7.2 fiona-1.9.4.post1 geopandas-0.13.2 pyproj-3.6.0\n",
      "\u001b[33mWARNING: You are using pip version 21.2.4; however, version 23.2.1 is available.\n",
      "You should consider upgrading via the '/Applications/Xcode.app/Contents/Developer/usr/bin/python3 -m pip install --upgrade pip' command.\u001b[0m\n",
      "Note: you may need to restart the kernel to use updated packages.\n"
     ]
    }
   ],
   "source": [
    "%pip install -r ~/code/GitHub/UPennContrast/devops/girder/annotation_client/requirements.txt\n",
    "%pip install -e ~/code/GitHub/UPennContrast/devops/girder/annotation_client/\n",
    "%pip install pandas\n",
    "%pip install imageio\n",
    "%pip install rtree\n",
    "%pip install scikit-image\n",
    "%pip install shapely\n",
    "%pip install nd2reader\n",
    "%pip install geopandas"
   ]
  },
  {
   "cell_type": "code",
   "execution_count": 19,
   "metadata": {},
   "outputs": [],
   "source": [
    "import girder_client\n",
    "import annotation_client.annotations as annotations\n",
    "import annotation_client.tiles as tiles\n",
    "import pandas as pd\n",
    "import annotation_tools\n",
    "#import imageio\n",
    "from shapely.geometry import Point, Polygon, LineString\n",
    "#pd.set_option('display.max_colwidth', None)\n",
    "import numpy as np"
   ]
  },
  {
   "cell_type": "code",
   "execution_count": 2,
   "metadata": {},
   "outputs": [],
   "source": [
    "apiUrl = 'http://localhost:8080/api/v1'\n",
    "username = 'admin'\n",
    "password = 'password'"
   ]
  },
  {
   "cell_type": "code",
   "execution_count": 33,
   "metadata": {},
   "outputs": [],
   "source": [
    "client = girder_client.GirderClient(apiUrl=apiUrl)\n",
    "user_id = client.authenticate(username=username, password=password)['_id']\n",
    "annotationClient = annotations.UPennContrastAnnotationClient(apiUrl=apiUrl, token=client.token)"
   ]
  },
  {
   "cell_type": "code",
   "execution_count": 34,
   "metadata": {},
   "outputs": [
    {
     "data": {
      "text/html": [
       "<div>\n",
       "<style scoped>\n",
       "    .dataframe tbody tr th:only-of-type {\n",
       "        vertical-align: middle;\n",
       "    }\n",
       "\n",
       "    .dataframe tbody tr th {\n",
       "        vertical-align: top;\n",
       "    }\n",
       "\n",
       "    .dataframe thead th {\n",
       "        text-align: right;\n",
       "    }\n",
       "</style>\n",
       "<table border=\"1\" class=\"dataframe\">\n",
       "  <thead>\n",
       "    <tr style=\"text-align: right;\">\n",
       "      <th></th>\n",
       "      <th>Dataset Name</th>\n",
       "    </tr>\n",
       "  </thead>\n",
       "  <tbody>\n",
       "    <tr>\n",
       "      <th>0</th>\n",
       "      <td>111111_20210723_155544_798__Plate20210723_STR_...</td>\n",
       "    </tr>\n",
       "    <tr>\n",
       "      <th>1</th>\n",
       "      <td>111_20200110_2Dent_001</td>\n",
       "    </tr>\n",
       "    <tr>\n",
       "      <th>2</th>\n",
       "      <td>20200110_2Dent_001_maxmerge</td>\n",
       "    </tr>\n",
       "    <tr>\n",
       "      <th>3</th>\n",
       "      <td>20221122_143426_960__WellA4_ChannelDAPI,CY3,A5...</td>\n",
       "    </tr>\n",
       "    <tr>\n",
       "      <th>4</th>\n",
       "      <td>20230314_175616_594__WellB2_ChannelDAPI,YFP,CY...</td>\n",
       "    </tr>\n",
       "    <tr>\n",
       "      <th>...</th>\n",
       "      <td>...</td>\n",
       "    </tr>\n",
       "    <tr>\n",
       "      <th>161</th>\n",
       "      <td>UNROLL_MS2_1_maxmerge</td>\n",
       "    </tr>\n",
       "    <tr>\n",
       "      <th>162</th>\n",
       "      <td>Well2_50framesCOMPOSITENORECODE</td>\n",
       "    </tr>\n",
       "    <tr>\n",
       "      <th>163</th>\n",
       "      <td>Well2_50framesCOMPOSITENORECODE_maxmerge</td>\n",
       "    </tr>\n",
       "    <tr>\n",
       "      <th>164</th>\n",
       "      <td>WellA1_ChannelBrightfield,YFP,CY5,DAPI,A594_Se...</td>\n",
       "    </tr>\n",
       "    <tr>\n",
       "      <th>165</th>\n",
       "      <td>WellA2_ChannelBrightfield,YFP,CY5,DAPI,A594_Se...</td>\n",
       "    </tr>\n",
       "  </tbody>\n",
       "</table>\n",
       "<p>166 rows × 1 columns</p>\n",
       "</div>"
      ],
      "text/plain": [
       "                                          Dataset Name\n",
       "0    111111_20210723_155544_798__Plate20210723_STR_...\n",
       "1                               111_20200110_2Dent_001\n",
       "2                          20200110_2Dent_001_maxmerge\n",
       "3    20221122_143426_960__WellA4_ChannelDAPI,CY3,A5...\n",
       "4    20230314_175616_594__WellB2_ChannelDAPI,YFP,CY...\n",
       "..                                                 ...\n",
       "161                              UNROLL_MS2_1_maxmerge\n",
       "162                    Well2_50framesCOMPOSITENORECODE\n",
       "163           Well2_50framesCOMPOSITENORECODE_maxmerge\n",
       "164  WellA1_ChannelBrightfield,YFP,CY5,DAPI,A594_Se...\n",
       "165  WellA2_ChannelBrightfield,YFP,CY5,DAPI,A594_Se...\n",
       "\n",
       "[166 rows x 1 columns]"
      ]
     },
     "execution_count": 34,
     "metadata": {},
     "output_type": "execute_result"
    }
   ],
   "source": [
    "datasets = dict()\n",
    "for folder in annotationClient.client.listFolder(user_id,'user'):\n",
    "    for dataset in annotationClient.client.listFolder(folder['_id']):\n",
    "        datasets[dataset['name']] = dataset['_id']\n",
    "\n",
    "pd.DataFrame(datasets.keys(),columns=['Dataset Name'])"
   ]
  },
  {
   "cell_type": "code",
   "execution_count": 35,
   "metadata": {},
   "outputs": [],
   "source": [
    "dataset_name = '300cell-gastruloids_E11_1_04d16h00m'"
   ]
  },
  {
   "cell_type": "code",
   "execution_count": 36,
   "metadata": {},
   "outputs": [
    {
     "name": "stdout",
     "output_type": "stream",
     "text": [
      "{'bandCount': 1, 'dtype': 'uint8', 'levels': 3, 'magnification': 0.02834645669291339, 'mm_x': 0.35277777777777775, 'mm_y': 0.35277777777777775, 'sizeX': 2400, 'sizeY': 2400, 'tileHeight': 1024, 'tileWidth': 1024}\n",
      "1024\n",
      "1024\n"
     ]
    }
   ],
   "source": [
    "datasetId = datasets[dataset_name]\n",
    "datasetClient = tiles.UPennContrastDataset(apiUrl=apiUrl, token=client.token, datasetId=datasetId)\n",
    "print(datasetClient.tiles)\n",
    "tile_width = datasetClient.tiles['tileWidth']\n",
    "tile_height = datasetClient.tiles['tileHeight']\n",
    "print(tile_width)\n",
    "print(tile_height)"
   ]
  },
  {
   "cell_type": "code",
   "execution_count": 37,
   "metadata": {},
   "outputs": [],
   "source": [
    "# May need to change the limit for large numbers of annotations. Default is 50.\n",
    "pointAnnotationList = annotationClient.getAnnotationsByDatasetId(datasetId, shape='point')\n",
    "blobAnnotationList = annotationClient.getAnnotationsByDatasetId(datasetId, shape='polygon')\n",
    "lineAnnotationList = annotationClient.getAnnotationsByDatasetId(datasetId, shape='line')\n",
    "allAnnotationList = annotationClient.getAnnotationsByDatasetId(datasetId)"
   ]
  },
  {
   "cell_type": "code",
   "execution_count": 38,
   "metadata": {},
   "outputs": [
    {
     "name": "stdout",
     "output_type": "stream",
     "text": [
      "64fa638546017e1063ec2941\n",
      "[ { '_id': '64faf35446017e1063ec298d',\n",
      "    'access': { 'groups': [],\n",
      "                'users': [ { 'flags': [],\n",
      "                             'id': '62891fc02060d362984bc104',\n",
      "                             'level': 2}]},\n",
      "    'childId': '64fa64ba46017e1063ec297b',\n",
      "    'datasetId': '64fa638546017e1063ec2941',\n",
      "    'parentId': '64fa63e446017e1063ec2969',\n",
      "    'tags': ['yourPoint', 'myPoint']},\n",
      "  { '_id': '64faf35446017e1063ec2990',\n",
      "    'access': { 'groups': [],\n",
      "                'users': [ { 'flags': [],\n",
      "                             'id': '62891fc02060d362984bc104',\n",
      "                             'level': 2}]},\n",
      "    'childId': '64fa64bc46017e1063ec297e',\n",
      "    'datasetId': '64fa638546017e1063ec2941',\n",
      "    'parentId': '64fa63e546017e1063ec296c',\n",
      "    'tags': ['yourPoint', 'myPoint']}]\n"
     ]
    }
   ],
   "source": [
    "import pprint\n",
    "print(datasetId)\n",
    "connectionList = annotationClient.getAnnotationConnections(datasetId)\n",
    "pprint.pprint(connectionList,indent=2)"
   ]
  },
  {
   "cell_type": "code",
   "execution_count": 39,
   "metadata": {},
   "outputs": [
    {
     "name": "stdout",
     "output_type": "stream",
     "text": [
      "6\n",
      "17\n",
      "23\n",
      "{'_id': '64fa63d946017e1063ec2957', 'access': {'groups': [], 'users': [{'flags': [], 'id': '62891fc02060d362984bc104', 'level': 2}]}, 'channel': 0, 'coordinates': [{'x': 431.2422919282002, 'y': 921.8210984152914}, {'x': 415.66523156277253, 'y': 887.5515656113505}, {'x': 396.97275912425937, 'y': 871.9745052459228}, {'x': 319.0874572971211, 'y': 887.5515656113505}, {'x': 319.0874572971211, 'y': 974.7831036577454}, {'x': 337.77992973563425, 'y': 990.3601640231731}, {'x': 362.70322632031855, 'y': 993.4755760962586}, {'x': 390.74193497808835, 'y': 993.4755760962586}, {'x': 418.78064363585804, 'y': 981.0139278039164}, {'x': 434.3577040012857, 'y': 956.0906312192323}], 'datasetId': '64fa638546017e1063ec2941', 'location': {'Time': 0, 'XY': 0, 'Z': 0}, 'shape': 'polygon', 'tags': ['myBlob']}\n",
      "{'_id': '64fa63e446017e1063ec2969', 'access': {'groups': [], 'users': [{'flags': [], 'id': '62891fc02060d362984bc104', 'level': 2}]}, 'channel': 0, 'coordinates': [{'x': 334.66451766254875, 'y': 794.0892034187847, 'z': 0}], 'datasetId': '64fa638546017e1063ec2941', 'location': {'Time': 0, 'XY': 0, 'Z': 0}, 'shape': 'point', 'tags': ['myPoint']}\n"
     ]
    }
   ],
   "source": [
    "print(len(blobAnnotationList))\n",
    "print(len(pointAnnotationList))\n",
    "print(len(allAnnotationList))\n",
    "#print(len(lineAnnotationList))\n",
    "print(blobAnnotationList[0])\n",
    "print(pointAnnotationList[0])\n",
    "#print(lineAnnotationList[0])"
   ]
  },
  {
   "cell_type": "code",
   "execution_count": 40,
   "metadata": {},
   "outputs": [
    {
     "name": "stdout",
     "output_type": "stream",
     "text": [
      "11\n",
      "6\n",
      "6\n"
     ]
    }
   ],
   "source": [
    "pointList1 = annotation_tools.get_annotations_with_tags(allAnnotationList,['myPoint'],exclusive=False)\n",
    "pointList2 = annotation_tools.get_annotations_with_tags(allAnnotationList,['yourPoint'],exclusive=False)\n",
    "blobList1 = annotation_tools.get_annotations_with_tags(allAnnotationList,['myBlob'],exclusive=False)\n",
    "print(len(pointList1))\n",
    "print(len(pointList2))\n",
    "print(len(blobList1))"
   ]
  },
  {
   "cell_type": "code",
   "execution_count": 41,
   "metadata": {},
   "outputs": [
    {
     "name": "stdout",
     "output_type": "stream",
     "text": [
      "6\n",
      "11\n",
      "[{'_id': '64fa63d946017e1063ec2957', 'access': {'groups': [], 'users': [{'flags': [], 'id': '62891fc02060d362984bc104', 'level': 2}]}, 'channel': 0, 'coordinates': [{'x': 431.2422919282002, 'y': 921.8210984152914}, {'x': 415.66523156277253, 'y': 887.5515656113505}, {'x': 396.97275912425937, 'y': 871.9745052459228}, {'x': 319.0874572971211, 'y': 887.5515656113505}, {'x': 319.0874572971211, 'y': 974.7831036577454}, {'x': 337.77992973563425, 'y': 990.3601640231731}, {'x': 362.70322632031855, 'y': 993.4755760962586}, {'x': 390.74193497808835, 'y': 993.4755760962586}, {'x': 418.78064363585804, 'y': 981.0139278039164}, {'x': 434.3577040012857, 'y': 956.0906312192323}], 'datasetId': '64fa638546017e1063ec2941', 'location': {'Time': 0, 'XY': 0, 'Z': 0}, 'shape': 'polygon', 'tags': ['myBlob']}, {'_id': '64fa63da46017e1063ec295a', 'access': {'groups': [], 'users': [{'flags': [], 'id': '62891fc02060d362984bc104', 'level': 2}]}, 'channel': 0, 'coordinates': [{'x': 1138.4408325186157, 'y': 713.0884895185609}, {'x': 1110.402123860846, 'y': 697.5114291531332}, {'x': 1079.2480031299906, 'y': 685.0497808607911}, {'x': 1054.3247065453063, 'y': 675.7035446415344}, {'x': 926.5928115487995, 'y': 741.1271981763306}, {'x': 926.5928115487995, 'y': 790.973791345699}, {'x': 942.1698719142273, 'y': 809.6662637842123}, {'x': 982.6702288643392, 'y': 812.7816758572978}, {'x': 1029.401409960622, 'y': 812.7816758572978}, {'x': 1085.4788272761616, 'y': 803.4354396380412}, {'x': 1104.171299714675, 'y': 794.0892034187847}, {'x': 1132.2100083724447, 'y': 772.2813189071859}, {'x': 1144.6716566647867, 'y': 750.4734343955872}, {'x': 1144.6716566647867, 'y': 731.780961957074}], 'datasetId': '64fa638546017e1063ec2941', 'location': {'Time': 0, 'XY': 0, 'Z': 0}, 'shape': 'polygon', 'tags': ['myBlob']}, {'_id': '64fa63dc46017e1063ec295d', 'access': {'groups': [], 'users': [{'flags': [], 'id': '62891fc02060d362984bc104', 'level': 2}]}, 'channel': 0, 'coordinates': [{'x': 1699.215005674011, 'y': 641.4340118375936}, {'x': 1677.4071211624123, 'y': 597.8182428143962}, {'x': 1649.3684125046425, 'y': 563.5487100104554}, {'x': 1630.6759400661294, 'y': 551.0870617181133}, {'x': 1543.4444020197345, 'y': 604.0490669605673}, {'x': 1543.4444020197345, 'y': 678.8189567146201}, {'x': 1580.8293468967609, 'y': 691.2806050069621}, {'x': 1627.5605279930442, 'y': 700.6268412262187}, {'x': 1671.1762970162413, 'y': 703.7422532993043}, {'x': 1692.98418152784, 'y': 703.7422532993043}, {'x': 1705.445829820182, 'y': 685.0497808607911}, {'x': 1705.445829820182, 'y': 660.1264842761068}], 'datasetId': '64fa638546017e1063ec2941', 'location': {'Time': 0, 'XY': 0, 'Z': 0}, 'shape': 'polygon', 'tags': ['myBlob']}, {'_id': '64fa63de46017e1063ec2960', 'access': {'groups': [], 'users': [{'flags': [], 'id': '62891fc02060d362984bc104', 'level': 2}]}, 'channel': 0, 'coordinates': [{'x': 717.8602026520691, 'y': 1270.7472506008708}, {'x': 699.1677302135558, 'y': 1261.4010143816142}, {'x': 630.6286646056742, 'y': 1305.0167834048116}, {'x': 618.1670163133319, 'y': 1342.401728281838}, {'x': 615.0516042402464, 'y': 1379.7866731588645}, {'x': 646.2057249711017, 'y': 1395.363733524292}, {'x': 671.129021555786, 'y': 1395.363733524292}, {'x': 720.9756147251546, 'y': 1326.8246679164104}, {'x': 727.2064388713256, 'y': 1311.2476075509826}, {'x': 727.2064388713256, 'y': 1289.439723039384}], 'datasetId': '64fa638546017e1063ec2941', 'location': {'Time': 0, 'XY': 0, 'Z': 0}, 'shape': 'polygon', 'tags': ['myBlob']}, {'_id': '64fa63e046017e1063ec2963', 'access': {'groups': [], 'users': [{'flags': [], 'id': '62891fc02060d362984bc104', 'level': 2}]}, 'channel': 0, 'coordinates': [{'x': 1281.74978788055, 'y': 1174.1694763352193}, {'x': 1278.6343758074645, 'y': 1192.8619487737326}, {'x': 1259.9419033689514, 'y': 1214.6698332853314}, {'x': 1238.1340188573527, 'y': 1214.6698332853314}, {'x': 1197.6336619072408, 'y': 1205.3235970660746}, {'x': 1150.9024808109577, 'y': 1189.746536700647}, {'x': 1147.7870687378722, 'y': 1155.4770038967063}, {'x': 1154.0178928840432, 'y': 1127.4382952389365}, {'x': 1235.0186067842671, 'y': 1114.9766469465944}, {'x': 1259.9419033689514, 'y': 1124.322883165851}, {'x': 1278.6343758074645, 'y': 1149.2461797505352}], 'datasetId': '64fa638546017e1063ec2941', 'location': {'Time': 0, 'XY': 0, 'Z': 0}, 'shape': 'polygon', 'tags': ['myBlob']}, {'_id': '64fa63e146017e1063ec2966', 'access': {'groups': [], 'users': [{'flags': [], 'id': '62891fc02060d362984bc104', 'level': 2}]}, 'channel': 0, 'coordinates': [{'x': 1805.1390161589193, 'y': 968.5522795115743}, {'x': 1786.4465437204062, 'y': 946.7443949999756}, {'x': 1755.2924229895507, 'y': 984.1293398770019}, {'x': 1736.5999505510376, 'y': 1009.0526364616862}, {'x': 1724.1383022586956, 'y': 1033.9759330463705}, {'x': 1717.9074781125241, 'y': 1055.7838175579693}, {'x': 1736.5999505510376, 'y': 1074.4762899964824}, {'x': 1755.2924229895507, 'y': 1080.7071141426534}, {'x': 1780.2157195742348, 'y': 1080.7071141426534}, {'x': 1802.0236040858335, 'y': 1068.2454658503113}, {'x': 1820.716076524347, 'y': 1049.5529934117983}, {'x': 1823.8314885974323, 'y': 1012.1680485347717}], 'datasetId': '64fa638546017e1063ec2941', 'location': {'Time': 0, 'XY': 0, 'Z': 0}, 'shape': 'polygon', 'tags': ['myBlob']}]\n",
      "[{'_id': '64fa63e446017e1063ec2969', 'access': {'groups': [], 'users': [{'flags': [], 'id': '62891fc02060d362984bc104', 'level': 2}]}, 'channel': 0, 'coordinates': [{'x': 334.66451766254875, 'y': 794.0892034187847, 'z': 0}], 'datasetId': '64fa638546017e1063ec2941', 'location': {'Time': 0, 'XY': 0, 'Z': 0}, 'shape': 'point', 'tags': ['myPoint']}, {'_id': '64fa63e546017e1063ec296c', 'access': {'groups': [], 'users': [{'flags': [], 'id': '62891fc02060d362984bc104', 'level': 2}]}, 'channel': 0, 'coordinates': [{'x': 914.1311632564575, 'y': 660.1264842761068, 'z': 0}], 'datasetId': '64fa638546017e1063ec2941', 'location': {'Time': 0, 'XY': 0, 'Z': 0}, 'shape': 'point', 'tags': ['myPoint']}, {'_id': '64fa63e646017e1063ec296f', 'access': {'groups': [], 'users': [{'flags': [], 'id': '62891fc02060d362984bc104', 'level': 2}]}, 'channel': 0, 'coordinates': [{'x': 1546.5598140928203, 'y': 538.6254134257712, 'z': 0}], 'datasetId': '64fa638546017e1063ec2941', 'location': {'Time': 0, 'XY': 0, 'Z': 0}, 'shape': 'point', 'tags': ['myPoint']}, {'_id': '64fa63e746017e1063ec2972', 'access': {'groups': [], 'users': [{'flags': [], 'id': '62891fc02060d362984bc104', 'level': 2}]}, 'channel': 0, 'coordinates': [{'x': 1705.445829820182, 'y': 952.9752191461466, 'z': 0}], 'datasetId': '64fa638546017e1063ec2941', 'location': {'Time': 0, 'XY': 0, 'Z': 0}, 'shape': 'point', 'tags': ['myPoint']}, {'_id': '64fa63e846017e1063ec2975', 'access': {'groups': [], 'users': [{'flags': [], 'id': '62891fc02060d362984bc104', 'level': 2}]}, 'channel': 0, 'coordinates': [{'x': 1247.4802550766092, 'y': 1074.4762899964824, 'z': 0}], 'datasetId': '64fa638546017e1063ec2941', 'location': {'Time': 0, 'XY': 0, 'Z': 0}, 'shape': 'point', 'tags': ['myPoint']}, {'_id': '64fa63e946017e1063ec2978', 'access': {'groups': [], 'users': [{'flags': [], 'id': '62891fc02060d362984bc104', 'level': 2}]}, 'channel': 0, 'coordinates': [{'x': 699.1677302135558, 'y': 1220.9006574315024, 'z': 0}], 'datasetId': '64fa638546017e1063ec2941', 'location': {'Time': 0, 'XY': 0, 'Z': 0}, 'shape': 'point', 'tags': ['myPoint']}, {'_id': '64ff1f0ce7761ae25b62e03d', 'access': {'groups': [], 'users': [{'flags': [], 'id': '62891fc02060d362984bc104', 'level': 2}]}, 'channel': 0, 'coordinates': [{'x': 1319.128352494656, 'y': 1173.8498738426367, 'z': 0}], 'datasetId': '64fa638546017e1063ec2941', 'location': {'Time': 0, 'XY': 0, 'Z': 0}, 'shape': 'point', 'tags': ['myPoint']}, {'_id': '64ff1f0de7761ae25b62e040', 'access': {'groups': [], 'users': [{'flags': [], 'id': '62891fc02060d362984bc104', 'level': 2}]}, 'channel': 0, 'coordinates': [{'x': 1266.8281001799292, 'y': 1258.1113914608077, 'z': 0}], 'datasetId': '64fa638546017e1063ec2941', 'location': {'Time': 0, 'XY': 0, 'Z': 0}, 'shape': 'point', 'tags': ['myPoint']}, {'_id': '64ff1f0ee7761ae25b62e043', 'access': {'groups': [], 'users': [{'flags': [], 'id': '62891fc02060d362984bc104', 'level': 2}]}, 'channel': 0, 'coordinates': [{'x': 1156.416456404395, 'y': 1229.0556957304038, 'z': 0}], 'datasetId': '64fa638546017e1063ec2941', 'location': {'Time': 0, 'XY': 0, 'Z': 0}, 'shape': 'point', 'tags': ['myPoint']}, {'_id': '64ff1f0fe7761ae25b62e046', 'access': {'groups': [], 'users': [{'flags': [], 'id': '62891fc02060d362984bc104', 'level': 2}]}, 'channel': 0, 'coordinates': [{'x': 1859.5642930801657, 'y': 982.0822820219719, 'z': 0}], 'datasetId': '64fa638546017e1063ec2941', 'location': {'Time': 0, 'XY': 0, 'Z': 0}, 'shape': 'point', 'tags': ['myPoint']}, {'_id': '64ff1f10e7761ae25b62e049', 'access': {'groups': [], 'users': [{'flags': [], 'id': '62891fc02060d362984bc104', 'level': 2}]}, 'channel': 0, 'coordinates': [{'x': 1824.6974582036812, 'y': 1086.6827866514254, 'z': 0}], 'datasetId': '64fa638546017e1063ec2941', 'location': {'Time': 0, 'XY': 0, 'Z': 0}, 'shape': 'point', 'tags': ['myPoint']}]\n"
     ]
    }
   ],
   "source": [
    "parentTag = 'myBlob'\n",
    "childTag = 'myPoint'\n",
    "\n",
    "# Create connections between all points and blobs with the same tags\n",
    "parentList = annotation_tools.get_annotations_with_tags(blobAnnotationList,[parentTag],exclusive=False)\n",
    "childList = annotation_tools.get_annotations_with_tags(pointAnnotationList,[childTag],exclusive=False)\n",
    "\n",
    "print(len(parentList))\n",
    "print(len(childList))\n",
    "print(parentList)\n",
    "print(childList)"
   ]
  },
  {
   "cell_type": "code",
   "execution_count": 46,
   "metadata": {},
   "outputs": [
    {
     "name": "stdout",
     "output_type": "stream",
     "text": [
      "                    point_id            x            y\n",
      "0   64fa63e446017e1063ec2969   334.664518   794.089203\n",
      "1   64fa63e546017e1063ec296c   914.131163   660.126484\n",
      "2   64fa63e646017e1063ec296f  1546.559814   538.625413\n",
      "3   64fa63e746017e1063ec2972  1705.445830   952.975219\n",
      "4   64fa63e846017e1063ec2975  1247.480255  1074.476290\n",
      "5   64fa63e946017e1063ec2978   699.167730  1220.900657\n",
      "6   64ff1f0ce7761ae25b62e03d  1319.128352  1173.849874\n",
      "7   64ff1f0de7761ae25b62e040  1266.828100  1258.111391\n",
      "8   64ff1f0ee7761ae25b62e043  1156.416456  1229.055696\n",
      "9   64ff1f0fe7761ae25b62e046  1859.564293   982.082282\n",
      "10  64ff1f10e7761ae25b62e049  1824.697458  1086.682787\n",
      "                    point_id        nearest_polygon_id\n",
      "0   64fa63e446017e1063ec2969  64fa63d946017e1063ec2957\n",
      "1   64fa63e546017e1063ec296c  64fa63da46017e1063ec295a\n",
      "2   64fa63e646017e1063ec296f  64fa63dc46017e1063ec295d\n",
      "3   64fa63e746017e1063ec2972  64fa63e146017e1063ec2966\n",
      "4   64fa63e846017e1063ec2975  64fa63e046017e1063ec2963\n",
      "5   64fa63e946017e1063ec2978  64fa63de46017e1063ec2960\n",
      "6   64ff1f0ce7761ae25b62e03d  64fa63e046017e1063ec2963\n",
      "7   64ff1f0de7761ae25b62e040  64fa63e046017e1063ec2963\n",
      "8   64ff1f0ee7761ae25b62e043  64fa63e046017e1063ec2963\n",
      "9   64ff1f0fe7761ae25b62e046  64fa63e146017e1063ec2966\n",
      "10  64ff1f10e7761ae25b62e049  64fa63e146017e1063ec2966\n"
     ]
    }
   ],
   "source": [
    "import pandas as pd\n",
    "import geopandas as gpd\n",
    "from shapely.geometry import Point, Polygon\n",
    "from scipy.spatial import cKDTree\n",
    "import numpy as np\n",
    "\n",
    "# Example blob list (trimmed for brevity here)\n",
    "blob_list = parentList  # Your provided blob list goes here\n",
    "\n",
    "# Extract polygons from blob list\n",
    "polygon_data = [{'polygon_id': blob['_id'], 'polygon_geom': Polygon([(pt['x'], pt['y']) for pt in blob['coordinates']])} for blob in blob_list]\n",
    "poly_df = pd.DataFrame(polygon_data)\n",
    "gdf_poly = gpd.GeoDataFrame(poly_df, geometry='polygon_geom')\n",
    "\n",
    "\n",
    "\n",
    "# Extract points from childList\n",
    "point_data = [{'point_id': child['_id'], 'x': child['coordinates'][0]['x'], 'y': child['coordinates'][0]['y']} for child in childList]\n",
    "point_df = pd.DataFrame(point_data)\n",
    "pprint.pprint(point_df)\n",
    "gdf_point = gpd.GeoDataFrame(point_df, geometry=gpd.points_from_xy(point_df.x, point_df.y))\n",
    "\n",
    "# Create cKDTree object to represent polygon centroids\n",
    "tree = cKDTree(np.array(list(zip(gdf_poly.geometry.centroid.x, gdf_poly.geometry.centroid.y))))\n",
    "\n",
    "# Compute distance and index for the nearest polygon for each point\n",
    "distances, indices = tree.query(np.array(list(zip(gdf_point.geometry.x, gdf_point.geometry.y))))\n",
    "\n",
    "# Map point IDs to nearest polygon IDs\n",
    "point_to_polygon = pd.DataFrame({\n",
    "    'point_id': point_df['point_id'],\n",
    "    'nearest_polygon_id': gdf_poly.iloc[indices]['polygon_id'].values\n",
    "})\n",
    "\n",
    "print(point_to_polygon)\n",
    "\n"
   ]
  },
  {
   "cell_type": "code",
   "execution_count": 47,
   "metadata": {},
   "outputs": [
    {
     "name": "stdout",
     "output_type": "stream",
     "text": [
      "[ { 'childId': '64fa63e446017e1063ec2969',\n",
      "    'datasetId': '64fa638546017e1063ec2941',\n",
      "    'parentId': '64fa63d946017e1063ec2957',\n",
      "    'tags': {'myBlob', 'myPoint'}},\n",
      "  { 'childId': '64fa63e546017e1063ec296c',\n",
      "    'datasetId': '64fa638546017e1063ec2941',\n",
      "    'parentId': '64fa63da46017e1063ec295a',\n",
      "    'tags': {'myBlob', 'myPoint'}},\n",
      "  { 'childId': '64fa63e646017e1063ec296f',\n",
      "    'datasetId': '64fa638546017e1063ec2941',\n",
      "    'parentId': '64fa63dc46017e1063ec295d',\n",
      "    'tags': {'myBlob', 'myPoint'}},\n",
      "  { 'childId': '64fa63e746017e1063ec2972',\n",
      "    'datasetId': '64fa638546017e1063ec2941',\n",
      "    'parentId': '64fa63e146017e1063ec2966',\n",
      "    'tags': {'myBlob', 'myPoint'}},\n",
      "  { 'childId': '64fa63e846017e1063ec2975',\n",
      "    'datasetId': '64fa638546017e1063ec2941',\n",
      "    'parentId': '64fa63e046017e1063ec2963',\n",
      "    'tags': {'myBlob', 'myPoint'}},\n",
      "  { 'childId': '64fa63e946017e1063ec2978',\n",
      "    'datasetId': '64fa638546017e1063ec2941',\n",
      "    'parentId': '64fa63de46017e1063ec2960',\n",
      "    'tags': {'myBlob', 'myPoint'}},\n",
      "  { 'childId': '64ff1f0ce7761ae25b62e03d',\n",
      "    'datasetId': '64fa638546017e1063ec2941',\n",
      "    'parentId': '64fa63e046017e1063ec2963',\n",
      "    'tags': {'myBlob', 'myPoint'}},\n",
      "  { 'childId': '64ff1f0de7761ae25b62e040',\n",
      "    'datasetId': '64fa638546017e1063ec2941',\n",
      "    'parentId': '64fa63e046017e1063ec2963',\n",
      "    'tags': {'myBlob', 'myPoint'}},\n",
      "  { 'childId': '64ff1f0ee7761ae25b62e043',\n",
      "    'datasetId': '64fa638546017e1063ec2941',\n",
      "    'parentId': '64fa63e046017e1063ec2963',\n",
      "    'tags': {'myBlob', 'myPoint'}},\n",
      "  { 'childId': '64ff1f0fe7761ae25b62e046',\n",
      "    'datasetId': '64fa638546017e1063ec2941',\n",
      "    'parentId': '64fa63e146017e1063ec2966',\n",
      "    'tags': {'myBlob', 'myPoint'}},\n",
      "  { 'childId': '64ff1f10e7761ae25b62e049',\n",
      "    'datasetId': '64fa638546017e1063ec2941',\n",
      "    'parentId': '64fa63e146017e1063ec2966',\n",
      "    'tags': {'myBlob', 'myPoint'}}]\n"
     ]
    },
    {
     "ename": "TypeError",
     "evalue": "Object of type set is not JSON serializable",
     "output_type": "error",
     "traceback": [
      "\u001b[0;31m---------------------------------------------------------------------------\u001b[0m",
      "\u001b[0;31mTypeError\u001b[0m                                 Traceback (most recent call last)",
      "Cell \u001b[0;32mIn[47], line 17\u001b[0m\n\u001b[1;32m     15\u001b[0m pprint\u001b[39m.\u001b[39mpprint(myNewConnections,indent\u001b[39m=\u001b[39m\u001b[39m2\u001b[39m)\n\u001b[1;32m     16\u001b[0m \u001b[39mfor\u001b[39;00m connection \u001b[39min\u001b[39;00m myNewConnections:\n\u001b[0;32m---> 17\u001b[0m     annotationClient\u001b[39m.\u001b[39;49mcreateConnection(connection)\n",
      "File \u001b[0;32m~/code/GitHub/UPennContrast/devops/girder/annotation_client/annotation_client/annotations.py:164\u001b[0m, in \u001b[0;36mUPennContrastAnnotationClient.createConnection\u001b[0;34m(self, connection)\u001b[0m\n\u001b[1;32m    155\u001b[0m \u001b[39mdef\u001b[39;00m \u001b[39mcreateConnection\u001b[39m(\u001b[39mself\u001b[39m, connection):\n\u001b[1;32m    156\u001b[0m \u001b[39m    \u001b[39m\u001b[39m\"\"\"\u001b[39;00m\n\u001b[1;32m    157\u001b[0m \u001b[39m    Create a connection with the specified metadata.\u001b[39;00m\n\u001b[1;32m    158\u001b[0m \u001b[39m    The connection dict should match the standard UPennContrast connection schema\u001b[39;00m\n\u001b[0;32m   (...)\u001b[0m\n\u001b[1;32m    162\u001b[0m \u001b[39m    :rtype: dict\u001b[39;00m\n\u001b[1;32m    163\u001b[0m \u001b[39m    \"\"\"\u001b[39;00m\n\u001b[0;32m--> 164\u001b[0m     \u001b[39mreturn\u001b[39;00m \u001b[39mself\u001b[39;49m\u001b[39m.\u001b[39;49mclient\u001b[39m.\u001b[39;49mpost(PATHS[\u001b[39m'\u001b[39;49m\u001b[39mconnection\u001b[39;49m\u001b[39m'\u001b[39;49m], json\u001b[39m=\u001b[39;49mconnection)\n",
      "File \u001b[0;32m~/Library/Python/3.9/lib/python/site-packages/girder_client/__init__.py:478\u001b[0m, in \u001b[0;36mGirderClient.post\u001b[0;34m(self, path, parameters, files, data, json, headers, jsonResp)\u001b[0m\n\u001b[1;32m    473\u001b[0m \u001b[39mdef\u001b[39;00m \u001b[39mpost\u001b[39m(\u001b[39mself\u001b[39m, path, parameters\u001b[39m=\u001b[39m\u001b[39mNone\u001b[39;00m, files\u001b[39m=\u001b[39m\u001b[39mNone\u001b[39;00m, data\u001b[39m=\u001b[39m\u001b[39mNone\u001b[39;00m, json\u001b[39m=\u001b[39m\u001b[39mNone\u001b[39;00m, headers\u001b[39m=\u001b[39m\u001b[39mNone\u001b[39;00m,\n\u001b[1;32m    474\u001b[0m          jsonResp\u001b[39m=\u001b[39m\u001b[39mTrue\u001b[39;00m):\n\u001b[1;32m    475\u001b[0m \u001b[39m    \u001b[39m\u001b[39m\"\"\"\u001b[39;00m\n\u001b[1;32m    476\u001b[0m \u001b[39m    Convenience method to call :py:func:`sendRestRequest` with the 'POST' HTTP method.\u001b[39;00m\n\u001b[1;32m    477\u001b[0m \u001b[39m    \"\"\"\u001b[39;00m\n\u001b[0;32m--> 478\u001b[0m     \u001b[39mreturn\u001b[39;00m \u001b[39mself\u001b[39;49m\u001b[39m.\u001b[39;49msendRestRequest(\u001b[39m'\u001b[39;49m\u001b[39mPOST\u001b[39;49m\u001b[39m'\u001b[39;49m, path, parameters, files\u001b[39m=\u001b[39;49mfiles,\n\u001b[1;32m    479\u001b[0m                                 data\u001b[39m=\u001b[39;49mdata, json\u001b[39m=\u001b[39;49mjson, headers\u001b[39m=\u001b[39;49mheaders, jsonResp\u001b[39m=\u001b[39;49mjsonResp)\n",
      "File \u001b[0;32m~/Library/Python/3.9/lib/python/site-packages/girder_client/__init__.py:452\u001b[0m, in \u001b[0;36mGirderClient.sendRestRequest\u001b[0;34m(self, method, path, parameters, data, files, json, headers, jsonResp, **kwargs)\u001b[0m\n\u001b[1;32m    449\u001b[0m \u001b[39mif\u001b[39;00m \u001b[39misinstance\u001b[39m(headers, \u001b[39mdict\u001b[39m):\n\u001b[1;32m    450\u001b[0m     _headers\u001b[39m.\u001b[39mupdate(headers)\n\u001b[0;32m--> 452\u001b[0m result \u001b[39m=\u001b[39m f(\n\u001b[1;32m    453\u001b[0m     url, params\u001b[39m=\u001b[39;49mparameters, data\u001b[39m=\u001b[39;49mdata, files\u001b[39m=\u001b[39;49mfiles, json\u001b[39m=\u001b[39;49mjson, headers\u001b[39m=\u001b[39;49m_headers,\n\u001b[1;32m    454\u001b[0m     \u001b[39m*\u001b[39;49m\u001b[39m*\u001b[39;49mkwargs)\n\u001b[1;32m    456\u001b[0m \u001b[39m# If success, return the json object. Otherwise throw an exception.\u001b[39;00m\n\u001b[1;32m    457\u001b[0m \u001b[39mif\u001b[39;00m result\u001b[39m.\u001b[39mok:\n",
      "File \u001b[0;32m~/Library/Python/3.9/lib/python/site-packages/requests/api.py:115\u001b[0m, in \u001b[0;36mpost\u001b[0;34m(url, data, json, **kwargs)\u001b[0m\n\u001b[1;32m    103\u001b[0m \u001b[39mdef\u001b[39;00m \u001b[39mpost\u001b[39m(url, data\u001b[39m=\u001b[39m\u001b[39mNone\u001b[39;00m, json\u001b[39m=\u001b[39m\u001b[39mNone\u001b[39;00m, \u001b[39m*\u001b[39m\u001b[39m*\u001b[39mkwargs):\n\u001b[1;32m    104\u001b[0m \u001b[39m    \u001b[39m\u001b[39mr\u001b[39m\u001b[39m\"\"\"Sends a POST request.\u001b[39;00m\n\u001b[1;32m    105\u001b[0m \n\u001b[1;32m    106\u001b[0m \u001b[39m    :param url: URL for the new :class:`Request` object.\u001b[39;00m\n\u001b[0;32m   (...)\u001b[0m\n\u001b[1;32m    112\u001b[0m \u001b[39m    :rtype: requests.Response\u001b[39;00m\n\u001b[1;32m    113\u001b[0m \u001b[39m    \"\"\"\u001b[39;00m\n\u001b[0;32m--> 115\u001b[0m     \u001b[39mreturn\u001b[39;00m request(\u001b[39m\"\u001b[39;49m\u001b[39mpost\u001b[39;49m\u001b[39m\"\u001b[39;49m, url, data\u001b[39m=\u001b[39;49mdata, json\u001b[39m=\u001b[39;49mjson, \u001b[39m*\u001b[39;49m\u001b[39m*\u001b[39;49mkwargs)\n",
      "File \u001b[0;32m~/Library/Python/3.9/lib/python/site-packages/requests/api.py:59\u001b[0m, in \u001b[0;36mrequest\u001b[0;34m(method, url, **kwargs)\u001b[0m\n\u001b[1;32m     55\u001b[0m \u001b[39m# By using the 'with' statement we are sure the session is closed, thus we\u001b[39;00m\n\u001b[1;32m     56\u001b[0m \u001b[39m# avoid leaving sockets open which can trigger a ResourceWarning in some\u001b[39;00m\n\u001b[1;32m     57\u001b[0m \u001b[39m# cases, and look like a memory leak in others.\u001b[39;00m\n\u001b[1;32m     58\u001b[0m \u001b[39mwith\u001b[39;00m sessions\u001b[39m.\u001b[39mSession() \u001b[39mas\u001b[39;00m session:\n\u001b[0;32m---> 59\u001b[0m     \u001b[39mreturn\u001b[39;00m session\u001b[39m.\u001b[39;49mrequest(method\u001b[39m=\u001b[39;49mmethod, url\u001b[39m=\u001b[39;49murl, \u001b[39m*\u001b[39;49m\u001b[39m*\u001b[39;49mkwargs)\n",
      "File \u001b[0;32m~/Library/Python/3.9/lib/python/site-packages/requests/sessions.py:575\u001b[0m, in \u001b[0;36mSession.request\u001b[0;34m(self, method, url, params, data, headers, cookies, files, auth, timeout, allow_redirects, proxies, hooks, stream, verify, cert, json)\u001b[0m\n\u001b[1;32m    562\u001b[0m \u001b[39m# Create the Request.\u001b[39;00m\n\u001b[1;32m    563\u001b[0m req \u001b[39m=\u001b[39m Request(\n\u001b[1;32m    564\u001b[0m     method\u001b[39m=\u001b[39mmethod\u001b[39m.\u001b[39mupper(),\n\u001b[1;32m    565\u001b[0m     url\u001b[39m=\u001b[39murl,\n\u001b[0;32m   (...)\u001b[0m\n\u001b[1;32m    573\u001b[0m     hooks\u001b[39m=\u001b[39mhooks,\n\u001b[1;32m    574\u001b[0m )\n\u001b[0;32m--> 575\u001b[0m prep \u001b[39m=\u001b[39m \u001b[39mself\u001b[39;49m\u001b[39m.\u001b[39;49mprepare_request(req)\n\u001b[1;32m    577\u001b[0m proxies \u001b[39m=\u001b[39m proxies \u001b[39mor\u001b[39;00m {}\n\u001b[1;32m    579\u001b[0m settings \u001b[39m=\u001b[39m \u001b[39mself\u001b[39m\u001b[39m.\u001b[39mmerge_environment_settings(\n\u001b[1;32m    580\u001b[0m     prep\u001b[39m.\u001b[39murl, proxies, stream, verify, cert\n\u001b[1;32m    581\u001b[0m )\n",
      "File \u001b[0;32m~/Library/Python/3.9/lib/python/site-packages/requests/sessions.py:486\u001b[0m, in \u001b[0;36mSession.prepare_request\u001b[0;34m(self, request)\u001b[0m\n\u001b[1;32m    483\u001b[0m     auth \u001b[39m=\u001b[39m get_netrc_auth(request\u001b[39m.\u001b[39murl)\n\u001b[1;32m    485\u001b[0m p \u001b[39m=\u001b[39m PreparedRequest()\n\u001b[0;32m--> 486\u001b[0m p\u001b[39m.\u001b[39;49mprepare(\n\u001b[1;32m    487\u001b[0m     method\u001b[39m=\u001b[39;49mrequest\u001b[39m.\u001b[39;49mmethod\u001b[39m.\u001b[39;49mupper(),\n\u001b[1;32m    488\u001b[0m     url\u001b[39m=\u001b[39;49mrequest\u001b[39m.\u001b[39;49murl,\n\u001b[1;32m    489\u001b[0m     files\u001b[39m=\u001b[39;49mrequest\u001b[39m.\u001b[39;49mfiles,\n\u001b[1;32m    490\u001b[0m     data\u001b[39m=\u001b[39;49mrequest\u001b[39m.\u001b[39;49mdata,\n\u001b[1;32m    491\u001b[0m     json\u001b[39m=\u001b[39;49mrequest\u001b[39m.\u001b[39;49mjson,\n\u001b[1;32m    492\u001b[0m     headers\u001b[39m=\u001b[39;49mmerge_setting(\n\u001b[1;32m    493\u001b[0m         request\u001b[39m.\u001b[39;49mheaders, \u001b[39mself\u001b[39;49m\u001b[39m.\u001b[39;49mheaders, dict_class\u001b[39m=\u001b[39;49mCaseInsensitiveDict\n\u001b[1;32m    494\u001b[0m     ),\n\u001b[1;32m    495\u001b[0m     params\u001b[39m=\u001b[39;49mmerge_setting(request\u001b[39m.\u001b[39;49mparams, \u001b[39mself\u001b[39;49m\u001b[39m.\u001b[39;49mparams),\n\u001b[1;32m    496\u001b[0m     auth\u001b[39m=\u001b[39;49mmerge_setting(auth, \u001b[39mself\u001b[39;49m\u001b[39m.\u001b[39;49mauth),\n\u001b[1;32m    497\u001b[0m     cookies\u001b[39m=\u001b[39;49mmerged_cookies,\n\u001b[1;32m    498\u001b[0m     hooks\u001b[39m=\u001b[39;49mmerge_hooks(request\u001b[39m.\u001b[39;49mhooks, \u001b[39mself\u001b[39;49m\u001b[39m.\u001b[39;49mhooks),\n\u001b[1;32m    499\u001b[0m )\n\u001b[1;32m    500\u001b[0m \u001b[39mreturn\u001b[39;00m p\n",
      "File \u001b[0;32m~/Library/Python/3.9/lib/python/site-packages/requests/models.py:371\u001b[0m, in \u001b[0;36mPreparedRequest.prepare\u001b[0;34m(self, method, url, headers, files, data, params, auth, cookies, hooks, json)\u001b[0m\n\u001b[1;32m    369\u001b[0m \u001b[39mself\u001b[39m\u001b[39m.\u001b[39mprepare_headers(headers)\n\u001b[1;32m    370\u001b[0m \u001b[39mself\u001b[39m\u001b[39m.\u001b[39mprepare_cookies(cookies)\n\u001b[0;32m--> 371\u001b[0m \u001b[39mself\u001b[39;49m\u001b[39m.\u001b[39;49mprepare_body(data, files, json)\n\u001b[1;32m    372\u001b[0m \u001b[39mself\u001b[39m\u001b[39m.\u001b[39mprepare_auth(auth, url)\n\u001b[1;32m    374\u001b[0m \u001b[39m# Note that prepare_auth must be last to enable authentication schemes\u001b[39;00m\n\u001b[1;32m    375\u001b[0m \u001b[39m# such as OAuth to work on a fully prepared request.\u001b[39;00m\n\u001b[1;32m    376\u001b[0m \n\u001b[1;32m    377\u001b[0m \u001b[39m# This MUST go after prepare_auth. Authenticators could add a hook\u001b[39;00m\n",
      "File \u001b[0;32m~/Library/Python/3.9/lib/python/site-packages/requests/models.py:511\u001b[0m, in \u001b[0;36mPreparedRequest.prepare_body\u001b[0;34m(self, data, files, json)\u001b[0m\n\u001b[1;32m    508\u001b[0m content_type \u001b[39m=\u001b[39m \u001b[39m\"\u001b[39m\u001b[39mapplication/json\u001b[39m\u001b[39m\"\u001b[39m\n\u001b[1;32m    510\u001b[0m \u001b[39mtry\u001b[39;00m:\n\u001b[0;32m--> 511\u001b[0m     body \u001b[39m=\u001b[39m complexjson\u001b[39m.\u001b[39;49mdumps(json, allow_nan\u001b[39m=\u001b[39;49m\u001b[39mFalse\u001b[39;49;00m)\n\u001b[1;32m    512\u001b[0m \u001b[39mexcept\u001b[39;00m \u001b[39mValueError\u001b[39;00m \u001b[39mas\u001b[39;00m ve:\n\u001b[1;32m    513\u001b[0m     \u001b[39mraise\u001b[39;00m InvalidJSONError(ve, request\u001b[39m=\u001b[39m\u001b[39mself\u001b[39m)\n",
      "File \u001b[0;32m/Applications/Xcode.app/Contents/Developer/Library/Frameworks/Python3.framework/Versions/3.9/lib/python3.9/json/__init__.py:234\u001b[0m, in \u001b[0;36mdumps\u001b[0;34m(obj, skipkeys, ensure_ascii, check_circular, allow_nan, cls, indent, separators, default, sort_keys, **kw)\u001b[0m\n\u001b[1;32m    232\u001b[0m \u001b[39mif\u001b[39;00m \u001b[39mcls\u001b[39m \u001b[39mis\u001b[39;00m \u001b[39mNone\u001b[39;00m:\n\u001b[1;32m    233\u001b[0m     \u001b[39mcls\u001b[39m \u001b[39m=\u001b[39m JSONEncoder\n\u001b[0;32m--> 234\u001b[0m \u001b[39mreturn\u001b[39;00m \u001b[39mcls\u001b[39;49m(\n\u001b[1;32m    235\u001b[0m     skipkeys\u001b[39m=\u001b[39;49mskipkeys, ensure_ascii\u001b[39m=\u001b[39;49mensure_ascii,\n\u001b[1;32m    236\u001b[0m     check_circular\u001b[39m=\u001b[39;49mcheck_circular, allow_nan\u001b[39m=\u001b[39;49mallow_nan, indent\u001b[39m=\u001b[39;49mindent,\n\u001b[1;32m    237\u001b[0m     separators\u001b[39m=\u001b[39;49mseparators, default\u001b[39m=\u001b[39;49mdefault, sort_keys\u001b[39m=\u001b[39;49msort_keys,\n\u001b[1;32m    238\u001b[0m     \u001b[39m*\u001b[39;49m\u001b[39m*\u001b[39;49mkw)\u001b[39m.\u001b[39;49mencode(obj)\n",
      "File \u001b[0;32m/Applications/Xcode.app/Contents/Developer/Library/Frameworks/Python3.framework/Versions/3.9/lib/python3.9/json/encoder.py:199\u001b[0m, in \u001b[0;36mJSONEncoder.encode\u001b[0;34m(self, o)\u001b[0m\n\u001b[1;32m    195\u001b[0m         \u001b[39mreturn\u001b[39;00m encode_basestring(o)\n\u001b[1;32m    196\u001b[0m \u001b[39m# This doesn't pass the iterator directly to ''.join() because the\u001b[39;00m\n\u001b[1;32m    197\u001b[0m \u001b[39m# exceptions aren't as detailed.  The list call should be roughly\u001b[39;00m\n\u001b[1;32m    198\u001b[0m \u001b[39m# equivalent to the PySequence_Fast that ''.join() would do.\u001b[39;00m\n\u001b[0;32m--> 199\u001b[0m chunks \u001b[39m=\u001b[39m \u001b[39mself\u001b[39;49m\u001b[39m.\u001b[39;49miterencode(o, _one_shot\u001b[39m=\u001b[39;49m\u001b[39mTrue\u001b[39;49;00m)\n\u001b[1;32m    200\u001b[0m \u001b[39mif\u001b[39;00m \u001b[39mnot\u001b[39;00m \u001b[39misinstance\u001b[39m(chunks, (\u001b[39mlist\u001b[39m, \u001b[39mtuple\u001b[39m)):\n\u001b[1;32m    201\u001b[0m     chunks \u001b[39m=\u001b[39m \u001b[39mlist\u001b[39m(chunks)\n",
      "File \u001b[0;32m/Applications/Xcode.app/Contents/Developer/Library/Frameworks/Python3.framework/Versions/3.9/lib/python3.9/json/encoder.py:257\u001b[0m, in \u001b[0;36mJSONEncoder.iterencode\u001b[0;34m(self, o, _one_shot)\u001b[0m\n\u001b[1;32m    252\u001b[0m \u001b[39melse\u001b[39;00m:\n\u001b[1;32m    253\u001b[0m     _iterencode \u001b[39m=\u001b[39m _make_iterencode(\n\u001b[1;32m    254\u001b[0m         markers, \u001b[39mself\u001b[39m\u001b[39m.\u001b[39mdefault, _encoder, \u001b[39mself\u001b[39m\u001b[39m.\u001b[39mindent, floatstr,\n\u001b[1;32m    255\u001b[0m         \u001b[39mself\u001b[39m\u001b[39m.\u001b[39mkey_separator, \u001b[39mself\u001b[39m\u001b[39m.\u001b[39mitem_separator, \u001b[39mself\u001b[39m\u001b[39m.\u001b[39msort_keys,\n\u001b[1;32m    256\u001b[0m         \u001b[39mself\u001b[39m\u001b[39m.\u001b[39mskipkeys, _one_shot)\n\u001b[0;32m--> 257\u001b[0m \u001b[39mreturn\u001b[39;00m _iterencode(o, \u001b[39m0\u001b[39;49m)\n",
      "File \u001b[0;32m/Applications/Xcode.app/Contents/Developer/Library/Frameworks/Python3.framework/Versions/3.9/lib/python3.9/json/encoder.py:179\u001b[0m, in \u001b[0;36mJSONEncoder.default\u001b[0;34m(self, o)\u001b[0m\n\u001b[1;32m    160\u001b[0m \u001b[39mdef\u001b[39;00m \u001b[39mdefault\u001b[39m(\u001b[39mself\u001b[39m, o):\n\u001b[1;32m    161\u001b[0m \u001b[39m    \u001b[39m\u001b[39m\"\"\"Implement this method in a subclass such that it returns\u001b[39;00m\n\u001b[1;32m    162\u001b[0m \u001b[39m    a serializable object for ``o``, or calls the base implementation\u001b[39;00m\n\u001b[1;32m    163\u001b[0m \u001b[39m    (to raise a ``TypeError``).\u001b[39;00m\n\u001b[0;32m   (...)\u001b[0m\n\u001b[1;32m    177\u001b[0m \n\u001b[1;32m    178\u001b[0m \u001b[39m    \"\"\"\u001b[39;00m\n\u001b[0;32m--> 179\u001b[0m     \u001b[39mraise\u001b[39;00m \u001b[39mTypeError\u001b[39;00m(\u001b[39mf\u001b[39m\u001b[39m'\u001b[39m\u001b[39mObject of type \u001b[39m\u001b[39m{\u001b[39;00mo\u001b[39m.\u001b[39m\u001b[39m__class__\u001b[39m\u001b[39m.\u001b[39m\u001b[39m__name__\u001b[39m\u001b[39m}\u001b[39;00m\u001b[39m \u001b[39m\u001b[39m'\u001b[39m\n\u001b[1;32m    180\u001b[0m                     \u001b[39mf\u001b[39m\u001b[39m'\u001b[39m\u001b[39mis not JSON serializable\u001b[39m\u001b[39m'\u001b[39m)\n",
      "\u001b[0;31mTypeError\u001b[0m: Object of type set is not JSON serializable"
     ]
    }
   ],
   "source": [
    "myNewConnections = []\n",
    "combined_tags = list(set([parentTag, childTag]))\n",
    "\n",
    "for index, row in point_to_polygon.iterrows():\n",
    "    point_id = row['point_id']\n",
    "    polygon_id = row['nearest_polygon_id']\n",
    "    \n",
    "    myNewConnections.append({\n",
    "        'datasetId': datasetId,  # assuming you've already set this variable elsewhere in your code\n",
    "        'parentId': polygon_id,\n",
    "        'childId': point_id,\n",
    "        'tags': combined_tags\n",
    "    })\n",
    "\n",
    "pprint.pprint(myNewConnections,indent=2)\n",
    "for connection in myNewConnections:\n",
    "    annotationClient.createConnection(connection)"
   ]
  },
  {
   "cell_type": "code",
   "execution_count": 26,
   "metadata": {},
   "outputs": [
    {
     "name": "stdout",
     "output_type": "stream",
     "text": [
      "[ { 'childId': '64fa64ba46017e1063ec297b',\n",
      "    'datasetId': '64fa638546017e1063ec2941',\n",
      "    'parentId': '64fa63e446017e1063ec2969',\n",
      "    'tags': ['yourPoint', 'myPoint']},\n",
      "  { 'childId': '64fa64bc46017e1063ec297e',\n",
      "    'datasetId': '64fa638546017e1063ec2941',\n",
      "    'parentId': '64fa63e546017e1063ec296c',\n",
      "    'tags': ['yourPoint', 'myPoint']}]\n"
     ]
    }
   ],
   "source": [
    "myNewConnections = []\n",
    "annotation1 = pointList1[0]\n",
    "annotation2 = pointList2[0]\n",
    "combined_tags = list(set(annotation1['tags'] + annotation2['tags']))\n",
    "myNewConnections.append({'datasetId': datasetId,'parentId': annotation1['_id'], 'childId': annotation2['_id'],'tags': combined_tags})\n",
    "\n",
    "annotation1 = pointList1[1]\n",
    "annotation2 = pointList2[1]\n",
    "combined_tags = list(set(annotation1['tags'] + annotation2['tags']))\n",
    "myNewConnections.append({'datasetId': datasetId,'parentId': annotation1['_id'], 'childId': annotation2['_id'],'tags': combined_tags})\n",
    "\n",
    "\n",
    "pprint.pprint(myNewConnections,indent=2)\n",
    "for connection in myNewConnections:\n",
    "    annotationClient.createConnection(connection)\n"
   ]
  },
  {
   "cell_type": "code",
   "execution_count": 24,
   "metadata": {},
   "outputs": [
    {
     "name": "stdout",
     "output_type": "stream",
     "text": [
      "['outerPt', 'innerPt']\n",
      "{'childId': '64aa99e3f69bc320e7503856',\n",
      " 'datasetId': '64aa2973f69bc320e7503648',\n",
      " 'parentId': '64aa9970f69bc320e7503830',\n",
      " 'tags': ['outerPt', 'innerPt']}\n"
     ]
    },
    {
     "data": {
      "text/plain": [
       "{'_id': '64b66ca75a47f8266db0f1cf',\n",
       " 'access': {'groups': [],\n",
       "  'users': [{'flags': [], 'id': '62891fc02060d362984bc104', 'level': 2}]},\n",
       " 'childId': '64aa99e3f69bc320e7503856',\n",
       " 'datasetId': '64aa2973f69bc320e7503648',\n",
       " 'parentId': '64aa9970f69bc320e7503830',\n",
       " 'tags': ['outerPt', 'innerPt']}"
      ]
     },
     "execution_count": 24,
     "metadata": {},
     "output_type": "execute_result"
    }
   ],
   "source": [
    "annotation1 = filteredPointList[0].copy()\n",
    "annotation2 = targetPointList[0].copy()\n",
    "#print(datasetId)\n",
    "#pprint.pprint(annotation1)\n",
    "#pprint.pprint(annotation2)\n",
    "\n",
    "combined_tags = list(set(annotation1['tags'] + annotation2['tags']))\n",
    "print(combined_tags)\n",
    "\n",
    "myNewConnection = {'datasetId': datasetId,'parentId': annotation1['_id'], 'childId': annotation2['_id'],'tags': combined_tags}\n",
    "pprint.pprint(myNewConnection)\n",
    "\n",
    "#annotationClient.client.post(PATHS['connection'], json=myNewConnection)\n",
    "annotationClient.createConnection(myNewConnection)\n"
   ]
  },
  {
   "cell_type": "code",
   "execution_count": 10,
   "metadata": {},
   "outputs": [
    {
     "name": "stdout",
     "output_type": "stream",
     "text": [
      "For point id 64aa9970f69bc320e7503830, closest point is 64aa99e4f69bc320e7503858 with distance 44.97019871692391\n",
      "For point id 64aa9971f69bc320e7503832, closest point is 64aa99e4f69bc320e7503858 with distance 40.542745732502006\n",
      "For point id 64aa9972f69bc320e7503834, closest point is 64aa99ecf69bc320e7503864 with distance 22.147569722466812\n",
      "For point id 64aa9972f69bc320e7503836, closest point is 64aa99e3f69bc320e7503856 with distance 23.26450919111039\n",
      "For point id 64aa9973f69bc320e7503838, closest point is 64aa99e4f69bc320e7503858 with distance 15.882769465319464\n",
      "For point id 64aa9974f69bc320e750383a, closest point is 64aa99e4f69bc320e7503858 with distance 36.323228159944755\n",
      "For point id 64aa9990f69bc320e7503852, closest point is 64aa9a46f69bc320e750386c with distance 7.65561016396188\n"
     ]
    },
    {
     "ename": "TypeError",
     "evalue": "'NoneType' object is not subscriptable",
     "output_type": "error",
     "traceback": [
      "\u001b[0;31m---------------------------------------------------------------------------\u001b[0m",
      "\u001b[0;31mTypeError\u001b[0m                                 Traceback (most recent call last)",
      "Cell \u001b[0;32mIn[10], line 58\u001b[0m\n\u001b[1;32m     56\u001b[0m     matching_annotations \u001b[39m=\u001b[39m find_matching_annotations_by_location(source, targetPointList, Time\u001b[39m=\u001b[39m\u001b[39mTrue\u001b[39;00m, XY\u001b[39m=\u001b[39m\u001b[39mTrue\u001b[39;00m)\n\u001b[1;32m     57\u001b[0m     closest_point, min_distance \u001b[39m=\u001b[39m find_closest_point(source, matching_annotations)\n\u001b[0;32m---> 58\u001b[0m     \u001b[39mprint\u001b[39m(\u001b[39mf\u001b[39m\u001b[39m\"\u001b[39m\u001b[39mFor point id \u001b[39m\u001b[39m{\u001b[39;00msource[\u001b[39m'\u001b[39m\u001b[39m_id\u001b[39m\u001b[39m'\u001b[39m]\u001b[39m}\u001b[39;00m\u001b[39m, closest point is \u001b[39m\u001b[39m{\u001b[39;00mclosest_point[\u001b[39m'\u001b[39m\u001b[39m_id\u001b[39m\u001b[39m'\u001b[39m]\u001b[39m}\u001b[39;00m\u001b[39m with distance \u001b[39m\u001b[39m{\u001b[39;00mmin_distance\u001b[39m}\u001b[39;00m\u001b[39m\"\u001b[39m)\n\u001b[1;32m     60\u001b[0m \u001b[39mfor\u001b[39;00m source \u001b[39min\u001b[39;00m filteredPointList:\n\u001b[1;32m     61\u001b[0m     \u001b[39m# Add the attributes you want to match as keyword arguments here. If no arguments are provided, all 'location' attributes will be matched.\u001b[39;00m\n\u001b[1;32m     62\u001b[0m     matching_annotations \u001b[39m=\u001b[39m find_matching_annotations_by_location(source, targetPointList)\n",
      "\u001b[0;31mTypeError\u001b[0m: 'NoneType' object is not subscriptable"
     ]
    }
   ],
   "source": [
    "import math\n",
    "\n",
    "def calculate_distance(point1, point2):\n",
    "    x1, y1, z1 = point1['coordinates'][0]['x'], point1['coordinates'][0]['y'], point1['coordinates'][0]['z']\n",
    "    x2, y2, z2 = point2['coordinates'][0]['x'], point2['coordinates'][0]['y'], point2['coordinates'][0]['z']\n",
    "    return math.sqrt((x2 - x1) ** 2 + (y2 - y1) ** 2 + (z2 - z1) ** 2)\n",
    "\n",
    "\n",
    "def find_matching_annotations_by_location(source, target_list, Time=True, XY=True, Z=True):\n",
    "    \"\"\"\n",
    "    This function filters the target_list based on the 'location' of the source point.\n",
    "    The function parameters 'Time', 'XY', and 'Z' can be set to True or False to specify whether these 'location' attributes need to be matched.\n",
    "    By default, all of these parameters are set to True, meaning all 'location' attributes need to match.\n",
    "\n",
    "    Parameters:\n",
    "    source (dict): The source point annotation object\n",
    "    target_list (list): The list of target point annotation objects\n",
    "    Time (bool): Specifies whether the 'Time' attribute of 'location' needs to be matched. Default is True.\n",
    "    XY (bool): Specifies whether the 'XY' attribute of 'location' needs to be matched. Default is True.\n",
    "    Z (bool): Specifies whether the 'Z' attribute of 'location' needs to be matched. Default is True.\n",
    "\n",
    "    Returns:\n",
    "    list: The filtered list of target point annotation objects that match the specified 'location' attributes\n",
    "\n",
    "    Example of usage:\n",
    "    1) Matching all 'location' attributes:\n",
    "    source = {...}  # source point annotation object\n",
    "    target_list = [...]  # target point annotation list\n",
    "    matching_annotations = find_matching_annotations_by_location(source, target_list)\n",
    "\n",
    "    2) Matching specified 'location' attributes (in this case, 'Time' and 'XY'):\n",
    "    source = {...}  # source point annotation object\n",
    "    target_list = [...]  # target point annotation list\n",
    "    matching_annotations = find_matching_annotations_by_location(source, target_list, Time=True, XY=True, Z=False)\n",
    "    \"\"\"\n",
    "    params = {'Time': Time, 'XY': XY, 'Z': Z}\n",
    "    return [target for target in target_list if all(source['location'].get(attr) == target['location'].get(attr) for attr, value in params.items() if value)]\n",
    "\n",
    "def find_closest_point(source, target_list):\n",
    "    min_distance = float('inf')\n",
    "    closest_point = None\n",
    "    for target in target_list:\n",
    "        if source['_id'] == target['_id']:\n",
    "            continue\n",
    "        distance = calculate_distance(source, target)\n",
    "        if distance < min_distance:\n",
    "            min_distance = distance\n",
    "            closest_point = target\n",
    "    return closest_point, min_distance\n",
    "\n",
    "#filteredPointList = [...]  # Your filteredPointList here\n",
    "#targetPointList = [...]  # Your targetPointList here\n",
    "\n",
    "for source in filteredPointList:\n",
    "    # Add the attributes you want to match as keyword arguments here. If no arguments are provided, all 'location' attributes will be matched.\n",
    "    matching_annotations = find_matching_annotations_by_location(source, targetPointList, Time=True, XY=True)\n",
    "    closest_point, min_distance = find_closest_point(source, matching_annotations)\n",
    "    print(f\"For point id {source['_id']}, closest point is {closest_point['_id']} with distance {min_distance}\")\n",
    "\n",
    "for source in filteredPointList:\n",
    "    # Add the attributes you want to match as keyword arguments here. If no arguments are provided, all 'location' attributes will be matched.\n",
    "    matching_annotations = find_matching_annotations_by_location(source, targetPointList)\n",
    "    closest_point, min_distance = find_closest_point(source, matching_annotations)\n",
    "    print(f\"For point id {source['_id']}, closest point is {closest_point['_id']} with distance {min_distance}\")\n",
    "\n"
   ]
  }
 ],
 "metadata": {
  "kernelspec": {
   "display_name": "Python 3",
   "language": "python",
   "name": "python3"
  },
  "language_info": {
   "codemirror_mode": {
    "name": "ipython",
    "version": 3
   },
   "file_extension": ".py",
   "mimetype": "text/x-python",
   "name": "python",
   "nbconvert_exporter": "python",
   "pygments_lexer": "ipython3",
   "version": "3.9.6"
  },
  "orig_nbformat": 4
 },
 "nbformat": 4,
 "nbformat_minor": 2
}
