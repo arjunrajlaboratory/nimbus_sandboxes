{
 "cells": [
  {
   "cell_type": "code",
   "execution_count": 1,
   "metadata": {},
   "outputs": [
    {
     "name": "stdout",
     "output_type": "stream",
     "text": [
      "Defaulting to user installation because normal site-packages is not writeable\n",
      "Requirement already satisfied: girder-client in /Users/arjunraj/Library/Python/3.9/lib/python/site-packages (from -r /Users/arjunraj/code/GitHub/UPennContrast/devops/girder/annotation_client/requirements.txt (line 1)) (3.1.20)\n",
      "Requirement already satisfied: diskcache in /Users/arjunraj/Library/Python/3.9/lib/python/site-packages (from girder-client->-r /Users/arjunraj/code/GitHub/UPennContrast/devops/girder/annotation_client/requirements.txt (line 1)) (5.6.1)\n",
      "Requirement already satisfied: requests>=2.4.2 in /Users/arjunraj/Library/Python/3.9/lib/python/site-packages (from girder-client->-r /Users/arjunraj/code/GitHub/UPennContrast/devops/girder/annotation_client/requirements.txt (line 1)) (2.31.0)\n",
      "Requirement already satisfied: requests-toolbelt in /Users/arjunraj/Library/Python/3.9/lib/python/site-packages (from girder-client->-r /Users/arjunraj/code/GitHub/UPennContrast/devops/girder/annotation_client/requirements.txt (line 1)) (1.0.0)\n",
      "Requirement already satisfied: click>=6.7 in /Users/arjunraj/Library/Python/3.9/lib/python/site-packages (from girder-client->-r /Users/arjunraj/code/GitHub/UPennContrast/devops/girder/annotation_client/requirements.txt (line 1)) (8.1.3)\n",
      "Requirement already satisfied: urllib3<3,>=1.21.1 in /Users/arjunraj/Library/Python/3.9/lib/python/site-packages (from requests>=2.4.2->girder-client->-r /Users/arjunraj/code/GitHub/UPennContrast/devops/girder/annotation_client/requirements.txt (line 1)) (2.0.3)\n",
      "Requirement already satisfied: charset-normalizer<4,>=2 in /Users/arjunraj/Library/Python/3.9/lib/python/site-packages (from requests>=2.4.2->girder-client->-r /Users/arjunraj/code/GitHub/UPennContrast/devops/girder/annotation_client/requirements.txt (line 1)) (3.1.0)\n",
      "Requirement already satisfied: idna<4,>=2.5 in /Users/arjunraj/Library/Python/3.9/lib/python/site-packages (from requests>=2.4.2->girder-client->-r /Users/arjunraj/code/GitHub/UPennContrast/devops/girder/annotation_client/requirements.txt (line 1)) (3.4)\n",
      "Requirement already satisfied: certifi>=2017.4.17 in /Users/arjunraj/Library/Python/3.9/lib/python/site-packages (from requests>=2.4.2->girder-client->-r /Users/arjunraj/code/GitHub/UPennContrast/devops/girder/annotation_client/requirements.txt (line 1)) (2023.5.7)\n",
      "\u001b[33mWARNING: You are using pip version 21.2.4; however, version 23.2.1 is available.\n",
      "You should consider upgrading via the '/Applications/Xcode.app/Contents/Developer/usr/bin/python3 -m pip install --upgrade pip' command.\u001b[0m\n",
      "Note: you may need to restart the kernel to use updated packages.\n",
      "Defaulting to user installation because normal site-packages is not writeable\n",
      "Obtaining file:///Users/arjunraj/code/GitHub/UPennContrast/devops/girder/annotation_client\n",
      "Installing collected packages: annotation-client\n",
      "  Attempting uninstall: annotation-client\n",
      "    Found existing installation: annotation-client 0.1\n",
      "    Uninstalling annotation-client-0.1:\n",
      "      Successfully uninstalled annotation-client-0.1\n",
      "  Running setup.py develop for annotation-client\n",
      "Successfully installed annotation-client-0.1\n",
      "\u001b[33mWARNING: You are using pip version 21.2.4; however, version 23.2.1 is available.\n",
      "You should consider upgrading via the '/Applications/Xcode.app/Contents/Developer/usr/bin/python3 -m pip install --upgrade pip' command.\u001b[0m\n",
      "Note: you may need to restart the kernel to use updated packages.\n",
      "Defaulting to user installation because normal site-packages is not writeable\n",
      "Requirement already satisfied: pandas in /Users/arjunraj/Library/Python/3.9/lib/python/site-packages (2.0.2)\n",
      "Requirement already satisfied: tzdata>=2022.1 in /Users/arjunraj/Library/Python/3.9/lib/python/site-packages (from pandas) (2023.3)\n",
      "Requirement already satisfied: numpy>=1.20.3 in /Users/arjunraj/Library/Python/3.9/lib/python/site-packages (from pandas) (1.25.0)\n",
      "Requirement already satisfied: pytz>=2020.1 in /Users/arjunraj/Library/Python/3.9/lib/python/site-packages (from pandas) (2023.3)\n",
      "Requirement already satisfied: python-dateutil>=2.8.2 in /Users/arjunraj/Library/Python/3.9/lib/python/site-packages (from pandas) (2.8.2)\n",
      "Requirement already satisfied: six>=1.5 in /Users/arjunraj/Library/Python/3.9/lib/python/site-packages (from python-dateutil>=2.8.2->pandas) (1.16.0)\n",
      "\u001b[33mWARNING: You are using pip version 21.2.4; however, version 23.2.1 is available.\n",
      "You should consider upgrading via the '/Applications/Xcode.app/Contents/Developer/usr/bin/python3 -m pip install --upgrade pip' command.\u001b[0m\n",
      "Note: you may need to restart the kernel to use updated packages.\n",
      "Defaulting to user installation because normal site-packages is not writeable\n",
      "Requirement already satisfied: imageio in /Users/arjunraj/Library/Python/3.9/lib/python/site-packages (2.31.1)\n",
      "Requirement already satisfied: numpy in /Users/arjunraj/Library/Python/3.9/lib/python/site-packages (from imageio) (1.25.0)\n",
      "Requirement already satisfied: pillow>=8.3.2 in /Users/arjunraj/Library/Python/3.9/lib/python/site-packages (from imageio) (9.5.0)\n",
      "\u001b[33mWARNING: You are using pip version 21.2.4; however, version 23.2.1 is available.\n",
      "You should consider upgrading via the '/Applications/Xcode.app/Contents/Developer/usr/bin/python3 -m pip install --upgrade pip' command.\u001b[0m\n",
      "Note: you may need to restart the kernel to use updated packages.\n",
      "Defaulting to user installation because normal site-packages is not writeable\n",
      "Requirement already satisfied: rtree in /Users/arjunraj/Library/Python/3.9/lib/python/site-packages (1.0.1)\n",
      "\u001b[33mWARNING: You are using pip version 21.2.4; however, version 23.2.1 is available.\n",
      "You should consider upgrading via the '/Applications/Xcode.app/Contents/Developer/usr/bin/python3 -m pip install --upgrade pip' command.\u001b[0m\n",
      "Note: you may need to restart the kernel to use updated packages.\n",
      "Defaulting to user installation because normal site-packages is not writeable\n",
      "Requirement already satisfied: scikit-image in /Users/arjunraj/Library/Python/3.9/lib/python/site-packages (0.21.0)\n",
      "Requirement already satisfied: tifffile>=2022.8.12 in /Users/arjunraj/Library/Python/3.9/lib/python/site-packages (from scikit-image) (2023.4.12)\n",
      "Requirement already satisfied: imageio>=2.27 in /Users/arjunraj/Library/Python/3.9/lib/python/site-packages (from scikit-image) (2.31.1)\n",
      "Requirement already satisfied: lazy_loader>=0.2 in /Users/arjunraj/Library/Python/3.9/lib/python/site-packages (from scikit-image) (0.2)\n",
      "Requirement already satisfied: numpy>=1.21.1 in /Users/arjunraj/Library/Python/3.9/lib/python/site-packages (from scikit-image) (1.25.0)\n",
      "Requirement already satisfied: pillow>=9.0.1 in /Users/arjunraj/Library/Python/3.9/lib/python/site-packages (from scikit-image) (9.5.0)\n",
      "Requirement already satisfied: networkx>=2.8 in /Users/arjunraj/Library/Python/3.9/lib/python/site-packages (from scikit-image) (3.1)\n",
      "Requirement already satisfied: scipy>=1.8 in /Users/arjunraj/Library/Python/3.9/lib/python/site-packages (from scikit-image) (1.11.0)\n",
      "Requirement already satisfied: PyWavelets>=1.1.1 in /Users/arjunraj/Library/Python/3.9/lib/python/site-packages (from scikit-image) (1.4.1)\n",
      "Requirement already satisfied: packaging>=21 in /Users/arjunraj/Library/Python/3.9/lib/python/site-packages (from scikit-image) (23.1)\n",
      "\u001b[33mWARNING: You are using pip version 21.2.4; however, version 23.2.1 is available.\n",
      "You should consider upgrading via the '/Applications/Xcode.app/Contents/Developer/usr/bin/python3 -m pip install --upgrade pip' command.\u001b[0m\n",
      "Note: you may need to restart the kernel to use updated packages.\n",
      "Defaulting to user installation because normal site-packages is not writeable\n",
      "Requirement already satisfied: shapely in /Users/arjunraj/Library/Python/3.9/lib/python/site-packages (2.0.1)\n",
      "Requirement already satisfied: numpy>=1.14 in /Users/arjunraj/Library/Python/3.9/lib/python/site-packages (from shapely) (1.25.0)\n",
      "\u001b[33mWARNING: You are using pip version 21.2.4; however, version 23.2.1 is available.\n",
      "You should consider upgrading via the '/Applications/Xcode.app/Contents/Developer/usr/bin/python3 -m pip install --upgrade pip' command.\u001b[0m\n",
      "Note: you may need to restart the kernel to use updated packages.\n",
      "Defaulting to user installation because normal site-packages is not writeable\n",
      "Requirement already satisfied: nd2reader in /Users/arjunraj/Library/Python/3.9/lib/python/site-packages (3.3.0)\n",
      "Requirement already satisfied: xmltodict>=0.9.2 in /Users/arjunraj/Library/Python/3.9/lib/python/site-packages (from nd2reader) (0.13.0)\n",
      "Requirement already satisfied: numpy>=1.14 in /Users/arjunraj/Library/Python/3.9/lib/python/site-packages (from nd2reader) (1.25.0)\n",
      "Requirement already satisfied: pims>=0.3.0 in /Users/arjunraj/Library/Python/3.9/lib/python/site-packages (from nd2reader) (0.6.1)\n",
      "Requirement already satisfied: six>=1.4 in /Users/arjunraj/Library/Python/3.9/lib/python/site-packages (from nd2reader) (1.16.0)\n",
      "Requirement already satisfied: slicerator>=0.9.8 in /Users/arjunraj/Library/Python/3.9/lib/python/site-packages (from pims>=0.3.0->nd2reader) (1.1.0)\n",
      "Requirement already satisfied: imageio in /Users/arjunraj/Library/Python/3.9/lib/python/site-packages (from pims>=0.3.0->nd2reader) (2.31.1)\n",
      "Requirement already satisfied: pillow>=8.3.2 in /Users/arjunraj/Library/Python/3.9/lib/python/site-packages (from imageio->pims>=0.3.0->nd2reader) (9.5.0)\n",
      "\u001b[33mWARNING: You are using pip version 21.2.4; however, version 23.2.1 is available.\n",
      "You should consider upgrading via the '/Applications/Xcode.app/Contents/Developer/usr/bin/python3 -m pip install --upgrade pip' command.\u001b[0m\n",
      "Note: you may need to restart the kernel to use updated packages.\n",
      "Defaulting to user installation because normal site-packages is not writeable\n",
      "Requirement already satisfied: geopandas in /Users/arjunraj/Library/Python/3.9/lib/python/site-packages (0.13.2)\n",
      "Requirement already satisfied: pyproj>=3.0.1 in /Users/arjunraj/Library/Python/3.9/lib/python/site-packages (from geopandas) (3.6.0)\n",
      "Requirement already satisfied: packaging in /Users/arjunraj/Library/Python/3.9/lib/python/site-packages (from geopandas) (23.1)\n",
      "Requirement already satisfied: shapely>=1.7.1 in /Users/arjunraj/Library/Python/3.9/lib/python/site-packages (from geopandas) (2.0.1)\n",
      "Requirement already satisfied: fiona>=1.8.19 in /Users/arjunraj/Library/Python/3.9/lib/python/site-packages (from geopandas) (1.9.4.post1)\n",
      "Requirement already satisfied: pandas>=1.1.0 in /Users/arjunraj/Library/Python/3.9/lib/python/site-packages (from geopandas) (2.0.2)\n",
      "Requirement already satisfied: attrs>=19.2.0 in /Users/arjunraj/Library/Python/3.9/lib/python/site-packages (from fiona>=1.8.19->geopandas) (23.1.0)\n",
      "Requirement already satisfied: certifi in /Users/arjunraj/Library/Python/3.9/lib/python/site-packages (from fiona>=1.8.19->geopandas) (2023.5.7)\n",
      "Requirement already satisfied: cligj>=0.5 in /Users/arjunraj/Library/Python/3.9/lib/python/site-packages (from fiona>=1.8.19->geopandas) (0.7.2)\n",
      "Requirement already satisfied: click~=8.0 in /Users/arjunraj/Library/Python/3.9/lib/python/site-packages (from fiona>=1.8.19->geopandas) (8.1.3)\n",
      "Requirement already satisfied: click-plugins>=1.0 in /Users/arjunraj/Library/Python/3.9/lib/python/site-packages (from fiona>=1.8.19->geopandas) (1.1.1)\n",
      "Requirement already satisfied: six in /Users/arjunraj/Library/Python/3.9/lib/python/site-packages (from fiona>=1.8.19->geopandas) (1.16.0)\n",
      "Requirement already satisfied: importlib-metadata in /Users/arjunraj/Library/Python/3.9/lib/python/site-packages (from fiona>=1.8.19->geopandas) (6.5.0)\n",
      "Requirement already satisfied: numpy>=1.20.3 in /Users/arjunraj/Library/Python/3.9/lib/python/site-packages (from pandas>=1.1.0->geopandas) (1.25.0)\n",
      "Requirement already satisfied: tzdata>=2022.1 in /Users/arjunraj/Library/Python/3.9/lib/python/site-packages (from pandas>=1.1.0->geopandas) (2023.3)\n",
      "Requirement already satisfied: pytz>=2020.1 in /Users/arjunraj/Library/Python/3.9/lib/python/site-packages (from pandas>=1.1.0->geopandas) (2023.3)\n",
      "Requirement already satisfied: python-dateutil>=2.8.2 in /Users/arjunraj/Library/Python/3.9/lib/python/site-packages (from pandas>=1.1.0->geopandas) (2.8.2)\n",
      "Requirement already satisfied: zipp>=0.5 in /Users/arjunraj/Library/Python/3.9/lib/python/site-packages (from importlib-metadata->fiona>=1.8.19->geopandas) (3.15.0)\n",
      "\u001b[33mWARNING: You are using pip version 21.2.4; however, version 23.2.1 is available.\n",
      "You should consider upgrading via the '/Applications/Xcode.app/Contents/Developer/usr/bin/python3 -m pip install --upgrade pip' command.\u001b[0m\n",
      "Note: you may need to restart the kernel to use updated packages.\n"
     ]
    }
   ],
   "source": [
    "%pip install -r ~/code/GitHub/UPennContrast/devops/girder/annotation_client/requirements.txt\n",
    "%pip install -e ~/code/GitHub/UPennContrast/devops/girder/annotation_client/\n",
    "%pip install pandas\n",
    "%pip install imageio\n",
    "%pip install rtree\n",
    "%pip install scikit-image\n",
    "%pip install shapely\n",
    "%pip install nd2reader\n",
    "%pip install geopandas"
   ]
  },
  {
   "cell_type": "code",
   "execution_count": 11,
   "metadata": {},
   "outputs": [],
   "source": [
    "import girder_client\n",
    "import annotation_client.annotations as annotations\n",
    "import annotation_client.tiles as tiles\n",
    "import annotation_client.workers as workers\n",
    "import pandas as pd\n",
    "import annotation_tools\n",
    "#import imageio\n",
    "from shapely.geometry import Point, Polygon, LineString\n",
    "#pd.set_option('display.max_colwidth', None)\n",
    "import numpy as np"
   ]
  },
  {
   "cell_type": "code",
   "execution_count": 3,
   "metadata": {},
   "outputs": [],
   "source": [
    "apiUrl = 'http://localhost:8080/api/v1'\n",
    "username = 'admin'\n",
    "password = 'password'"
   ]
  },
  {
   "cell_type": "code",
   "execution_count": 4,
   "metadata": {},
   "outputs": [],
   "source": [
    "client = girder_client.GirderClient(apiUrl=apiUrl)\n",
    "user_id = client.authenticate(username=username, password=password)['_id']\n",
    "annotationClient = annotations.UPennContrastAnnotationClient(apiUrl=apiUrl, token=client.token)"
   ]
  },
  {
   "cell_type": "code",
   "execution_count": 5,
   "metadata": {},
   "outputs": [
    {
     "data": {
      "text/html": [
       "<div>\n",
       "<style scoped>\n",
       "    .dataframe tbody tr th:only-of-type {\n",
       "        vertical-align: middle;\n",
       "    }\n",
       "\n",
       "    .dataframe tbody tr th {\n",
       "        vertical-align: top;\n",
       "    }\n",
       "\n",
       "    .dataframe thead th {\n",
       "        text-align: right;\n",
       "    }\n",
       "</style>\n",
       "<table border=\"1\" class=\"dataframe\">\n",
       "  <thead>\n",
       "    <tr style=\"text-align: right;\">\n",
       "      <th></th>\n",
       "      <th>Dataset Name</th>\n",
       "    </tr>\n",
       "  </thead>\n",
       "  <tbody>\n",
       "    <tr>\n",
       "      <th>0</th>\n",
       "      <td>111111_20210723_155544_798__Plate20210723_STR_...</td>\n",
       "    </tr>\n",
       "    <tr>\n",
       "      <th>1</th>\n",
       "      <td>111_20200110_2Dent_001</td>\n",
       "    </tr>\n",
       "    <tr>\n",
       "      <th>2</th>\n",
       "      <td>20200110_2Dent_001_maxmerge</td>\n",
       "    </tr>\n",
       "    <tr>\n",
       "      <th>3</th>\n",
       "      <td>20221122_143426_960__WellA4_ChannelDAPI,CY3,A5...</td>\n",
       "    </tr>\n",
       "    <tr>\n",
       "      <th>4</th>\n",
       "      <td>20230314_175616_594__WellB2_ChannelDAPI,YFP,CY...</td>\n",
       "    </tr>\n",
       "    <tr>\n",
       "      <th>...</th>\n",
       "      <td>...</td>\n",
       "    </tr>\n",
       "    <tr>\n",
       "      <th>173</th>\n",
       "      <td>Well2_50framesCOMPOSITENORECODE</td>\n",
       "    </tr>\n",
       "    <tr>\n",
       "      <th>174</th>\n",
       "      <td>Well2_50framesCOMPOSITENORECODE_maxmerge</td>\n",
       "    </tr>\n",
       "    <tr>\n",
       "      <th>175</th>\n",
       "      <td>Well_test_VID1630</td>\n",
       "    </tr>\n",
       "    <tr>\n",
       "      <th>176</th>\n",
       "      <td>WellA1_ChannelBrightfield,YFP,CY5,DAPI,A594_Se...</td>\n",
       "    </tr>\n",
       "    <tr>\n",
       "      <th>177</th>\n",
       "      <td>WellA2_ChannelBrightfield,YFP,CY5,DAPI,A594_Se...</td>\n",
       "    </tr>\n",
       "  </tbody>\n",
       "</table>\n",
       "<p>178 rows × 1 columns</p>\n",
       "</div>"
      ],
      "text/plain": [
       "                                          Dataset Name\n",
       "0    111111_20210723_155544_798__Plate20210723_STR_...\n",
       "1                               111_20200110_2Dent_001\n",
       "2                          20200110_2Dent_001_maxmerge\n",
       "3    20221122_143426_960__WellA4_ChannelDAPI,CY3,A5...\n",
       "4    20230314_175616_594__WellB2_ChannelDAPI,YFP,CY...\n",
       "..                                                 ...\n",
       "173                    Well2_50framesCOMPOSITENORECODE\n",
       "174           Well2_50framesCOMPOSITENORECODE_maxmerge\n",
       "175                                  Well_test_VID1630\n",
       "176  WellA1_ChannelBrightfield,YFP,CY5,DAPI,A594_Se...\n",
       "177  WellA2_ChannelBrightfield,YFP,CY5,DAPI,A594_Se...\n",
       "\n",
       "[178 rows x 1 columns]"
      ]
     },
     "execution_count": 5,
     "metadata": {},
     "output_type": "execute_result"
    }
   ],
   "source": [
    "datasets = dict()\n",
    "for folder in annotationClient.client.listFolder(user_id,'user'):\n",
    "    for dataset in annotationClient.client.listFolder(folder['_id']):\n",
    "        datasets[dataset['name']] = dataset['_id']\n",
    "\n",
    "pd.DataFrame(datasets.keys(),columns=['Dataset Name'])"
   ]
  },
  {
   "cell_type": "code",
   "execution_count": 7,
   "metadata": {},
   "outputs": [],
   "source": [
    "#dataset_name = '300cell-gastruloids_E11_1_04d16h00m'\n",
    "dataset_name = 'CONNECT_TIME_normmedia_8well_col2_livecellgfp'"
   ]
  },
  {
   "cell_type": "code",
   "execution_count": 8,
   "metadata": {},
   "outputs": [
    {
     "name": "stdout",
     "output_type": "stream",
     "text": [
      "{'IndexRange': {'IndexC': 2, 'IndexT': 4, 'IndexXY': 6, 'IndexZ': 7}, 'IndexStride': {'IndexC': 1, 'IndexT': 14, 'IndexXY': 56, 'IndexZ': 2}, 'bandCount': 1, 'channelmap': {'Brightfield': 0, 'YFP': 1}, 'channels': ['Brightfield', 'YFP'], 'dtype': 'uint16', 'frames': [{'Channel': 'Brightfield', 'Frame': 0, 'Index': 0, 'IndexC': 0, 'IndexT': 0, 'IndexXY': 0, 'IndexZ': 0}, {'Channel': 'YFP', 'Frame': 1, 'Index': 0, 'IndexC': 1, 'IndexT': 0, 'IndexXY': 0, 'IndexZ': 0}, {'Channel': 'Brightfield', 'Frame': 2, 'Index': 1, 'IndexC': 0, 'IndexT': 0, 'IndexXY': 0, 'IndexZ': 1}, {'Channel': 'YFP', 'Frame': 3, 'Index': 1, 'IndexC': 1, 'IndexT': 0, 'IndexXY': 0, 'IndexZ': 1}, {'Channel': 'Brightfield', 'Frame': 4, 'Index': 2, 'IndexC': 0, 'IndexT': 0, 'IndexXY': 0, 'IndexZ': 2}, {'Channel': 'YFP', 'Frame': 5, 'Index': 2, 'IndexC': 1, 'IndexT': 0, 'IndexXY': 0, 'IndexZ': 2}, {'Channel': 'Brightfield', 'Frame': 6, 'Index': 3, 'IndexC': 0, 'IndexT': 0, 'IndexXY': 0, 'IndexZ': 3}, {'Channel': 'YFP', 'Frame': 7, 'Index': 3, 'IndexC': 1, 'IndexT': 0, 'IndexXY': 0, 'IndexZ': 3}, {'Channel': 'Brightfield', 'Frame': 8, 'Index': 4, 'IndexC': 0, 'IndexT': 0, 'IndexXY': 0, 'IndexZ': 4}, {'Channel': 'YFP', 'Frame': 9, 'Index': 4, 'IndexC': 1, 'IndexT': 0, 'IndexXY': 0, 'IndexZ': 4}, {'Channel': 'Brightfield', 'Frame': 10, 'Index': 5, 'IndexC': 0, 'IndexT': 0, 'IndexXY': 0, 'IndexZ': 5}, {'Channel': 'YFP', 'Frame': 11, 'Index': 5, 'IndexC': 1, 'IndexT': 0, 'IndexXY': 0, 'IndexZ': 5}, {'Channel': 'Brightfield', 'Frame': 12, 'Index': 6, 'IndexC': 0, 'IndexT': 0, 'IndexXY': 0, 'IndexZ': 6}, {'Channel': 'YFP', 'Frame': 13, 'Index': 6, 'IndexC': 1, 'IndexT': 0, 'IndexXY': 0, 'IndexZ': 6}, {'Channel': 'Brightfield', 'Frame': 14, 'Index': 7, 'IndexC': 0, 'IndexT': 1, 'IndexXY': 0, 'IndexZ': 0}, {'Channel': 'YFP', 'Frame': 15, 'Index': 7, 'IndexC': 1, 'IndexT': 1, 'IndexXY': 0, 'IndexZ': 0}, {'Channel': 'Brightfield', 'Frame': 16, 'Index': 8, 'IndexC': 0, 'IndexT': 1, 'IndexXY': 0, 'IndexZ': 1}, {'Channel': 'YFP', 'Frame': 17, 'Index': 8, 'IndexC': 1, 'IndexT': 1, 'IndexXY': 0, 'IndexZ': 1}, {'Channel': 'Brightfield', 'Frame': 18, 'Index': 9, 'IndexC': 0, 'IndexT': 1, 'IndexXY': 0, 'IndexZ': 2}, {'Channel': 'YFP', 'Frame': 19, 'Index': 9, 'IndexC': 1, 'IndexT': 1, 'IndexXY': 0, 'IndexZ': 2}, {'Channel': 'Brightfield', 'Frame': 20, 'Index': 10, 'IndexC': 0, 'IndexT': 1, 'IndexXY': 0, 'IndexZ': 3}, {'Channel': 'YFP', 'Frame': 21, 'Index': 10, 'IndexC': 1, 'IndexT': 1, 'IndexXY': 0, 'IndexZ': 3}, {'Channel': 'Brightfield', 'Frame': 22, 'Index': 11, 'IndexC': 0, 'IndexT': 1, 'IndexXY': 0, 'IndexZ': 4}, {'Channel': 'YFP', 'Frame': 23, 'Index': 11, 'IndexC': 1, 'IndexT': 1, 'IndexXY': 0, 'IndexZ': 4}, {'Channel': 'Brightfield', 'Frame': 24, 'Index': 12, 'IndexC': 0, 'IndexT': 1, 'IndexXY': 0, 'IndexZ': 5}, {'Channel': 'YFP', 'Frame': 25, 'Index': 12, 'IndexC': 1, 'IndexT': 1, 'IndexXY': 0, 'IndexZ': 5}, {'Channel': 'Brightfield', 'Frame': 26, 'Index': 13, 'IndexC': 0, 'IndexT': 1, 'IndexXY': 0, 'IndexZ': 6}, {'Channel': 'YFP', 'Frame': 27, 'Index': 13, 'IndexC': 1, 'IndexT': 1, 'IndexXY': 0, 'IndexZ': 6}, {'Channel': 'Brightfield', 'Frame': 28, 'Index': 14, 'IndexC': 0, 'IndexT': 2, 'IndexXY': 0, 'IndexZ': 0}, {'Channel': 'YFP', 'Frame': 29, 'Index': 14, 'IndexC': 1, 'IndexT': 2, 'IndexXY': 0, 'IndexZ': 0}, {'Channel': 'Brightfield', 'Frame': 30, 'Index': 15, 'IndexC': 0, 'IndexT': 2, 'IndexXY': 0, 'IndexZ': 1}, {'Channel': 'YFP', 'Frame': 31, 'Index': 15, 'IndexC': 1, 'IndexT': 2, 'IndexXY': 0, 'IndexZ': 1}, {'Channel': 'Brightfield', 'Frame': 32, 'Index': 16, 'IndexC': 0, 'IndexT': 2, 'IndexXY': 0, 'IndexZ': 2}, {'Channel': 'YFP', 'Frame': 33, 'Index': 16, 'IndexC': 1, 'IndexT': 2, 'IndexXY': 0, 'IndexZ': 2}, {'Channel': 'Brightfield', 'Frame': 34, 'Index': 17, 'IndexC': 0, 'IndexT': 2, 'IndexXY': 0, 'IndexZ': 3}, {'Channel': 'YFP', 'Frame': 35, 'Index': 17, 'IndexC': 1, 'IndexT': 2, 'IndexXY': 0, 'IndexZ': 3}, {'Channel': 'Brightfield', 'Frame': 36, 'Index': 18, 'IndexC': 0, 'IndexT': 2, 'IndexXY': 0, 'IndexZ': 4}, {'Channel': 'YFP', 'Frame': 37, 'Index': 18, 'IndexC': 1, 'IndexT': 2, 'IndexXY': 0, 'IndexZ': 4}, {'Channel': 'Brightfield', 'Frame': 38, 'Index': 19, 'IndexC': 0, 'IndexT': 2, 'IndexXY': 0, 'IndexZ': 5}, {'Channel': 'YFP', 'Frame': 39, 'Index': 19, 'IndexC': 1, 'IndexT': 2, 'IndexXY': 0, 'IndexZ': 5}, {'Channel': 'Brightfield', 'Frame': 40, 'Index': 20, 'IndexC': 0, 'IndexT': 2, 'IndexXY': 0, 'IndexZ': 6}, {'Channel': 'YFP', 'Frame': 41, 'Index': 20, 'IndexC': 1, 'IndexT': 2, 'IndexXY': 0, 'IndexZ': 6}, {'Channel': 'Brightfield', 'Frame': 42, 'Index': 21, 'IndexC': 0, 'IndexT': 3, 'IndexXY': 0, 'IndexZ': 0}, {'Channel': 'YFP', 'Frame': 43, 'Index': 21, 'IndexC': 1, 'IndexT': 3, 'IndexXY': 0, 'IndexZ': 0}, {'Channel': 'Brightfield', 'Frame': 44, 'Index': 22, 'IndexC': 0, 'IndexT': 3, 'IndexXY': 0, 'IndexZ': 1}, {'Channel': 'YFP', 'Frame': 45, 'Index': 22, 'IndexC': 1, 'IndexT': 3, 'IndexXY': 0, 'IndexZ': 1}, {'Channel': 'Brightfield', 'Frame': 46, 'Index': 23, 'IndexC': 0, 'IndexT': 3, 'IndexXY': 0, 'IndexZ': 2}, {'Channel': 'YFP', 'Frame': 47, 'Index': 23, 'IndexC': 1, 'IndexT': 3, 'IndexXY': 0, 'IndexZ': 2}, {'Channel': 'Brightfield', 'Frame': 48, 'Index': 24, 'IndexC': 0, 'IndexT': 3, 'IndexXY': 0, 'IndexZ': 3}, {'Channel': 'YFP', 'Frame': 49, 'Index': 24, 'IndexC': 1, 'IndexT': 3, 'IndexXY': 0, 'IndexZ': 3}, {'Channel': 'Brightfield', 'Frame': 50, 'Index': 25, 'IndexC': 0, 'IndexT': 3, 'IndexXY': 0, 'IndexZ': 4}, {'Channel': 'YFP', 'Frame': 51, 'Index': 25, 'IndexC': 1, 'IndexT': 3, 'IndexXY': 0, 'IndexZ': 4}, {'Channel': 'Brightfield', 'Frame': 52, 'Index': 26, 'IndexC': 0, 'IndexT': 3, 'IndexXY': 0, 'IndexZ': 5}, {'Channel': 'YFP', 'Frame': 53, 'Index': 26, 'IndexC': 1, 'IndexT': 3, 'IndexXY': 0, 'IndexZ': 5}, {'Channel': 'Brightfield', 'Frame': 54, 'Index': 27, 'IndexC': 0, 'IndexT': 3, 'IndexXY': 0, 'IndexZ': 6}, {'Channel': 'YFP', 'Frame': 55, 'Index': 27, 'IndexC': 1, 'IndexT': 3, 'IndexXY': 0, 'IndexZ': 6}, {'Channel': 'Brightfield', 'Frame': 56, 'Index': 28, 'IndexC': 0, 'IndexT': 0, 'IndexXY': 1, 'IndexZ': 0}, {'Channel': 'YFP', 'Frame': 57, 'Index': 28, 'IndexC': 1, 'IndexT': 0, 'IndexXY': 1, 'IndexZ': 0}, {'Channel': 'Brightfield', 'Frame': 58, 'Index': 29, 'IndexC': 0, 'IndexT': 0, 'IndexXY': 1, 'IndexZ': 1}, {'Channel': 'YFP', 'Frame': 59, 'Index': 29, 'IndexC': 1, 'IndexT': 0, 'IndexXY': 1, 'IndexZ': 1}, {'Channel': 'Brightfield', 'Frame': 60, 'Index': 30, 'IndexC': 0, 'IndexT': 0, 'IndexXY': 1, 'IndexZ': 2}, {'Channel': 'YFP', 'Frame': 61, 'Index': 30, 'IndexC': 1, 'IndexT': 0, 'IndexXY': 1, 'IndexZ': 2}, {'Channel': 'Brightfield', 'Frame': 62, 'Index': 31, 'IndexC': 0, 'IndexT': 0, 'IndexXY': 1, 'IndexZ': 3}, {'Channel': 'YFP', 'Frame': 63, 'Index': 31, 'IndexC': 1, 'IndexT': 0, 'IndexXY': 1, 'IndexZ': 3}, {'Channel': 'Brightfield', 'Frame': 64, 'Index': 32, 'IndexC': 0, 'IndexT': 0, 'IndexXY': 1, 'IndexZ': 4}, {'Channel': 'YFP', 'Frame': 65, 'Index': 32, 'IndexC': 1, 'IndexT': 0, 'IndexXY': 1, 'IndexZ': 4}, {'Channel': 'Brightfield', 'Frame': 66, 'Index': 33, 'IndexC': 0, 'IndexT': 0, 'IndexXY': 1, 'IndexZ': 5}, {'Channel': 'YFP', 'Frame': 67, 'Index': 33, 'IndexC': 1, 'IndexT': 0, 'IndexXY': 1, 'IndexZ': 5}, {'Channel': 'Brightfield', 'Frame': 68, 'Index': 34, 'IndexC': 0, 'IndexT': 0, 'IndexXY': 1, 'IndexZ': 6}, {'Channel': 'YFP', 'Frame': 69, 'Index': 34, 'IndexC': 1, 'IndexT': 0, 'IndexXY': 1, 'IndexZ': 6}, {'Channel': 'Brightfield', 'Frame': 70, 'Index': 35, 'IndexC': 0, 'IndexT': 1, 'IndexXY': 1, 'IndexZ': 0}, {'Channel': 'YFP', 'Frame': 71, 'Index': 35, 'IndexC': 1, 'IndexT': 1, 'IndexXY': 1, 'IndexZ': 0}, {'Channel': 'Brightfield', 'Frame': 72, 'Index': 36, 'IndexC': 0, 'IndexT': 1, 'IndexXY': 1, 'IndexZ': 1}, {'Channel': 'YFP', 'Frame': 73, 'Index': 36, 'IndexC': 1, 'IndexT': 1, 'IndexXY': 1, 'IndexZ': 1}, {'Channel': 'Brightfield', 'Frame': 74, 'Index': 37, 'IndexC': 0, 'IndexT': 1, 'IndexXY': 1, 'IndexZ': 2}, {'Channel': 'YFP', 'Frame': 75, 'Index': 37, 'IndexC': 1, 'IndexT': 1, 'IndexXY': 1, 'IndexZ': 2}, {'Channel': 'Brightfield', 'Frame': 76, 'Index': 38, 'IndexC': 0, 'IndexT': 1, 'IndexXY': 1, 'IndexZ': 3}, {'Channel': 'YFP', 'Frame': 77, 'Index': 38, 'IndexC': 1, 'IndexT': 1, 'IndexXY': 1, 'IndexZ': 3}, {'Channel': 'Brightfield', 'Frame': 78, 'Index': 39, 'IndexC': 0, 'IndexT': 1, 'IndexXY': 1, 'IndexZ': 4}, {'Channel': 'YFP', 'Frame': 79, 'Index': 39, 'IndexC': 1, 'IndexT': 1, 'IndexXY': 1, 'IndexZ': 4}, {'Channel': 'Brightfield', 'Frame': 80, 'Index': 40, 'IndexC': 0, 'IndexT': 1, 'IndexXY': 1, 'IndexZ': 5}, {'Channel': 'YFP', 'Frame': 81, 'Index': 40, 'IndexC': 1, 'IndexT': 1, 'IndexXY': 1, 'IndexZ': 5}, {'Channel': 'Brightfield', 'Frame': 82, 'Index': 41, 'IndexC': 0, 'IndexT': 1, 'IndexXY': 1, 'IndexZ': 6}, {'Channel': 'YFP', 'Frame': 83, 'Index': 41, 'IndexC': 1, 'IndexT': 1, 'IndexXY': 1, 'IndexZ': 6}, {'Channel': 'Brightfield', 'Frame': 84, 'Index': 42, 'IndexC': 0, 'IndexT': 2, 'IndexXY': 1, 'IndexZ': 0}, {'Channel': 'YFP', 'Frame': 85, 'Index': 42, 'IndexC': 1, 'IndexT': 2, 'IndexXY': 1, 'IndexZ': 0}, {'Channel': 'Brightfield', 'Frame': 86, 'Index': 43, 'IndexC': 0, 'IndexT': 2, 'IndexXY': 1, 'IndexZ': 1}, {'Channel': 'YFP', 'Frame': 87, 'Index': 43, 'IndexC': 1, 'IndexT': 2, 'IndexXY': 1, 'IndexZ': 1}, {'Channel': 'Brightfield', 'Frame': 88, 'Index': 44, 'IndexC': 0, 'IndexT': 2, 'IndexXY': 1, 'IndexZ': 2}, {'Channel': 'YFP', 'Frame': 89, 'Index': 44, 'IndexC': 1, 'IndexT': 2, 'IndexXY': 1, 'IndexZ': 2}, {'Channel': 'Brightfield', 'Frame': 90, 'Index': 45, 'IndexC': 0, 'IndexT': 2, 'IndexXY': 1, 'IndexZ': 3}, {'Channel': 'YFP', 'Frame': 91, 'Index': 45, 'IndexC': 1, 'IndexT': 2, 'IndexXY': 1, 'IndexZ': 3}, {'Channel': 'Brightfield', 'Frame': 92, 'Index': 46, 'IndexC': 0, 'IndexT': 2, 'IndexXY': 1, 'IndexZ': 4}, {'Channel': 'YFP', 'Frame': 93, 'Index': 46, 'IndexC': 1, 'IndexT': 2, 'IndexXY': 1, 'IndexZ': 4}, {'Channel': 'Brightfield', 'Frame': 94, 'Index': 47, 'IndexC': 0, 'IndexT': 2, 'IndexXY': 1, 'IndexZ': 5}, {'Channel': 'YFP', 'Frame': 95, 'Index': 47, 'IndexC': 1, 'IndexT': 2, 'IndexXY': 1, 'IndexZ': 5}, {'Channel': 'Brightfield', 'Frame': 96, 'Index': 48, 'IndexC': 0, 'IndexT': 2, 'IndexXY': 1, 'IndexZ': 6}, {'Channel': 'YFP', 'Frame': 97, 'Index': 48, 'IndexC': 1, 'IndexT': 2, 'IndexXY': 1, 'IndexZ': 6}, {'Channel': 'Brightfield', 'Frame': 98, 'Index': 49, 'IndexC': 0, 'IndexT': 3, 'IndexXY': 1, 'IndexZ': 0}, {'Channel': 'YFP', 'Frame': 99, 'Index': 49, 'IndexC': 1, 'IndexT': 3, 'IndexXY': 1, 'IndexZ': 0}, {'Channel': 'Brightfield', 'Frame': 100, 'Index': 50, 'IndexC': 0, 'IndexT': 3, 'IndexXY': 1, 'IndexZ': 1}, {'Channel': 'YFP', 'Frame': 101, 'Index': 50, 'IndexC': 1, 'IndexT': 3, 'IndexXY': 1, 'IndexZ': 1}, {'Channel': 'Brightfield', 'Frame': 102, 'Index': 51, 'IndexC': 0, 'IndexT': 3, 'IndexXY': 1, 'IndexZ': 2}, {'Channel': 'YFP', 'Frame': 103, 'Index': 51, 'IndexC': 1, 'IndexT': 3, 'IndexXY': 1, 'IndexZ': 2}, {'Channel': 'Brightfield', 'Frame': 104, 'Index': 52, 'IndexC': 0, 'IndexT': 3, 'IndexXY': 1, 'IndexZ': 3}, {'Channel': 'YFP', 'Frame': 105, 'Index': 52, 'IndexC': 1, 'IndexT': 3, 'IndexXY': 1, 'IndexZ': 3}, {'Channel': 'Brightfield', 'Frame': 106, 'Index': 53, 'IndexC': 0, 'IndexT': 3, 'IndexXY': 1, 'IndexZ': 4}, {'Channel': 'YFP', 'Frame': 107, 'Index': 53, 'IndexC': 1, 'IndexT': 3, 'IndexXY': 1, 'IndexZ': 4}, {'Channel': 'Brightfield', 'Frame': 108, 'Index': 54, 'IndexC': 0, 'IndexT': 3, 'IndexXY': 1, 'IndexZ': 5}, {'Channel': 'YFP', 'Frame': 109, 'Index': 54, 'IndexC': 1, 'IndexT': 3, 'IndexXY': 1, 'IndexZ': 5}, {'Channel': 'Brightfield', 'Frame': 110, 'Index': 55, 'IndexC': 0, 'IndexT': 3, 'IndexXY': 1, 'IndexZ': 6}, {'Channel': 'YFP', 'Frame': 111, 'Index': 55, 'IndexC': 1, 'IndexT': 3, 'IndexXY': 1, 'IndexZ': 6}, {'Channel': 'Brightfield', 'Frame': 112, 'Index': 56, 'IndexC': 0, 'IndexT': 0, 'IndexXY': 2, 'IndexZ': 0}, {'Channel': 'YFP', 'Frame': 113, 'Index': 56, 'IndexC': 1, 'IndexT': 0, 'IndexXY': 2, 'IndexZ': 0}, {'Channel': 'Brightfield', 'Frame': 114, 'Index': 57, 'IndexC': 0, 'IndexT': 0, 'IndexXY': 2, 'IndexZ': 1}, {'Channel': 'YFP', 'Frame': 115, 'Index': 57, 'IndexC': 1, 'IndexT': 0, 'IndexXY': 2, 'IndexZ': 1}, {'Channel': 'Brightfield', 'Frame': 116, 'Index': 58, 'IndexC': 0, 'IndexT': 0, 'IndexXY': 2, 'IndexZ': 2}, {'Channel': 'YFP', 'Frame': 117, 'Index': 58, 'IndexC': 1, 'IndexT': 0, 'IndexXY': 2, 'IndexZ': 2}, {'Channel': 'Brightfield', 'Frame': 118, 'Index': 59, 'IndexC': 0, 'IndexT': 0, 'IndexXY': 2, 'IndexZ': 3}, {'Channel': 'YFP', 'Frame': 119, 'Index': 59, 'IndexC': 1, 'IndexT': 0, 'IndexXY': 2, 'IndexZ': 3}, {'Channel': 'Brightfield', 'Frame': 120, 'Index': 60, 'IndexC': 0, 'IndexT': 0, 'IndexXY': 2, 'IndexZ': 4}, {'Channel': 'YFP', 'Frame': 121, 'Index': 60, 'IndexC': 1, 'IndexT': 0, 'IndexXY': 2, 'IndexZ': 4}, {'Channel': 'Brightfield', 'Frame': 122, 'Index': 61, 'IndexC': 0, 'IndexT': 0, 'IndexXY': 2, 'IndexZ': 5}, {'Channel': 'YFP', 'Frame': 123, 'Index': 61, 'IndexC': 1, 'IndexT': 0, 'IndexXY': 2, 'IndexZ': 5}, {'Channel': 'Brightfield', 'Frame': 124, 'Index': 62, 'IndexC': 0, 'IndexT': 0, 'IndexXY': 2, 'IndexZ': 6}, {'Channel': 'YFP', 'Frame': 125, 'Index': 62, 'IndexC': 1, 'IndexT': 0, 'IndexXY': 2, 'IndexZ': 6}, {'Channel': 'Brightfield', 'Frame': 126, 'Index': 63, 'IndexC': 0, 'IndexT': 1, 'IndexXY': 2, 'IndexZ': 0}, {'Channel': 'YFP', 'Frame': 127, 'Index': 63, 'IndexC': 1, 'IndexT': 1, 'IndexXY': 2, 'IndexZ': 0}, {'Channel': 'Brightfield', 'Frame': 128, 'Index': 64, 'IndexC': 0, 'IndexT': 1, 'IndexXY': 2, 'IndexZ': 1}, {'Channel': 'YFP', 'Frame': 129, 'Index': 64, 'IndexC': 1, 'IndexT': 1, 'IndexXY': 2, 'IndexZ': 1}, {'Channel': 'Brightfield', 'Frame': 130, 'Index': 65, 'IndexC': 0, 'IndexT': 1, 'IndexXY': 2, 'IndexZ': 2}, {'Channel': 'YFP', 'Frame': 131, 'Index': 65, 'IndexC': 1, 'IndexT': 1, 'IndexXY': 2, 'IndexZ': 2}, {'Channel': 'Brightfield', 'Frame': 132, 'Index': 66, 'IndexC': 0, 'IndexT': 1, 'IndexXY': 2, 'IndexZ': 3}, {'Channel': 'YFP', 'Frame': 133, 'Index': 66, 'IndexC': 1, 'IndexT': 1, 'IndexXY': 2, 'IndexZ': 3}, {'Channel': 'Brightfield', 'Frame': 134, 'Index': 67, 'IndexC': 0, 'IndexT': 1, 'IndexXY': 2, 'IndexZ': 4}, {'Channel': 'YFP', 'Frame': 135, 'Index': 67, 'IndexC': 1, 'IndexT': 1, 'IndexXY': 2, 'IndexZ': 4}, {'Channel': 'Brightfield', 'Frame': 136, 'Index': 68, 'IndexC': 0, 'IndexT': 1, 'IndexXY': 2, 'IndexZ': 5}, {'Channel': 'YFP', 'Frame': 137, 'Index': 68, 'IndexC': 1, 'IndexT': 1, 'IndexXY': 2, 'IndexZ': 5}, {'Channel': 'Brightfield', 'Frame': 138, 'Index': 69, 'IndexC': 0, 'IndexT': 1, 'IndexXY': 2, 'IndexZ': 6}, {'Channel': 'YFP', 'Frame': 139, 'Index': 69, 'IndexC': 1, 'IndexT': 1, 'IndexXY': 2, 'IndexZ': 6}, {'Channel': 'Brightfield', 'Frame': 140, 'Index': 70, 'IndexC': 0, 'IndexT': 2, 'IndexXY': 2, 'IndexZ': 0}, {'Channel': 'YFP', 'Frame': 141, 'Index': 70, 'IndexC': 1, 'IndexT': 2, 'IndexXY': 2, 'IndexZ': 0}, {'Channel': 'Brightfield', 'Frame': 142, 'Index': 71, 'IndexC': 0, 'IndexT': 2, 'IndexXY': 2, 'IndexZ': 1}, {'Channel': 'YFP', 'Frame': 143, 'Index': 71, 'IndexC': 1, 'IndexT': 2, 'IndexXY': 2, 'IndexZ': 1}, {'Channel': 'Brightfield', 'Frame': 144, 'Index': 72, 'IndexC': 0, 'IndexT': 2, 'IndexXY': 2, 'IndexZ': 2}, {'Channel': 'YFP', 'Frame': 145, 'Index': 72, 'IndexC': 1, 'IndexT': 2, 'IndexXY': 2, 'IndexZ': 2}, {'Channel': 'Brightfield', 'Frame': 146, 'Index': 73, 'IndexC': 0, 'IndexT': 2, 'IndexXY': 2, 'IndexZ': 3}, {'Channel': 'YFP', 'Frame': 147, 'Index': 73, 'IndexC': 1, 'IndexT': 2, 'IndexXY': 2, 'IndexZ': 3}, {'Channel': 'Brightfield', 'Frame': 148, 'Index': 74, 'IndexC': 0, 'IndexT': 2, 'IndexXY': 2, 'IndexZ': 4}, {'Channel': 'YFP', 'Frame': 149, 'Index': 74, 'IndexC': 1, 'IndexT': 2, 'IndexXY': 2, 'IndexZ': 4}, {'Channel': 'Brightfield', 'Frame': 150, 'Index': 75, 'IndexC': 0, 'IndexT': 2, 'IndexXY': 2, 'IndexZ': 5}, {'Channel': 'YFP', 'Frame': 151, 'Index': 75, 'IndexC': 1, 'IndexT': 2, 'IndexXY': 2, 'IndexZ': 5}, {'Channel': 'Brightfield', 'Frame': 152, 'Index': 76, 'IndexC': 0, 'IndexT': 2, 'IndexXY': 2, 'IndexZ': 6}, {'Channel': 'YFP', 'Frame': 153, 'Index': 76, 'IndexC': 1, 'IndexT': 2, 'IndexXY': 2, 'IndexZ': 6}, {'Channel': 'Brightfield', 'Frame': 154, 'Index': 77, 'IndexC': 0, 'IndexT': 3, 'IndexXY': 2, 'IndexZ': 0}, {'Channel': 'YFP', 'Frame': 155, 'Index': 77, 'IndexC': 1, 'IndexT': 3, 'IndexXY': 2, 'IndexZ': 0}, {'Channel': 'Brightfield', 'Frame': 156, 'Index': 78, 'IndexC': 0, 'IndexT': 3, 'IndexXY': 2, 'IndexZ': 1}, {'Channel': 'YFP', 'Frame': 157, 'Index': 78, 'IndexC': 1, 'IndexT': 3, 'IndexXY': 2, 'IndexZ': 1}, {'Channel': 'Brightfield', 'Frame': 158, 'Index': 79, 'IndexC': 0, 'IndexT': 3, 'IndexXY': 2, 'IndexZ': 2}, {'Channel': 'YFP', 'Frame': 159, 'Index': 79, 'IndexC': 1, 'IndexT': 3, 'IndexXY': 2, 'IndexZ': 2}, {'Channel': 'Brightfield', 'Frame': 160, 'Index': 80, 'IndexC': 0, 'IndexT': 3, 'IndexXY': 2, 'IndexZ': 3}, {'Channel': 'YFP', 'Frame': 161, 'Index': 80, 'IndexC': 1, 'IndexT': 3, 'IndexXY': 2, 'IndexZ': 3}, {'Channel': 'Brightfield', 'Frame': 162, 'Index': 81, 'IndexC': 0, 'IndexT': 3, 'IndexXY': 2, 'IndexZ': 4}, {'Channel': 'YFP', 'Frame': 163, 'Index': 81, 'IndexC': 1, 'IndexT': 3, 'IndexXY': 2, 'IndexZ': 4}, {'Channel': 'Brightfield', 'Frame': 164, 'Index': 82, 'IndexC': 0, 'IndexT': 3, 'IndexXY': 2, 'IndexZ': 5}, {'Channel': 'YFP', 'Frame': 165, 'Index': 82, 'IndexC': 1, 'IndexT': 3, 'IndexXY': 2, 'IndexZ': 5}, {'Channel': 'Brightfield', 'Frame': 166, 'Index': 83, 'IndexC': 0, 'IndexT': 3, 'IndexXY': 2, 'IndexZ': 6}, {'Channel': 'YFP', 'Frame': 167, 'Index': 83, 'IndexC': 1, 'IndexT': 3, 'IndexXY': 2, 'IndexZ': 6}, {'Channel': 'Brightfield', 'Frame': 168, 'Index': 84, 'IndexC': 0, 'IndexT': 0, 'IndexXY': 3, 'IndexZ': 0}, {'Channel': 'YFP', 'Frame': 169, 'Index': 84, 'IndexC': 1, 'IndexT': 0, 'IndexXY': 3, 'IndexZ': 0}, {'Channel': 'Brightfield', 'Frame': 170, 'Index': 85, 'IndexC': 0, 'IndexT': 0, 'IndexXY': 3, 'IndexZ': 1}, {'Channel': 'YFP', 'Frame': 171, 'Index': 85, 'IndexC': 1, 'IndexT': 0, 'IndexXY': 3, 'IndexZ': 1}, {'Channel': 'Brightfield', 'Frame': 172, 'Index': 86, 'IndexC': 0, 'IndexT': 0, 'IndexXY': 3, 'IndexZ': 2}, {'Channel': 'YFP', 'Frame': 173, 'Index': 86, 'IndexC': 1, 'IndexT': 0, 'IndexXY': 3, 'IndexZ': 2}, {'Channel': 'Brightfield', 'Frame': 174, 'Index': 87, 'IndexC': 0, 'IndexT': 0, 'IndexXY': 3, 'IndexZ': 3}, {'Channel': 'YFP', 'Frame': 175, 'Index': 87, 'IndexC': 1, 'IndexT': 0, 'IndexXY': 3, 'IndexZ': 3}, {'Channel': 'Brightfield', 'Frame': 176, 'Index': 88, 'IndexC': 0, 'IndexT': 0, 'IndexXY': 3, 'IndexZ': 4}, {'Channel': 'YFP', 'Frame': 177, 'Index': 88, 'IndexC': 1, 'IndexT': 0, 'IndexXY': 3, 'IndexZ': 4}, {'Channel': 'Brightfield', 'Frame': 178, 'Index': 89, 'IndexC': 0, 'IndexT': 0, 'IndexXY': 3, 'IndexZ': 5}, {'Channel': 'YFP', 'Frame': 179, 'Index': 89, 'IndexC': 1, 'IndexT': 0, 'IndexXY': 3, 'IndexZ': 5}, {'Channel': 'Brightfield', 'Frame': 180, 'Index': 90, 'IndexC': 0, 'IndexT': 0, 'IndexXY': 3, 'IndexZ': 6}, {'Channel': 'YFP', 'Frame': 181, 'Index': 90, 'IndexC': 1, 'IndexT': 0, 'IndexXY': 3, 'IndexZ': 6}, {'Channel': 'Brightfield', 'Frame': 182, 'Index': 91, 'IndexC': 0, 'IndexT': 1, 'IndexXY': 3, 'IndexZ': 0}, {'Channel': 'YFP', 'Frame': 183, 'Index': 91, 'IndexC': 1, 'IndexT': 1, 'IndexXY': 3, 'IndexZ': 0}, {'Channel': 'Brightfield', 'Frame': 184, 'Index': 92, 'IndexC': 0, 'IndexT': 1, 'IndexXY': 3, 'IndexZ': 1}, {'Channel': 'YFP', 'Frame': 185, 'Index': 92, 'IndexC': 1, 'IndexT': 1, 'IndexXY': 3, 'IndexZ': 1}, {'Channel': 'Brightfield', 'Frame': 186, 'Index': 93, 'IndexC': 0, 'IndexT': 1, 'IndexXY': 3, 'IndexZ': 2}, {'Channel': 'YFP', 'Frame': 187, 'Index': 93, 'IndexC': 1, 'IndexT': 1, 'IndexXY': 3, 'IndexZ': 2}, {'Channel': 'Brightfield', 'Frame': 188, 'Index': 94, 'IndexC': 0, 'IndexT': 1, 'IndexXY': 3, 'IndexZ': 3}, {'Channel': 'YFP', 'Frame': 189, 'Index': 94, 'IndexC': 1, 'IndexT': 1, 'IndexXY': 3, 'IndexZ': 3}, {'Channel': 'Brightfield', 'Frame': 190, 'Index': 95, 'IndexC': 0, 'IndexT': 1, 'IndexXY': 3, 'IndexZ': 4}, {'Channel': 'YFP', 'Frame': 191, 'Index': 95, 'IndexC': 1, 'IndexT': 1, 'IndexXY': 3, 'IndexZ': 4}, {'Channel': 'Brightfield', 'Frame': 192, 'Index': 96, 'IndexC': 0, 'IndexT': 1, 'IndexXY': 3, 'IndexZ': 5}, {'Channel': 'YFP', 'Frame': 193, 'Index': 96, 'IndexC': 1, 'IndexT': 1, 'IndexXY': 3, 'IndexZ': 5}, {'Channel': 'Brightfield', 'Frame': 194, 'Index': 97, 'IndexC': 0, 'IndexT': 1, 'IndexXY': 3, 'IndexZ': 6}, {'Channel': 'YFP', 'Frame': 195, 'Index': 97, 'IndexC': 1, 'IndexT': 1, 'IndexXY': 3, 'IndexZ': 6}, {'Channel': 'Brightfield', 'Frame': 196, 'Index': 98, 'IndexC': 0, 'IndexT': 2, 'IndexXY': 3, 'IndexZ': 0}, {'Channel': 'YFP', 'Frame': 197, 'Index': 98, 'IndexC': 1, 'IndexT': 2, 'IndexXY': 3, 'IndexZ': 0}, {'Channel': 'Brightfield', 'Frame': 198, 'Index': 99, 'IndexC': 0, 'IndexT': 2, 'IndexXY': 3, 'IndexZ': 1}, {'Channel': 'YFP', 'Frame': 199, 'Index': 99, 'IndexC': 1, 'IndexT': 2, 'IndexXY': 3, 'IndexZ': 1}, {'Channel': 'Brightfield', 'Frame': 200, 'Index': 100, 'IndexC': 0, 'IndexT': 2, 'IndexXY': 3, 'IndexZ': 2}, {'Channel': 'YFP', 'Frame': 201, 'Index': 100, 'IndexC': 1, 'IndexT': 2, 'IndexXY': 3, 'IndexZ': 2}, {'Channel': 'Brightfield', 'Frame': 202, 'Index': 101, 'IndexC': 0, 'IndexT': 2, 'IndexXY': 3, 'IndexZ': 3}, {'Channel': 'YFP', 'Frame': 203, 'Index': 101, 'IndexC': 1, 'IndexT': 2, 'IndexXY': 3, 'IndexZ': 3}, {'Channel': 'Brightfield', 'Frame': 204, 'Index': 102, 'IndexC': 0, 'IndexT': 2, 'IndexXY': 3, 'IndexZ': 4}, {'Channel': 'YFP', 'Frame': 205, 'Index': 102, 'IndexC': 1, 'IndexT': 2, 'IndexXY': 3, 'IndexZ': 4}, {'Channel': 'Brightfield', 'Frame': 206, 'Index': 103, 'IndexC': 0, 'IndexT': 2, 'IndexXY': 3, 'IndexZ': 5}, {'Channel': 'YFP', 'Frame': 207, 'Index': 103, 'IndexC': 1, 'IndexT': 2, 'IndexXY': 3, 'IndexZ': 5}, {'Channel': 'Brightfield', 'Frame': 208, 'Index': 104, 'IndexC': 0, 'IndexT': 2, 'IndexXY': 3, 'IndexZ': 6}, {'Channel': 'YFP', 'Frame': 209, 'Index': 104, 'IndexC': 1, 'IndexT': 2, 'IndexXY': 3, 'IndexZ': 6}, {'Channel': 'Brightfield', 'Frame': 210, 'Index': 105, 'IndexC': 0, 'IndexT': 3, 'IndexXY': 3, 'IndexZ': 0}, {'Channel': 'YFP', 'Frame': 211, 'Index': 105, 'IndexC': 1, 'IndexT': 3, 'IndexXY': 3, 'IndexZ': 0}, {'Channel': 'Brightfield', 'Frame': 212, 'Index': 106, 'IndexC': 0, 'IndexT': 3, 'IndexXY': 3, 'IndexZ': 1}, {'Channel': 'YFP', 'Frame': 213, 'Index': 106, 'IndexC': 1, 'IndexT': 3, 'IndexXY': 3, 'IndexZ': 1}, {'Channel': 'Brightfield', 'Frame': 214, 'Index': 107, 'IndexC': 0, 'IndexT': 3, 'IndexXY': 3, 'IndexZ': 2}, {'Channel': 'YFP', 'Frame': 215, 'Index': 107, 'IndexC': 1, 'IndexT': 3, 'IndexXY': 3, 'IndexZ': 2}, {'Channel': 'Brightfield', 'Frame': 216, 'Index': 108, 'IndexC': 0, 'IndexT': 3, 'IndexXY': 3, 'IndexZ': 3}, {'Channel': 'YFP', 'Frame': 217, 'Index': 108, 'IndexC': 1, 'IndexT': 3, 'IndexXY': 3, 'IndexZ': 3}, {'Channel': 'Brightfield', 'Frame': 218, 'Index': 109, 'IndexC': 0, 'IndexT': 3, 'IndexXY': 3, 'IndexZ': 4}, {'Channel': 'YFP', 'Frame': 219, 'Index': 109, 'IndexC': 1, 'IndexT': 3, 'IndexXY': 3, 'IndexZ': 4}, {'Channel': 'Brightfield', 'Frame': 220, 'Index': 110, 'IndexC': 0, 'IndexT': 3, 'IndexXY': 3, 'IndexZ': 5}, {'Channel': 'YFP', 'Frame': 221, 'Index': 110, 'IndexC': 1, 'IndexT': 3, 'IndexXY': 3, 'IndexZ': 5}, {'Channel': 'Brightfield', 'Frame': 222, 'Index': 111, 'IndexC': 0, 'IndexT': 3, 'IndexXY': 3, 'IndexZ': 6}, {'Channel': 'YFP', 'Frame': 223, 'Index': 111, 'IndexC': 1, 'IndexT': 3, 'IndexXY': 3, 'IndexZ': 6}, {'Channel': 'Brightfield', 'Frame': 224, 'Index': 112, 'IndexC': 0, 'IndexT': 0, 'IndexXY': 4, 'IndexZ': 0}, {'Channel': 'YFP', 'Frame': 225, 'Index': 112, 'IndexC': 1, 'IndexT': 0, 'IndexXY': 4, 'IndexZ': 0}, {'Channel': 'Brightfield', 'Frame': 226, 'Index': 113, 'IndexC': 0, 'IndexT': 0, 'IndexXY': 4, 'IndexZ': 1}, {'Channel': 'YFP', 'Frame': 227, 'Index': 113, 'IndexC': 1, 'IndexT': 0, 'IndexXY': 4, 'IndexZ': 1}, {'Channel': 'Brightfield', 'Frame': 228, 'Index': 114, 'IndexC': 0, 'IndexT': 0, 'IndexXY': 4, 'IndexZ': 2}, {'Channel': 'YFP', 'Frame': 229, 'Index': 114, 'IndexC': 1, 'IndexT': 0, 'IndexXY': 4, 'IndexZ': 2}, {'Channel': 'Brightfield', 'Frame': 230, 'Index': 115, 'IndexC': 0, 'IndexT': 0, 'IndexXY': 4, 'IndexZ': 3}, {'Channel': 'YFP', 'Frame': 231, 'Index': 115, 'IndexC': 1, 'IndexT': 0, 'IndexXY': 4, 'IndexZ': 3}, {'Channel': 'Brightfield', 'Frame': 232, 'Index': 116, 'IndexC': 0, 'IndexT': 0, 'IndexXY': 4, 'IndexZ': 4}, {'Channel': 'YFP', 'Frame': 233, 'Index': 116, 'IndexC': 1, 'IndexT': 0, 'IndexXY': 4, 'IndexZ': 4}, {'Channel': 'Brightfield', 'Frame': 234, 'Index': 117, 'IndexC': 0, 'IndexT': 0, 'IndexXY': 4, 'IndexZ': 5}, {'Channel': 'YFP', 'Frame': 235, 'Index': 117, 'IndexC': 1, 'IndexT': 0, 'IndexXY': 4, 'IndexZ': 5}, {'Channel': 'Brightfield', 'Frame': 236, 'Index': 118, 'IndexC': 0, 'IndexT': 0, 'IndexXY': 4, 'IndexZ': 6}, {'Channel': 'YFP', 'Frame': 237, 'Index': 118, 'IndexC': 1, 'IndexT': 0, 'IndexXY': 4, 'IndexZ': 6}, {'Channel': 'Brightfield', 'Frame': 238, 'Index': 119, 'IndexC': 0, 'IndexT': 1, 'IndexXY': 4, 'IndexZ': 0}, {'Channel': 'YFP', 'Frame': 239, 'Index': 119, 'IndexC': 1, 'IndexT': 1, 'IndexXY': 4, 'IndexZ': 0}, {'Channel': 'Brightfield', 'Frame': 240, 'Index': 120, 'IndexC': 0, 'IndexT': 1, 'IndexXY': 4, 'IndexZ': 1}, {'Channel': 'YFP', 'Frame': 241, 'Index': 120, 'IndexC': 1, 'IndexT': 1, 'IndexXY': 4, 'IndexZ': 1}, {'Channel': 'Brightfield', 'Frame': 242, 'Index': 121, 'IndexC': 0, 'IndexT': 1, 'IndexXY': 4, 'IndexZ': 2}, {'Channel': 'YFP', 'Frame': 243, 'Index': 121, 'IndexC': 1, 'IndexT': 1, 'IndexXY': 4, 'IndexZ': 2}, {'Channel': 'Brightfield', 'Frame': 244, 'Index': 122, 'IndexC': 0, 'IndexT': 1, 'IndexXY': 4, 'IndexZ': 3}, {'Channel': 'YFP', 'Frame': 245, 'Index': 122, 'IndexC': 1, 'IndexT': 1, 'IndexXY': 4, 'IndexZ': 3}, {'Channel': 'Brightfield', 'Frame': 246, 'Index': 123, 'IndexC': 0, 'IndexT': 1, 'IndexXY': 4, 'IndexZ': 4}, {'Channel': 'YFP', 'Frame': 247, 'Index': 123, 'IndexC': 1, 'IndexT': 1, 'IndexXY': 4, 'IndexZ': 4}, {'Channel': 'Brightfield', 'Frame': 248, 'Index': 124, 'IndexC': 0, 'IndexT': 1, 'IndexXY': 4, 'IndexZ': 5}, {'Channel': 'YFP', 'Frame': 249, 'Index': 124, 'IndexC': 1, 'IndexT': 1, 'IndexXY': 4, 'IndexZ': 5}, {'Channel': 'Brightfield', 'Frame': 250, 'Index': 125, 'IndexC': 0, 'IndexT': 1, 'IndexXY': 4, 'IndexZ': 6}, {'Channel': 'YFP', 'Frame': 251, 'Index': 125, 'IndexC': 1, 'IndexT': 1, 'IndexXY': 4, 'IndexZ': 6}, {'Channel': 'Brightfield', 'Frame': 252, 'Index': 126, 'IndexC': 0, 'IndexT': 2, 'IndexXY': 4, 'IndexZ': 0}, {'Channel': 'YFP', 'Frame': 253, 'Index': 126, 'IndexC': 1, 'IndexT': 2, 'IndexXY': 4, 'IndexZ': 0}, {'Channel': 'Brightfield', 'Frame': 254, 'Index': 127, 'IndexC': 0, 'IndexT': 2, 'IndexXY': 4, 'IndexZ': 1}, {'Channel': 'YFP', 'Frame': 255, 'Index': 127, 'IndexC': 1, 'IndexT': 2, 'IndexXY': 4, 'IndexZ': 1}, {'Channel': 'Brightfield', 'Frame': 256, 'Index': 128, 'IndexC': 0, 'IndexT': 2, 'IndexXY': 4, 'IndexZ': 2}, {'Channel': 'YFP', 'Frame': 257, 'Index': 128, 'IndexC': 1, 'IndexT': 2, 'IndexXY': 4, 'IndexZ': 2}, {'Channel': 'Brightfield', 'Frame': 258, 'Index': 129, 'IndexC': 0, 'IndexT': 2, 'IndexXY': 4, 'IndexZ': 3}, {'Channel': 'YFP', 'Frame': 259, 'Index': 129, 'IndexC': 1, 'IndexT': 2, 'IndexXY': 4, 'IndexZ': 3}, {'Channel': 'Brightfield', 'Frame': 260, 'Index': 130, 'IndexC': 0, 'IndexT': 2, 'IndexXY': 4, 'IndexZ': 4}, {'Channel': 'YFP', 'Frame': 261, 'Index': 130, 'IndexC': 1, 'IndexT': 2, 'IndexXY': 4, 'IndexZ': 4}, {'Channel': 'Brightfield', 'Frame': 262, 'Index': 131, 'IndexC': 0, 'IndexT': 2, 'IndexXY': 4, 'IndexZ': 5}, {'Channel': 'YFP', 'Frame': 263, 'Index': 131, 'IndexC': 1, 'IndexT': 2, 'IndexXY': 4, 'IndexZ': 5}, {'Channel': 'Brightfield', 'Frame': 264, 'Index': 132, 'IndexC': 0, 'IndexT': 2, 'IndexXY': 4, 'IndexZ': 6}, {'Channel': 'YFP', 'Frame': 265, 'Index': 132, 'IndexC': 1, 'IndexT': 2, 'IndexXY': 4, 'IndexZ': 6}, {'Channel': 'Brightfield', 'Frame': 266, 'Index': 133, 'IndexC': 0, 'IndexT': 3, 'IndexXY': 4, 'IndexZ': 0}, {'Channel': 'YFP', 'Frame': 267, 'Index': 133, 'IndexC': 1, 'IndexT': 3, 'IndexXY': 4, 'IndexZ': 0}, {'Channel': 'Brightfield', 'Frame': 268, 'Index': 134, 'IndexC': 0, 'IndexT': 3, 'IndexXY': 4, 'IndexZ': 1}, {'Channel': 'YFP', 'Frame': 269, 'Index': 134, 'IndexC': 1, 'IndexT': 3, 'IndexXY': 4, 'IndexZ': 1}, {'Channel': 'Brightfield', 'Frame': 270, 'Index': 135, 'IndexC': 0, 'IndexT': 3, 'IndexXY': 4, 'IndexZ': 2}, {'Channel': 'YFP', 'Frame': 271, 'Index': 135, 'IndexC': 1, 'IndexT': 3, 'IndexXY': 4, 'IndexZ': 2}, {'Channel': 'Brightfield', 'Frame': 272, 'Index': 136, 'IndexC': 0, 'IndexT': 3, 'IndexXY': 4, 'IndexZ': 3}, {'Channel': 'YFP', 'Frame': 273, 'Index': 136, 'IndexC': 1, 'IndexT': 3, 'IndexXY': 4, 'IndexZ': 3}, {'Channel': 'Brightfield', 'Frame': 274, 'Index': 137, 'IndexC': 0, 'IndexT': 3, 'IndexXY': 4, 'IndexZ': 4}, {'Channel': 'YFP', 'Frame': 275, 'Index': 137, 'IndexC': 1, 'IndexT': 3, 'IndexXY': 4, 'IndexZ': 4}, {'Channel': 'Brightfield', 'Frame': 276, 'Index': 138, 'IndexC': 0, 'IndexT': 3, 'IndexXY': 4, 'IndexZ': 5}, {'Channel': 'YFP', 'Frame': 277, 'Index': 138, 'IndexC': 1, 'IndexT': 3, 'IndexXY': 4, 'IndexZ': 5}, {'Channel': 'Brightfield', 'Frame': 278, 'Index': 139, 'IndexC': 0, 'IndexT': 3, 'IndexXY': 4, 'IndexZ': 6}, {'Channel': 'YFP', 'Frame': 279, 'Index': 139, 'IndexC': 1, 'IndexT': 3, 'IndexXY': 4, 'IndexZ': 6}, {'Channel': 'Brightfield', 'Frame': 280, 'Index': 140, 'IndexC': 0, 'IndexT': 0, 'IndexXY': 5, 'IndexZ': 0}, {'Channel': 'YFP', 'Frame': 281, 'Index': 140, 'IndexC': 1, 'IndexT': 0, 'IndexXY': 5, 'IndexZ': 0}, {'Channel': 'Brightfield', 'Frame': 282, 'Index': 141, 'IndexC': 0, 'IndexT': 0, 'IndexXY': 5, 'IndexZ': 1}, {'Channel': 'YFP', 'Frame': 283, 'Index': 141, 'IndexC': 1, 'IndexT': 0, 'IndexXY': 5, 'IndexZ': 1}, {'Channel': 'Brightfield', 'Frame': 284, 'Index': 142, 'IndexC': 0, 'IndexT': 0, 'IndexXY': 5, 'IndexZ': 2}, {'Channel': 'YFP', 'Frame': 285, 'Index': 142, 'IndexC': 1, 'IndexT': 0, 'IndexXY': 5, 'IndexZ': 2}, {'Channel': 'Brightfield', 'Frame': 286, 'Index': 143, 'IndexC': 0, 'IndexT': 0, 'IndexXY': 5, 'IndexZ': 3}, {'Channel': 'YFP', 'Frame': 287, 'Index': 143, 'IndexC': 1, 'IndexT': 0, 'IndexXY': 5, 'IndexZ': 3}, {'Channel': 'Brightfield', 'Frame': 288, 'Index': 144, 'IndexC': 0, 'IndexT': 0, 'IndexXY': 5, 'IndexZ': 4}, {'Channel': 'YFP', 'Frame': 289, 'Index': 144, 'IndexC': 1, 'IndexT': 0, 'IndexXY': 5, 'IndexZ': 4}, {'Channel': 'Brightfield', 'Frame': 290, 'Index': 145, 'IndexC': 0, 'IndexT': 0, 'IndexXY': 5, 'IndexZ': 5}, {'Channel': 'YFP', 'Frame': 291, 'Index': 145, 'IndexC': 1, 'IndexT': 0, 'IndexXY': 5, 'IndexZ': 5}, {'Channel': 'Brightfield', 'Frame': 292, 'Index': 146, 'IndexC': 0, 'IndexT': 0, 'IndexXY': 5, 'IndexZ': 6}, {'Channel': 'YFP', 'Frame': 293, 'Index': 146, 'IndexC': 1, 'IndexT': 0, 'IndexXY': 5, 'IndexZ': 6}, {'Channel': 'Brightfield', 'Frame': 294, 'Index': 147, 'IndexC': 0, 'IndexT': 1, 'IndexXY': 5, 'IndexZ': 0}, {'Channel': 'YFP', 'Frame': 295, 'Index': 147, 'IndexC': 1, 'IndexT': 1, 'IndexXY': 5, 'IndexZ': 0}, {'Channel': 'Brightfield', 'Frame': 296, 'Index': 148, 'IndexC': 0, 'IndexT': 1, 'IndexXY': 5, 'IndexZ': 1}, {'Channel': 'YFP', 'Frame': 297, 'Index': 148, 'IndexC': 1, 'IndexT': 1, 'IndexXY': 5, 'IndexZ': 1}, {'Channel': 'Brightfield', 'Frame': 298, 'Index': 149, 'IndexC': 0, 'IndexT': 1, 'IndexXY': 5, 'IndexZ': 2}, {'Channel': 'YFP', 'Frame': 299, 'Index': 149, 'IndexC': 1, 'IndexT': 1, 'IndexXY': 5, 'IndexZ': 2}, {'Channel': 'Brightfield', 'Frame': 300, 'Index': 150, 'IndexC': 0, 'IndexT': 1, 'IndexXY': 5, 'IndexZ': 3}, {'Channel': 'YFP', 'Frame': 301, 'Index': 150, 'IndexC': 1, 'IndexT': 1, 'IndexXY': 5, 'IndexZ': 3}, {'Channel': 'Brightfield', 'Frame': 302, 'Index': 151, 'IndexC': 0, 'IndexT': 1, 'IndexXY': 5, 'IndexZ': 4}, {'Channel': 'YFP', 'Frame': 303, 'Index': 151, 'IndexC': 1, 'IndexT': 1, 'IndexXY': 5, 'IndexZ': 4}, {'Channel': 'Brightfield', 'Frame': 304, 'Index': 152, 'IndexC': 0, 'IndexT': 1, 'IndexXY': 5, 'IndexZ': 5}, {'Channel': 'YFP', 'Frame': 305, 'Index': 152, 'IndexC': 1, 'IndexT': 1, 'IndexXY': 5, 'IndexZ': 5}, {'Channel': 'Brightfield', 'Frame': 306, 'Index': 153, 'IndexC': 0, 'IndexT': 1, 'IndexXY': 5, 'IndexZ': 6}, {'Channel': 'YFP', 'Frame': 307, 'Index': 153, 'IndexC': 1, 'IndexT': 1, 'IndexXY': 5, 'IndexZ': 6}, {'Channel': 'Brightfield', 'Frame': 308, 'Index': 154, 'IndexC': 0, 'IndexT': 2, 'IndexXY': 5, 'IndexZ': 0}, {'Channel': 'YFP', 'Frame': 309, 'Index': 154, 'IndexC': 1, 'IndexT': 2, 'IndexXY': 5, 'IndexZ': 0}, {'Channel': 'Brightfield', 'Frame': 310, 'Index': 155, 'IndexC': 0, 'IndexT': 2, 'IndexXY': 5, 'IndexZ': 1}, {'Channel': 'YFP', 'Frame': 311, 'Index': 155, 'IndexC': 1, 'IndexT': 2, 'IndexXY': 5, 'IndexZ': 1}, {'Channel': 'Brightfield', 'Frame': 312, 'Index': 156, 'IndexC': 0, 'IndexT': 2, 'IndexXY': 5, 'IndexZ': 2}, {'Channel': 'YFP', 'Frame': 313, 'Index': 156, 'IndexC': 1, 'IndexT': 2, 'IndexXY': 5, 'IndexZ': 2}, {'Channel': 'Brightfield', 'Frame': 314, 'Index': 157, 'IndexC': 0, 'IndexT': 2, 'IndexXY': 5, 'IndexZ': 3}, {'Channel': 'YFP', 'Frame': 315, 'Index': 157, 'IndexC': 1, 'IndexT': 2, 'IndexXY': 5, 'IndexZ': 3}, {'Channel': 'Brightfield', 'Frame': 316, 'Index': 158, 'IndexC': 0, 'IndexT': 2, 'IndexXY': 5, 'IndexZ': 4}, {'Channel': 'YFP', 'Frame': 317, 'Index': 158, 'IndexC': 1, 'IndexT': 2, 'IndexXY': 5, 'IndexZ': 4}, {'Channel': 'Brightfield', 'Frame': 318, 'Index': 159, 'IndexC': 0, 'IndexT': 2, 'IndexXY': 5, 'IndexZ': 5}, {'Channel': 'YFP', 'Frame': 319, 'Index': 159, 'IndexC': 1, 'IndexT': 2, 'IndexXY': 5, 'IndexZ': 5}, {'Channel': 'Brightfield', 'Frame': 320, 'Index': 160, 'IndexC': 0, 'IndexT': 2, 'IndexXY': 5, 'IndexZ': 6}, {'Channel': 'YFP', 'Frame': 321, 'Index': 160, 'IndexC': 1, 'IndexT': 2, 'IndexXY': 5, 'IndexZ': 6}, {'Channel': 'Brightfield', 'Frame': 322, 'Index': 161, 'IndexC': 0, 'IndexT': 3, 'IndexXY': 5, 'IndexZ': 0}, {'Channel': 'YFP', 'Frame': 323, 'Index': 161, 'IndexC': 1, 'IndexT': 3, 'IndexXY': 5, 'IndexZ': 0}, {'Channel': 'Brightfield', 'Frame': 324, 'Index': 162, 'IndexC': 0, 'IndexT': 3, 'IndexXY': 5, 'IndexZ': 1}, {'Channel': 'YFP', 'Frame': 325, 'Index': 162, 'IndexC': 1, 'IndexT': 3, 'IndexXY': 5, 'IndexZ': 1}, {'Channel': 'Brightfield', 'Frame': 326, 'Index': 163, 'IndexC': 0, 'IndexT': 3, 'IndexXY': 5, 'IndexZ': 2}, {'Channel': 'YFP', 'Frame': 327, 'Index': 163, 'IndexC': 1, 'IndexT': 3, 'IndexXY': 5, 'IndexZ': 2}, {'Channel': 'Brightfield', 'Frame': 328, 'Index': 164, 'IndexC': 0, 'IndexT': 3, 'IndexXY': 5, 'IndexZ': 3}, {'Channel': 'YFP', 'Frame': 329, 'Index': 164, 'IndexC': 1, 'IndexT': 3, 'IndexXY': 5, 'IndexZ': 3}, {'Channel': 'Brightfield', 'Frame': 330, 'Index': 165, 'IndexC': 0, 'IndexT': 3, 'IndexXY': 5, 'IndexZ': 4}, {'Channel': 'YFP', 'Frame': 331, 'Index': 165, 'IndexC': 1, 'IndexT': 3, 'IndexXY': 5, 'IndexZ': 4}, {'Channel': 'Brightfield', 'Frame': 332, 'Index': 166, 'IndexC': 0, 'IndexT': 3, 'IndexXY': 5, 'IndexZ': 5}, {'Channel': 'YFP', 'Frame': 333, 'Index': 166, 'IndexC': 1, 'IndexT': 3, 'IndexXY': 5, 'IndexZ': 5}, {'Channel': 'Brightfield', 'Frame': 334, 'Index': 167, 'IndexC': 0, 'IndexT': 3, 'IndexXY': 5, 'IndexZ': 6}, {'Channel': 'YFP', 'Frame': 335, 'Index': 167, 'IndexC': 1, 'IndexT': 3, 'IndexXY': 5, 'IndexZ': 6}], 'levels': 1, 'magnification': 15.397175034092347, 'mm_x': 0.00064946978766287, 'mm_y': 0.00064946978766287, 'sizeX': 1024, 'sizeY': 1022, 'tileHeight': 1022, 'tileWidth': 1024}\n",
      "1024\n",
      "1022\n"
     ]
    }
   ],
   "source": [
    "datasetId = datasets[dataset_name]\n",
    "datasetClient = tiles.UPennContrastDataset(apiUrl=apiUrl, token=client.token, datasetId=datasetId)\n",
    "print(datasetClient.tiles)\n",
    "tile_width = datasetClient.tiles['tileWidth']\n",
    "tile_height = datasetClient.tiles['tileHeight']\n",
    "print(tile_width)\n",
    "print(tile_height)"
   ]
  },
  {
   "cell_type": "code",
   "execution_count": 9,
   "metadata": {},
   "outputs": [],
   "source": [
    "# May need to change the limit for large numbers of annotations. Default is 50.\n",
    "pointAnnotationList = annotationClient.getAnnotationsByDatasetId(datasetId, limit = 1000000, shape='point')\n",
    "blobAnnotationList = annotationClient.getAnnotationsByDatasetId(datasetId, limit = 1000000, shape='polygon')\n",
    "lineAnnotationList = annotationClient.getAnnotationsByDatasetId(datasetId, limit = 1000000, shape='line')\n",
    "#allAnnotationList = annotationClient.getAnnotationsByDatasetId(datasetId, limit = 1000000)\n",
    "allAnnotationList = pointAnnotationList + blobAnnotationList + lineAnnotationList"
   ]
  },
  {
   "cell_type": "code",
   "execution_count": 10,
   "metadata": {},
   "outputs": [
    {
     "name": "stdout",
     "output_type": "stream",
     "text": [
      "21\n",
      "4\n",
      "25\n",
      "{'_id': '6504c0054bef1078719faf75', 'access': {'groups': [], 'users': [{'flags': [], 'id': '62891fc02060d362984bc104', 'level': 2}]}, 'channel': 1, 'coordinates': [{'x': 209, 'y': 614}, {'x': 206, 'y': 624}, {'x': 202, 'y': 628}, {'x': 194, 'y': 628}, {'x': 181, 'y': 622}, {'x': 180, 'y': 616}, {'x': 184, 'y': 608}, {'x': 193, 'y': 607}], 'datasetId': '6504bf104bef1078719faf21', 'location': {'Time': 0, 'XY': 0, 'Z': 0}, 'shape': 'polygon', 'tags': ['nucleus']}\n",
      "{'_id': '6504c2224bef1078719fb525', 'access': {'groups': [], 'users': [{'flags': [], 'id': '62891fc02060d362984bc104', 'level': 2}]}, 'channel': 1, 'coordinates': [{'x': 431.76719305998256, 'y': 709.9848550087327, 'z': 0}], 'datasetId': '6504bf104bef1078719faf21', 'location': {'Time': 0, 'XY': 0, 'Z': 0}, 'shape': 'point', 'tags': ['YFP point']}\n"
     ]
    }
   ],
   "source": [
    "print(len(blobAnnotationList))\n",
    "print(len(pointAnnotationList))\n",
    "print(len(allAnnotationList))\n",
    "#print(len(lineAnnotationList))\n",
    "print(blobAnnotationList[0])\n",
    "print(pointAnnotationList[0])\n",
    "#print(lineAnnotationList[0])"
   ]
  },
  {
   "cell_type": "code",
   "execution_count": 14,
   "metadata": {},
   "outputs": [
    {
     "name": "stdout",
     "output_type": "stream",
     "text": [
      "{'_id': '6504c0054bef1078719faf75', 'access': {'groups': [], 'users': [{'flags': [], 'id': '62891fc02060d362984bc104', 'level': 2}]}, 'channel': 1, 'coordinates': [{'x': 209, 'y': 614}, {'x': 206, 'y': 624}, {'x': 202, 'y': 628}, {'x': 194, 'y': 628}, {'x': 181, 'y': 622}, {'x': 180, 'y': 616}, {'x': 184, 'y': 608}, {'x': 193, 'y': 607}], 'datasetId': '6504bf104bef1078719faf21', 'location': {'Time': 0, 'XY': 0, 'Z': 0}, 'shape': 'polygon', 'tags': ['nucleus']}\n",
      "(1022, 1024, 1)\n"
     ]
    }
   ],
   "source": [
    "workerClient = workers.UPennContrastWorkerClient(datasetId, apiUrl=apiUrl, token=client.token, params = {'name':'test','id':'a878378','propertyType':'layer'})\n",
    "\n",
    "annotationList = blobAnnotationList\n",
    "\n",
    "annotation = annotationList[0]\n",
    "print(annotation)\n",
    "\n",
    "channel = annotation['channel']\n",
    "location = annotation['location']\n",
    "time, z, xy = location['Time'], location['Z'], location['XY']\n",
    "frame = datasetClient.coordinatesToFrameIndex(xy, z, time, channel)\n",
    "image = datasetClient.getRegion(datasetId, frame=frame)\n",
    "print(image.shape)\n",
    "\n",
    "#image = workerClient.get_image_for_annotation(annotation)\n",
    "\n",
    "\n"
   ]
  },
  {
   "cell_type": "code",
   "execution_count": 22,
   "metadata": {},
   "outputs": [],
   "source": [
    "from collections import defaultdict\n",
    "\n",
    "channel = annotationList[0]['channel']\n",
    "\n",
    "# 1. Group annotations by location using defaultdict\n",
    "grouped_annotations = defaultdict(list)\n",
    "for annotation in annotationList:\n",
    "    location_key = (annotation['location']['Time'], annotation['location']['Z'], annotation['location']['XY'])\n",
    "    grouped_annotations[location_key].append(annotation)"
   ]
  },
  {
   "cell_type": "code",
   "execution_count": 21,
   "metadata": {},
   "outputs": [
    {
     "name": "stdout",
     "output_type": "stream",
     "text": [
      "dict_items([((0, 0, 0), [{'_id': '6504c0054bef1078719faf75', 'access': {'groups': [], 'users': [{'flags': [], 'id': '62891fc02060d362984bc104', 'level': 2}]}, 'channel': 1, 'coordinates': [{'x': 209, 'y': 614}, {'x': 206, 'y': 624}, {'x': 202, 'y': 628}, {'x': 194, 'y': 628}, {'x': 181, 'y': 622}, {'x': 180, 'y': 616}, {'x': 184, 'y': 608}, {'x': 193, 'y': 607}], 'datasetId': '6504bf104bef1078719faf21', 'location': {'Time': 0, 'XY': 0, 'Z': 0}, 'shape': 'polygon', 'tags': ['nucleus']}, {'_id': '6504c0e84bef1078719fb107', 'access': {'groups': [], 'users': [{'flags': [], 'id': '62891fc02060d362984bc104', 'level': 2}]}, 'channel': 1, 'coordinates': [{'x': 424, 'y': 325}, {'x': 422, 'y': 331}, {'x': 418, 'y': 335}, {'x': 406, 'y': 335}, {'x': 401, 'y': 333}, {'x': 399, 'y': 326}, {'x': 402, 'y': 321}, {'x': 410, 'y': 314}, {'x': 414, 'y': 310}, {'x': 421, 'y': 313}, {'x': 423, 'y': 318}], 'datasetId': '6504bf104bef1078719faf21', 'location': {'Time': 0, 'XY': 0, 'Z': 0}, 'shape': 'polygon', 'tags': ['nucleus']}, {'_id': '6504c1b04bef1078719fb50d', 'access': {'groups': [], 'users': [{'flags': [], 'id': '62891fc02060d362984bc104', 'level': 2}]}, 'channel': 1, 'coordinates': [{'x': 142, 'y': 356}, {'x': 142, 'y': 362}, {'x': 139, 'y': 372}, {'x': 114, 'y': 372}, {'x': 109, 'y': 370}, {'x': 103, 'y': 364}, {'x': 101, 'y': 356}, {'x': 103, 'y': 351}, {'x': 108, 'y': 344}, {'x': 114, 'y': 344}, {'x': 139, 'y': 345}, {'x': 141, 'y': 350}], 'datasetId': '6504bf104bef1078719faf21', 'location': {'Time': 0, 'XY': 0, 'Z': 0}, 'shape': 'polygon', 'tags': ['nucleus']}]), ((1, 0, 0), [{'_id': '6504c0ba4bef1078719fb0aa', 'access': {'groups': [], 'users': [{'flags': [], 'id': '62891fc02060d362984bc104', 'level': 2}]}, 'channel': 1, 'coordinates': [{'x': 224, 'y': 611}, {'x': 207, 'y': 610}, {'x': 193, 'y': 613}, {'x': 184, 'y': 614}, {'x': 182, 'y': 619}, {'x': 186, 'y': 624}, {'x': 197, 'y': 629}, {'x': 203, 'y': 631}, {'x': 210, 'y': 631}, {'x': 216, 'y': 629}, {'x': 222, 'y': 628}, {'x': 225, 'y': 617}], 'datasetId': '6504bf104bef1078719faf21', 'location': {'Time': 1, 'XY': 0, 'Z': 0}, 'shape': 'polygon', 'tags': ['nucleus']}, {'_id': '6504c0fa4bef1078719fb194', 'access': {'groups': [], 'users': [{'flags': [], 'id': '62891fc02060d362984bc104', 'level': 2}]}, 'channel': 1, 'coordinates': [{'x': 463, 'y': 321}, {'x': 462, 'y': 326}, {'x': 455, 'y': 335}, {'x': 444, 'y': 348}, {'x': 434, 'y': 346}, {'x': 427, 'y': 344}, {'x': 420, 'y': 341}, {'x': 419, 'y': 335}, {'x': 418, 'y': 330}, {'x': 419, 'y': 323}, {'x': 421, 'y': 316}, {'x': 424, 'y': 310}, {'x': 429, 'y': 309}, {'x': 436, 'y': 310}, {'x': 460, 'y': 312}], 'datasetId': '6504bf104bef1078719faf21', 'location': {'Time': 1, 'XY': 0, 'Z': 0}, 'shape': 'polygon', 'tags': ['nucleus']}]), ((2, 0, 0), [{'_id': '6504c0c24bef1078719fb0bd', 'access': {'groups': [], 'users': [{'flags': [], 'id': '62891fc02060d362984bc104', 'level': 2}]}, 'channel': 1, 'coordinates': [{'x': 239, 'y': 609}, {'x': 228, 'y': 609}, {'x': 219, 'y': 608}, {'x': 217, 'y': 614}, {'x': 216, 'y': 619}, {'x': 219, 'y': 624}, {'x': 223, 'y': 629}, {'x': 229, 'y': 630}, {'x': 236, 'y': 628}, {'x': 241, 'y': 624}, {'x': 247, 'y': 613}], 'datasetId': '6504bf104bef1078719faf21', 'location': {'Time': 2, 'XY': 0, 'Z': 0}, 'shape': 'polygon', 'tags': ['nucleus']}, {'_id': '6504c0fd4bef1078719fb1ac', 'access': {'groups': [], 'users': [{'flags': [], 'id': '62891fc02060d362984bc104', 'level': 2}]}, 'channel': 1, 'coordinates': [{'x': 495, 'y': 333}, {'x': 495, 'y': 340}, {'x': 489, 'y': 347}, {'x': 481, 'y': 347}, {'x': 460, 'y': 335}, {'x': 459, 'y': 328}, {'x': 460, 'y': 323}, {'x': 462, 'y': 314}, {'x': 467, 'y': 309}, {'x': 485, 'y': 310}, {'x': 491, 'y': 320}, {'x': 493, 'y': 326}], 'datasetId': '6504bf104bef1078719faf21', 'location': {'Time': 2, 'XY': 0, 'Z': 0}, 'shape': 'polygon', 'tags': ['nucleus']}]), ((3, 0, 0), [{'_id': '6504c0c94bef1078719fb0cc', 'access': {'groups': [], 'users': [{'flags': [], 'id': '62891fc02060d362984bc104', 'level': 2}]}, 'channel': 1, 'coordinates': [{'x': 279, 'y': 624}, {'x': 278, 'y': 633}, {'x': 273, 'y': 637}, {'x': 261, 'y': 637}, {'x': 250, 'y': 634}, {'x': 247, 'y': 628}, {'x': 246, 'y': 622}, {'x': 248, 'y': 616}, {'x': 252, 'y': 612}, {'x': 258, 'y': 608}, {'x': 275, 'y': 609}, {'x': 277, 'y': 614}], 'datasetId': '6504bf104bef1078719faf21', 'location': {'Time': 3, 'XY': 0, 'Z': 0}, 'shape': 'polygon', 'tags': ['nucleus']}, {'_id': '6504c1004bef1078719fb1bb', 'access': {'groups': [], 'users': [{'flags': [], 'id': '62891fc02060d362984bc104', 'level': 2}]}, 'channel': 1, 'coordinates': [{'x': 537, 'y': 320}, {'x': 531, 'y': 312}, {'x': 525, 'y': 308}, {'x': 521, 'y': 314}, {'x': 516, 'y': 312}, {'x': 511, 'y': 314}, {'x': 506, 'y': 318}, {'x': 502, 'y': 324}, {'x': 501, 'y': 331}, {'x': 503, 'y': 339}, {'x': 508, 'y': 344}, {'x': 513, 'y': 347}, {'x': 524, 'y': 349}, {'x': 533, 'y': 348}, {'x': 539, 'y': 339}, {'x': 539, 'y': 328}], 'datasetId': '6504bf104bef1078719faf21', 'location': {'Time': 3, 'XY': 0, 'Z': 0}, 'shape': 'polygon', 'tags': ['nucleus']}]), ((0, 0, 1), [{'_id': '6504c10e4bef1078719fb1f4', 'access': {'groups': [], 'users': [{'flags': [], 'id': '62891fc02060d362984bc104', 'level': 2}]}, 'channel': 1, 'coordinates': [{'x': 213, 'y': 386}, {'x': 206, 'y': 388}, {'x': 201, 'y': 390}, {'x': 197, 'y': 397}, {'x': 197, 'y': 403}, {'x': 200, 'y': 410}, {'x': 207, 'y': 416}, {'x': 215, 'y': 418}, {'x': 223, 'y': 418}, {'x': 228, 'y': 413}, {'x': 230, 'y': 407}], 'datasetId': '6504bf104bef1078719faf21', 'location': {'Time': 0, 'XY': 1, 'Z': 0}, 'shape': 'polygon', 'tags': ['nucleus']}, {'_id': '6508ad784bef1078719fb793', 'access': {'groups': [], 'users': [{'flags': [], 'id': '62891fc02060d362984bc104', 'level': 2}]}, 'channel': 1, 'coordinates': [{'x': 678.8104943214794, 'y': 306.7564971530563}, {'x': 677.6030739103232, 'y': 305.7905608241314}, {'x': 676.3956534991672, 'y': 305.0661085774378}, {'x': 675.1882330880112, 'y': 304.58314041297535}, {'x': 673.9808126768551, 'y': 304.3416563307441}, {'x': 672.5319081834679, 'y': 304.10017224851293}, {'x': 666.4948061276875, 'y': 304.10017224851293}, {'x': 665.0459016343002, 'y': 305.30759265966896}, {'x': 663.8384812231442, 'y': 306.0320449063626}, {'x': 662.389576729757, 'y': 306.99798123528745}, {'x': 661.1821563186008, 'y': 307.7224334819811}, {'x': 660.4577040719073, 'y': 308.92985389313714}, {'x': 660.216219989676, 'y': 310.3787583865244}, {'x': 660.216219989676, 'y': 311.8276628799117}, {'x': 659.9747359074448, 'y': 313.276567373299}, {'x': 659.9747359074448, 'y': 314.9669559489174}, {'x': 660.4577040719073, 'y': 317.14031268899834}, {'x': 660.9406722363697, 'y': 318.3477331001544}, {'x': 661.9066085652945, 'y': 319.31366942907925}, {'x': 663.1140289764505, 'y': 320.03812167577286}, {'x': 664.3214493876067, 'y': 320.5210898402353}, {'x': 665.7703538809939, 'y': 321.00405800469775}, {'x': 667.9437106210748, 'y': 321.24554208692894}, {'x': 669.6340991966933, 'y': 321.4870261691601}, {'x': 670.8415196078494, 'y': 321.72851025139136}, {'x': 673.4978445123927, 'y': 321.72851025139136}, {'x': 674.9467490057799, 'y': 321.4870261691601}, {'x': 676.1541694169359, 'y': 321.24554208692894}, {'x': 677.1201057458609, 'y': 320.2796057580041}, {'x': 677.6030739103232, 'y': 319.072185346848}, {'x': 678.3275261570169, 'y': 317.62328085346076}, {'x': 678.5690102392481, 'y': 316.41586044230473}, {'x': 679.2934624859417, 'y': 314.72547186668623}, {'x': 679.5349465681729, 'y': 313.276567373299}, {'x': 680.0179147326354, 'y': 309.895790222062}, {'x': 680.0179147326354, 'y': 307.9639175642123}], 'datasetId': '6504bf104bef1078719faf21', 'location': {'Time': 0, 'XY': 1, 'Z': 0}, 'shape': 'polygon', 'tags': ['nucleus']}]), ((1, 0, 1), [{'_id': '6504c1134bef1078719fb1f7', 'access': {'groups': [], 'users': [{'flags': [], 'id': '62891fc02060d362984bc104', 'level': 2}]}, 'channel': 1, 'coordinates': [{'x': 256, 'y': 400}, {'x': 254, 'y': 405}, {'x': 253, 'y': 410}, {'x': 249, 'y': 422}, {'x': 244, 'y': 423}, {'x': 237, 'y': 422}, {'x': 228, 'y': 418}, {'x': 226, 'y': 410}, {'x': 228, 'y': 402}, {'x': 233, 'y': 400}, {'x': 245, 'y': 395}], 'datasetId': '6504bf104bef1078719faf21', 'location': {'Time': 1, 'XY': 1, 'Z': 0}, 'shape': 'polygon', 'tags': ['nucleus']}]), ((2, 0, 1), [{'_id': '6504c1164bef1078719fb1fd', 'access': {'groups': [], 'users': [{'flags': [], 'id': '62891fc02060d362984bc104', 'level': 2}]}, 'channel': 1, 'coordinates': [{'x': 278, 'y': 406}, {'x': 273, 'y': 407}, {'x': 269, 'y': 413}, {'x': 264, 'y': 417}, {'x': 263, 'y': 422}, {'x': 263, 'y': 428}, {'x': 266, 'y': 433}, {'x': 273, 'y': 436}, {'x': 287, 'y': 436}, {'x': 292, 'y': 434}, {'x': 298, 'y': 430}, {'x': 298, 'y': 418}], 'datasetId': '6504bf104bef1078719faf21', 'location': {'Time': 2, 'XY': 1, 'Z': 0}, 'shape': 'polygon', 'tags': ['nucleus']}]), ((3, 0, 1), [{'_id': '6504c11a4bef1078719fb200', 'access': {'groups': [], 'users': [{'flags': [], 'id': '62891fc02060d362984bc104', 'level': 2}]}, 'channel': 1, 'coordinates': [{'x': 333, 'y': 418}, {'x': 326, 'y': 419}, {'x': 314, 'y': 420}, {'x': 306, 'y': 421}, {'x': 299, 'y': 424}, {'x': 295, 'y': 429}, {'x': 293, 'y': 436}, {'x': 308, 'y': 445}, {'x': 315, 'y': 446}, {'x': 327, 'y': 447}, {'x': 332, 'y': 442}, {'x': 334, 'y': 437}, {'x': 336, 'y': 431}, {'x': 337, 'y': 425}, {'x': 338, 'y': 420}], 'datasetId': '6504bf104bef1078719faf21', 'location': {'Time': 3, 'XY': 1, 'Z': 0}, 'shape': 'polygon', 'tags': ['nucleus']}]), ((0, 1, 0), [{'_id': '6504c1b64bef1078719fb510', 'access': {'groups': [], 'users': [{'flags': [], 'id': '62891fc02060d362984bc104', 'level': 2}]}, 'channel': 1, 'coordinates': [{'x': 144, 'y': 336}, {'x': 143, 'y': 340}, {'x': 144, 'y': 346}, {'x': 143, 'y': 352}, {'x': 141, 'y': 361}, {'x': 132, 'y': 362}, {'x': 123, 'y': 362}, {'x': 110, 'y': 361}, {'x': 103, 'y': 355}, {'x': 102, 'y': 350}, {'x': 103, 'y': 343}, {'x': 107, 'y': 338}, {'x': 124, 'y': 334}, {'x': 131, 'y': 332}, {'x': 137, 'y': 334}], 'datasetId': '6504bf104bef1078719faf21', 'location': {'Time': 0, 'XY': 0, 'Z': 1}, 'shape': 'polygon', 'tags': ['nucleus']}]), ((0, 2, 0), [{'_id': '6504c1b94bef1078719fb513', 'access': {'groups': [], 'users': [{'flags': [], 'id': '62891fc02060d362984bc104', 'level': 2}]}, 'channel': 1, 'coordinates': [{'x': 146, 'y': 325}, {'x': 144, 'y': 332}, {'x': 141, 'y': 339}, {'x': 132, 'y': 340}, {'x': 117, 'y': 340}, {'x': 110, 'y': 338}, {'x': 106, 'y': 334}, {'x': 103, 'y': 328}, {'x': 102, 'y': 319}, {'x': 105, 'y': 313}, {'x': 111, 'y': 306}, {'x': 118, 'y': 304}, {'x': 126, 'y': 304}, {'x': 144, 'y': 311}, {'x': 145, 'y': 317}], 'datasetId': '6504bf104bef1078719faf21', 'location': {'Time': 0, 'XY': 0, 'Z': 2}, 'shape': 'polygon', 'tags': ['nucleus']}]), ((0, 3, 0), [{'_id': '6504c1be4bef1078719fb516', 'access': {'groups': [], 'users': [{'flags': [], 'id': '62891fc02060d362984bc104', 'level': 2}]}, 'channel': 1, 'coordinates': [{'x': 161, 'y': 290}, {'x': 159, 'y': 281}, {'x': 148, 'y': 286}, {'x': 137, 'y': 290}, {'x': 133, 'y': 294}, {'x': 133, 'y': 306}, {'x': 136, 'y': 316}, {'x': 141, 'y': 319}, {'x': 160, 'y': 316}, {'x': 165, 'y': 315}, {'x': 165, 'y': 304}], 'datasetId': '6504bf104bef1078719faf21', 'location': {'Time': 0, 'XY': 0, 'Z': 3}, 'shape': 'polygon', 'tags': ['nucleus']}]), ((0, 4, 0), [{'_id': '6504c1c24bef1078719fb519', 'access': {'groups': [], 'users': [{'flags': [], 'id': '62891fc02060d362984bc104', 'level': 2}]}, 'channel': 1, 'coordinates': [{'x': 592, 'y': 320}, {'x': 572, 'y': 320}, {'x': 566, 'y': 322}, {'x': 563, 'y': 331}, {'x': 562, 'y': 338}, {'x': 561, 'y': 344}, {'x': 563, 'y': 349}, {'x': 586, 'y': 349}, {'x': 591, 'y': 348}, {'x': 593, 'y': 341}, {'x': 595, 'y': 335}, {'x': 595, 'y': 329}], 'datasetId': '6504bf104bef1078719faf21', 'location': {'Time': 0, 'XY': 0, 'Z': 4}, 'shape': 'polygon', 'tags': ['nucleus']}]), ((0, 5, 0), [{'_id': '6504c1c64bef1078719fb51c', 'access': {'groups': [], 'users': [{'flags': [], 'id': '62891fc02060d362984bc104', 'level': 2}]}, 'channel': 1, 'coordinates': [{'x': 596.5697154232618, 'y': 331.5895898456773}, {'x': 591.1485798192065, 'y': 339.17917969135465}, {'x': 584.6432170943402, 'y': 343.51608817459885}, {'x': 578.137854369474, 'y': 350.0214508994651}, {'x': 572.7167187654187, 'y': 351.1056780202762}, {'x': 566.2113560405525, 'y': 352.18990514108725}, {'x': 560.7902204364972, 'y': 350.0214508994651}, {'x': 552.1164034700088, 'y': 344.6003152954099}, {'x': 549.9479492283867, 'y': 337.0107254497326}, {'x': 552.1164034700088, 'y': 327.2526813624331}, {'x': 560.7902204364972, 'y': 327.2526813624331}, {'x': 588.9801255775844, 'y': 322.915772879189}, {'x': 595.4854883024507, 'y': 324}], 'datasetId': '6504bf104bef1078719faf21', 'location': {'Time': 0, 'XY': 0, 'Z': 5}, 'shape': 'polygon', 'tags': ['nucleus']}]), ((0, 6, 0), [{'_id': '6504c1ca4bef1078719fb51f', 'access': {'groups': [], 'users': [{'flags': [], 'id': '62891fc02060d362984bc104', 'level': 2}]}, 'channel': 1, 'coordinates': [{'x': 607.4119866313722, 'y': 325.0842271208111}, {'x': 600.906623906506, 'y': 317.49463727513375}, {'x': 592.2328069400176, 'y': 314.24195591270063}, {'x': 585.7274442151513, 'y': 314.24195591270063}, {'x': 578.137854369474, 'y': 319.6630915167558}, {'x': 575.9694001278518, 'y': 325.0842271208111}, {'x': 573.8009458862298, 'y': 334.84227120811045}, {'x': 572.7167187654187, 'y': 341.3476339329768}, {'x': 575.9694001278518, 'y': 353.27413226189833}, {'x': 582.4747628527181, 'y': 357.6110407451424}, {'x': 590.0643526983954, 'y': 357.6110407451424}, {'x': 597.6539425440728, 'y': 353.27413226189833}, {'x': 604.1593052689391, 'y': 347.85299665784305}, {'x': 608.4962137521833, 'y': 342.43186105378777}], 'datasetId': '6504bf104bef1078719faf21', 'location': {'Time': 0, 'XY': 0, 'Z': 6}, 'shape': 'polygon', 'tags': ['nucleus']}, {'_id': '6504c1ce4bef1078719fb522', 'access': {'groups': [], 'users': [{'flags': [], 'id': '62891fc02060d362984bc104', 'level': 2}]}, 'channel': 1, 'coordinates': [{'x': 620.4227120811048, 'y': 318.5788643959448}, {'x': 615.0015764770495, 'y': 312.0735016710785}, {'x': 608.4962137521833, 'y': 308.82082030864535}, {'x': 598.7381696648838, 'y': 305.56813894621223}, {'x': 592.2328069400176, 'y': 308.82082030864535}, {'x': 586.8116713359623, 'y': 315.3261830335116}, {'x': 584.6432170943402, 'y': 324}, {'x': 584.6432170943402, 'y': 332.6738169664884}, {'x': 585.7274442151513, 'y': 343.51608817459885}, {'x': 596.5697154232618, 'y': 346.768769537032}, {'x': 603.075078148128, 'y': 346.768769537032}, {'x': 615.0015764770495, 'y': 347.85299665784305}, {'x': 617.1700307186717, 'y': 341.3476339329768}, {'x': 621.5069392019158, 'y': 326.1684542416221}], 'datasetId': '6504bf104bef1078719faf21', 'location': {'Time': 0, 'XY': 0, 'Z': 6}, 'shape': 'polygon', 'tags': ['nucleus']}])])\n"
     ]
    }
   ],
   "source": [
    "for location_key, annotations in grouped_annotations.items():\n",
    "    time, z, xy = location_key\n",
    "    frame = datasetClient.coordinatesToFrameIndex(xy, z, time, channel)\n",
    "    image = datasetClient.getRegion(datasetId, frame=frame)\n",
    "\n",
    "    if image is None:\n",
    "        continue\n",
    "\n",
    "    # 3. Compute properties for all annotations at that location\n",
    "    for annotation in annotations:\n",
    "        polygon = np.array([list(coordinate.values())[1::-1] for coordinate in annotation['coordinates']])\n",
    "        mask = draw.polygon2mask(image.shape, polygon)\n",
    "        intensities = image[mask]\n",
    "\n",
    "        # Calculating the desired metrics\n",
    "        mean_intensity = np.mean(intensities)\n",
    "        max_intensity = np.max(intensities)\n",
    "        min_intensity = np.min(intensities)\n",
    "        median_intensity = np.median(intensities)\n",
    "        q25_intensity = np.percentile(intensities, 25)\n",
    "        q75_intensity = np.percentile(intensities, 75)\n",
    "        total_intensity = np.sum(intensities)\n",
    "\n",
    "        prop = {\n",
    "            'MeanIntensity': float(mean_intensity),\n",
    "            'MaxIntensity': float(max_intensity),\n",
    "            'MinIntensity': float(min_intensity),\n",
    "            'MedianIntensity': float(median_intensity),\n",
    "            '25thPercentileIntensity': float(q25_intensity),\n",
    "            '75thPercentileIntensity': float(q75_intensity),\n",
    "            'TotalIntensity': float(total_intensity),\n",
    "        }\n",
    "        print(prop['MeanIntensity'])\n"
   ]
  },
  {
   "cell_type": "code",
   "execution_count": null,
   "metadata": {},
   "outputs": [],
   "source": []
  }
 ],
 "metadata": {
  "kernelspec": {
   "display_name": "Python 3",
   "language": "python",
   "name": "python3"
  },
  "language_info": {
   "codemirror_mode": {
    "name": "ipython",
    "version": 3
   },
   "file_extension": ".py",
   "mimetype": "text/x-python",
   "name": "python",
   "nbconvert_exporter": "python",
   "pygments_lexer": "ipython3",
   "version": "3.9.6"
  },
  "orig_nbformat": 4
 },
 "nbformat": 4,
 "nbformat_minor": 2
}
