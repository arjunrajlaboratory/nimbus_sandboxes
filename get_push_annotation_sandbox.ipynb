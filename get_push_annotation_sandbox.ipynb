{
 "cells": [
  {
   "cell_type": "code",
   "execution_count": 1,
   "metadata": {},
   "outputs": [
    {
     "name": "stdout",
     "output_type": "stream",
     "text": [
      "Defaulting to user installation because normal site-packages is not writeable\n",
      "Requirement already satisfied: girder-client in /Users/arjunraj/Library/Python/3.9/lib/python/site-packages (from -r /Users/arjunraj/code/GitHub/UPennContrast/devops/girder/annotation_client/requirements.txt (line 1)) (3.1.20)\n",
      "Requirement already satisfied: diskcache in /Users/arjunraj/Library/Python/3.9/lib/python/site-packages (from girder-client->-r /Users/arjunraj/code/GitHub/UPennContrast/devops/girder/annotation_client/requirements.txt (line 1)) (5.6.1)\n",
      "Requirement already satisfied: click>=6.7 in /Users/arjunraj/Library/Python/3.9/lib/python/site-packages (from girder-client->-r /Users/arjunraj/code/GitHub/UPennContrast/devops/girder/annotation_client/requirements.txt (line 1)) (8.1.3)\n",
      "Requirement already satisfied: requests-toolbelt in /Users/arjunraj/Library/Python/3.9/lib/python/site-packages (from girder-client->-r /Users/arjunraj/code/GitHub/UPennContrast/devops/girder/annotation_client/requirements.txt (line 1)) (1.0.0)\n",
      "Requirement already satisfied: requests>=2.4.2 in /Users/arjunraj/Library/Python/3.9/lib/python/site-packages (from girder-client->-r /Users/arjunraj/code/GitHub/UPennContrast/devops/girder/annotation_client/requirements.txt (line 1)) (2.31.0)\n",
      "Requirement already satisfied: certifi>=2017.4.17 in /Users/arjunraj/Library/Python/3.9/lib/python/site-packages (from requests>=2.4.2->girder-client->-r /Users/arjunraj/code/GitHub/UPennContrast/devops/girder/annotation_client/requirements.txt (line 1)) (2023.5.7)\n",
      "Requirement already satisfied: charset-normalizer<4,>=2 in /Users/arjunraj/Library/Python/3.9/lib/python/site-packages (from requests>=2.4.2->girder-client->-r /Users/arjunraj/code/GitHub/UPennContrast/devops/girder/annotation_client/requirements.txt (line 1)) (3.1.0)\n",
      "Requirement already satisfied: urllib3<3,>=1.21.1 in /Users/arjunraj/Library/Python/3.9/lib/python/site-packages (from requests>=2.4.2->girder-client->-r /Users/arjunraj/code/GitHub/UPennContrast/devops/girder/annotation_client/requirements.txt (line 1)) (2.0.3)\n",
      "Requirement already satisfied: idna<4,>=2.5 in /Users/arjunraj/Library/Python/3.9/lib/python/site-packages (from requests>=2.4.2->girder-client->-r /Users/arjunraj/code/GitHub/UPennContrast/devops/girder/annotation_client/requirements.txt (line 1)) (3.4)\n",
      "\u001b[33mWARNING: You are using pip version 21.2.4; however, version 23.1.2 is available.\n",
      "You should consider upgrading via the '/Applications/Xcode.app/Contents/Developer/usr/bin/python3 -m pip install --upgrade pip' command.\u001b[0m\n",
      "Note: you may need to restart the kernel to use updated packages.\n",
      "Defaulting to user installation because normal site-packages is not writeable\n",
      "Obtaining file:///Users/arjunraj/code/GitHub/UPennContrast/devops/girder/annotation_client\n",
      "Installing collected packages: annotation-client\n",
      "  Attempting uninstall: annotation-client\n",
      "    Found existing installation: annotation-client 0.1\n",
      "    Uninstalling annotation-client-0.1:\n",
      "      Successfully uninstalled annotation-client-0.1\n",
      "  Running setup.py develop for annotation-client\n",
      "Successfully installed annotation-client-0.1\n",
      "\u001b[33mWARNING: You are using pip version 21.2.4; however, version 23.1.2 is available.\n",
      "You should consider upgrading via the '/Applications/Xcode.app/Contents/Developer/usr/bin/python3 -m pip install --upgrade pip' command.\u001b[0m\n",
      "Note: you may need to restart the kernel to use updated packages.\n",
      "Defaulting to user installation because normal site-packages is not writeable\n",
      "Requirement already satisfied: pandas in /Users/arjunraj/Library/Python/3.9/lib/python/site-packages (2.0.2)\n",
      "Requirement already satisfied: python-dateutil>=2.8.2 in /Users/arjunraj/Library/Python/3.9/lib/python/site-packages (from pandas) (2.8.2)\n",
      "Requirement already satisfied: pytz>=2020.1 in /Users/arjunraj/Library/Python/3.9/lib/python/site-packages (from pandas) (2023.3)\n",
      "Requirement already satisfied: numpy>=1.20.3 in /Users/arjunraj/Library/Python/3.9/lib/python/site-packages (from pandas) (1.25.0)\n",
      "Requirement already satisfied: tzdata>=2022.1 in /Users/arjunraj/Library/Python/3.9/lib/python/site-packages (from pandas) (2023.3)\n",
      "Requirement already satisfied: six>=1.5 in /Users/arjunraj/Library/Python/3.9/lib/python/site-packages (from python-dateutil>=2.8.2->pandas) (1.16.0)\n",
      "\u001b[33mWARNING: You are using pip version 21.2.4; however, version 23.1.2 is available.\n",
      "You should consider upgrading via the '/Applications/Xcode.app/Contents/Developer/usr/bin/python3 -m pip install --upgrade pip' command.\u001b[0m\n",
      "Note: you may need to restart the kernel to use updated packages.\n",
      "Defaulting to user installation because normal site-packages is not writeable\n",
      "Requirement already satisfied: imageio in /Users/arjunraj/Library/Python/3.9/lib/python/site-packages (2.31.1)\n",
      "Requirement already satisfied: numpy in /Users/arjunraj/Library/Python/3.9/lib/python/site-packages (from imageio) (1.25.0)\n",
      "Requirement already satisfied: pillow>=8.3.2 in /Users/arjunraj/Library/Python/3.9/lib/python/site-packages (from imageio) (9.5.0)\n",
      "\u001b[33mWARNING: You are using pip version 21.2.4; however, version 23.1.2 is available.\n",
      "You should consider upgrading via the '/Applications/Xcode.app/Contents/Developer/usr/bin/python3 -m pip install --upgrade pip' command.\u001b[0m\n",
      "Note: you may need to restart the kernel to use updated packages.\n",
      "Defaulting to user installation because normal site-packages is not writeable\n",
      "Requirement already satisfied: rtree in /Users/arjunraj/Library/Python/3.9/lib/python/site-packages (1.0.1)\n",
      "\u001b[33mWARNING: You are using pip version 21.2.4; however, version 23.1.2 is available.\n",
      "You should consider upgrading via the '/Applications/Xcode.app/Contents/Developer/usr/bin/python3 -m pip install --upgrade pip' command.\u001b[0m\n",
      "Note: you may need to restart the kernel to use updated packages.\n",
      "Defaulting to user installation because normal site-packages is not writeable\n",
      "Requirement already satisfied: scikit-image in /Users/arjunraj/Library/Python/3.9/lib/python/site-packages (0.21.0)\n",
      "Requirement already satisfied: PyWavelets>=1.1.1 in /Users/arjunraj/Library/Python/3.9/lib/python/site-packages (from scikit-image) (1.4.1)\n",
      "Requirement already satisfied: imageio>=2.27 in /Users/arjunraj/Library/Python/3.9/lib/python/site-packages (from scikit-image) (2.31.1)\n",
      "Requirement already satisfied: scipy>=1.8 in /Users/arjunraj/Library/Python/3.9/lib/python/site-packages (from scikit-image) (1.11.0)\n",
      "Requirement already satisfied: packaging>=21 in /Users/arjunraj/Library/Python/3.9/lib/python/site-packages (from scikit-image) (23.1)\n",
      "Requirement already satisfied: tifffile>=2022.8.12 in /Users/arjunraj/Library/Python/3.9/lib/python/site-packages (from scikit-image) (2023.4.12)\n",
      "Requirement already satisfied: lazy_loader>=0.2 in /Users/arjunraj/Library/Python/3.9/lib/python/site-packages (from scikit-image) (0.2)\n",
      "Requirement already satisfied: networkx>=2.8 in /Users/arjunraj/Library/Python/3.9/lib/python/site-packages (from scikit-image) (3.1)\n",
      "Requirement already satisfied: pillow>=9.0.1 in /Users/arjunraj/Library/Python/3.9/lib/python/site-packages (from scikit-image) (9.5.0)\n",
      "Requirement already satisfied: numpy>=1.21.1 in /Users/arjunraj/Library/Python/3.9/lib/python/site-packages (from scikit-image) (1.25.0)\n",
      "\u001b[33mWARNING: You are using pip version 21.2.4; however, version 23.1.2 is available.\n",
      "You should consider upgrading via the '/Applications/Xcode.app/Contents/Developer/usr/bin/python3 -m pip install --upgrade pip' command.\u001b[0m\n",
      "Note: you may need to restart the kernel to use updated packages.\n",
      "Defaulting to user installation because normal site-packages is not writeable\n",
      "Requirement already satisfied: shapely in /Users/arjunraj/Library/Python/3.9/lib/python/site-packages (2.0.1)\n",
      "Requirement already satisfied: numpy>=1.14 in /Users/arjunraj/Library/Python/3.9/lib/python/site-packages (from shapely) (1.25.0)\n",
      "\u001b[33mWARNING: You are using pip version 21.2.4; however, version 23.1.2 is available.\n",
      "You should consider upgrading via the '/Applications/Xcode.app/Contents/Developer/usr/bin/python3 -m pip install --upgrade pip' command.\u001b[0m\n",
      "Note: you may need to restart the kernel to use updated packages.\n",
      "Defaulting to user installation because normal site-packages is not writeable\n",
      "Requirement already satisfied: nd2reader in /Users/arjunraj/Library/Python/3.9/lib/python/site-packages (3.3.0)\n",
      "Requirement already satisfied: xmltodict>=0.9.2 in /Users/arjunraj/Library/Python/3.9/lib/python/site-packages (from nd2reader) (0.13.0)\n",
      "Requirement already satisfied: numpy>=1.14 in /Users/arjunraj/Library/Python/3.9/lib/python/site-packages (from nd2reader) (1.25.0)\n",
      "Requirement already satisfied: pims>=0.3.0 in /Users/arjunraj/Library/Python/3.9/lib/python/site-packages (from nd2reader) (0.6.1)\n",
      "Requirement already satisfied: six>=1.4 in /Users/arjunraj/Library/Python/3.9/lib/python/site-packages (from nd2reader) (1.16.0)\n",
      "Requirement already satisfied: imageio in /Users/arjunraj/Library/Python/3.9/lib/python/site-packages (from pims>=0.3.0->nd2reader) (2.31.1)\n",
      "Requirement already satisfied: slicerator>=0.9.8 in /Users/arjunraj/Library/Python/3.9/lib/python/site-packages (from pims>=0.3.0->nd2reader) (1.1.0)\n",
      "Requirement already satisfied: pillow>=8.3.2 in /Users/arjunraj/Library/Python/3.9/lib/python/site-packages (from imageio->pims>=0.3.0->nd2reader) (9.5.0)\n",
      "\u001b[33mWARNING: You are using pip version 21.2.4; however, version 23.1.2 is available.\n",
      "You should consider upgrading via the '/Applications/Xcode.app/Contents/Developer/usr/bin/python3 -m pip install --upgrade pip' command.\u001b[0m\n",
      "Note: you may need to restart the kernel to use updated packages.\n"
     ]
    }
   ],
   "source": [
    "%pip install -r ~/code/GitHub/UPennContrast/devops/girder/annotation_client/requirements.txt\n",
    "%pip install -e ~/code/GitHub/UPennContrast/devops/girder/annotation_client/\n",
    "%pip install pandas\n",
    "%pip install imageio\n",
    "%pip install rtree\n",
    "%pip install scikit-image\n",
    "%pip install shapely\n",
    "%pip install nd2reader"
   ]
  },
  {
   "cell_type": "code",
   "execution_count": 6,
   "metadata": {},
   "outputs": [],
   "source": [
    "import girder_client\n",
    "import annotation_client.annotations as annotations\n",
    "import annotation_client.tiles as tiles\n",
    "import pandas as pd\n",
    "#import imageio\n",
    "from shapely.geometry import Point, Polygon, LineString\n",
    "#pd.set_option('display.max_colwidth', None)\n",
    "import numpy as np"
   ]
  },
  {
   "cell_type": "code",
   "execution_count": 7,
   "metadata": {},
   "outputs": [],
   "source": [
    "apiUrl = 'http://localhost:8080/api/v1'\n",
    "username = 'admin'\n",
    "password = 'password'"
   ]
  },
  {
   "cell_type": "code",
   "execution_count": 14,
   "metadata": {},
   "outputs": [],
   "source": [
    "client = girder_client.GirderClient(apiUrl=apiUrl)\n",
    "user_id = client.authenticate(username=username, password=password)['_id']\n",
    "annotationClient = annotations.UPennContrastAnnotationClient(apiUrl=apiUrl, token=client.token)"
   ]
  },
  {
   "cell_type": "code",
   "execution_count": 15,
   "metadata": {},
   "outputs": [
    {
     "data": {
      "text/html": [
       "<div>\n",
       "<style scoped>\n",
       "    .dataframe tbody tr th:only-of-type {\n",
       "        vertical-align: middle;\n",
       "    }\n",
       "\n",
       "    .dataframe tbody tr th {\n",
       "        vertical-align: top;\n",
       "    }\n",
       "\n",
       "    .dataframe thead th {\n",
       "        text-align: right;\n",
       "    }\n",
       "</style>\n",
       "<table border=\"1\" class=\"dataframe\">\n",
       "  <thead>\n",
       "    <tr style=\"text-align: right;\">\n",
       "      <th></th>\n",
       "      <th>Dataset Name</th>\n",
       "    </tr>\n",
       "  </thead>\n",
       "  <tbody>\n",
       "    <tr>\n",
       "      <th>0</th>\n",
       "      <td>20200110_2Dent_001</td>\n",
       "    </tr>\n",
       "    <tr>\n",
       "      <th>1</th>\n",
       "      <td>20200110_2Dent_001_maxmerge</td>\n",
       "    </tr>\n",
       "    <tr>\n",
       "      <th>2</th>\n",
       "      <td>20210723_155544_798__Plate20210723_STR_gfp_Wel...</td>\n",
       "    </tr>\n",
       "    <tr>\n",
       "      <th>3</th>\n",
       "      <td>20221122_143426_960__WellA4_ChannelDAPI,CY3,A5...</td>\n",
       "    </tr>\n",
       "    <tr>\n",
       "      <th>4</th>\n",
       "      <td>20230314_175616_594__WellB2_ChannelDAPI,YFP,CY...</td>\n",
       "    </tr>\n",
       "    <tr>\n",
       "      <th>...</th>\n",
       "      <td>...</td>\n",
       "    </tr>\n",
       "    <tr>\n",
       "      <th>109</th>\n",
       "      <td>UI TEST OASL_SOX10_VGF_maxmerge</td>\n",
       "    </tr>\n",
       "    <tr>\n",
       "      <th>110</th>\n",
       "      <td>UInormmedia_8well_col2_livecellgfp</td>\n",
       "    </tr>\n",
       "    <tr>\n",
       "      <th>111</th>\n",
       "      <td>UInormmedia_8well_col2_livecellgfp_maxmerge</td>\n",
       "    </tr>\n",
       "    <tr>\n",
       "      <th>112</th>\n",
       "      <td>WellA1_ChannelBrightfield,YFP,CY5,DAPI,A594_Se...</td>\n",
       "    </tr>\n",
       "    <tr>\n",
       "      <th>113</th>\n",
       "      <td>WellA2_ChannelBrightfield,YFP,CY5,DAPI,A594_Se...</td>\n",
       "    </tr>\n",
       "  </tbody>\n",
       "</table>\n",
       "<p>114 rows × 1 columns</p>\n",
       "</div>"
      ],
      "text/plain": [
       "                                          Dataset Name\n",
       "0                                   20200110_2Dent_001\n",
       "1                          20200110_2Dent_001_maxmerge\n",
       "2    20210723_155544_798__Plate20210723_STR_gfp_Wel...\n",
       "3    20221122_143426_960__WellA4_ChannelDAPI,CY3,A5...\n",
       "4    20230314_175616_594__WellB2_ChannelDAPI,YFP,CY...\n",
       "..                                                 ...\n",
       "109                    UI TEST OASL_SOX10_VGF_maxmerge\n",
       "110                 UInormmedia_8well_col2_livecellgfp\n",
       "111        UInormmedia_8well_col2_livecellgfp_maxmerge\n",
       "112  WellA1_ChannelBrightfield,YFP,CY5,DAPI,A594_Se...\n",
       "113  WellA2_ChannelBrightfield,YFP,CY5,DAPI,A594_Se...\n",
       "\n",
       "[114 rows x 1 columns]"
      ]
     },
     "execution_count": 15,
     "metadata": {},
     "output_type": "execute_result"
    }
   ],
   "source": [
    "datasets = dict()\n",
    "for folder in annotationClient.client.listFolder(user_id,'user'):\n",
    "    for dataset in annotationClient.client.listFolder(folder['_id']):\n",
    "        datasets[dataset['name']] = dataset['_id']\n",
    "\n",
    "pd.DataFrame(datasets.keys(),columns=['Dataset Name'])"
   ]
  },
  {
   "cell_type": "code",
   "execution_count": 16,
   "metadata": {},
   "outputs": [],
   "source": [
    "dataset_name = 'SANDBOXnormmedia_8well_col2_livecellgfp'"
   ]
  },
  {
   "cell_type": "code",
   "execution_count": 17,
   "metadata": {},
   "outputs": [
    {
     "name": "stdout",
     "output_type": "stream",
     "text": [
      "1024\n",
      "1022\n"
     ]
    }
   ],
   "source": [
    "datasetId = datasets[dataset_name]\n",
    "datasetClient = tiles.UPennContrastDataset(apiUrl=apiUrl, token=client.token, datasetId=datasetId)\n",
    "vars(datasetClient)\n",
    "tile_width = datasetClient.tiles['tileWidth']\n",
    "tile_height = datasetClient.tiles['tileHeight']\n",
    "print(tile_width)\n",
    "print(tile_height)"
   ]
  },
  {
   "cell_type": "code",
   "execution_count": 21,
   "metadata": {},
   "outputs": [],
   "source": [
    "pointAnnotationList = annotationClient.getAnnotationsByDatasetId(datasetId, shape='point')\n",
    "blobAnnotationList = annotationClient.getAnnotationsByDatasetId(datasetId, shape='polygon')"
   ]
  },
  {
   "cell_type": "code",
   "execution_count": 24,
   "metadata": {},
   "outputs": [
    {
     "name": "stdout",
     "output_type": "stream",
     "text": [
      "3\n",
      "19\n",
      "{'_id': '649b6f565d422edecab7fa26', 'access': {'groups': [], 'users': [{'flags': [], 'id': '62891fc02060d362984bc104', 'level': 2}]}, 'channel': 1, 'coordinates': [{'x': 258.03319195775197, 'y': 394.241097855824}, {'x': 257.08931742698894, 'y': 392.82528605967957}, {'x': 254.25769383469998, 'y': 389.2857565693183}, {'x': 253.07785067124624, 'y': 387.39800750779233}, {'x': 251.42607024241101, 'y': 386.45413297702936}, {'x': 250.0102584462665, 'y': 385.74622707895713}, {'x': 248.83041528281277, 'y': 384.8023525481941}, {'x': 246.9426662212868, 'y': 383.85847801743114}, {'x': 242.45926220016258, 'y': 383.38654075204965}, {'x': 240.80748177132733, 'y': 383.38654075204965}, {'x': 238.6837640771106, 'y': 384.3304152828126}, {'x': 237.50392091365688, 'y': 385.2742898135756}, {'x': 236.32407775020312, 'y': 385.9821957116479}, {'x': 234.90826595405863, 'y': 387.39800750779233}, {'x': 233.96439142329564, 'y': 388.81381930393684}, {'x': 233.49245415791415, 'y': 390.9375369981536}, {'x': 233.2564855252234, 'y': 392.3533487942981}, {'x': 233.02051689253267, 'y': 393.5331919577518}, {'x': 233.02051689253267, 'y': 395.65690965196853}, {'x': 233.49245415791415, 'y': 397.07272144811304}, {'x': 234.43632868867715, 'y': 399.66837640771126}, {'x': 234.90826595405863, 'y': 401.32015683654646}, {'x': 236.32407775020312, 'y': 402.2640313673095}, {'x': 237.73988954634763, 'y': 402.9719372653817}, {'x': 239.1557013424921, 'y': 403.4438745307632}, {'x': 241.75135630209033, 'y': 403.9158117961447}, {'x': 245.76282305783306, 'y': 404.3877490615262}, {'x': 247.65057211935903, 'y': 404.3877490615262}, {'x': 249.30235254819428, 'y': 404.62371769421696}, {'x': 251.42607024241101, 'y': 404.1517804288355}, {'x': 253.31381930393698, 'y': 403.20790589807245}, {'x': 254.49366246739072, 'y': 402.2640313673095}, {'x': 255.67350563084446, 'y': 401.0841882038557}, {'x': 257.79722332506117, 'y': 398.25256461156675}, {'x': 258.2691605904427, 'y': 395.65690965196853}], 'datasetId': '649b6efb5d422edecab7f9d8', 'location': {'Time': 0, 'XY': 0, 'Z': 0}, 'shape': 'polygon', 'tags': ['nucleus']}\n",
      "{'_id': '649b6f5f5d422edecab7fa2f', 'access': {'groups': [], 'users': [{'flags': [], 'id': '62891fc02060d362984bc104', 'level': 2}]}, 'channel': 0, 'coordinates': [{'x': 233.96439142329564, 'y': 378.6671680982347, 'z': 0}], 'datasetId': '649b6efb5d422edecab7f9d8', 'location': {'Time': 0, 'XY': 0, 'Z': 0}, 'shape': 'point', 'tags': ['point']}\n"
     ]
    }
   ],
   "source": [
    "print(len(blobAnnotationList))\n",
    "print(len(pointAnnotationList))\n",
    "print(blobAnnotationList[0])\n",
    "print(pointAnnotationList[0])"
   ]
  },
  {
   "attachments": {},
   "cell_type": "markdown",
   "metadata": {},
   "source": [
    "Now let's try to push a new annotation"
   ]
  },
  {
   "cell_type": "code",
   "execution_count": 31,
   "metadata": {},
   "outputs": [
    {
     "data": {
      "text/plain": [
       "{'_id': '649b773a5d422edecab7fba9',\n",
       " 'access': {'groups': [],\n",
       "  'users': [{'flags': [], 'id': '62891fc02060d362984bc104', 'level': 2}]},\n",
       " 'channel': 1,\n",
       " 'coordinates': [{'x': 10.0, 'y': 10.0},\n",
       "  {'x': 30.0, 'y': 10.0},\n",
       "  {'x': 30.0, 'y': 30.0},\n",
       "  {'x': 10.0, 'y': 30.0}],\n",
       " 'datasetId': '649b6efb5d422edecab7f9d8',\n",
       " 'location': {'Time': 0, 'XY': 0, 'Z': 0},\n",
       " 'shape': 'polygon',\n",
       " 'tags': ['newTag']}"
      ]
     },
     "execution_count": 31,
     "metadata": {},
     "output_type": "execute_result"
    }
   ],
   "source": [
    "# Make a small square at the top left of the image\n",
    "square_coords = [(10, 10),(30, 10),(30, 30),(10, 30)]\n",
    "\n",
    "newAnnotation = {\n",
    "    \"tags\": ['newTag'], # *** NEED TO UPDATE TO ADD A NEW TAG ****\n",
    "    \"shape\": \"polygon\",\n",
    "    \"channel\": blobAnnotationList[0]['channel'],\n",
    "    \"location\": blobAnnotationList[0]['location'],\n",
    "    \"datasetId\": blobAnnotationList[0]['datasetId'],\n",
    "    \"coordinates\": [{\"x\": float(coord[0]), \"y\": float(coord[1])} for coord in square_coords]\n",
    "}\n",
    "annotationClient.createAnnotation(newAnnotation)\n"
   ]
  },
  {
   "cell_type": "code",
   "execution_count": null,
   "metadata": {},
   "outputs": [],
   "source": []
  }
 ],
 "metadata": {
  "kernelspec": {
   "display_name": "Python 3",
   "language": "python",
   "name": "python3"
  },
  "language_info": {
   "codemirror_mode": {
    "name": "ipython",
    "version": 3
   },
   "file_extension": ".py",
   "mimetype": "text/x-python",
   "name": "python",
   "nbconvert_exporter": "python",
   "pygments_lexer": "ipython3",
   "version": "3.9.6"
  },
  "orig_nbformat": 4
 },
 "nbformat": 4,
 "nbformat_minor": 2
}
