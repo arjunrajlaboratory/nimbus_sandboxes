{
 "cells": [
  {
   "cell_type": "code",
   "execution_count": 1,
   "metadata": {},
   "outputs": [
    {
     "name": "stdout",
     "output_type": "stream",
     "text": [
      "Defaulting to user installation because normal site-packages is not writeable\n",
      "Requirement already satisfied: girder-client in /Users/arjunraj/Library/Python/3.9/lib/python/site-packages (from -r /Users/arjunraj/code/UPennContrast/devops/girder/annotation_client/requirements.txt (line 1)) (3.1.24)\n",
      "Requirement already satisfied: diskcache in /Users/arjunraj/Library/Python/3.9/lib/python/site-packages (from girder-client->-r /Users/arjunraj/code/UPennContrast/devops/girder/annotation_client/requirements.txt (line 1)) (5.6.3)\n",
      "Requirement already satisfied: requests-toolbelt in /Users/arjunraj/Library/Python/3.9/lib/python/site-packages (from girder-client->-r /Users/arjunraj/code/UPennContrast/devops/girder/annotation_client/requirements.txt (line 1)) (1.0.0)\n",
      "Requirement already satisfied: requests>=2.4.2 in /Users/arjunraj/Library/Python/3.9/lib/python/site-packages (from girder-client->-r /Users/arjunraj/code/UPennContrast/devops/girder/annotation_client/requirements.txt (line 1)) (2.31.0)\n",
      "Requirement already satisfied: click>=6.7 in /Users/arjunraj/Library/Python/3.9/lib/python/site-packages (from girder-client->-r /Users/arjunraj/code/UPennContrast/devops/girder/annotation_client/requirements.txt (line 1)) (8.1.7)\n",
      "Requirement already satisfied: charset-normalizer<4,>=2 in /Users/arjunraj/Library/Python/3.9/lib/python/site-packages (from requests>=2.4.2->girder-client->-r /Users/arjunraj/code/UPennContrast/devops/girder/annotation_client/requirements.txt (line 1)) (3.3.2)\n",
      "Requirement already satisfied: urllib3<3,>=1.21.1 in /Users/arjunraj/Library/Python/3.9/lib/python/site-packages (from requests>=2.4.2->girder-client->-r /Users/arjunraj/code/UPennContrast/devops/girder/annotation_client/requirements.txt (line 1)) (2.1.0)\n",
      "Requirement already satisfied: idna<4,>=2.5 in /Users/arjunraj/Library/Python/3.9/lib/python/site-packages (from requests>=2.4.2->girder-client->-r /Users/arjunraj/code/UPennContrast/devops/girder/annotation_client/requirements.txt (line 1)) (3.6)\n",
      "Requirement already satisfied: certifi>=2017.4.17 in /Users/arjunraj/Library/Python/3.9/lib/python/site-packages (from requests>=2.4.2->girder-client->-r /Users/arjunraj/code/UPennContrast/devops/girder/annotation_client/requirements.txt (line 1)) (2023.11.17)\n",
      "\u001b[33mWARNING: You are using pip version 21.2.4; however, version 23.3.1 is available.\n",
      "You should consider upgrading via the '/Applications/Xcode.app/Contents/Developer/usr/bin/python3 -m pip install --upgrade pip' command.\u001b[0m\n",
      "Note: you may need to restart the kernel to use updated packages.\n",
      "Defaulting to user installation because normal site-packages is not writeable\n",
      "Obtaining file:///Users/arjunraj/code/UPennContrast/devops/girder/annotation_client\n",
      "Installing collected packages: annotation-client\n",
      "  Attempting uninstall: annotation-client\n",
      "    Found existing installation: annotation-client 0.1\n",
      "    Uninstalling annotation-client-0.1:\n",
      "      Successfully uninstalled annotation-client-0.1\n",
      "  Running setup.py develop for annotation-client\n",
      "Successfully installed annotation-client-0.1\n",
      "\u001b[33mWARNING: You are using pip version 21.2.4; however, version 23.3.1 is available.\n",
      "You should consider upgrading via the '/Applications/Xcode.app/Contents/Developer/usr/bin/python3 -m pip install --upgrade pip' command.\u001b[0m\n",
      "Note: you may need to restart the kernel to use updated packages.\n",
      "Defaulting to user installation because normal site-packages is not writeable\n",
      "Requirement already satisfied: pandas in /Users/arjunraj/Library/Python/3.9/lib/python/site-packages (2.1.3)\n",
      "Requirement already satisfied: python-dateutil>=2.8.2 in /Users/arjunraj/Library/Python/3.9/lib/python/site-packages (from pandas) (2.8.2)\n",
      "Requirement already satisfied: numpy<2,>=1.22.4 in /Users/arjunraj/Library/Python/3.9/lib/python/site-packages (from pandas) (1.26.2)\n",
      "Requirement already satisfied: tzdata>=2022.1 in /Users/arjunraj/Library/Python/3.9/lib/python/site-packages (from pandas) (2023.3)\n",
      "Requirement already satisfied: pytz>=2020.1 in /Users/arjunraj/Library/Python/3.9/lib/python/site-packages (from pandas) (2023.3.post1)\n",
      "Requirement already satisfied: six>=1.5 in /Applications/Xcode.app/Contents/Developer/Library/Frameworks/Python3.framework/Versions/3.9/lib/python3.9/site-packages (from python-dateutil>=2.8.2->pandas) (1.15.0)\n",
      "\u001b[33mWARNING: You are using pip version 21.2.4; however, version 23.3.1 is available.\n",
      "You should consider upgrading via the '/Applications/Xcode.app/Contents/Developer/usr/bin/python3 -m pip install --upgrade pip' command.\u001b[0m\n",
      "Note: you may need to restart the kernel to use updated packages.\n",
      "Defaulting to user installation because normal site-packages is not writeable\n",
      "Requirement already satisfied: imageio in /Users/arjunraj/Library/Python/3.9/lib/python/site-packages (2.33.0)\n",
      "Requirement already satisfied: pillow>=8.3.2 in /Users/arjunraj/Library/Python/3.9/lib/python/site-packages (from imageio) (10.1.0)\n",
      "Requirement already satisfied: numpy in /Users/arjunraj/Library/Python/3.9/lib/python/site-packages (from imageio) (1.26.2)\n",
      "\u001b[33mWARNING: You are using pip version 21.2.4; however, version 23.3.1 is available.\n",
      "You should consider upgrading via the '/Applications/Xcode.app/Contents/Developer/usr/bin/python3 -m pip install --upgrade pip' command.\u001b[0m\n",
      "Note: you may need to restart the kernel to use updated packages.\n",
      "Defaulting to user installation because normal site-packages is not writeable\n",
      "Requirement already satisfied: rtree in /Users/arjunraj/Library/Python/3.9/lib/python/site-packages (1.1.0)\n",
      "\u001b[33mWARNING: You are using pip version 21.2.4; however, version 23.3.1 is available.\n",
      "You should consider upgrading via the '/Applications/Xcode.app/Contents/Developer/usr/bin/python3 -m pip install --upgrade pip' command.\u001b[0m\n",
      "Note: you may need to restart the kernel to use updated packages.\n",
      "Defaulting to user installation because normal site-packages is not writeable\n",
      "Requirement already satisfied: scikit-image in /Users/arjunraj/Library/Python/3.9/lib/python/site-packages (0.22.0)\n",
      "Requirement already satisfied: lazy_loader>=0.3 in /Users/arjunraj/Library/Python/3.9/lib/python/site-packages (from scikit-image) (0.3)\n",
      "Requirement already satisfied: networkx>=2.8 in /Users/arjunraj/Library/Python/3.9/lib/python/site-packages (from scikit-image) (3.2.1)\n",
      "Requirement already satisfied: tifffile>=2022.8.12 in /Users/arjunraj/Library/Python/3.9/lib/python/site-packages (from scikit-image) (2023.9.26)\n",
      "Requirement already satisfied: numpy>=1.22 in /Users/arjunraj/Library/Python/3.9/lib/python/site-packages (from scikit-image) (1.26.2)\n",
      "Requirement already satisfied: pillow>=9.0.1 in /Users/arjunraj/Library/Python/3.9/lib/python/site-packages (from scikit-image) (10.1.0)\n",
      "Requirement already satisfied: scipy>=1.8 in /Users/arjunraj/Library/Python/3.9/lib/python/site-packages (from scikit-image) (1.11.4)\n",
      "Requirement already satisfied: packaging>=21 in /Users/arjunraj/Library/Python/3.9/lib/python/site-packages (from scikit-image) (23.2)\n",
      "Requirement already satisfied: imageio>=2.27 in /Users/arjunraj/Library/Python/3.9/lib/python/site-packages (from scikit-image) (2.33.0)\n",
      "\u001b[33mWARNING: You are using pip version 21.2.4; however, version 23.3.1 is available.\n",
      "You should consider upgrading via the '/Applications/Xcode.app/Contents/Developer/usr/bin/python3 -m pip install --upgrade pip' command.\u001b[0m\n",
      "Note: you may need to restart the kernel to use updated packages.\n",
      "Defaulting to user installation because normal site-packages is not writeable\n",
      "Requirement already satisfied: shapely in /Users/arjunraj/Library/Python/3.9/lib/python/site-packages (2.0.2)\n",
      "Requirement already satisfied: numpy>=1.14 in /Users/arjunraj/Library/Python/3.9/lib/python/site-packages (from shapely) (1.26.2)\n",
      "\u001b[33mWARNING: You are using pip version 21.2.4; however, version 23.3.1 is available.\n",
      "You should consider upgrading via the '/Applications/Xcode.app/Contents/Developer/usr/bin/python3 -m pip install --upgrade pip' command.\u001b[0m\n",
      "Note: you may need to restart the kernel to use updated packages.\n",
      "Defaulting to user installation because normal site-packages is not writeable\n",
      "Requirement already satisfied: nd2reader in /Users/arjunraj/Library/Python/3.9/lib/python/site-packages (3.3.0)\n",
      "Requirement already satisfied: xmltodict>=0.9.2 in /Users/arjunraj/Library/Python/3.9/lib/python/site-packages (from nd2reader) (0.13.0)\n",
      "Requirement already satisfied: pims>=0.3.0 in /Users/arjunraj/Library/Python/3.9/lib/python/site-packages (from nd2reader) (0.6.1)\n",
      "Requirement already satisfied: six>=1.4 in /Applications/Xcode.app/Contents/Developer/Library/Frameworks/Python3.framework/Versions/3.9/lib/python3.9/site-packages (from nd2reader) (1.15.0)\n",
      "Requirement already satisfied: numpy>=1.14 in /Users/arjunraj/Library/Python/3.9/lib/python/site-packages (from nd2reader) (1.26.2)\n",
      "Requirement already satisfied: slicerator>=0.9.8 in /Users/arjunraj/Library/Python/3.9/lib/python/site-packages (from pims>=0.3.0->nd2reader) (1.1.0)\n",
      "Requirement already satisfied: imageio in /Users/arjunraj/Library/Python/3.9/lib/python/site-packages (from pims>=0.3.0->nd2reader) (2.33.0)\n",
      "Requirement already satisfied: pillow>=8.3.2 in /Users/arjunraj/Library/Python/3.9/lib/python/site-packages (from imageio->pims>=0.3.0->nd2reader) (10.1.0)\n",
      "\u001b[33mWARNING: You are using pip version 21.2.4; however, version 23.3.1 is available.\n",
      "You should consider upgrading via the '/Applications/Xcode.app/Contents/Developer/usr/bin/python3 -m pip install --upgrade pip' command.\u001b[0m\n",
      "Note: you may need to restart the kernel to use updated packages.\n"
     ]
    }
   ],
   "source": [
    "%pip install -r ~/code/UPennContrast/devops/girder/annotation_client/requirements.txt\n",
    "%pip install -e ~/code/UPennContrast/devops/girder/annotation_client/\n",
    "%pip install pandas\n",
    "%pip install imageio\n",
    "%pip install rtree\n",
    "%pip install scikit-image\n",
    "%pip install shapely\n",
    "%pip install nd2reader"
   ]
  },
  {
   "cell_type": "code",
   "execution_count": 2,
   "metadata": {},
   "outputs": [
    {
     "name": "stderr",
     "output_type": "stream",
     "text": [
      "/Users/arjunraj/Library/Python/3.9/lib/python/site-packages/urllib3/__init__.py:34: NotOpenSSLWarning: urllib3 v2 only supports OpenSSL 1.1.1+, currently the 'ssl' module is compiled with 'LibreSSL 2.8.3'. See: https://github.com/urllib3/urllib3/issues/3020\n",
      "  warnings.warn(\n"
     ]
    }
   ],
   "source": [
    "import girder_client\n",
    "import annotation_client.annotations as annotations\n",
    "import annotation_client.tiles as tiles\n",
    "import pandas as pd\n",
    "import annotation_tools\n",
    "#import imageio\n",
    "from shapely.geometry import Point, Polygon, LineString\n",
    "#pd.set_option('display.max_colwidth', None)\n",
    "import numpy as np\n",
    "import math"
   ]
  },
  {
   "cell_type": "code",
   "execution_count": 3,
   "metadata": {},
   "outputs": [],
   "source": [
    "apiUrl = 'http://localhost:8080/api/v1'\n",
    "username = 'admin'\n",
    "password = 'password'"
   ]
  },
  {
   "cell_type": "code",
   "execution_count": 4,
   "metadata": {},
   "outputs": [],
   "source": [
    "client = girder_client.GirderClient(apiUrl=apiUrl)\n",
    "user_id = client.authenticate(username=username, password=password)['_id']\n",
    "annotationClient = annotations.UPennContrastAnnotationClient(apiUrl=apiUrl, token=client.token)"
   ]
  },
  {
   "cell_type": "code",
   "execution_count": 5,
   "metadata": {},
   "outputs": [
    {
     "data": {
      "text/html": [
       "<div>\n",
       "<style scoped>\n",
       "    .dataframe tbody tr th:only-of-type {\n",
       "        vertical-align: middle;\n",
       "    }\n",
       "\n",
       "    .dataframe tbody tr th {\n",
       "        vertical-align: top;\n",
       "    }\n",
       "\n",
       "    .dataframe thead th {\n",
       "        text-align: right;\n",
       "    }\n",
       "</style>\n",
       "<table border=\"1\" class=\"dataframe\">\n",
       "  <thead>\n",
       "    <tr style=\"text-align: right;\">\n",
       "      <th></th>\n",
       "      <th>Dataset Name</th>\n",
       "    </tr>\n",
       "  </thead>\n",
       "  <tbody>\n",
       "    <tr>\n",
       "      <th>0</th>\n",
       "      <td>DDX58_AXL_EGFR_well2</td>\n",
       "    </tr>\n",
       "    <tr>\n",
       "      <th>1</th>\n",
       "      <td>GGTEST</td>\n",
       "    </tr>\n",
       "    <tr>\n",
       "      <th>2</th>\n",
       "      <td>normmedia_8well_col2_livecellgfp</td>\n",
       "    </tr>\n",
       "  </tbody>\n",
       "</table>\n",
       "</div>"
      ],
      "text/plain": [
       "                       Dataset Name\n",
       "0              DDX58_AXL_EGFR_well2\n",
       "1                            GGTEST\n",
       "2  normmedia_8well_col2_livecellgfp"
      ]
     },
     "execution_count": 5,
     "metadata": {},
     "output_type": "execute_result"
    }
   ],
   "source": [
    "datasets = dict()\n",
    "for folder in annotationClient.client.listFolder(user_id,'user'):\n",
    "    for dataset in annotationClient.client.listFolder(folder['_id']):\n",
    "        datasets[dataset['name']] = dataset['_id']\n",
    "\n",
    "pd.DataFrame(datasets.keys(),columns=['Dataset Name'])"
   ]
  },
  {
   "cell_type": "code",
   "execution_count": 6,
   "metadata": {},
   "outputs": [],
   "source": [
    "dataset_name = 'normmedia_8well_col2_livecellgfp'"
   ]
  },
  {
   "cell_type": "code",
   "execution_count": 7,
   "metadata": {},
   "outputs": [
    {
     "name": "stdout",
     "output_type": "stream",
     "text": [
      "{'IndexRange': {'IndexC': 2, 'IndexT': 4, 'IndexXY': 6, 'IndexZ': 7}, 'IndexStride': {'IndexC': 1, 'IndexT': 14, 'IndexXY': 56, 'IndexZ': 2}, 'bandCount': 1, 'channelmap': {'Brightfield': 0, 'YFP': 1}, 'channels': ['Brightfield', 'YFP'], 'dtype': 'uint16', 'frames': [{'Channel': 'Brightfield', 'Frame': 0, 'Index': 0, 'IndexC': 0, 'IndexT': 0, 'IndexXY': 0, 'IndexZ': 0}, {'Channel': 'YFP', 'Frame': 1, 'Index': 0, 'IndexC': 1, 'IndexT': 0, 'IndexXY': 0, 'IndexZ': 0}, {'Channel': 'Brightfield', 'Frame': 2, 'Index': 1, 'IndexC': 0, 'IndexT': 0, 'IndexXY': 0, 'IndexZ': 1}, {'Channel': 'YFP', 'Frame': 3, 'Index': 1, 'IndexC': 1, 'IndexT': 0, 'IndexXY': 0, 'IndexZ': 1}, {'Channel': 'Brightfield', 'Frame': 4, 'Index': 2, 'IndexC': 0, 'IndexT': 0, 'IndexXY': 0, 'IndexZ': 2}, {'Channel': 'YFP', 'Frame': 5, 'Index': 2, 'IndexC': 1, 'IndexT': 0, 'IndexXY': 0, 'IndexZ': 2}, {'Channel': 'Brightfield', 'Frame': 6, 'Index': 3, 'IndexC': 0, 'IndexT': 0, 'IndexXY': 0, 'IndexZ': 3}, {'Channel': 'YFP', 'Frame': 7, 'Index': 3, 'IndexC': 1, 'IndexT': 0, 'IndexXY': 0, 'IndexZ': 3}, {'Channel': 'Brightfield', 'Frame': 8, 'Index': 4, 'IndexC': 0, 'IndexT': 0, 'IndexXY': 0, 'IndexZ': 4}, {'Channel': 'YFP', 'Frame': 9, 'Index': 4, 'IndexC': 1, 'IndexT': 0, 'IndexXY': 0, 'IndexZ': 4}, {'Channel': 'Brightfield', 'Frame': 10, 'Index': 5, 'IndexC': 0, 'IndexT': 0, 'IndexXY': 0, 'IndexZ': 5}, {'Channel': 'YFP', 'Frame': 11, 'Index': 5, 'IndexC': 1, 'IndexT': 0, 'IndexXY': 0, 'IndexZ': 5}, {'Channel': 'Brightfield', 'Frame': 12, 'Index': 6, 'IndexC': 0, 'IndexT': 0, 'IndexXY': 0, 'IndexZ': 6}, {'Channel': 'YFP', 'Frame': 13, 'Index': 6, 'IndexC': 1, 'IndexT': 0, 'IndexXY': 0, 'IndexZ': 6}, {'Channel': 'Brightfield', 'Frame': 14, 'Index': 7, 'IndexC': 0, 'IndexT': 1, 'IndexXY': 0, 'IndexZ': 0}, {'Channel': 'YFP', 'Frame': 15, 'Index': 7, 'IndexC': 1, 'IndexT': 1, 'IndexXY': 0, 'IndexZ': 0}, {'Channel': 'Brightfield', 'Frame': 16, 'Index': 8, 'IndexC': 0, 'IndexT': 1, 'IndexXY': 0, 'IndexZ': 1}, {'Channel': 'YFP', 'Frame': 17, 'Index': 8, 'IndexC': 1, 'IndexT': 1, 'IndexXY': 0, 'IndexZ': 1}, {'Channel': 'Brightfield', 'Frame': 18, 'Index': 9, 'IndexC': 0, 'IndexT': 1, 'IndexXY': 0, 'IndexZ': 2}, {'Channel': 'YFP', 'Frame': 19, 'Index': 9, 'IndexC': 1, 'IndexT': 1, 'IndexXY': 0, 'IndexZ': 2}, {'Channel': 'Brightfield', 'Frame': 20, 'Index': 10, 'IndexC': 0, 'IndexT': 1, 'IndexXY': 0, 'IndexZ': 3}, {'Channel': 'YFP', 'Frame': 21, 'Index': 10, 'IndexC': 1, 'IndexT': 1, 'IndexXY': 0, 'IndexZ': 3}, {'Channel': 'Brightfield', 'Frame': 22, 'Index': 11, 'IndexC': 0, 'IndexT': 1, 'IndexXY': 0, 'IndexZ': 4}, {'Channel': 'YFP', 'Frame': 23, 'Index': 11, 'IndexC': 1, 'IndexT': 1, 'IndexXY': 0, 'IndexZ': 4}, {'Channel': 'Brightfield', 'Frame': 24, 'Index': 12, 'IndexC': 0, 'IndexT': 1, 'IndexXY': 0, 'IndexZ': 5}, {'Channel': 'YFP', 'Frame': 25, 'Index': 12, 'IndexC': 1, 'IndexT': 1, 'IndexXY': 0, 'IndexZ': 5}, {'Channel': 'Brightfield', 'Frame': 26, 'Index': 13, 'IndexC': 0, 'IndexT': 1, 'IndexXY': 0, 'IndexZ': 6}, {'Channel': 'YFP', 'Frame': 27, 'Index': 13, 'IndexC': 1, 'IndexT': 1, 'IndexXY': 0, 'IndexZ': 6}, {'Channel': 'Brightfield', 'Frame': 28, 'Index': 14, 'IndexC': 0, 'IndexT': 2, 'IndexXY': 0, 'IndexZ': 0}, {'Channel': 'YFP', 'Frame': 29, 'Index': 14, 'IndexC': 1, 'IndexT': 2, 'IndexXY': 0, 'IndexZ': 0}, {'Channel': 'Brightfield', 'Frame': 30, 'Index': 15, 'IndexC': 0, 'IndexT': 2, 'IndexXY': 0, 'IndexZ': 1}, {'Channel': 'YFP', 'Frame': 31, 'Index': 15, 'IndexC': 1, 'IndexT': 2, 'IndexXY': 0, 'IndexZ': 1}, {'Channel': 'Brightfield', 'Frame': 32, 'Index': 16, 'IndexC': 0, 'IndexT': 2, 'IndexXY': 0, 'IndexZ': 2}, {'Channel': 'YFP', 'Frame': 33, 'Index': 16, 'IndexC': 1, 'IndexT': 2, 'IndexXY': 0, 'IndexZ': 2}, {'Channel': 'Brightfield', 'Frame': 34, 'Index': 17, 'IndexC': 0, 'IndexT': 2, 'IndexXY': 0, 'IndexZ': 3}, {'Channel': 'YFP', 'Frame': 35, 'Index': 17, 'IndexC': 1, 'IndexT': 2, 'IndexXY': 0, 'IndexZ': 3}, {'Channel': 'Brightfield', 'Frame': 36, 'Index': 18, 'IndexC': 0, 'IndexT': 2, 'IndexXY': 0, 'IndexZ': 4}, {'Channel': 'YFP', 'Frame': 37, 'Index': 18, 'IndexC': 1, 'IndexT': 2, 'IndexXY': 0, 'IndexZ': 4}, {'Channel': 'Brightfield', 'Frame': 38, 'Index': 19, 'IndexC': 0, 'IndexT': 2, 'IndexXY': 0, 'IndexZ': 5}, {'Channel': 'YFP', 'Frame': 39, 'Index': 19, 'IndexC': 1, 'IndexT': 2, 'IndexXY': 0, 'IndexZ': 5}, {'Channel': 'Brightfield', 'Frame': 40, 'Index': 20, 'IndexC': 0, 'IndexT': 2, 'IndexXY': 0, 'IndexZ': 6}, {'Channel': 'YFP', 'Frame': 41, 'Index': 20, 'IndexC': 1, 'IndexT': 2, 'IndexXY': 0, 'IndexZ': 6}, {'Channel': 'Brightfield', 'Frame': 42, 'Index': 21, 'IndexC': 0, 'IndexT': 3, 'IndexXY': 0, 'IndexZ': 0}, {'Channel': 'YFP', 'Frame': 43, 'Index': 21, 'IndexC': 1, 'IndexT': 3, 'IndexXY': 0, 'IndexZ': 0}, {'Channel': 'Brightfield', 'Frame': 44, 'Index': 22, 'IndexC': 0, 'IndexT': 3, 'IndexXY': 0, 'IndexZ': 1}, {'Channel': 'YFP', 'Frame': 45, 'Index': 22, 'IndexC': 1, 'IndexT': 3, 'IndexXY': 0, 'IndexZ': 1}, {'Channel': 'Brightfield', 'Frame': 46, 'Index': 23, 'IndexC': 0, 'IndexT': 3, 'IndexXY': 0, 'IndexZ': 2}, {'Channel': 'YFP', 'Frame': 47, 'Index': 23, 'IndexC': 1, 'IndexT': 3, 'IndexXY': 0, 'IndexZ': 2}, {'Channel': 'Brightfield', 'Frame': 48, 'Index': 24, 'IndexC': 0, 'IndexT': 3, 'IndexXY': 0, 'IndexZ': 3}, {'Channel': 'YFP', 'Frame': 49, 'Index': 24, 'IndexC': 1, 'IndexT': 3, 'IndexXY': 0, 'IndexZ': 3}, {'Channel': 'Brightfield', 'Frame': 50, 'Index': 25, 'IndexC': 0, 'IndexT': 3, 'IndexXY': 0, 'IndexZ': 4}, {'Channel': 'YFP', 'Frame': 51, 'Index': 25, 'IndexC': 1, 'IndexT': 3, 'IndexXY': 0, 'IndexZ': 4}, {'Channel': 'Brightfield', 'Frame': 52, 'Index': 26, 'IndexC': 0, 'IndexT': 3, 'IndexXY': 0, 'IndexZ': 5}, {'Channel': 'YFP', 'Frame': 53, 'Index': 26, 'IndexC': 1, 'IndexT': 3, 'IndexXY': 0, 'IndexZ': 5}, {'Channel': 'Brightfield', 'Frame': 54, 'Index': 27, 'IndexC': 0, 'IndexT': 3, 'IndexXY': 0, 'IndexZ': 6}, {'Channel': 'YFP', 'Frame': 55, 'Index': 27, 'IndexC': 1, 'IndexT': 3, 'IndexXY': 0, 'IndexZ': 6}, {'Channel': 'Brightfield', 'Frame': 56, 'Index': 28, 'IndexC': 0, 'IndexT': 0, 'IndexXY': 1, 'IndexZ': 0}, {'Channel': 'YFP', 'Frame': 57, 'Index': 28, 'IndexC': 1, 'IndexT': 0, 'IndexXY': 1, 'IndexZ': 0}, {'Channel': 'Brightfield', 'Frame': 58, 'Index': 29, 'IndexC': 0, 'IndexT': 0, 'IndexXY': 1, 'IndexZ': 1}, {'Channel': 'YFP', 'Frame': 59, 'Index': 29, 'IndexC': 1, 'IndexT': 0, 'IndexXY': 1, 'IndexZ': 1}, {'Channel': 'Brightfield', 'Frame': 60, 'Index': 30, 'IndexC': 0, 'IndexT': 0, 'IndexXY': 1, 'IndexZ': 2}, {'Channel': 'YFP', 'Frame': 61, 'Index': 30, 'IndexC': 1, 'IndexT': 0, 'IndexXY': 1, 'IndexZ': 2}, {'Channel': 'Brightfield', 'Frame': 62, 'Index': 31, 'IndexC': 0, 'IndexT': 0, 'IndexXY': 1, 'IndexZ': 3}, {'Channel': 'YFP', 'Frame': 63, 'Index': 31, 'IndexC': 1, 'IndexT': 0, 'IndexXY': 1, 'IndexZ': 3}, {'Channel': 'Brightfield', 'Frame': 64, 'Index': 32, 'IndexC': 0, 'IndexT': 0, 'IndexXY': 1, 'IndexZ': 4}, {'Channel': 'YFP', 'Frame': 65, 'Index': 32, 'IndexC': 1, 'IndexT': 0, 'IndexXY': 1, 'IndexZ': 4}, {'Channel': 'Brightfield', 'Frame': 66, 'Index': 33, 'IndexC': 0, 'IndexT': 0, 'IndexXY': 1, 'IndexZ': 5}, {'Channel': 'YFP', 'Frame': 67, 'Index': 33, 'IndexC': 1, 'IndexT': 0, 'IndexXY': 1, 'IndexZ': 5}, {'Channel': 'Brightfield', 'Frame': 68, 'Index': 34, 'IndexC': 0, 'IndexT': 0, 'IndexXY': 1, 'IndexZ': 6}, {'Channel': 'YFP', 'Frame': 69, 'Index': 34, 'IndexC': 1, 'IndexT': 0, 'IndexXY': 1, 'IndexZ': 6}, {'Channel': 'Brightfield', 'Frame': 70, 'Index': 35, 'IndexC': 0, 'IndexT': 1, 'IndexXY': 1, 'IndexZ': 0}, {'Channel': 'YFP', 'Frame': 71, 'Index': 35, 'IndexC': 1, 'IndexT': 1, 'IndexXY': 1, 'IndexZ': 0}, {'Channel': 'Brightfield', 'Frame': 72, 'Index': 36, 'IndexC': 0, 'IndexT': 1, 'IndexXY': 1, 'IndexZ': 1}, {'Channel': 'YFP', 'Frame': 73, 'Index': 36, 'IndexC': 1, 'IndexT': 1, 'IndexXY': 1, 'IndexZ': 1}, {'Channel': 'Brightfield', 'Frame': 74, 'Index': 37, 'IndexC': 0, 'IndexT': 1, 'IndexXY': 1, 'IndexZ': 2}, {'Channel': 'YFP', 'Frame': 75, 'Index': 37, 'IndexC': 1, 'IndexT': 1, 'IndexXY': 1, 'IndexZ': 2}, {'Channel': 'Brightfield', 'Frame': 76, 'Index': 38, 'IndexC': 0, 'IndexT': 1, 'IndexXY': 1, 'IndexZ': 3}, {'Channel': 'YFP', 'Frame': 77, 'Index': 38, 'IndexC': 1, 'IndexT': 1, 'IndexXY': 1, 'IndexZ': 3}, {'Channel': 'Brightfield', 'Frame': 78, 'Index': 39, 'IndexC': 0, 'IndexT': 1, 'IndexXY': 1, 'IndexZ': 4}, {'Channel': 'YFP', 'Frame': 79, 'Index': 39, 'IndexC': 1, 'IndexT': 1, 'IndexXY': 1, 'IndexZ': 4}, {'Channel': 'Brightfield', 'Frame': 80, 'Index': 40, 'IndexC': 0, 'IndexT': 1, 'IndexXY': 1, 'IndexZ': 5}, {'Channel': 'YFP', 'Frame': 81, 'Index': 40, 'IndexC': 1, 'IndexT': 1, 'IndexXY': 1, 'IndexZ': 5}, {'Channel': 'Brightfield', 'Frame': 82, 'Index': 41, 'IndexC': 0, 'IndexT': 1, 'IndexXY': 1, 'IndexZ': 6}, {'Channel': 'YFP', 'Frame': 83, 'Index': 41, 'IndexC': 1, 'IndexT': 1, 'IndexXY': 1, 'IndexZ': 6}, {'Channel': 'Brightfield', 'Frame': 84, 'Index': 42, 'IndexC': 0, 'IndexT': 2, 'IndexXY': 1, 'IndexZ': 0}, {'Channel': 'YFP', 'Frame': 85, 'Index': 42, 'IndexC': 1, 'IndexT': 2, 'IndexXY': 1, 'IndexZ': 0}, {'Channel': 'Brightfield', 'Frame': 86, 'Index': 43, 'IndexC': 0, 'IndexT': 2, 'IndexXY': 1, 'IndexZ': 1}, {'Channel': 'YFP', 'Frame': 87, 'Index': 43, 'IndexC': 1, 'IndexT': 2, 'IndexXY': 1, 'IndexZ': 1}, {'Channel': 'Brightfield', 'Frame': 88, 'Index': 44, 'IndexC': 0, 'IndexT': 2, 'IndexXY': 1, 'IndexZ': 2}, {'Channel': 'YFP', 'Frame': 89, 'Index': 44, 'IndexC': 1, 'IndexT': 2, 'IndexXY': 1, 'IndexZ': 2}, {'Channel': 'Brightfield', 'Frame': 90, 'Index': 45, 'IndexC': 0, 'IndexT': 2, 'IndexXY': 1, 'IndexZ': 3}, {'Channel': 'YFP', 'Frame': 91, 'Index': 45, 'IndexC': 1, 'IndexT': 2, 'IndexXY': 1, 'IndexZ': 3}, {'Channel': 'Brightfield', 'Frame': 92, 'Index': 46, 'IndexC': 0, 'IndexT': 2, 'IndexXY': 1, 'IndexZ': 4}, {'Channel': 'YFP', 'Frame': 93, 'Index': 46, 'IndexC': 1, 'IndexT': 2, 'IndexXY': 1, 'IndexZ': 4}, {'Channel': 'Brightfield', 'Frame': 94, 'Index': 47, 'IndexC': 0, 'IndexT': 2, 'IndexXY': 1, 'IndexZ': 5}, {'Channel': 'YFP', 'Frame': 95, 'Index': 47, 'IndexC': 1, 'IndexT': 2, 'IndexXY': 1, 'IndexZ': 5}, {'Channel': 'Brightfield', 'Frame': 96, 'Index': 48, 'IndexC': 0, 'IndexT': 2, 'IndexXY': 1, 'IndexZ': 6}, {'Channel': 'YFP', 'Frame': 97, 'Index': 48, 'IndexC': 1, 'IndexT': 2, 'IndexXY': 1, 'IndexZ': 6}, {'Channel': 'Brightfield', 'Frame': 98, 'Index': 49, 'IndexC': 0, 'IndexT': 3, 'IndexXY': 1, 'IndexZ': 0}, {'Channel': 'YFP', 'Frame': 99, 'Index': 49, 'IndexC': 1, 'IndexT': 3, 'IndexXY': 1, 'IndexZ': 0}, {'Channel': 'Brightfield', 'Frame': 100, 'Index': 50, 'IndexC': 0, 'IndexT': 3, 'IndexXY': 1, 'IndexZ': 1}, {'Channel': 'YFP', 'Frame': 101, 'Index': 50, 'IndexC': 1, 'IndexT': 3, 'IndexXY': 1, 'IndexZ': 1}, {'Channel': 'Brightfield', 'Frame': 102, 'Index': 51, 'IndexC': 0, 'IndexT': 3, 'IndexXY': 1, 'IndexZ': 2}, {'Channel': 'YFP', 'Frame': 103, 'Index': 51, 'IndexC': 1, 'IndexT': 3, 'IndexXY': 1, 'IndexZ': 2}, {'Channel': 'Brightfield', 'Frame': 104, 'Index': 52, 'IndexC': 0, 'IndexT': 3, 'IndexXY': 1, 'IndexZ': 3}, {'Channel': 'YFP', 'Frame': 105, 'Index': 52, 'IndexC': 1, 'IndexT': 3, 'IndexXY': 1, 'IndexZ': 3}, {'Channel': 'Brightfield', 'Frame': 106, 'Index': 53, 'IndexC': 0, 'IndexT': 3, 'IndexXY': 1, 'IndexZ': 4}, {'Channel': 'YFP', 'Frame': 107, 'Index': 53, 'IndexC': 1, 'IndexT': 3, 'IndexXY': 1, 'IndexZ': 4}, {'Channel': 'Brightfield', 'Frame': 108, 'Index': 54, 'IndexC': 0, 'IndexT': 3, 'IndexXY': 1, 'IndexZ': 5}, {'Channel': 'YFP', 'Frame': 109, 'Index': 54, 'IndexC': 1, 'IndexT': 3, 'IndexXY': 1, 'IndexZ': 5}, {'Channel': 'Brightfield', 'Frame': 110, 'Index': 55, 'IndexC': 0, 'IndexT': 3, 'IndexXY': 1, 'IndexZ': 6}, {'Channel': 'YFP', 'Frame': 111, 'Index': 55, 'IndexC': 1, 'IndexT': 3, 'IndexXY': 1, 'IndexZ': 6}, {'Channel': 'Brightfield', 'Frame': 112, 'Index': 56, 'IndexC': 0, 'IndexT': 0, 'IndexXY': 2, 'IndexZ': 0}, {'Channel': 'YFP', 'Frame': 113, 'Index': 56, 'IndexC': 1, 'IndexT': 0, 'IndexXY': 2, 'IndexZ': 0}, {'Channel': 'Brightfield', 'Frame': 114, 'Index': 57, 'IndexC': 0, 'IndexT': 0, 'IndexXY': 2, 'IndexZ': 1}, {'Channel': 'YFP', 'Frame': 115, 'Index': 57, 'IndexC': 1, 'IndexT': 0, 'IndexXY': 2, 'IndexZ': 1}, {'Channel': 'Brightfield', 'Frame': 116, 'Index': 58, 'IndexC': 0, 'IndexT': 0, 'IndexXY': 2, 'IndexZ': 2}, {'Channel': 'YFP', 'Frame': 117, 'Index': 58, 'IndexC': 1, 'IndexT': 0, 'IndexXY': 2, 'IndexZ': 2}, {'Channel': 'Brightfield', 'Frame': 118, 'Index': 59, 'IndexC': 0, 'IndexT': 0, 'IndexXY': 2, 'IndexZ': 3}, {'Channel': 'YFP', 'Frame': 119, 'Index': 59, 'IndexC': 1, 'IndexT': 0, 'IndexXY': 2, 'IndexZ': 3}, {'Channel': 'Brightfield', 'Frame': 120, 'Index': 60, 'IndexC': 0, 'IndexT': 0, 'IndexXY': 2, 'IndexZ': 4}, {'Channel': 'YFP', 'Frame': 121, 'Index': 60, 'IndexC': 1, 'IndexT': 0, 'IndexXY': 2, 'IndexZ': 4}, {'Channel': 'Brightfield', 'Frame': 122, 'Index': 61, 'IndexC': 0, 'IndexT': 0, 'IndexXY': 2, 'IndexZ': 5}, {'Channel': 'YFP', 'Frame': 123, 'Index': 61, 'IndexC': 1, 'IndexT': 0, 'IndexXY': 2, 'IndexZ': 5}, {'Channel': 'Brightfield', 'Frame': 124, 'Index': 62, 'IndexC': 0, 'IndexT': 0, 'IndexXY': 2, 'IndexZ': 6}, {'Channel': 'YFP', 'Frame': 125, 'Index': 62, 'IndexC': 1, 'IndexT': 0, 'IndexXY': 2, 'IndexZ': 6}, {'Channel': 'Brightfield', 'Frame': 126, 'Index': 63, 'IndexC': 0, 'IndexT': 1, 'IndexXY': 2, 'IndexZ': 0}, {'Channel': 'YFP', 'Frame': 127, 'Index': 63, 'IndexC': 1, 'IndexT': 1, 'IndexXY': 2, 'IndexZ': 0}, {'Channel': 'Brightfield', 'Frame': 128, 'Index': 64, 'IndexC': 0, 'IndexT': 1, 'IndexXY': 2, 'IndexZ': 1}, {'Channel': 'YFP', 'Frame': 129, 'Index': 64, 'IndexC': 1, 'IndexT': 1, 'IndexXY': 2, 'IndexZ': 1}, {'Channel': 'Brightfield', 'Frame': 130, 'Index': 65, 'IndexC': 0, 'IndexT': 1, 'IndexXY': 2, 'IndexZ': 2}, {'Channel': 'YFP', 'Frame': 131, 'Index': 65, 'IndexC': 1, 'IndexT': 1, 'IndexXY': 2, 'IndexZ': 2}, {'Channel': 'Brightfield', 'Frame': 132, 'Index': 66, 'IndexC': 0, 'IndexT': 1, 'IndexXY': 2, 'IndexZ': 3}, {'Channel': 'YFP', 'Frame': 133, 'Index': 66, 'IndexC': 1, 'IndexT': 1, 'IndexXY': 2, 'IndexZ': 3}, {'Channel': 'Brightfield', 'Frame': 134, 'Index': 67, 'IndexC': 0, 'IndexT': 1, 'IndexXY': 2, 'IndexZ': 4}, {'Channel': 'YFP', 'Frame': 135, 'Index': 67, 'IndexC': 1, 'IndexT': 1, 'IndexXY': 2, 'IndexZ': 4}, {'Channel': 'Brightfield', 'Frame': 136, 'Index': 68, 'IndexC': 0, 'IndexT': 1, 'IndexXY': 2, 'IndexZ': 5}, {'Channel': 'YFP', 'Frame': 137, 'Index': 68, 'IndexC': 1, 'IndexT': 1, 'IndexXY': 2, 'IndexZ': 5}, {'Channel': 'Brightfield', 'Frame': 138, 'Index': 69, 'IndexC': 0, 'IndexT': 1, 'IndexXY': 2, 'IndexZ': 6}, {'Channel': 'YFP', 'Frame': 139, 'Index': 69, 'IndexC': 1, 'IndexT': 1, 'IndexXY': 2, 'IndexZ': 6}, {'Channel': 'Brightfield', 'Frame': 140, 'Index': 70, 'IndexC': 0, 'IndexT': 2, 'IndexXY': 2, 'IndexZ': 0}, {'Channel': 'YFP', 'Frame': 141, 'Index': 70, 'IndexC': 1, 'IndexT': 2, 'IndexXY': 2, 'IndexZ': 0}, {'Channel': 'Brightfield', 'Frame': 142, 'Index': 71, 'IndexC': 0, 'IndexT': 2, 'IndexXY': 2, 'IndexZ': 1}, {'Channel': 'YFP', 'Frame': 143, 'Index': 71, 'IndexC': 1, 'IndexT': 2, 'IndexXY': 2, 'IndexZ': 1}, {'Channel': 'Brightfield', 'Frame': 144, 'Index': 72, 'IndexC': 0, 'IndexT': 2, 'IndexXY': 2, 'IndexZ': 2}, {'Channel': 'YFP', 'Frame': 145, 'Index': 72, 'IndexC': 1, 'IndexT': 2, 'IndexXY': 2, 'IndexZ': 2}, {'Channel': 'Brightfield', 'Frame': 146, 'Index': 73, 'IndexC': 0, 'IndexT': 2, 'IndexXY': 2, 'IndexZ': 3}, {'Channel': 'YFP', 'Frame': 147, 'Index': 73, 'IndexC': 1, 'IndexT': 2, 'IndexXY': 2, 'IndexZ': 3}, {'Channel': 'Brightfield', 'Frame': 148, 'Index': 74, 'IndexC': 0, 'IndexT': 2, 'IndexXY': 2, 'IndexZ': 4}, {'Channel': 'YFP', 'Frame': 149, 'Index': 74, 'IndexC': 1, 'IndexT': 2, 'IndexXY': 2, 'IndexZ': 4}, {'Channel': 'Brightfield', 'Frame': 150, 'Index': 75, 'IndexC': 0, 'IndexT': 2, 'IndexXY': 2, 'IndexZ': 5}, {'Channel': 'YFP', 'Frame': 151, 'Index': 75, 'IndexC': 1, 'IndexT': 2, 'IndexXY': 2, 'IndexZ': 5}, {'Channel': 'Brightfield', 'Frame': 152, 'Index': 76, 'IndexC': 0, 'IndexT': 2, 'IndexXY': 2, 'IndexZ': 6}, {'Channel': 'YFP', 'Frame': 153, 'Index': 76, 'IndexC': 1, 'IndexT': 2, 'IndexXY': 2, 'IndexZ': 6}, {'Channel': 'Brightfield', 'Frame': 154, 'Index': 77, 'IndexC': 0, 'IndexT': 3, 'IndexXY': 2, 'IndexZ': 0}, {'Channel': 'YFP', 'Frame': 155, 'Index': 77, 'IndexC': 1, 'IndexT': 3, 'IndexXY': 2, 'IndexZ': 0}, {'Channel': 'Brightfield', 'Frame': 156, 'Index': 78, 'IndexC': 0, 'IndexT': 3, 'IndexXY': 2, 'IndexZ': 1}, {'Channel': 'YFP', 'Frame': 157, 'Index': 78, 'IndexC': 1, 'IndexT': 3, 'IndexXY': 2, 'IndexZ': 1}, {'Channel': 'Brightfield', 'Frame': 158, 'Index': 79, 'IndexC': 0, 'IndexT': 3, 'IndexXY': 2, 'IndexZ': 2}, {'Channel': 'YFP', 'Frame': 159, 'Index': 79, 'IndexC': 1, 'IndexT': 3, 'IndexXY': 2, 'IndexZ': 2}, {'Channel': 'Brightfield', 'Frame': 160, 'Index': 80, 'IndexC': 0, 'IndexT': 3, 'IndexXY': 2, 'IndexZ': 3}, {'Channel': 'YFP', 'Frame': 161, 'Index': 80, 'IndexC': 1, 'IndexT': 3, 'IndexXY': 2, 'IndexZ': 3}, {'Channel': 'Brightfield', 'Frame': 162, 'Index': 81, 'IndexC': 0, 'IndexT': 3, 'IndexXY': 2, 'IndexZ': 4}, {'Channel': 'YFP', 'Frame': 163, 'Index': 81, 'IndexC': 1, 'IndexT': 3, 'IndexXY': 2, 'IndexZ': 4}, {'Channel': 'Brightfield', 'Frame': 164, 'Index': 82, 'IndexC': 0, 'IndexT': 3, 'IndexXY': 2, 'IndexZ': 5}, {'Channel': 'YFP', 'Frame': 165, 'Index': 82, 'IndexC': 1, 'IndexT': 3, 'IndexXY': 2, 'IndexZ': 5}, {'Channel': 'Brightfield', 'Frame': 166, 'Index': 83, 'IndexC': 0, 'IndexT': 3, 'IndexXY': 2, 'IndexZ': 6}, {'Channel': 'YFP', 'Frame': 167, 'Index': 83, 'IndexC': 1, 'IndexT': 3, 'IndexXY': 2, 'IndexZ': 6}, {'Channel': 'Brightfield', 'Frame': 168, 'Index': 84, 'IndexC': 0, 'IndexT': 0, 'IndexXY': 3, 'IndexZ': 0}, {'Channel': 'YFP', 'Frame': 169, 'Index': 84, 'IndexC': 1, 'IndexT': 0, 'IndexXY': 3, 'IndexZ': 0}, {'Channel': 'Brightfield', 'Frame': 170, 'Index': 85, 'IndexC': 0, 'IndexT': 0, 'IndexXY': 3, 'IndexZ': 1}, {'Channel': 'YFP', 'Frame': 171, 'Index': 85, 'IndexC': 1, 'IndexT': 0, 'IndexXY': 3, 'IndexZ': 1}, {'Channel': 'Brightfield', 'Frame': 172, 'Index': 86, 'IndexC': 0, 'IndexT': 0, 'IndexXY': 3, 'IndexZ': 2}, {'Channel': 'YFP', 'Frame': 173, 'Index': 86, 'IndexC': 1, 'IndexT': 0, 'IndexXY': 3, 'IndexZ': 2}, {'Channel': 'Brightfield', 'Frame': 174, 'Index': 87, 'IndexC': 0, 'IndexT': 0, 'IndexXY': 3, 'IndexZ': 3}, {'Channel': 'YFP', 'Frame': 175, 'Index': 87, 'IndexC': 1, 'IndexT': 0, 'IndexXY': 3, 'IndexZ': 3}, {'Channel': 'Brightfield', 'Frame': 176, 'Index': 88, 'IndexC': 0, 'IndexT': 0, 'IndexXY': 3, 'IndexZ': 4}, {'Channel': 'YFP', 'Frame': 177, 'Index': 88, 'IndexC': 1, 'IndexT': 0, 'IndexXY': 3, 'IndexZ': 4}, {'Channel': 'Brightfield', 'Frame': 178, 'Index': 89, 'IndexC': 0, 'IndexT': 0, 'IndexXY': 3, 'IndexZ': 5}, {'Channel': 'YFP', 'Frame': 179, 'Index': 89, 'IndexC': 1, 'IndexT': 0, 'IndexXY': 3, 'IndexZ': 5}, {'Channel': 'Brightfield', 'Frame': 180, 'Index': 90, 'IndexC': 0, 'IndexT': 0, 'IndexXY': 3, 'IndexZ': 6}, {'Channel': 'YFP', 'Frame': 181, 'Index': 90, 'IndexC': 1, 'IndexT': 0, 'IndexXY': 3, 'IndexZ': 6}, {'Channel': 'Brightfield', 'Frame': 182, 'Index': 91, 'IndexC': 0, 'IndexT': 1, 'IndexXY': 3, 'IndexZ': 0}, {'Channel': 'YFP', 'Frame': 183, 'Index': 91, 'IndexC': 1, 'IndexT': 1, 'IndexXY': 3, 'IndexZ': 0}, {'Channel': 'Brightfield', 'Frame': 184, 'Index': 92, 'IndexC': 0, 'IndexT': 1, 'IndexXY': 3, 'IndexZ': 1}, {'Channel': 'YFP', 'Frame': 185, 'Index': 92, 'IndexC': 1, 'IndexT': 1, 'IndexXY': 3, 'IndexZ': 1}, {'Channel': 'Brightfield', 'Frame': 186, 'Index': 93, 'IndexC': 0, 'IndexT': 1, 'IndexXY': 3, 'IndexZ': 2}, {'Channel': 'YFP', 'Frame': 187, 'Index': 93, 'IndexC': 1, 'IndexT': 1, 'IndexXY': 3, 'IndexZ': 2}, {'Channel': 'Brightfield', 'Frame': 188, 'Index': 94, 'IndexC': 0, 'IndexT': 1, 'IndexXY': 3, 'IndexZ': 3}, {'Channel': 'YFP', 'Frame': 189, 'Index': 94, 'IndexC': 1, 'IndexT': 1, 'IndexXY': 3, 'IndexZ': 3}, {'Channel': 'Brightfield', 'Frame': 190, 'Index': 95, 'IndexC': 0, 'IndexT': 1, 'IndexXY': 3, 'IndexZ': 4}, {'Channel': 'YFP', 'Frame': 191, 'Index': 95, 'IndexC': 1, 'IndexT': 1, 'IndexXY': 3, 'IndexZ': 4}, {'Channel': 'Brightfield', 'Frame': 192, 'Index': 96, 'IndexC': 0, 'IndexT': 1, 'IndexXY': 3, 'IndexZ': 5}, {'Channel': 'YFP', 'Frame': 193, 'Index': 96, 'IndexC': 1, 'IndexT': 1, 'IndexXY': 3, 'IndexZ': 5}, {'Channel': 'Brightfield', 'Frame': 194, 'Index': 97, 'IndexC': 0, 'IndexT': 1, 'IndexXY': 3, 'IndexZ': 6}, {'Channel': 'YFP', 'Frame': 195, 'Index': 97, 'IndexC': 1, 'IndexT': 1, 'IndexXY': 3, 'IndexZ': 6}, {'Channel': 'Brightfield', 'Frame': 196, 'Index': 98, 'IndexC': 0, 'IndexT': 2, 'IndexXY': 3, 'IndexZ': 0}, {'Channel': 'YFP', 'Frame': 197, 'Index': 98, 'IndexC': 1, 'IndexT': 2, 'IndexXY': 3, 'IndexZ': 0}, {'Channel': 'Brightfield', 'Frame': 198, 'Index': 99, 'IndexC': 0, 'IndexT': 2, 'IndexXY': 3, 'IndexZ': 1}, {'Channel': 'YFP', 'Frame': 199, 'Index': 99, 'IndexC': 1, 'IndexT': 2, 'IndexXY': 3, 'IndexZ': 1}, {'Channel': 'Brightfield', 'Frame': 200, 'Index': 100, 'IndexC': 0, 'IndexT': 2, 'IndexXY': 3, 'IndexZ': 2}, {'Channel': 'YFP', 'Frame': 201, 'Index': 100, 'IndexC': 1, 'IndexT': 2, 'IndexXY': 3, 'IndexZ': 2}, {'Channel': 'Brightfield', 'Frame': 202, 'Index': 101, 'IndexC': 0, 'IndexT': 2, 'IndexXY': 3, 'IndexZ': 3}, {'Channel': 'YFP', 'Frame': 203, 'Index': 101, 'IndexC': 1, 'IndexT': 2, 'IndexXY': 3, 'IndexZ': 3}, {'Channel': 'Brightfield', 'Frame': 204, 'Index': 102, 'IndexC': 0, 'IndexT': 2, 'IndexXY': 3, 'IndexZ': 4}, {'Channel': 'YFP', 'Frame': 205, 'Index': 102, 'IndexC': 1, 'IndexT': 2, 'IndexXY': 3, 'IndexZ': 4}, {'Channel': 'Brightfield', 'Frame': 206, 'Index': 103, 'IndexC': 0, 'IndexT': 2, 'IndexXY': 3, 'IndexZ': 5}, {'Channel': 'YFP', 'Frame': 207, 'Index': 103, 'IndexC': 1, 'IndexT': 2, 'IndexXY': 3, 'IndexZ': 5}, {'Channel': 'Brightfield', 'Frame': 208, 'Index': 104, 'IndexC': 0, 'IndexT': 2, 'IndexXY': 3, 'IndexZ': 6}, {'Channel': 'YFP', 'Frame': 209, 'Index': 104, 'IndexC': 1, 'IndexT': 2, 'IndexXY': 3, 'IndexZ': 6}, {'Channel': 'Brightfield', 'Frame': 210, 'Index': 105, 'IndexC': 0, 'IndexT': 3, 'IndexXY': 3, 'IndexZ': 0}, {'Channel': 'YFP', 'Frame': 211, 'Index': 105, 'IndexC': 1, 'IndexT': 3, 'IndexXY': 3, 'IndexZ': 0}, {'Channel': 'Brightfield', 'Frame': 212, 'Index': 106, 'IndexC': 0, 'IndexT': 3, 'IndexXY': 3, 'IndexZ': 1}, {'Channel': 'YFP', 'Frame': 213, 'Index': 106, 'IndexC': 1, 'IndexT': 3, 'IndexXY': 3, 'IndexZ': 1}, {'Channel': 'Brightfield', 'Frame': 214, 'Index': 107, 'IndexC': 0, 'IndexT': 3, 'IndexXY': 3, 'IndexZ': 2}, {'Channel': 'YFP', 'Frame': 215, 'Index': 107, 'IndexC': 1, 'IndexT': 3, 'IndexXY': 3, 'IndexZ': 2}, {'Channel': 'Brightfield', 'Frame': 216, 'Index': 108, 'IndexC': 0, 'IndexT': 3, 'IndexXY': 3, 'IndexZ': 3}, {'Channel': 'YFP', 'Frame': 217, 'Index': 108, 'IndexC': 1, 'IndexT': 3, 'IndexXY': 3, 'IndexZ': 3}, {'Channel': 'Brightfield', 'Frame': 218, 'Index': 109, 'IndexC': 0, 'IndexT': 3, 'IndexXY': 3, 'IndexZ': 4}, {'Channel': 'YFP', 'Frame': 219, 'Index': 109, 'IndexC': 1, 'IndexT': 3, 'IndexXY': 3, 'IndexZ': 4}, {'Channel': 'Brightfield', 'Frame': 220, 'Index': 110, 'IndexC': 0, 'IndexT': 3, 'IndexXY': 3, 'IndexZ': 5}, {'Channel': 'YFP', 'Frame': 221, 'Index': 110, 'IndexC': 1, 'IndexT': 3, 'IndexXY': 3, 'IndexZ': 5}, {'Channel': 'Brightfield', 'Frame': 222, 'Index': 111, 'IndexC': 0, 'IndexT': 3, 'IndexXY': 3, 'IndexZ': 6}, {'Channel': 'YFP', 'Frame': 223, 'Index': 111, 'IndexC': 1, 'IndexT': 3, 'IndexXY': 3, 'IndexZ': 6}, {'Channel': 'Brightfield', 'Frame': 224, 'Index': 112, 'IndexC': 0, 'IndexT': 0, 'IndexXY': 4, 'IndexZ': 0}, {'Channel': 'YFP', 'Frame': 225, 'Index': 112, 'IndexC': 1, 'IndexT': 0, 'IndexXY': 4, 'IndexZ': 0}, {'Channel': 'Brightfield', 'Frame': 226, 'Index': 113, 'IndexC': 0, 'IndexT': 0, 'IndexXY': 4, 'IndexZ': 1}, {'Channel': 'YFP', 'Frame': 227, 'Index': 113, 'IndexC': 1, 'IndexT': 0, 'IndexXY': 4, 'IndexZ': 1}, {'Channel': 'Brightfield', 'Frame': 228, 'Index': 114, 'IndexC': 0, 'IndexT': 0, 'IndexXY': 4, 'IndexZ': 2}, {'Channel': 'YFP', 'Frame': 229, 'Index': 114, 'IndexC': 1, 'IndexT': 0, 'IndexXY': 4, 'IndexZ': 2}, {'Channel': 'Brightfield', 'Frame': 230, 'Index': 115, 'IndexC': 0, 'IndexT': 0, 'IndexXY': 4, 'IndexZ': 3}, {'Channel': 'YFP', 'Frame': 231, 'Index': 115, 'IndexC': 1, 'IndexT': 0, 'IndexXY': 4, 'IndexZ': 3}, {'Channel': 'Brightfield', 'Frame': 232, 'Index': 116, 'IndexC': 0, 'IndexT': 0, 'IndexXY': 4, 'IndexZ': 4}, {'Channel': 'YFP', 'Frame': 233, 'Index': 116, 'IndexC': 1, 'IndexT': 0, 'IndexXY': 4, 'IndexZ': 4}, {'Channel': 'Brightfield', 'Frame': 234, 'Index': 117, 'IndexC': 0, 'IndexT': 0, 'IndexXY': 4, 'IndexZ': 5}, {'Channel': 'YFP', 'Frame': 235, 'Index': 117, 'IndexC': 1, 'IndexT': 0, 'IndexXY': 4, 'IndexZ': 5}, {'Channel': 'Brightfield', 'Frame': 236, 'Index': 118, 'IndexC': 0, 'IndexT': 0, 'IndexXY': 4, 'IndexZ': 6}, {'Channel': 'YFP', 'Frame': 237, 'Index': 118, 'IndexC': 1, 'IndexT': 0, 'IndexXY': 4, 'IndexZ': 6}, {'Channel': 'Brightfield', 'Frame': 238, 'Index': 119, 'IndexC': 0, 'IndexT': 1, 'IndexXY': 4, 'IndexZ': 0}, {'Channel': 'YFP', 'Frame': 239, 'Index': 119, 'IndexC': 1, 'IndexT': 1, 'IndexXY': 4, 'IndexZ': 0}, {'Channel': 'Brightfield', 'Frame': 240, 'Index': 120, 'IndexC': 0, 'IndexT': 1, 'IndexXY': 4, 'IndexZ': 1}, {'Channel': 'YFP', 'Frame': 241, 'Index': 120, 'IndexC': 1, 'IndexT': 1, 'IndexXY': 4, 'IndexZ': 1}, {'Channel': 'Brightfield', 'Frame': 242, 'Index': 121, 'IndexC': 0, 'IndexT': 1, 'IndexXY': 4, 'IndexZ': 2}, {'Channel': 'YFP', 'Frame': 243, 'Index': 121, 'IndexC': 1, 'IndexT': 1, 'IndexXY': 4, 'IndexZ': 2}, {'Channel': 'Brightfield', 'Frame': 244, 'Index': 122, 'IndexC': 0, 'IndexT': 1, 'IndexXY': 4, 'IndexZ': 3}, {'Channel': 'YFP', 'Frame': 245, 'Index': 122, 'IndexC': 1, 'IndexT': 1, 'IndexXY': 4, 'IndexZ': 3}, {'Channel': 'Brightfield', 'Frame': 246, 'Index': 123, 'IndexC': 0, 'IndexT': 1, 'IndexXY': 4, 'IndexZ': 4}, {'Channel': 'YFP', 'Frame': 247, 'Index': 123, 'IndexC': 1, 'IndexT': 1, 'IndexXY': 4, 'IndexZ': 4}, {'Channel': 'Brightfield', 'Frame': 248, 'Index': 124, 'IndexC': 0, 'IndexT': 1, 'IndexXY': 4, 'IndexZ': 5}, {'Channel': 'YFP', 'Frame': 249, 'Index': 124, 'IndexC': 1, 'IndexT': 1, 'IndexXY': 4, 'IndexZ': 5}, {'Channel': 'Brightfield', 'Frame': 250, 'Index': 125, 'IndexC': 0, 'IndexT': 1, 'IndexXY': 4, 'IndexZ': 6}, {'Channel': 'YFP', 'Frame': 251, 'Index': 125, 'IndexC': 1, 'IndexT': 1, 'IndexXY': 4, 'IndexZ': 6}, {'Channel': 'Brightfield', 'Frame': 252, 'Index': 126, 'IndexC': 0, 'IndexT': 2, 'IndexXY': 4, 'IndexZ': 0}, {'Channel': 'YFP', 'Frame': 253, 'Index': 126, 'IndexC': 1, 'IndexT': 2, 'IndexXY': 4, 'IndexZ': 0}, {'Channel': 'Brightfield', 'Frame': 254, 'Index': 127, 'IndexC': 0, 'IndexT': 2, 'IndexXY': 4, 'IndexZ': 1}, {'Channel': 'YFP', 'Frame': 255, 'Index': 127, 'IndexC': 1, 'IndexT': 2, 'IndexXY': 4, 'IndexZ': 1}, {'Channel': 'Brightfield', 'Frame': 256, 'Index': 128, 'IndexC': 0, 'IndexT': 2, 'IndexXY': 4, 'IndexZ': 2}, {'Channel': 'YFP', 'Frame': 257, 'Index': 128, 'IndexC': 1, 'IndexT': 2, 'IndexXY': 4, 'IndexZ': 2}, {'Channel': 'Brightfield', 'Frame': 258, 'Index': 129, 'IndexC': 0, 'IndexT': 2, 'IndexXY': 4, 'IndexZ': 3}, {'Channel': 'YFP', 'Frame': 259, 'Index': 129, 'IndexC': 1, 'IndexT': 2, 'IndexXY': 4, 'IndexZ': 3}, {'Channel': 'Brightfield', 'Frame': 260, 'Index': 130, 'IndexC': 0, 'IndexT': 2, 'IndexXY': 4, 'IndexZ': 4}, {'Channel': 'YFP', 'Frame': 261, 'Index': 130, 'IndexC': 1, 'IndexT': 2, 'IndexXY': 4, 'IndexZ': 4}, {'Channel': 'Brightfield', 'Frame': 262, 'Index': 131, 'IndexC': 0, 'IndexT': 2, 'IndexXY': 4, 'IndexZ': 5}, {'Channel': 'YFP', 'Frame': 263, 'Index': 131, 'IndexC': 1, 'IndexT': 2, 'IndexXY': 4, 'IndexZ': 5}, {'Channel': 'Brightfield', 'Frame': 264, 'Index': 132, 'IndexC': 0, 'IndexT': 2, 'IndexXY': 4, 'IndexZ': 6}, {'Channel': 'YFP', 'Frame': 265, 'Index': 132, 'IndexC': 1, 'IndexT': 2, 'IndexXY': 4, 'IndexZ': 6}, {'Channel': 'Brightfield', 'Frame': 266, 'Index': 133, 'IndexC': 0, 'IndexT': 3, 'IndexXY': 4, 'IndexZ': 0}, {'Channel': 'YFP', 'Frame': 267, 'Index': 133, 'IndexC': 1, 'IndexT': 3, 'IndexXY': 4, 'IndexZ': 0}, {'Channel': 'Brightfield', 'Frame': 268, 'Index': 134, 'IndexC': 0, 'IndexT': 3, 'IndexXY': 4, 'IndexZ': 1}, {'Channel': 'YFP', 'Frame': 269, 'Index': 134, 'IndexC': 1, 'IndexT': 3, 'IndexXY': 4, 'IndexZ': 1}, {'Channel': 'Brightfield', 'Frame': 270, 'Index': 135, 'IndexC': 0, 'IndexT': 3, 'IndexXY': 4, 'IndexZ': 2}, {'Channel': 'YFP', 'Frame': 271, 'Index': 135, 'IndexC': 1, 'IndexT': 3, 'IndexXY': 4, 'IndexZ': 2}, {'Channel': 'Brightfield', 'Frame': 272, 'Index': 136, 'IndexC': 0, 'IndexT': 3, 'IndexXY': 4, 'IndexZ': 3}, {'Channel': 'YFP', 'Frame': 273, 'Index': 136, 'IndexC': 1, 'IndexT': 3, 'IndexXY': 4, 'IndexZ': 3}, {'Channel': 'Brightfield', 'Frame': 274, 'Index': 137, 'IndexC': 0, 'IndexT': 3, 'IndexXY': 4, 'IndexZ': 4}, {'Channel': 'YFP', 'Frame': 275, 'Index': 137, 'IndexC': 1, 'IndexT': 3, 'IndexXY': 4, 'IndexZ': 4}, {'Channel': 'Brightfield', 'Frame': 276, 'Index': 138, 'IndexC': 0, 'IndexT': 3, 'IndexXY': 4, 'IndexZ': 5}, {'Channel': 'YFP', 'Frame': 277, 'Index': 138, 'IndexC': 1, 'IndexT': 3, 'IndexXY': 4, 'IndexZ': 5}, {'Channel': 'Brightfield', 'Frame': 278, 'Index': 139, 'IndexC': 0, 'IndexT': 3, 'IndexXY': 4, 'IndexZ': 6}, {'Channel': 'YFP', 'Frame': 279, 'Index': 139, 'IndexC': 1, 'IndexT': 3, 'IndexXY': 4, 'IndexZ': 6}, {'Channel': 'Brightfield', 'Frame': 280, 'Index': 140, 'IndexC': 0, 'IndexT': 0, 'IndexXY': 5, 'IndexZ': 0}, {'Channel': 'YFP', 'Frame': 281, 'Index': 140, 'IndexC': 1, 'IndexT': 0, 'IndexXY': 5, 'IndexZ': 0}, {'Channel': 'Brightfield', 'Frame': 282, 'Index': 141, 'IndexC': 0, 'IndexT': 0, 'IndexXY': 5, 'IndexZ': 1}, {'Channel': 'YFP', 'Frame': 283, 'Index': 141, 'IndexC': 1, 'IndexT': 0, 'IndexXY': 5, 'IndexZ': 1}, {'Channel': 'Brightfield', 'Frame': 284, 'Index': 142, 'IndexC': 0, 'IndexT': 0, 'IndexXY': 5, 'IndexZ': 2}, {'Channel': 'YFP', 'Frame': 285, 'Index': 142, 'IndexC': 1, 'IndexT': 0, 'IndexXY': 5, 'IndexZ': 2}, {'Channel': 'Brightfield', 'Frame': 286, 'Index': 143, 'IndexC': 0, 'IndexT': 0, 'IndexXY': 5, 'IndexZ': 3}, {'Channel': 'YFP', 'Frame': 287, 'Index': 143, 'IndexC': 1, 'IndexT': 0, 'IndexXY': 5, 'IndexZ': 3}, {'Channel': 'Brightfield', 'Frame': 288, 'Index': 144, 'IndexC': 0, 'IndexT': 0, 'IndexXY': 5, 'IndexZ': 4}, {'Channel': 'YFP', 'Frame': 289, 'Index': 144, 'IndexC': 1, 'IndexT': 0, 'IndexXY': 5, 'IndexZ': 4}, {'Channel': 'Brightfield', 'Frame': 290, 'Index': 145, 'IndexC': 0, 'IndexT': 0, 'IndexXY': 5, 'IndexZ': 5}, {'Channel': 'YFP', 'Frame': 291, 'Index': 145, 'IndexC': 1, 'IndexT': 0, 'IndexXY': 5, 'IndexZ': 5}, {'Channel': 'Brightfield', 'Frame': 292, 'Index': 146, 'IndexC': 0, 'IndexT': 0, 'IndexXY': 5, 'IndexZ': 6}, {'Channel': 'YFP', 'Frame': 293, 'Index': 146, 'IndexC': 1, 'IndexT': 0, 'IndexXY': 5, 'IndexZ': 6}, {'Channel': 'Brightfield', 'Frame': 294, 'Index': 147, 'IndexC': 0, 'IndexT': 1, 'IndexXY': 5, 'IndexZ': 0}, {'Channel': 'YFP', 'Frame': 295, 'Index': 147, 'IndexC': 1, 'IndexT': 1, 'IndexXY': 5, 'IndexZ': 0}, {'Channel': 'Brightfield', 'Frame': 296, 'Index': 148, 'IndexC': 0, 'IndexT': 1, 'IndexXY': 5, 'IndexZ': 1}, {'Channel': 'YFP', 'Frame': 297, 'Index': 148, 'IndexC': 1, 'IndexT': 1, 'IndexXY': 5, 'IndexZ': 1}, {'Channel': 'Brightfield', 'Frame': 298, 'Index': 149, 'IndexC': 0, 'IndexT': 1, 'IndexXY': 5, 'IndexZ': 2}, {'Channel': 'YFP', 'Frame': 299, 'Index': 149, 'IndexC': 1, 'IndexT': 1, 'IndexXY': 5, 'IndexZ': 2}, {'Channel': 'Brightfield', 'Frame': 300, 'Index': 150, 'IndexC': 0, 'IndexT': 1, 'IndexXY': 5, 'IndexZ': 3}, {'Channel': 'YFP', 'Frame': 301, 'Index': 150, 'IndexC': 1, 'IndexT': 1, 'IndexXY': 5, 'IndexZ': 3}, {'Channel': 'Brightfield', 'Frame': 302, 'Index': 151, 'IndexC': 0, 'IndexT': 1, 'IndexXY': 5, 'IndexZ': 4}, {'Channel': 'YFP', 'Frame': 303, 'Index': 151, 'IndexC': 1, 'IndexT': 1, 'IndexXY': 5, 'IndexZ': 4}, {'Channel': 'Brightfield', 'Frame': 304, 'Index': 152, 'IndexC': 0, 'IndexT': 1, 'IndexXY': 5, 'IndexZ': 5}, {'Channel': 'YFP', 'Frame': 305, 'Index': 152, 'IndexC': 1, 'IndexT': 1, 'IndexXY': 5, 'IndexZ': 5}, {'Channel': 'Brightfield', 'Frame': 306, 'Index': 153, 'IndexC': 0, 'IndexT': 1, 'IndexXY': 5, 'IndexZ': 6}, {'Channel': 'YFP', 'Frame': 307, 'Index': 153, 'IndexC': 1, 'IndexT': 1, 'IndexXY': 5, 'IndexZ': 6}, {'Channel': 'Brightfield', 'Frame': 308, 'Index': 154, 'IndexC': 0, 'IndexT': 2, 'IndexXY': 5, 'IndexZ': 0}, {'Channel': 'YFP', 'Frame': 309, 'Index': 154, 'IndexC': 1, 'IndexT': 2, 'IndexXY': 5, 'IndexZ': 0}, {'Channel': 'Brightfield', 'Frame': 310, 'Index': 155, 'IndexC': 0, 'IndexT': 2, 'IndexXY': 5, 'IndexZ': 1}, {'Channel': 'YFP', 'Frame': 311, 'Index': 155, 'IndexC': 1, 'IndexT': 2, 'IndexXY': 5, 'IndexZ': 1}, {'Channel': 'Brightfield', 'Frame': 312, 'Index': 156, 'IndexC': 0, 'IndexT': 2, 'IndexXY': 5, 'IndexZ': 2}, {'Channel': 'YFP', 'Frame': 313, 'Index': 156, 'IndexC': 1, 'IndexT': 2, 'IndexXY': 5, 'IndexZ': 2}, {'Channel': 'Brightfield', 'Frame': 314, 'Index': 157, 'IndexC': 0, 'IndexT': 2, 'IndexXY': 5, 'IndexZ': 3}, {'Channel': 'YFP', 'Frame': 315, 'Index': 157, 'IndexC': 1, 'IndexT': 2, 'IndexXY': 5, 'IndexZ': 3}, {'Channel': 'Brightfield', 'Frame': 316, 'Index': 158, 'IndexC': 0, 'IndexT': 2, 'IndexXY': 5, 'IndexZ': 4}, {'Channel': 'YFP', 'Frame': 317, 'Index': 158, 'IndexC': 1, 'IndexT': 2, 'IndexXY': 5, 'IndexZ': 4}, {'Channel': 'Brightfield', 'Frame': 318, 'Index': 159, 'IndexC': 0, 'IndexT': 2, 'IndexXY': 5, 'IndexZ': 5}, {'Channel': 'YFP', 'Frame': 319, 'Index': 159, 'IndexC': 1, 'IndexT': 2, 'IndexXY': 5, 'IndexZ': 5}, {'Channel': 'Brightfield', 'Frame': 320, 'Index': 160, 'IndexC': 0, 'IndexT': 2, 'IndexXY': 5, 'IndexZ': 6}, {'Channel': 'YFP', 'Frame': 321, 'Index': 160, 'IndexC': 1, 'IndexT': 2, 'IndexXY': 5, 'IndexZ': 6}, {'Channel': 'Brightfield', 'Frame': 322, 'Index': 161, 'IndexC': 0, 'IndexT': 3, 'IndexXY': 5, 'IndexZ': 0}, {'Channel': 'YFP', 'Frame': 323, 'Index': 161, 'IndexC': 1, 'IndexT': 3, 'IndexXY': 5, 'IndexZ': 0}, {'Channel': 'Brightfield', 'Frame': 324, 'Index': 162, 'IndexC': 0, 'IndexT': 3, 'IndexXY': 5, 'IndexZ': 1}, {'Channel': 'YFP', 'Frame': 325, 'Index': 162, 'IndexC': 1, 'IndexT': 3, 'IndexXY': 5, 'IndexZ': 1}, {'Channel': 'Brightfield', 'Frame': 326, 'Index': 163, 'IndexC': 0, 'IndexT': 3, 'IndexXY': 5, 'IndexZ': 2}, {'Channel': 'YFP', 'Frame': 327, 'Index': 163, 'IndexC': 1, 'IndexT': 3, 'IndexXY': 5, 'IndexZ': 2}, {'Channel': 'Brightfield', 'Frame': 328, 'Index': 164, 'IndexC': 0, 'IndexT': 3, 'IndexXY': 5, 'IndexZ': 3}, {'Channel': 'YFP', 'Frame': 329, 'Index': 164, 'IndexC': 1, 'IndexT': 3, 'IndexXY': 5, 'IndexZ': 3}, {'Channel': 'Brightfield', 'Frame': 330, 'Index': 165, 'IndexC': 0, 'IndexT': 3, 'IndexXY': 5, 'IndexZ': 4}, {'Channel': 'YFP', 'Frame': 331, 'Index': 165, 'IndexC': 1, 'IndexT': 3, 'IndexXY': 5, 'IndexZ': 4}, {'Channel': 'Brightfield', 'Frame': 332, 'Index': 166, 'IndexC': 0, 'IndexT': 3, 'IndexXY': 5, 'IndexZ': 5}, {'Channel': 'YFP', 'Frame': 333, 'Index': 166, 'IndexC': 1, 'IndexT': 3, 'IndexXY': 5, 'IndexZ': 5}, {'Channel': 'Brightfield', 'Frame': 334, 'Index': 167, 'IndexC': 0, 'IndexT': 3, 'IndexXY': 5, 'IndexZ': 6}, {'Channel': 'YFP', 'Frame': 335, 'Index': 167, 'IndexC': 1, 'IndexT': 3, 'IndexXY': 5, 'IndexZ': 6}], 'levels': 1, 'magnification': 15.397175034092347, 'mm_x': 0.00064946978766287, 'mm_y': 0.00064946978766287, 'sizeX': 1024, 'sizeY': 1022, 'tileHeight': 1022, 'tileWidth': 1024}\n",
      "1024\n",
      "1022\n"
     ]
    }
   ],
   "source": [
    "datasetId = datasets[dataset_name]\n",
    "datasetClient = tiles.UPennContrastDataset(apiUrl=apiUrl, token=client.token, datasetId=datasetId)\n",
    "print(datasetClient.tiles)\n",
    "tile_width = datasetClient.tiles['tileWidth']\n",
    "tile_height = datasetClient.tiles['tileHeight']\n",
    "print(tile_width)\n",
    "print(tile_height)"
   ]
  },
  {
   "cell_type": "code",
   "execution_count": 11,
   "metadata": {},
   "outputs": [],
   "source": [
    "pointAnnotationList = annotationClient.getAnnotationsByDatasetId(datasetId, shape='point')\n",
    "blobAnnotationList = annotationClient.getAnnotationsByDatasetId(datasetId, shape='polygon')\n",
    "lineAnnotationList = annotationClient.getAnnotationsByDatasetId(datasetId, shape='line')"
   ]
  },
  {
   "cell_type": "code",
   "execution_count": 14,
   "metadata": {},
   "outputs": [
    {
     "name": "stdout",
     "output_type": "stream",
     "text": [
      "10\n",
      "[{'_id': '656e37f8b98181709b141186',\n",
      "  'access': {'groups': [],\n",
      "             'users': [{'flags': [],\n",
      "                        'id': '65689787d45237881913b68f',\n",
      "                        'level': 2}]},\n",
      "  'channel': 1,\n",
      "  'coordinates': [{'x': 258.64339697093936, 'y': 391.3640923301282},\n",
      "                  {'x': 258.64339697093936, 'y': 398.7167101708975},\n",
      "                  {'x': 258.23491820200775, 'y': 401.5760615534189},\n",
      "                  {'x': 256.1925243573496, 'y': 402.39301909128216},\n",
      "                  {'x': 245.57207636512726, 'y': 401.1675827844873},\n",
      "                  {'x': 240.6703311379477, 'y': 399.9421464776924},\n",
      "                  {'x': 238.62793729328956, 'y': 398.7167101708975},\n",
      "                  {'x': 236.99402221756304, 'y': 397.08279509517104},\n",
      "                  {'x': 235.36010714183652, 'y': 394.2234437126496},\n",
      "                  {'x': 234.9516283729049, 'y': 391.77257109905986},\n",
      "                  {'x': 235.36010714183652, 'y': 389.32169848547005},\n",
      "                  {'x': 235.76858591076817, 'y': 386.4623471029487},\n",
      "                  {'x': 237.8109797554263, 'y': 384.0114744893589},\n",
      "                  {'x': 241.07880990687934, 'y': 382.786038182564},\n",
      "                  {'x': 243.52968252046912, 'y': 382.786038182564},\n",
      "                  {'x': 246.3890339029905, 'y': 383.60299572042726},\n",
      "                  {'x': 249.65686405444353, 'y': 384.82843202722216},\n",
      "                  {'x': 251.69925789910167, 'y': 386.053868334017},\n",
      "                  {'x': 256.1925243573496, 'y': 385.6453895650854},\n",
      "                  {'x': 257.82643943307613, 'y': 388.09626217867515}],\n",
      "  'datasetId': '656e377ab98181709b14106c',\n",
      "  'location': {'Time': 0, 'XY': 0, 'Z': 0},\n",
      "  'shape': 'polygon',\n",
      "  'tags': ['nucleus']},\n",
      " {'_id': '656e37ffb98181709b1411db',\n",
      "  'access': {'groups': [],\n",
      "             'users': [{'flags': [],\n",
      "                        'id': '65689787d45237881913b68f',\n",
      "                        'level': 2}]},\n",
      "  'channel': 1,\n",
      "  'coordinates': [{'x': 259.051875739871, 'y': 397.49127386410265},\n",
      "                  {'x': 256.6010031262812, 'y': 396.26583755730775},\n",
      "                  {'x': 256.6010031262812, 'y': 402.8014978602138},\n",
      "                  {'x': 256.1925243573496, 'y': 406.4778067805985},\n",
      "                  {'x': 255.37556681948632, 'y': 408.5202006252566},\n",
      "                  {'x': 253.7416517437598, 'y': 409.7456369320515},\n",
      "                  {'x': 251.69925789910167, 'y': 410.56259446991476},\n",
      "                  {'x': 243.52968252046912, 'y': 411.379552007778},\n",
      "                  {'x': 241.07880990687934, 'y': 410.9710732388464},\n",
      "                  {'x': 239.03641606222118, 'y': 409.7456369320515},\n",
      "                  {'x': 237.40250098649466, 'y': 408.11172185632495},\n",
      "                  {'x': 235.76858591076817, 'y': 405.2523704738036},\n",
      "                  {'x': 235.36010714183652, 'y': 402.8014978602138},\n",
      "                  {'x': 235.76858591076817, 'y': 400.350625246624},\n",
      "                  {'x': 237.40250098649466, 'y': 397.89975263303427},\n",
      "                  {'x': 241.07880990687934, 'y': 394.2234437126496},\n",
      "                  {'x': 245.16359759619561, 'y': 392.5895286369231},\n",
      "                  {'x': 248.022948978717, 'y': 392.1810498679915},\n",
      "                  {'x': 252.92469420589657, 'y': 392.5895286369231},\n",
      "                  {'x': 254.5586092816231, 'y': 393.814964943718},\n",
      "                  {'x': 256.1925243573496, 'y': 395.44888001944446}],\n",
      "  'datasetId': '656e377ab98181709b14106c',\n",
      "  'location': {'Time': 1, 'XY': 0, 'Z': 0},\n",
      "  'shape': 'polygon',\n",
      "  'tags': ['nucleus']},\n",
      " {'_id': '656e3802b98181709b141201',\n",
      "  'access': {'groups': [],\n",
      "             'users': [{'flags': [],\n",
      "                        'id': '65689787d45237881913b68f',\n",
      "                        'level': 2}]},\n",
      "  'channel': 1,\n",
      "  'coordinates': [{'x': 274.1655901903412, 'y': 408.92867939418824},\n",
      "                  {'x': 274.1655901903412, 'y': 413.8304246213678},\n",
      "                  {'x': 273.7571114214096, 'y': 415.87281846602593},\n",
      "                  {'x': 272.53167511461476, 'y': 418.7321698485473},\n",
      "                  {'x': 269.2638449631617, 'y': 422.8169575378636},\n",
      "                  {'x': 266.4044935806403, 'y': 422.40847876893196},\n",
      "                  {'x': 258.64339697093936, 'y': 420.3660849242738},\n",
      "                  {'x': 254.9670880505547, 'y': 417.50673354175245},\n",
      "                  {'x': 254.15013051269148, 'y': 415.05586092816264},\n",
      "                  {'x': 253.3331729748282, 'y': 412.1965095456413},\n",
      "                  {'x': 252.92469420589657, 'y': 408.92867939418824},\n",
      "                  {'x': 253.3331729748282, 'y': 406.4778067805985},\n",
      "                  {'x': 254.5586092816231, 'y': 402.8014978602138},\n",
      "                  {'x': 256.1925243573496, 'y': 401.1675827844873},\n",
      "                  {'x': 258.23491820200775, 'y': 400.350625246624},\n",
      "                  {'x': 261.0942695845291, 'y': 399.9421464776924},\n",
      "                  {'x': 263.95362096705054, 'y': 400.350625246624},\n",
      "                  {'x': 266.8129723495719, 'y': 401.5760615534189},\n",
      "                  {'x': 271.30623880781985, 'y': 402.8014978602138},\n",
      "                  {'x': 272.53167511461476, 'y': 404.43541293594035},\n",
      "                  {'x': 273.7571114214096, 'y': 406.8862855495301}],\n",
      "  'datasetId': '656e377ab98181709b14106c',\n",
      "  'location': {'Time': 2, 'XY': 0, 'Z': 0},\n",
      "  'shape': 'polygon',\n",
      "  'tags': ['nucleus']},\n",
      " {'_id': '656e3806b98181709b141231',\n",
      "  'access': {'groups': [],\n",
      "             'users': [{'flags': [],\n",
      "                        'id': '65689787d45237881913b68f',\n",
      "                        'level': 2}]},\n",
      "  'channel': 1,\n",
      "  'coordinates': [{'x': 297.44888001944406, 'y': 418.3236910796157},\n",
      "                  {'x': 297.04040125051245, 'y': 422.40847876893196},\n",
      "                  {'x': 296.63192248158083, 'y': 424.45087261359015},\n",
      "                  {'x': 295.4064861747859, 'y': 428.5356603029064},\n",
      "                  {'x': 294.181049867991, 'y': 430.1695753786329},\n",
      "                  {'x': 290.91321971653804, 'y': 430.9865329164962},\n",
      "                  {'x': 287.645389565085, 'y': 430.9865329164962},\n",
      "                  {'x': 284.37755941363196, 'y': 430.1695753786329},\n",
      "                  {'x': 281.9266868000422, 'y': 428.94413907183804},\n",
      "                  {'x': 279.0673354175208, 'y': 427.3102239961115},\n",
      "                  {'x': 275.79950526606774, 'y': 424.45087261359015},\n",
      "                  {'x': 275.3910264971361, 'y': 422.40847876893196},\n",
      "                  {'x': 275.79950526606774, 'y': 418.7321698485473},\n",
      "                  {'x': 276.2079840349994, 'y': 416.68977600388916},\n",
      "                  {'x': 277.43342034179426, 'y': 413.8304246213678},\n",
      "                  {'x': 280.2927717243157, 'y': 410.9710732388464},\n",
      "                  {'x': 282.74364433790544, 'y': 409.33715816311985},\n",
      "                  {'x': 285.60299572042686, 'y': 410.56259446991476},\n",
      "                  {'x': 297.04040125051245, 'y': 414.2389033902994}],\n",
      "  'datasetId': '656e377ab98181709b14106c',\n",
      "  'location': {'Time': 3, 'XY': 0, 'Z': 0},\n",
      "  'shape': 'polygon',\n",
      "  'tags': ['nucleus']},\n",
      " {'_id': '656e380db98181709b14128e',\n",
      "  'access': {'groups': [],\n",
      "             'users': [{'flags': [],\n",
      "                        'id': '65689787d45237881913b68f',\n",
      "                        'level': 2}]},\n",
      "  'channel': 1,\n",
      "  'coordinates': [{'x': 261.0942695845291, 'y': 463.25635566209485},\n",
      "                  {'x': 261.0942695845291, 'y': 467.3411433514111},\n",
      "                  {'x': 259.86883327773427, 'y': 470.60897350286416},\n",
      "                  {'x': 257.82643943307613, 'y': 471.83440980965906},\n",
      "                  {'x': 254.9670880505547, 'y': 471.83440980965906},\n",
      "                  {'x': 252.51621543696496, 'y': 471.4259310407274},\n",
      "                  {'x': 246.79751267192214, 'y': 469.7920159650009},\n",
      "                  {'x': 243.52968252046912, 'y': 468.97505842713764},\n",
      "                  {'x': 243.12120375153748, 'y': 465.7072282756846},\n",
      "                  {'x': 243.93816128940074, 'y': 463.66483443102646},\n",
      "                  {'x': 245.98055513405887, 'y': 461.6224405863683},\n",
      "                  {'x': 248.022948978717, 'y': 459.9885255106418},\n",
      "                  {'x': 250.88230036123844, 'y': 459.9885255106418}],\n",
      "  'datasetId': '656e377ab98181709b14106c',\n",
      "  'location': {'Time': 0, 'XY': 0, 'Z': 0},\n",
      "  'shape': 'polygon',\n",
      "  'tags': ['nucleus']},\n",
      " {'_id': '656e3810b98181709b1412b8',\n",
      "  'access': {'groups': [],\n",
      "             'users': [{'flags': [],\n",
      "                        'id': '65689787d45237881913b68f',\n",
      "                        'level': 2}]},\n",
      "  'channel': 1,\n",
      "  'coordinates': [{'x': 281.5182080311106, 'y': 464.0733131999581},\n",
      "                  {'x': 266.8129723495719, 'y': 463.25635566209485},\n",
      "                  {'x': 264.7705785049138, 'y': 465.298749506753},\n",
      "                  {'x': 263.13666342918725, 'y': 468.15810088927435},\n",
      "                  {'x': 262.72818466025564, 'y': 470.2004947339325},\n",
      "                  {'x': 263.95362096705054, 'y': 473.4683248853855},\n",
      "                  {'x': 265.9960148117087, 'y': 474.69376119218043},\n",
      "                  {'x': 270.89776003888824, 'y': 475.51071873004366},\n",
      "                  {'x': 274.9825477282045, 'y': 475.91919749897534},\n",
      "                  {'x': 278.65885664858916, 'y': 475.51071873004366},\n",
      "                  {'x': 280.7012504932473, 'y': 475.10223996111205},\n",
      "                  {'x': 282.74364433790544, 'y': 470.60897350286416},\n",
      "                  {'x': 282.74364433790544, 'y': 467.74962212034274}],\n",
      "  'datasetId': '656e377ab98181709b14106c',\n",
      "  'location': {'Time': 1, 'XY': 0, 'Z': 0},\n",
      "  'shape': 'polygon',\n",
      "  'tags': ['nucleus']},\n",
      " {'_id': '656e3813b98181709b1412d9',\n",
      "  'access': {'groups': [],\n",
      "             'users': [{'flags': [],\n",
      "                        'id': '65689787d45237881913b68f',\n",
      "                        'level': 2}]},\n",
      "  'channel': 1,\n",
      "  'coordinates': [{'x': 315.0134670835041, 'y': 470.2004947339325},\n",
      "                  {'x': 315.0134670835041, 'y': 473.0598461164539},\n",
      "                  {'x': 309.70324308739293, 'y': 480.82094272615484},\n",
      "                  {'x': 293.7725710990594, 'y': 478.3700701125651},\n",
      "                  {'x': 290.91321971653804, 'y': 477.14463380577024},\n",
      "                  {'x': 290.50474094760636, 'y': 473.0598461164539},\n",
      "                  {'x': 290.91321971653804, 'y': 470.2004947339325},\n",
      "                  {'x': 292.54713479226456, 'y': 466.93266458247945},\n",
      "                  {'x': 294.9980074058543, 'y': 465.298749506753},\n",
      "                  {'x': 297.04040125051245, 'y': 464.48179196888975},\n",
      "                  {'x': 299.89975263303387, 'y': 463.66483443102646},\n",
      "                  {'x': 302.75910401555524, 'y': 463.25635566209485}],\n",
      "  'datasetId': '656e377ab98181709b14106c',\n",
      "  'location': {'Time': 2, 'XY': 0, 'Z': 0},\n",
      "  'shape': 'polygon',\n",
      "  'tags': ['nucleus']},\n",
      " {'_id': '656e3815b98181709b1412fa',\n",
      "  'access': {'groups': [],\n",
      "             'users': [{'flags': [],\n",
      "                        'id': '65689787d45237881913b68f',\n",
      "                        'level': 2}]},\n",
      "  'channel': 1,\n",
      "  'coordinates': [{'x': 331.76109660970087, 'y': 465.7072282756846},\n",
      "                  {'x': 328.0847876893162, 'y': 466.1157070446162},\n",
      "                  {'x': 322.3660849242734, 'y': 467.74962212034274},\n",
      "                  {'x': 319.91521231068367, 'y': 469.7920159650009},\n",
      "                  {'x': 318.68977600388877, 'y': 471.83440980965906},\n",
      "                  {'x': 317.8728184660255, 'y': 473.8768036543172},\n",
      "                  {'x': 317.8728184660255, 'y': 476.32767626790695},\n",
      "                  {'x': 320.7321698485469, 'y': 479.1870276504284},\n",
      "                  {'x': 324.8169575378632, 'y': 481.6379002640181},\n",
      "                  {'x': 327.6763089203846, 'y': 482.863336570813},\n",
      "                  {'x': 332.1695753786325, 'y': 483.27181533974465},\n",
      "                  {'x': 336.25436306794876, 'y': 483.27181533974465},\n",
      "                  {'x': 338.70523568153857, 'y': 482.04637903294974},\n",
      "                  {'x': 340.3391507572651, 'y': 480.0039851882916},\n",
      "                  {'x': 341.56458706405994, 'y': 477.9615913436335},\n",
      "                  {'x': 342.79002337085484, 'y': 474.69376119218043},\n",
      "                  {'x': 343.6069809087181, 'y': 471.4259310407274},\n",
      "                  {'x': 343.6069809087181, 'y': 468.566579658206}],\n",
      "  'datasetId': '656e377ab98181709b14106c',\n",
      "  'location': {'Time': 3, 'XY': 0, 'Z': 0},\n",
      "  'shape': 'polygon',\n",
      "  'tags': ['nucleus']},\n",
      " {'_id': '656f28c7b98181709b14166a',\n",
      "  'access': {'groups': [],\n",
      "             'users': [{'flags': [],\n",
      "                        'id': '65689787d45237881913b68f',\n",
      "                        'level': 2}]},\n",
      "  'channel': 1,\n",
      "  'coordinates': [{'x': 376.7890795977327, 'y': 498.81883599979557},\n",
      "                  {'x': 369.48038119761014, 'y': 498.81883599979557},\n",
      "                  {'x': 364.60791559752846, 'y': 504.9094179998977},\n",
      "                  {'x': 363.389799197508, 'y': 510.99999999999983},\n",
      "                  {'x': 369.48038119761014, 'y': 513.4362328000407},\n",
      "                  {'x': 380.44342879779396, 'y': 513.4362328000407},\n",
      "                  {'x': 386.5340107978961, 'y': 512.2181164000202},\n",
      "                  {'x': 390.1883599979573, 'y': 501.2550687998364}],\n",
      "  'datasetId': '656e377ab98181709b14106c',\n",
      "  'location': {'Time': 0, 'XY': 0, 'Z': 0},\n",
      "  'shape': 'polygon',\n",
      "  'tags': ['nucleus']},\n",
      " {'_id': '656f28cbb98181709b14166d',\n",
      "  'access': {'groups': [],\n",
      "             'users': [{'flags': [],\n",
      "                        'id': '65689787d45237881913b68f',\n",
      "                        'level': 2}]},\n",
      "  'channel': 1,\n",
      "  'coordinates': [{'x': 413.3325715983454, 'y': 501.2550687998364},\n",
      "                  {'x': 412.11445519832506, 'y': 507.34565079993854},\n",
      "                  {'x': 408.4601059982637, 'y': 513.4362328000407},\n",
      "                  {'x': 392.6245927979982, 'y': 513.4362328000407},\n",
      "                  {'x': 386.5340107978961, 'y': 512.2181164000202},\n",
      "                  {'x': 384.0977779978552, 'y': 506.1275343999181},\n",
      "                  {'x': 387.75212719791654, 'y': 501.2550687998364},\n",
      "                  {'x': 399.9332911981208, 'y': 498.81883599979557}],\n",
      "  'datasetId': '656e377ab98181709b14106c',\n",
      "  'location': {'Time': 1, 'XY': 0, 'Z': 0},\n",
      "  'shape': 'polygon',\n",
      "  'tags': ['nucleus']}]\n"
     ]
    }
   ],
   "source": [
    "print(len(blobAnnotationList))\n",
    "pprint.pprint(blobAnnotationList)"
   ]
  },
  {
   "cell_type": "code",
   "execution_count": 9,
   "metadata": {},
   "outputs": [
    {
     "name": "stdout",
     "output_type": "stream",
     "text": [
      "656e377ab98181709b14106c\n",
      "[ { '_id': '656e3840b98181709b14153d',\n",
      "    'access': { 'groups': [],\n",
      "                'users': [ { 'flags': [],\n",
      "                             'id': '65689787d45237881913b68f',\n",
      "                             'level': 2}]},\n",
      "    'childId': '656e3806b98181709b141231',\n",
      "    'datasetId': '656e377ab98181709b14106c',\n",
      "    'parentId': '656e3802b98181709b141201',\n",
      "    'tags': ['nucleus']},\n",
      "  { '_id': '656e3840b98181709b14153e',\n",
      "    'access': { 'groups': [],\n",
      "                'users': [ { 'flags': [],\n",
      "                             'id': '65689787d45237881913b68f',\n",
      "                             'level': 2}]},\n",
      "    'childId': '656e3815b98181709b1412fa',\n",
      "    'datasetId': '656e377ab98181709b14106c',\n",
      "    'parentId': '656e3813b98181709b1412d9',\n",
      "    'tags': ['nucleus']},\n",
      "  { '_id': '656e3840b98181709b14153f',\n",
      "    'access': { 'groups': [],\n",
      "                'users': [ { 'flags': [],\n",
      "                             'id': '65689787d45237881913b68f',\n",
      "                             'level': 2}]},\n",
      "    'childId': '656e3802b98181709b141201',\n",
      "    'datasetId': '656e377ab98181709b14106c',\n",
      "    'parentId': '656e37ffb98181709b1411db',\n",
      "    'tags': ['nucleus']},\n",
      "  { '_id': '656e3840b98181709b141540',\n",
      "    'access': { 'groups': [],\n",
      "                'users': [ { 'flags': [],\n",
      "                             'id': '65689787d45237881913b68f',\n",
      "                             'level': 2}]},\n",
      "    'childId': '656e3813b98181709b1412d9',\n",
      "    'datasetId': '656e377ab98181709b14106c',\n",
      "    'parentId': '656e3810b98181709b1412b8',\n",
      "    'tags': ['nucleus']},\n",
      "  { '_id': '656e3840b98181709b141541',\n",
      "    'access': { 'groups': [],\n",
      "                'users': [ { 'flags': [],\n",
      "                             'id': '65689787d45237881913b68f',\n",
      "                             'level': 2}]},\n",
      "    'childId': '656e37ffb98181709b1411db',\n",
      "    'datasetId': '656e377ab98181709b14106c',\n",
      "    'parentId': '656e37f8b98181709b141186',\n",
      "    'tags': ['nucleus']},\n",
      "  { '_id': '656e3840b98181709b141542',\n",
      "    'access': { 'groups': [],\n",
      "                'users': [ { 'flags': [],\n",
      "                             'id': '65689787d45237881913b68f',\n",
      "                             'level': 2}]},\n",
      "    'childId': '656e3810b98181709b1412b8',\n",
      "    'datasetId': '656e377ab98181709b14106c',\n",
      "    'parentId': '656e380db98181709b14128e',\n",
      "    'tags': ['nucleus']}]\n"
     ]
    }
   ],
   "source": [
    "import pprint\n",
    "print(datasetId)\n",
    "connectionList = annotationClient.getAnnotationConnections(datasetId)\n",
    "pprint.pprint(connectionList,indent=2)"
   ]
  },
  {
   "cell_type": "code",
   "execution_count": 24,
   "metadata": {},
   "outputs": [
    {
     "name": "stdout",
     "output_type": "stream",
     "text": [
      "{'656e37f8b98181709b141186': {'childId': '656e37ffb98181709b1411db',\n",
      "                              'parentId': None},\n",
      " '656e37ffb98181709b1411db': {'childId': '656e3802b98181709b141201',\n",
      "                              'parentId': '656e37f8b98181709b141186'},\n",
      " '656e3802b98181709b141201': {'childId': '656e3806b98181709b141231',\n",
      "                              'parentId': '656e37ffb98181709b1411db'},\n",
      " '656e3806b98181709b141231': {'childId': None,\n",
      "                              'parentId': '656e3802b98181709b141201'},\n",
      " '656e380db98181709b14128e': {'childId': '656e3810b98181709b1412b8',\n",
      "                              'parentId': None},\n",
      " '656e3810b98181709b1412b8': {'childId': '656e3813b98181709b1412d9',\n",
      "                              'parentId': '656e380db98181709b14128e'},\n",
      " '656e3813b98181709b1412d9': {'childId': '656e3815b98181709b1412fa',\n",
      "                              'parentId': '656e3810b98181709b1412b8'},\n",
      " '656e3815b98181709b1412fa': {'childId': None,\n",
      "                              'parentId': '656e3813b98181709b1412d9'}}\n"
     ]
    }
   ],
   "source": [
    "# Code below is for finding the parent/child annotations of a given tag.\n",
    "# Used for making a worker to return parent and child ID as a property of the annotation.\n",
    "exclusive = False\n",
    "tags = set(['nucleus'])\n",
    "annotationConnectionList = {}  # Initialize as a dictionary\n",
    "for connection in connectionList:\n",
    "    child_tags = set(annotationClient.getAnnotationById(connection['childId'])['tags'])\n",
    "    \n",
    "    # if the child matches the tags, then add the parent to the list as a parent of the current child annotation.\n",
    "    if (exclusive and (child_tags == tags)) or ((not exclusive) and (len(child_tags & tags) > 0)):\n",
    "        if connection['childId'] not in annotationConnectionList:\n",
    "            annotationConnectionList[connection['childId']] = { 'parentId': connection['parentId'], 'childId': None }\n",
    "        else:\n",
    "            annotationConnectionList[connection['childId']]['parentId'] = connection['parentId']\n",
    "\n",
    "    parent_tags = set(annotationClient.getAnnotationById(connection['parentId'])['tags'])\n",
    "    \n",
    "    # if the parent matches the tags, then add the child to the list as a child of the current parent annotation.\n",
    "    if (exclusive and (parent_tags == tags)) or ((not exclusive) and (len(parent_tags & tags) > 0)):\n",
    "        if connection['parentId'] not in annotationConnectionList:\n",
    "            annotationConnectionList[connection['parentId']] = { 'parentId': None, 'childId': connection['childId'] }\n",
    "        else:\n",
    "            annotationConnectionList[connection['parentId']]['childId'] = connection['childId']\n",
    "\n",
    "\n",
    "pprint.pprint(annotationConnectionList)"
   ]
  },
  {
   "cell_type": "code",
   "execution_count": 25,
   "metadata": {},
   "outputs": [
    {
     "name": "stdout",
     "output_type": "stream",
     "text": [
      "{'656e37f8b98181709b141186': 6,\n",
      " '656e37ffb98181709b1411db': 4,\n",
      " '656e3802b98181709b141201': 1,\n",
      " '656e3806b98181709b141231': 0,\n",
      " '656e380db98181709b14128e': 7,\n",
      " '656e3810b98181709b1412b8': 5,\n",
      " '656e3813b98181709b1412d9': 3,\n",
      " '656e3815b98181709b1412fa': 2}\n"
     ]
    }
   ],
   "source": [
    "id_to_integer_mapping = {}\n",
    "current_integer = 0\n",
    "\n",
    "for connection in connectionList:\n",
    "    for key in ['childId', 'parentId']:\n",
    "        id_value = connection[key]\n",
    "        if id_value not in id_to_integer_mapping:\n",
    "            id_to_integer_mapping[id_value] = current_integer\n",
    "            current_integer += 1\n",
    "\n",
    "pprint.pprint(id_to_integer_mapping)"
   ]
  },
  {
   "cell_type": "code",
   "execution_count": 15,
   "metadata": {},
   "outputs": [],
   "source": [
    "def find_matching_annotations_by_location(source, target_list, Time=True, XY=True, Z=True):\n",
    "    params = {'Time': Time, 'XY': XY, 'Z': Z}\n",
    "    return [target for target in target_list if all(source['location'].get(attr) == target['location'].get(attr) for attr, value in params.items() if value)]\n",
    "\n",
    "def find_closest_point(source, target_list):\n",
    "    min_distance = float('inf')\n",
    "    closest_point = None\n",
    "    for target in target_list:\n",
    "        if source['_id'] == target['_id']:\n",
    "            continue\n",
    "        distance = calculate_distance(source, target)\n",
    "        if distance < min_distance:\n",
    "            min_distance = distance\n",
    "            closest_point = target\n",
    "    return closest_point, min_distance"
   ]
  },
  {
   "cell_type": "code",
   "execution_count": 19,
   "metadata": {},
   "outputs": [
    {
     "name": "stdout",
     "output_type": "stream",
     "text": [
      "9\n",
      "10\n"
     ]
    }
   ],
   "source": [
    "inTags = ['outerPt']\n",
    "filteredPointList = annotation_tools.get_annotations_with_tags(pointAnnotationList,inTags,exclusive=False)\n",
    "print(len(filteredPointList))\n",
    "\n",
    "# workerInterface = params['workerInterface']\n",
    "tags = ['innerPt'] # set(workerInterface.get('Tags of points to measure distance to', None))\n",
    "exclusive = False # workerInterface['Target tag match'] == 'Exact'\n",
    "#targetPointList = annotation_tools.get_annotations_with_tags(pointAnnotationList,tags,exclusive=exclusive)\n",
    "#print(len(targetPointList))"
   ]
  },
  {
   "cell_type": "code",
   "execution_count": 26,
   "metadata": {},
   "outputs": [
    {
     "name": "stdout",
     "output_type": "stream",
     "text": [
      "1\n",
      "{'_id': '64aa9ac3f69bc320e7503878',\n",
      " 'access': {'groups': [],\n",
      "            'users': [{'flags': [],\n",
      "                       'id': '62891fc02060d362984bc104',\n",
      "                       'level': 2}]},\n",
      " 'childId': '64aa9aa1f69bc320e7503870',\n",
      " 'datasetId': '64aa2973f69bc320e7503648',\n",
      " 'label': 'Connection Add outerPt to innerPt',\n",
      " 'parentId': '64aa9aa7f69bc320e7503876',\n",
      " 'tags': ['outerPt', 'innerPt']}\n"
     ]
    }
   ],
   "source": [
    "myPoint = filteredPointList[7]\n",
    "children = annotationClient.getAnnotationConnections(datasetId,parentId=myPoint['_id'])\n",
    "print(len(children))\n",
    "pprint.pprint(children[0])\n"
   ]
  },
  {
   "cell_type": "code",
   "execution_count": 34,
   "metadata": {},
   "outputs": [],
   "source": [
    "def getChildAnnotationsFromConnections(connections):\n",
    "    child_annotations = []\n",
    "    for connection in connections:\n",
    "        childId = connection.get('childId')\n",
    "        if childId:\n",
    "            child_annotation = annotationClient.getAnnotationById(childId)\n",
    "            child_annotations.append(child_annotation)\n",
    "    return child_annotations"
   ]
  },
  {
   "cell_type": "code",
   "execution_count": 35,
   "metadata": {},
   "outputs": [],
   "source": [
    "def calculate_distance(point1, point2):\n",
    "    x1, y1, z1 = point1['coordinates'][0]['x'], point1['coordinates'][0]['y'], point1['coordinates'][0]['z']\n",
    "    x2, y2, z2 = point2['coordinates'][0]['x'], point2['coordinates'][0]['y'], point2['coordinates'][0]['z']\n",
    "    return math.sqrt((x2 - x1) ** 2 + (y2 - y1) ** 2 + (z2 - z1) ** 2)\n"
   ]
  },
  {
   "cell_type": "code",
   "execution_count": 36,
   "metadata": {},
   "outputs": [
    {
     "name": "stdout",
     "output_type": "stream",
     "text": [
      "[{'_id': '64aa9aa1f69bc320e7503870',\n",
      "  'access': {'groups': [],\n",
      "             'users': [{'flags': [],\n",
      "                        'id': '62891fc02060d362984bc104',\n",
      "                        'level': 2}]},\n",
      "  'channel': 1,\n",
      "  'coordinates': [{'x': 394.80699568892766, 'y': 399.6508790623366, 'z': 0}],\n",
      "  'datasetId': '64aa2973f69bc320e7503648',\n",
      "  'location': {'Time': 0, 'XY': 0, 'Z': 0},\n",
      "  'shape': 'point',\n",
      "  'tags': ['innerPt']}]\n"
     ]
    }
   ],
   "source": [
    "pprint.pprint(getChildAnnotationsFromConnections(children))"
   ]
  },
  {
   "cell_type": "code",
   "execution_count": null,
   "metadata": {},
   "outputs": [],
   "source": []
  },
  {
   "cell_type": "code",
   "execution_count": 38,
   "metadata": {},
   "outputs": [
    {
     "name": "stdout",
     "output_type": "stream",
     "text": [
      "7.65561016396188\n",
      "10.806361218119244\n"
     ]
    }
   ],
   "source": [
    "for source in filteredPointList:\n",
    "        connections = annotationClient.getAnnotationConnections(datasetId,parentId=source['_id'])\n",
    "        targetPointList = getChildAnnotationsFromConnections(connections)\n",
    "        \n",
    "        # Add the attributes you want to match as keyword arguments here. If no arguments are provided, all 'location' attributes will be matched.\n",
    "        closest_point, min_distance = find_closest_point(source, targetPointList)\n",
    "        \n",
    "        if min_distance != float('inf'):\n",
    "            print(min_distance) #workerClient.add_annotation_property_values(source, min_distance)"
   ]
  },
  {
   "cell_type": "markdown",
   "metadata": {},
   "source": [
    "BELOW HERE IS ALL JUST OLD STUFF"
   ]
  },
  {
   "cell_type": "code",
   "execution_count": 35,
   "metadata": {},
   "outputs": [
    {
     "data": {
      "text/plain": [
       "{'_id': '64b55ca5409e03c7075a87c3',\n",
       " 'access': {'groups': [],\n",
       "  'users': [{'flags': [], 'id': '62891fc02060d362984bc104', 'level': 2}]},\n",
       " 'channel': 0,\n",
       " 'coordinates': [{'x': 600.8816931197485, 'y': 430.72920634951333, 'z': 0}],\n",
       " 'datasetId': '64aa2973f69bc320e7503648',\n",
       " 'location': {'Time': 0, 'XY': 0, 'Z': 0},\n",
       " 'shape': 'point',\n",
       " 'tags': ['outerPt']}"
      ]
     },
     "execution_count": 35,
     "metadata": {},
     "output_type": "execute_result"
    }
   ],
   "source": [
    "point1 = pointAnnotationList[0]\n",
    "#pprint.pprint(point1)\n",
    "myPoint = {'channel': 0,'coordinates': [{'x': 600.8816931197485, 'y': 430.72920634951333, 'z': 0}],\n",
    " 'datasetId': '64aa2973f69bc320e7503648',\n",
    " 'location': {'Time': 0, 'XY': 0, 'Z': 0},\n",
    " 'shape': 'point',\n",
    " 'tags': ['outerPt']}\n",
    "\n",
    "#pprint.pprint(myPoint)\n",
    "annotationClient.createAnnotation(myPoint)"
   ]
  },
  {
   "cell_type": "code",
   "execution_count": 9,
   "metadata": {},
   "outputs": [
    {
     "name": "stdout",
     "output_type": "stream",
     "text": [
      "8\n",
      "10\n"
     ]
    }
   ],
   "source": [
    "filteredPointList = annotation_tools.get_annotations_with_tags(pointAnnotationList,['outerPt'],exclusive=False)\n",
    "print(len(filteredPointList))\n",
    "targetPointList = annotation_tools.get_annotations_with_tags(pointAnnotationList,['innerPt'],exclusive=False)\n",
    "print(len(targetPointList))"
   ]
  },
  {
   "cell_type": "code",
   "execution_count": 31,
   "metadata": {},
   "outputs": [
    {
     "name": "stdout",
     "output_type": "stream",
     "text": [
      "64aa2973f69bc320e7503648\n",
      "{'_id': '64aa9970f69bc320e7503830',\n",
      " 'access': {'groups': [],\n",
      "            'users': [{'flags': [],\n",
      "                       'id': '62891fc02060d362984bc104',\n",
      "                       'level': 2}]},\n",
      " 'channel': 0,\n",
      " 'coordinates': [{'x': 288.8816931197485, 'y': 430.72920634951333, 'z': 0}],\n",
      " 'datasetId': '64aa2973f69bc320e7503648',\n",
      " 'location': {'Time': 0, 'XY': 0, 'Z': 0},\n",
      " 'shape': 'point',\n",
      " 'tags': ['outerPt']}\n",
      "{'_id': '64aa99e3f69bc320e7503856',\n",
      " 'access': {'groups': [],\n",
      "            'users': [{'flags': [],\n",
      "                       'id': '62891fc02060d362984bc104',\n",
      "                       'level': 2}]},\n",
      " 'channel': 1,\n",
      " 'coordinates': [{'x': 323.7430687831708, 'y': 462.975978838179, 'z': 0}],\n",
      " 'datasetId': '64aa2973f69bc320e7503648',\n",
      " 'location': {'Time': 0, 'XY': 0, 'Z': 0},\n",
      " 'shape': 'point',\n",
      " 'tags': ['innerPt']}\n",
      "['outerPt', 'innerPt']\n",
      "{'childId': '64aa99e3f69bc320e7503856',\n",
      " 'datasetId': '64aa2973f69bc320e7503648',\n",
      " 'parentId': '64aa9970f69bc320e7503830',\n",
      " 'tags': ['outerPt', 'innerPt']}\n"
     ]
    },
    {
     "ename": "HttpError",
     "evalue": "HTTP error 400: POST http://localhost:8080/api/v1//annotation_connection/\nResponse text: {\"message\": \"'tags' is a required property\\n\\nFailed validating 'required' in schema:\\n    {'$schema': 'http://json-schema.org/schema#',\\n     'id': '/girder/plugins/upenncontrast_annotation/models/annotation_connection',\\n     'properties': {'childId': {'type': 'string'},\\n                    'datasetId': {'type': 'string'},\\n                    'label': {'type': 'string'},\\n                    'parentId': {'type': 'string'},\\n                    'tags': {'items': {'type': 'string'}, 'type': 'array'}},\\n     'required': ['parentId', 'childId', 'datasetId', 'tags'],\\n     'type': 'object'}\\n\\nOn instance:\\n    {'access': {'groups': [],\\n                'users': [{'flags': [],\\n                           'id': ObjectId('62891fc02060d362984bc104'),\\n                           'level': 2}]},\\n     'childId': '64aa99e3f69bc320e7503856',\\n     'datasetId': '64aa2973f69bc320e7503648',\\n     'parentId': '64aa9970f69bc320e7503830'}\", \"type\": \"validation\"}",
     "output_type": "error",
     "traceback": [
      "\u001b[0;31m---------------------------------------------------------------------------\u001b[0m",
      "\u001b[0;31mHttpError\u001b[0m                                 Traceback (most recent call last)",
      "Cell \u001b[0;32mIn[31], line 14\u001b[0m\n\u001b[1;32m     11\u001b[0m pprint\u001b[39m.\u001b[39mpprint(myNewConnection)\n\u001b[1;32m     13\u001b[0m \u001b[39m#annotationClient.client.post(PATHS['connection'], json=myNewConnection)\u001b[39;00m\n\u001b[0;32m---> 14\u001b[0m annotationClient\u001b[39m.\u001b[39;49mcreateConnection(myNewConnection)\n",
      "File \u001b[0;32m~/code/GitHub/UPennContrast/devops/girder/annotation_client/annotation_client/annotations.py:164\u001b[0m, in \u001b[0;36mUPennContrastAnnotationClient.createConnection\u001b[0;34m(self, connection)\u001b[0m\n\u001b[1;32m    155\u001b[0m \u001b[39mdef\u001b[39;00m \u001b[39mcreateConnection\u001b[39m(\u001b[39mself\u001b[39m, connection):\n\u001b[1;32m    156\u001b[0m \u001b[39m    \u001b[39m\u001b[39m\"\"\"\u001b[39;00m\n\u001b[1;32m    157\u001b[0m \u001b[39m    Create a connection with the specified metadata.\u001b[39;00m\n\u001b[1;32m    158\u001b[0m \u001b[39m    The connection dict should match the standard UPennContrast connection schema\u001b[39;00m\n\u001b[0;32m   (...)\u001b[0m\n\u001b[1;32m    162\u001b[0m \u001b[39m    :rtype: dict\u001b[39;00m\n\u001b[1;32m    163\u001b[0m \u001b[39m    \"\"\"\u001b[39;00m\n\u001b[0;32m--> 164\u001b[0m     \u001b[39mreturn\u001b[39;00m \u001b[39mself\u001b[39;49m\u001b[39m.\u001b[39;49mclient\u001b[39m.\u001b[39;49mpost(PATHS[\u001b[39m'\u001b[39;49m\u001b[39mconnection\u001b[39;49m\u001b[39m'\u001b[39;49m], json\u001b[39m=\u001b[39;49mconnection)\n",
      "File \u001b[0;32m~/Library/Python/3.9/lib/python/site-packages/girder_client/__init__.py:478\u001b[0m, in \u001b[0;36mGirderClient.post\u001b[0;34m(self, path, parameters, files, data, json, headers, jsonResp)\u001b[0m\n\u001b[1;32m    473\u001b[0m \u001b[39mdef\u001b[39;00m \u001b[39mpost\u001b[39m(\u001b[39mself\u001b[39m, path, parameters\u001b[39m=\u001b[39m\u001b[39mNone\u001b[39;00m, files\u001b[39m=\u001b[39m\u001b[39mNone\u001b[39;00m, data\u001b[39m=\u001b[39m\u001b[39mNone\u001b[39;00m, json\u001b[39m=\u001b[39m\u001b[39mNone\u001b[39;00m, headers\u001b[39m=\u001b[39m\u001b[39mNone\u001b[39;00m,\n\u001b[1;32m    474\u001b[0m          jsonResp\u001b[39m=\u001b[39m\u001b[39mTrue\u001b[39;00m):\n\u001b[1;32m    475\u001b[0m \u001b[39m    \u001b[39m\u001b[39m\"\"\"\u001b[39;00m\n\u001b[1;32m    476\u001b[0m \u001b[39m    Convenience method to call :py:func:`sendRestRequest` with the 'POST' HTTP method.\u001b[39;00m\n\u001b[1;32m    477\u001b[0m \u001b[39m    \"\"\"\u001b[39;00m\n\u001b[0;32m--> 478\u001b[0m     \u001b[39mreturn\u001b[39;00m \u001b[39mself\u001b[39;49m\u001b[39m.\u001b[39;49msendRestRequest(\u001b[39m'\u001b[39;49m\u001b[39mPOST\u001b[39;49m\u001b[39m'\u001b[39;49m, path, parameters, files\u001b[39m=\u001b[39;49mfiles,\n\u001b[1;32m    479\u001b[0m                                 data\u001b[39m=\u001b[39;49mdata, json\u001b[39m=\u001b[39;49mjson, headers\u001b[39m=\u001b[39;49mheaders, jsonResp\u001b[39m=\u001b[39;49mjsonResp)\n",
      "File \u001b[0;32m~/Library/Python/3.9/lib/python/site-packages/girder_client/__init__.py:463\u001b[0m, in \u001b[0;36mGirderClient.sendRestRequest\u001b[0;34m(self, method, path, parameters, data, files, json, headers, jsonResp, **kwargs)\u001b[0m\n\u001b[1;32m    461\u001b[0m         \u001b[39mreturn\u001b[39;00m result\n\u001b[1;32m    462\u001b[0m \u001b[39melse\u001b[39;00m:\n\u001b[0;32m--> 463\u001b[0m     \u001b[39mraise\u001b[39;00m HttpError(\n\u001b[1;32m    464\u001b[0m         status\u001b[39m=\u001b[39mresult\u001b[39m.\u001b[39mstatus_code, url\u001b[39m=\u001b[39mresult\u001b[39m.\u001b[39murl, method\u001b[39m=\u001b[39mmethod, text\u001b[39m=\u001b[39mresult\u001b[39m.\u001b[39mtext,\n\u001b[1;32m    465\u001b[0m         response\u001b[39m=\u001b[39mresult)\n",
      "\u001b[0;31mHttpError\u001b[0m: HTTP error 400: POST http://localhost:8080/api/v1//annotation_connection/\nResponse text: {\"message\": \"'tags' is a required property\\n\\nFailed validating 'required' in schema:\\n    {'$schema': 'http://json-schema.org/schema#',\\n     'id': '/girder/plugins/upenncontrast_annotation/models/annotation_connection',\\n     'properties': {'childId': {'type': 'string'},\\n                    'datasetId': {'type': 'string'},\\n                    'label': {'type': 'string'},\\n                    'parentId': {'type': 'string'},\\n                    'tags': {'items': {'type': 'string'}, 'type': 'array'}},\\n     'required': ['parentId', 'childId', 'datasetId', 'tags'],\\n     'type': 'object'}\\n\\nOn instance:\\n    {'access': {'groups': [],\\n                'users': [{'flags': [],\\n                           'id': ObjectId('62891fc02060d362984bc104'),\\n                           'level': 2}]},\\n     'childId': '64aa99e3f69bc320e7503856',\\n     'datasetId': '64aa2973f69bc320e7503648',\\n     'parentId': '64aa9970f69bc320e7503830'}\", \"type\": \"validation\"}"
     ]
    }
   ],
   "source": [
    "annotation1 = filteredPointList[0].copy()\n",
    "annotation2 = targetPointList[0].copy()\n",
    "print(datasetId)\n",
    "pprint.pprint(annotation1)\n",
    "pprint.pprint(annotation2)\n",
    "\n",
    "combined_tags = list(set(annotation1['tags'] + annotation2['tags']))\n",
    "print(combined_tags)\n",
    "\n",
    "myNewConnection = {'datasetId': datasetId,'parentId': annotation1['_id'], 'childId': annotation2['_id'],'tags': combined_tags}\n",
    "pprint.pprint(myNewConnection)\n",
    "\n",
    "#annotationClient.client.post(PATHS['connection'], json=myNewConnection)\n",
    "annotationClient.createConnection(myNewConnection)\n"
   ]
  },
  {
   "cell_type": "code",
   "execution_count": 30,
   "metadata": {},
   "outputs": [
    {
     "ename": "HttpError",
     "evalue": "HTTP error 400: POST http://localhost:8080/api/v1//annotation_connection/\nResponse text: {\"message\": \"'tags' is a required property\\n\\nFailed validating 'required' in schema:\\n    {'$schema': 'http://json-schema.org/schema#',\\n     'id': '/girder/plugins/upenncontrast_annotation/models/annotation_connection',\\n     'properties': {'childId': {'type': 'string'},\\n                    'datasetId': {'type': 'string'},\\n                    'label': {'type': 'string'},\\n                    'parentId': {'type': 'string'},\\n                    'tags': {'items': {'type': 'string'}, 'type': 'array'}},\\n     'required': ['parentId', 'childId', 'datasetId', 'tags'],\\n     'type': 'object'}\\n\\nOn instance:\\n    {'access': {'groups': [],\\n                'users': [{'flags': [],\\n                           'id': ObjectId('62891fc02060d362984bc104'),\\n                           'level': 2}]},\\n     'childId': '64aa99e3f69bc320e7503856',\\n     'datasetId': '64aa2973f69bc320e7503648',\\n     'parentId': '64aa9970f69bc320e7503830'}\", \"type\": \"validation\"}",
     "output_type": "error",
     "traceback": [
      "\u001b[0;31m---------------------------------------------------------------------------\u001b[0m",
      "\u001b[0;31mHttpError\u001b[0m                                 Traceback (most recent call last)",
      "Cell \u001b[0;32mIn[30], line 18\u001b[0m\n\u001b[1;32m      1\u001b[0m data \u001b[39m=\u001b[39m {\n\u001b[1;32m      2\u001b[0m     \u001b[39m'\u001b[39m\u001b[39maccess\u001b[39m\u001b[39m'\u001b[39m: {\n\u001b[1;32m      3\u001b[0m         \u001b[39m'\u001b[39m\u001b[39mgroups\u001b[39m\u001b[39m'\u001b[39m: [],\n\u001b[0;32m   (...)\u001b[0m\n\u001b[1;32m     15\u001b[0m     \u001b[39m\"\u001b[39m\u001b[39mtags\u001b[39m\u001b[39m\"\u001b[39m: [\u001b[39m\"\u001b[39m\u001b[39minnerPt\u001b[39m\u001b[39m\"\u001b[39m, \u001b[39m\"\u001b[39m\u001b[39mouterPt\u001b[39m\u001b[39m\"\u001b[39m]  \u001b[39m# Add this line\u001b[39;00m\n\u001b[1;32m     16\u001b[0m }\n\u001b[0;32m---> 18\u001b[0m annotationClient\u001b[39m.\u001b[39;49mcreateConnection(data)\n",
      "File \u001b[0;32m~/code/GitHub/UPennContrast/devops/girder/annotation_client/annotation_client/annotations.py:164\u001b[0m, in \u001b[0;36mUPennContrastAnnotationClient.createConnection\u001b[0;34m(self, connection)\u001b[0m\n\u001b[1;32m    155\u001b[0m \u001b[39mdef\u001b[39;00m \u001b[39mcreateConnection\u001b[39m(\u001b[39mself\u001b[39m, connection):\n\u001b[1;32m    156\u001b[0m \u001b[39m    \u001b[39m\u001b[39m\"\"\"\u001b[39;00m\n\u001b[1;32m    157\u001b[0m \u001b[39m    Create a connection with the specified metadata.\u001b[39;00m\n\u001b[1;32m    158\u001b[0m \u001b[39m    The connection dict should match the standard UPennContrast connection schema\u001b[39;00m\n\u001b[0;32m   (...)\u001b[0m\n\u001b[1;32m    162\u001b[0m \u001b[39m    :rtype: dict\u001b[39;00m\n\u001b[1;32m    163\u001b[0m \u001b[39m    \"\"\"\u001b[39;00m\n\u001b[0;32m--> 164\u001b[0m     \u001b[39mreturn\u001b[39;00m \u001b[39mself\u001b[39;49m\u001b[39m.\u001b[39;49mclient\u001b[39m.\u001b[39;49mpost(PATHS[\u001b[39m'\u001b[39;49m\u001b[39mconnection\u001b[39;49m\u001b[39m'\u001b[39;49m], json\u001b[39m=\u001b[39;49mconnection)\n",
      "File \u001b[0;32m~/Library/Python/3.9/lib/python/site-packages/girder_client/__init__.py:478\u001b[0m, in \u001b[0;36mGirderClient.post\u001b[0;34m(self, path, parameters, files, data, json, headers, jsonResp)\u001b[0m\n\u001b[1;32m    473\u001b[0m \u001b[39mdef\u001b[39;00m \u001b[39mpost\u001b[39m(\u001b[39mself\u001b[39m, path, parameters\u001b[39m=\u001b[39m\u001b[39mNone\u001b[39;00m, files\u001b[39m=\u001b[39m\u001b[39mNone\u001b[39;00m, data\u001b[39m=\u001b[39m\u001b[39mNone\u001b[39;00m, json\u001b[39m=\u001b[39m\u001b[39mNone\u001b[39;00m, headers\u001b[39m=\u001b[39m\u001b[39mNone\u001b[39;00m,\n\u001b[1;32m    474\u001b[0m          jsonResp\u001b[39m=\u001b[39m\u001b[39mTrue\u001b[39;00m):\n\u001b[1;32m    475\u001b[0m \u001b[39m    \u001b[39m\u001b[39m\"\"\"\u001b[39;00m\n\u001b[1;32m    476\u001b[0m \u001b[39m    Convenience method to call :py:func:`sendRestRequest` with the 'POST' HTTP method.\u001b[39;00m\n\u001b[1;32m    477\u001b[0m \u001b[39m    \"\"\"\u001b[39;00m\n\u001b[0;32m--> 478\u001b[0m     \u001b[39mreturn\u001b[39;00m \u001b[39mself\u001b[39;49m\u001b[39m.\u001b[39;49msendRestRequest(\u001b[39m'\u001b[39;49m\u001b[39mPOST\u001b[39;49m\u001b[39m'\u001b[39;49m, path, parameters, files\u001b[39m=\u001b[39;49mfiles,\n\u001b[1;32m    479\u001b[0m                                 data\u001b[39m=\u001b[39;49mdata, json\u001b[39m=\u001b[39;49mjson, headers\u001b[39m=\u001b[39;49mheaders, jsonResp\u001b[39m=\u001b[39;49mjsonResp)\n",
      "File \u001b[0;32m~/Library/Python/3.9/lib/python/site-packages/girder_client/__init__.py:463\u001b[0m, in \u001b[0;36mGirderClient.sendRestRequest\u001b[0;34m(self, method, path, parameters, data, files, json, headers, jsonResp, **kwargs)\u001b[0m\n\u001b[1;32m    461\u001b[0m         \u001b[39mreturn\u001b[39;00m result\n\u001b[1;32m    462\u001b[0m \u001b[39melse\u001b[39;00m:\n\u001b[0;32m--> 463\u001b[0m     \u001b[39mraise\u001b[39;00m HttpError(\n\u001b[1;32m    464\u001b[0m         status\u001b[39m=\u001b[39mresult\u001b[39m.\u001b[39mstatus_code, url\u001b[39m=\u001b[39mresult\u001b[39m.\u001b[39murl, method\u001b[39m=\u001b[39mmethod, text\u001b[39m=\u001b[39mresult\u001b[39m.\u001b[39mtext,\n\u001b[1;32m    465\u001b[0m         response\u001b[39m=\u001b[39mresult)\n",
      "\u001b[0;31mHttpError\u001b[0m: HTTP error 400: POST http://localhost:8080/api/v1//annotation_connection/\nResponse text: {\"message\": \"'tags' is a required property\\n\\nFailed validating 'required' in schema:\\n    {'$schema': 'http://json-schema.org/schema#',\\n     'id': '/girder/plugins/upenncontrast_annotation/models/annotation_connection',\\n     'properties': {'childId': {'type': 'string'},\\n                    'datasetId': {'type': 'string'},\\n                    'label': {'type': 'string'},\\n                    'parentId': {'type': 'string'},\\n                    'tags': {'items': {'type': 'string'}, 'type': 'array'}},\\n     'required': ['parentId', 'childId', 'datasetId', 'tags'],\\n     'type': 'object'}\\n\\nOn instance:\\n    {'access': {'groups': [],\\n                'users': [{'flags': [],\\n                           'id': ObjectId('62891fc02060d362984bc104'),\\n                           'level': 2}]},\\n     'childId': '64aa99e3f69bc320e7503856',\\n     'datasetId': '64aa2973f69bc320e7503648',\\n     'parentId': '64aa9970f69bc320e7503830'}\", \"type\": \"validation\"}"
     ]
    }
   ],
   "source": [
    "data = {\n",
    "    'access': {\n",
    "        'groups': [],\n",
    "        'users': [\n",
    "            {\n",
    "                'flags': [],\n",
    "                'id': '62891fc02060d362984bc104',\n",
    "                'level': 2\n",
    "            }\n",
    "        ]\n",
    "    },\n",
    "    'childId': '64aa99e3f69bc320e7503856',\n",
    "    'datasetId': '64aa2973f69bc320e7503648',\n",
    "    'parentId': '64aa9970f69bc320e7503830',\n",
    "    \"tags\": [\"innerPt\", \"outerPt\"]  # Add this line\n",
    "}\n",
    "\n",
    "annotationClient.createConnection(data)"
   ]
  },
  {
   "cell_type": "code",
   "execution_count": null,
   "metadata": {},
   "outputs": [],
   "source": []
  },
  {
   "cell_type": "code",
   "execution_count": 10,
   "metadata": {},
   "outputs": [
    {
     "name": "stdout",
     "output_type": "stream",
     "text": [
      "For point id 64aa9970f69bc320e7503830, closest point is 64aa99e4f69bc320e7503858 with distance 44.97019871692391\n",
      "For point id 64aa9971f69bc320e7503832, closest point is 64aa99e4f69bc320e7503858 with distance 40.542745732502006\n",
      "For point id 64aa9972f69bc320e7503834, closest point is 64aa99ecf69bc320e7503864 with distance 22.147569722466812\n",
      "For point id 64aa9972f69bc320e7503836, closest point is 64aa99e3f69bc320e7503856 with distance 23.26450919111039\n",
      "For point id 64aa9973f69bc320e7503838, closest point is 64aa99e4f69bc320e7503858 with distance 15.882769465319464\n",
      "For point id 64aa9974f69bc320e750383a, closest point is 64aa99e4f69bc320e7503858 with distance 36.323228159944755\n",
      "For point id 64aa9990f69bc320e7503852, closest point is 64aa9a46f69bc320e750386c with distance 7.65561016396188\n"
     ]
    },
    {
     "ename": "TypeError",
     "evalue": "'NoneType' object is not subscriptable",
     "output_type": "error",
     "traceback": [
      "\u001b[0;31m---------------------------------------------------------------------------\u001b[0m",
      "\u001b[0;31mTypeError\u001b[0m                                 Traceback (most recent call last)",
      "Cell \u001b[0;32mIn[10], line 58\u001b[0m\n\u001b[1;32m     56\u001b[0m     matching_annotations \u001b[39m=\u001b[39m find_matching_annotations_by_location(source, targetPointList, Time\u001b[39m=\u001b[39m\u001b[39mTrue\u001b[39;00m, XY\u001b[39m=\u001b[39m\u001b[39mTrue\u001b[39;00m)\n\u001b[1;32m     57\u001b[0m     closest_point, min_distance \u001b[39m=\u001b[39m find_closest_point(source, matching_annotations)\n\u001b[0;32m---> 58\u001b[0m     \u001b[39mprint\u001b[39m(\u001b[39mf\u001b[39m\u001b[39m\"\u001b[39m\u001b[39mFor point id \u001b[39m\u001b[39m{\u001b[39;00msource[\u001b[39m'\u001b[39m\u001b[39m_id\u001b[39m\u001b[39m'\u001b[39m]\u001b[39m}\u001b[39;00m\u001b[39m, closest point is \u001b[39m\u001b[39m{\u001b[39;00mclosest_point[\u001b[39m'\u001b[39m\u001b[39m_id\u001b[39m\u001b[39m'\u001b[39m]\u001b[39m}\u001b[39;00m\u001b[39m with distance \u001b[39m\u001b[39m{\u001b[39;00mmin_distance\u001b[39m}\u001b[39;00m\u001b[39m\"\u001b[39m)\n\u001b[1;32m     60\u001b[0m \u001b[39mfor\u001b[39;00m source \u001b[39min\u001b[39;00m filteredPointList:\n\u001b[1;32m     61\u001b[0m     \u001b[39m# Add the attributes you want to match as keyword arguments here. If no arguments are provided, all 'location' attributes will be matched.\u001b[39;00m\n\u001b[1;32m     62\u001b[0m     matching_annotations \u001b[39m=\u001b[39m find_matching_annotations_by_location(source, targetPointList)\n",
      "\u001b[0;31mTypeError\u001b[0m: 'NoneType' object is not subscriptable"
     ]
    }
   ],
   "source": [
    "import math\n",
    "\n",
    "def calculate_distance(point1, point2):\n",
    "    x1, y1, z1 = point1['coordinates'][0]['x'], point1['coordinates'][0]['y'], point1['coordinates'][0]['z']\n",
    "    x2, y2, z2 = point2['coordinates'][0]['x'], point2['coordinates'][0]['y'], point2['coordinates'][0]['z']\n",
    "    return math.sqrt((x2 - x1) ** 2 + (y2 - y1) ** 2 + (z2 - z1) ** 2)\n",
    "\n",
    "\n",
    "def find_matching_annotations_by_location(source, target_list, Time=True, XY=True, Z=True):\n",
    "    \"\"\"\n",
    "    This function filters the target_list based on the 'location' of the source point.\n",
    "    The function parameters 'Time', 'XY', and 'Z' can be set to True or False to specify whether these 'location' attributes need to be matched.\n",
    "    By default, all of these parameters are set to True, meaning all 'location' attributes need to match.\n",
    "\n",
    "    Parameters:\n",
    "    source (dict): The source point annotation object\n",
    "    target_list (list): The list of target point annotation objects\n",
    "    Time (bool): Specifies whether the 'Time' attribute of 'location' needs to be matched. Default is True.\n",
    "    XY (bool): Specifies whether the 'XY' attribute of 'location' needs to be matched. Default is True.\n",
    "    Z (bool): Specifies whether the 'Z' attribute of 'location' needs to be matched. Default is True.\n",
    "\n",
    "    Returns:\n",
    "    list: The filtered list of target point annotation objects that match the specified 'location' attributes\n",
    "\n",
    "    Example of usage:\n",
    "    1) Matching all 'location' attributes:\n",
    "    source = {...}  # source point annotation object\n",
    "    target_list = [...]  # target point annotation list\n",
    "    matching_annotations = find_matching_annotations_by_location(source, target_list)\n",
    "\n",
    "    2) Matching specified 'location' attributes (in this case, 'Time' and 'XY'):\n",
    "    source = {...}  # source point annotation object\n",
    "    target_list = [...]  # target point annotation list\n",
    "    matching_annotations = find_matching_annotations_by_location(source, target_list, Time=True, XY=True, Z=False)\n",
    "    \"\"\"\n",
    "    params = {'Time': Time, 'XY': XY, 'Z': Z}\n",
    "    return [target for target in target_list if all(source['location'].get(attr) == target['location'].get(attr) for attr, value in params.items() if value)]\n",
    "\n",
    "def find_closest_point(source, target_list):\n",
    "    min_distance = float('inf')\n",
    "    closest_point = None\n",
    "    for target in target_list:\n",
    "        if source['_id'] == target['_id']:\n",
    "            continue\n",
    "        distance = calculate_distance(source, target)\n",
    "        if distance < min_distance:\n",
    "            min_distance = distance\n",
    "            closest_point = target\n",
    "    return closest_point, min_distance\n",
    "\n",
    "#filteredPointList = [...]  # Your filteredPointList here\n",
    "#targetPointList = [...]  # Your targetPointList here\n",
    "\n",
    "for source in filteredPointList:\n",
    "    # Add the attributes you want to match as keyword arguments here. If no arguments are provided, all 'location' attributes will be matched.\n",
    "    matching_annotations = find_matching_annotations_by_location(source, targetPointList, Time=True, XY=True)\n",
    "    closest_point, min_distance = find_closest_point(source, matching_annotations)\n",
    "    print(f\"For point id {source['_id']}, closest point is {closest_point['_id']} with distance {min_distance}\")\n",
    "\n",
    "for source in filteredPointList:\n",
    "    # Add the attributes you want to match as keyword arguments here. If no arguments are provided, all 'location' attributes will be matched.\n",
    "    matching_annotations = find_matching_annotations_by_location(source, targetPointList)\n",
    "    closest_point, min_distance = find_closest_point(source, matching_annotations)\n",
    "    print(f\"For point id {source['_id']}, closest point is {closest_point['_id']} with distance {min_distance}\")\n",
    "\n"
   ]
  },
  {
   "cell_type": "code",
   "execution_count": 28,
   "metadata": {},
   "outputs": [
    {
     "name": "stdout",
     "output_type": "stream",
     "text": [
      "None\n",
      "inf\n"
     ]
    }
   ],
   "source": [
    "print(closest_point)\n",
    "print(min_distance)"
   ]
  },
  {
   "cell_type": "code",
   "execution_count": 25,
   "metadata": {},
   "outputs": [
    {
     "name": "stdout",
     "output_type": "stream",
     "text": [
      "164.89992701209385\n"
     ]
    }
   ],
   "source": [
    "import math\n",
    "\n",
    "def calculate_distance(p1, p2):\n",
    "    return math.sqrt((p2['x'] - p1['x'])**2 + (p2['y'] - p1['y'])**2 + (p2['z'] - p1['z'])**2)\n",
    "\n",
    "def total_length(line):\n",
    "    coordinates = line['coordinates']\n",
    "    return sum(calculate_distance(coordinates[i], coordinates[i+1]) for i in range(len(coordinates)-1))\n",
    "\n",
    "myLine = lineAnnotationList[2]\n",
    "print(total_length(myLine))\n"
   ]
  },
  {
   "attachments": {},
   "cell_type": "markdown",
   "metadata": {},
   "source": [
    "Now let's try to push a new annotation"
   ]
  },
  {
   "cell_type": "code",
   "execution_count": 40,
   "metadata": {},
   "outputs": [
    {
     "data": {
      "text/plain": [
       "{'_id': '64a7006f1ed2b05b5e1d8b83',\n",
       " 'access': {'groups': [],\n",
       "  'users': [{'flags': [], 'id': '62891fc02060d362984bc104', 'level': 2}]},\n",
       " 'channel': 1,\n",
       " 'coordinates': [{'x': 10.0, 'y': 10.0},\n",
       "  {'x': 30.0, 'y': 10.0},\n",
       "  {'x': 30.0, 'y': 30.0},\n",
       "  {'x': 10.0, 'y': 30.0}],\n",
       " 'datasetId': '649b6efb5d422edecab7f9d8',\n",
       " 'location': {'Time': 0, 'XY': 0, 'Z': 0},\n",
       " 'shape': 'polygon',\n",
       " 'tags': ['newTag']}"
      ]
     },
     "execution_count": 40,
     "metadata": {},
     "output_type": "execute_result"
    }
   ],
   "source": [
    "# Make a small square at the top left of the image\n",
    "square_coords = [(10, 10),(30, 10),(30, 30),(10, 30)]\n",
    "\n",
    "newAnnotation = {\n",
    "    \"tags\": ['newTag'], # *** NEED TO UPDATE TO ADD A NEW TAG ****\n",
    "    \"shape\": \"polygon\",\n",
    "    \"channel\": blobAnnotationList[0]['channel'],\n",
    "    \"location\": blobAnnotationList[0]['location'],\n",
    "    \"datasetId\": blobAnnotationList[0]['datasetId'],\n",
    "    \"coordinates\": [{\"x\": float(coord[0]), \"y\": float(coord[1])} for coord in square_coords]\n",
    "}\n",
    "annotationClient.createAnnotation(newAnnotation)\n"
   ]
  },
  {
   "cell_type": "code",
   "execution_count": null,
   "metadata": {},
   "outputs": [],
   "source": []
  }
 ],
 "metadata": {
  "kernelspec": {
   "display_name": "Python 3",
   "language": "python",
   "name": "python3"
  },
  "language_info": {
   "codemirror_mode": {
    "name": "ipython",
    "version": 3
   },
   "file_extension": ".py",
   "mimetype": "text/x-python",
   "name": "python",
   "nbconvert_exporter": "python",
   "pygments_lexer": "ipython3",
   "version": "3.9.6"
  },
  "orig_nbformat": 4
 },
 "nbformat": 4,
 "nbformat_minor": 2
}
