{
 "cells": [
  {
   "cell_type": "code",
   "execution_count": 1,
   "metadata": {},
   "outputs": [
    {
     "name": "stdout",
     "output_type": "stream",
     "text": [
      "Defaulting to user installation because normal site-packages is not writeable\n",
      "Requirement already satisfied: girder-client in /Users/arjunraj/Library/Python/3.9/lib/python/site-packages (from -r /Users/arjunraj/code/GitHub/UPennContrast/devops/girder/annotation_client/requirements.txt (line 1)) (3.1.20)\n",
      "Requirement already satisfied: diskcache in /Users/arjunraj/Library/Python/3.9/lib/python/site-packages (from girder-client->-r /Users/arjunraj/code/GitHub/UPennContrast/devops/girder/annotation_client/requirements.txt (line 1)) (5.6.1)\n",
      "Requirement already satisfied: requests-toolbelt in /Users/arjunraj/Library/Python/3.9/lib/python/site-packages (from girder-client->-r /Users/arjunraj/code/GitHub/UPennContrast/devops/girder/annotation_client/requirements.txt (line 1)) (1.0.0)\n",
      "Requirement already satisfied: requests>=2.4.2 in /Users/arjunraj/Library/Python/3.9/lib/python/site-packages (from girder-client->-r /Users/arjunraj/code/GitHub/UPennContrast/devops/girder/annotation_client/requirements.txt (line 1)) (2.31.0)\n",
      "Requirement already satisfied: click>=6.7 in /Users/arjunraj/Library/Python/3.9/lib/python/site-packages (from girder-client->-r /Users/arjunraj/code/GitHub/UPennContrast/devops/girder/annotation_client/requirements.txt (line 1)) (8.1.3)\n",
      "Requirement already satisfied: charset-normalizer<4,>=2 in /Users/arjunraj/Library/Python/3.9/lib/python/site-packages (from requests>=2.4.2->girder-client->-r /Users/arjunraj/code/GitHub/UPennContrast/devops/girder/annotation_client/requirements.txt (line 1)) (3.1.0)\n",
      "Requirement already satisfied: urllib3<3,>=1.21.1 in /Users/arjunraj/Library/Python/3.9/lib/python/site-packages (from requests>=2.4.2->girder-client->-r /Users/arjunraj/code/GitHub/UPennContrast/devops/girder/annotation_client/requirements.txt (line 1)) (2.0.3)\n",
      "Requirement already satisfied: certifi>=2017.4.17 in /Users/arjunraj/Library/Python/3.9/lib/python/site-packages (from requests>=2.4.2->girder-client->-r /Users/arjunraj/code/GitHub/UPennContrast/devops/girder/annotation_client/requirements.txt (line 1)) (2023.5.7)\n",
      "Requirement already satisfied: idna<4,>=2.5 in /Users/arjunraj/Library/Python/3.9/lib/python/site-packages (from requests>=2.4.2->girder-client->-r /Users/arjunraj/code/GitHub/UPennContrast/devops/girder/annotation_client/requirements.txt (line 1)) (3.4)\n",
      "\u001b[33mWARNING: You are using pip version 21.2.4; however, version 23.1.2 is available.\n",
      "You should consider upgrading via the '/Applications/Xcode.app/Contents/Developer/usr/bin/python3 -m pip install --upgrade pip' command.\u001b[0m\n",
      "Note: you may need to restart the kernel to use updated packages.\n",
      "Defaulting to user installation because normal site-packages is not writeable\n",
      "Obtaining file:///Users/arjunraj/code/GitHub/UPennContrast/devops/girder/annotation_client\n",
      "Installing collected packages: annotation-client\n",
      "  Attempting uninstall: annotation-client\n",
      "    Found existing installation: annotation-client 0.1\n",
      "    Uninstalling annotation-client-0.1:\n",
      "      Successfully uninstalled annotation-client-0.1\n",
      "  Running setup.py develop for annotation-client\n",
      "Successfully installed annotation-client-0.1\n",
      "\u001b[33mWARNING: You are using pip version 21.2.4; however, version 23.1.2 is available.\n",
      "You should consider upgrading via the '/Applications/Xcode.app/Contents/Developer/usr/bin/python3 -m pip install --upgrade pip' command.\u001b[0m\n",
      "Note: you may need to restart the kernel to use updated packages.\n",
      "Defaulting to user installation because normal site-packages is not writeable\n",
      "Requirement already satisfied: pandas in /Users/arjunraj/Library/Python/3.9/lib/python/site-packages (2.0.2)\n",
      "Requirement already satisfied: python-dateutil>=2.8.2 in /Users/arjunraj/Library/Python/3.9/lib/python/site-packages (from pandas) (2.8.2)\n",
      "Requirement already satisfied: tzdata>=2022.1 in /Users/arjunraj/Library/Python/3.9/lib/python/site-packages (from pandas) (2023.3)\n",
      "Requirement already satisfied: pytz>=2020.1 in /Users/arjunraj/Library/Python/3.9/lib/python/site-packages (from pandas) (2023.3)\n",
      "Requirement already satisfied: numpy>=1.20.3 in /Users/arjunraj/Library/Python/3.9/lib/python/site-packages (from pandas) (1.25.0)\n",
      "Requirement already satisfied: six>=1.5 in /Users/arjunraj/Library/Python/3.9/lib/python/site-packages (from python-dateutil>=2.8.2->pandas) (1.16.0)\n",
      "\u001b[33mWARNING: You are using pip version 21.2.4; however, version 23.1.2 is available.\n",
      "You should consider upgrading via the '/Applications/Xcode.app/Contents/Developer/usr/bin/python3 -m pip install --upgrade pip' command.\u001b[0m\n",
      "Note: you may need to restart the kernel to use updated packages.\n",
      "Defaulting to user installation because normal site-packages is not writeable\n",
      "Requirement already satisfied: imageio in /Users/arjunraj/Library/Python/3.9/lib/python/site-packages (2.31.1)\n",
      "Requirement already satisfied: pillow>=8.3.2 in /Users/arjunraj/Library/Python/3.9/lib/python/site-packages (from imageio) (9.5.0)\n",
      "Requirement already satisfied: numpy in /Users/arjunraj/Library/Python/3.9/lib/python/site-packages (from imageio) (1.25.0)\n",
      "\u001b[33mWARNING: You are using pip version 21.2.4; however, version 23.1.2 is available.\n",
      "You should consider upgrading via the '/Applications/Xcode.app/Contents/Developer/usr/bin/python3 -m pip install --upgrade pip' command.\u001b[0m\n",
      "Note: you may need to restart the kernel to use updated packages.\n",
      "Defaulting to user installation because normal site-packages is not writeable\n",
      "Requirement already satisfied: rtree in /Users/arjunraj/Library/Python/3.9/lib/python/site-packages (1.0.1)\n",
      "\u001b[33mWARNING: You are using pip version 21.2.4; however, version 23.1.2 is available.\n",
      "You should consider upgrading via the '/Applications/Xcode.app/Contents/Developer/usr/bin/python3 -m pip install --upgrade pip' command.\u001b[0m\n",
      "Note: you may need to restart the kernel to use updated packages.\n",
      "Defaulting to user installation because normal site-packages is not writeable\n",
      "Requirement already satisfied: scikit-image in /Users/arjunraj/Library/Python/3.9/lib/python/site-packages (0.21.0)\n",
      "Requirement already satisfied: scipy>=1.8 in /Users/arjunraj/Library/Python/3.9/lib/python/site-packages (from scikit-image) (1.11.0)\n",
      "Requirement already satisfied: numpy>=1.21.1 in /Users/arjunraj/Library/Python/3.9/lib/python/site-packages (from scikit-image) (1.25.0)\n",
      "Requirement already satisfied: imageio>=2.27 in /Users/arjunraj/Library/Python/3.9/lib/python/site-packages (from scikit-image) (2.31.1)\n",
      "Requirement already satisfied: networkx>=2.8 in /Users/arjunraj/Library/Python/3.9/lib/python/site-packages (from scikit-image) (3.1)\n",
      "Requirement already satisfied: lazy_loader>=0.2 in /Users/arjunraj/Library/Python/3.9/lib/python/site-packages (from scikit-image) (0.2)\n",
      "Requirement already satisfied: PyWavelets>=1.1.1 in /Users/arjunraj/Library/Python/3.9/lib/python/site-packages (from scikit-image) (1.4.1)\n",
      "Requirement already satisfied: pillow>=9.0.1 in /Users/arjunraj/Library/Python/3.9/lib/python/site-packages (from scikit-image) (9.5.0)\n",
      "Requirement already satisfied: packaging>=21 in /Users/arjunraj/Library/Python/3.9/lib/python/site-packages (from scikit-image) (23.1)\n",
      "Requirement already satisfied: tifffile>=2022.8.12 in /Users/arjunraj/Library/Python/3.9/lib/python/site-packages (from scikit-image) (2023.4.12)\n",
      "\u001b[33mWARNING: You are using pip version 21.2.4; however, version 23.1.2 is available.\n",
      "You should consider upgrading via the '/Applications/Xcode.app/Contents/Developer/usr/bin/python3 -m pip install --upgrade pip' command.\u001b[0m\n",
      "Note: you may need to restart the kernel to use updated packages.\n",
      "Defaulting to user installation because normal site-packages is not writeable\n",
      "Requirement already satisfied: shapely in /Users/arjunraj/Library/Python/3.9/lib/python/site-packages (2.0.1)\n",
      "Requirement already satisfied: numpy>=1.14 in /Users/arjunraj/Library/Python/3.9/lib/python/site-packages (from shapely) (1.25.0)\n",
      "\u001b[33mWARNING: You are using pip version 21.2.4; however, version 23.1.2 is available.\n",
      "You should consider upgrading via the '/Applications/Xcode.app/Contents/Developer/usr/bin/python3 -m pip install --upgrade pip' command.\u001b[0m\n",
      "Note: you may need to restart the kernel to use updated packages.\n",
      "Defaulting to user installation because normal site-packages is not writeable\n",
      "Requirement already satisfied: nd2reader in /Users/arjunraj/Library/Python/3.9/lib/python/site-packages (3.3.0)\n",
      "Requirement already satisfied: six>=1.4 in /Users/arjunraj/Library/Python/3.9/lib/python/site-packages (from nd2reader) (1.16.0)\n",
      "Requirement already satisfied: xmltodict>=0.9.2 in /Users/arjunraj/Library/Python/3.9/lib/python/site-packages (from nd2reader) (0.13.0)\n",
      "Requirement already satisfied: numpy>=1.14 in /Users/arjunraj/Library/Python/3.9/lib/python/site-packages (from nd2reader) (1.25.0)\n",
      "Requirement already satisfied: pims>=0.3.0 in /Users/arjunraj/Library/Python/3.9/lib/python/site-packages (from nd2reader) (0.6.1)\n",
      "Requirement already satisfied: slicerator>=0.9.8 in /Users/arjunraj/Library/Python/3.9/lib/python/site-packages (from pims>=0.3.0->nd2reader) (1.1.0)\n",
      "Requirement already satisfied: imageio in /Users/arjunraj/Library/Python/3.9/lib/python/site-packages (from pims>=0.3.0->nd2reader) (2.31.1)\n",
      "Requirement already satisfied: pillow>=8.3.2 in /Users/arjunraj/Library/Python/3.9/lib/python/site-packages (from imageio->pims>=0.3.0->nd2reader) (9.5.0)\n",
      "\u001b[33mWARNING: You are using pip version 21.2.4; however, version 23.1.2 is available.\n",
      "You should consider upgrading via the '/Applications/Xcode.app/Contents/Developer/usr/bin/python3 -m pip install --upgrade pip' command.\u001b[0m\n",
      "Note: you may need to restart the kernel to use updated packages.\n"
     ]
    }
   ],
   "source": [
    "%pip install -r ~/code/GitHub/UPennContrast/devops/girder/annotation_client/requirements.txt\n",
    "%pip install -e ~/code/GitHub/UPennContrast/devops/girder/annotation_client/\n",
    "%pip install pandas\n",
    "%pip install imageio\n",
    "%pip install rtree\n",
    "%pip install scikit-image\n",
    "%pip install shapely\n",
    "%pip install nd2reader"
   ]
  },
  {
   "cell_type": "code",
   "execution_count": 4,
   "metadata": {},
   "outputs": [],
   "source": [
    "import girder_client\n",
    "import annotation_client.annotations as annotations\n",
    "import annotation_client.tiles as tiles\n",
    "#import pandas as pd\n",
    "#import imageio\n",
    "from shapely.geometry import Point, Polygon, LineString\n",
    "#pd.set_option('display.max_colwidth', None)\n",
    "import numpy as np"
   ]
  },
  {
   "cell_type": "code",
   "execution_count": 5,
   "metadata": {},
   "outputs": [],
   "source": [
    "apiUrl = 'http://localhost:8080/api/v1'\n",
    "username = 'admin'\n",
    "password = 'password'"
   ]
  },
  {
   "cell_type": "code",
   "execution_count": 6,
   "metadata": {},
   "outputs": [],
   "source": [
    "client = girder_client.GirderClient(apiUrl=apiUrl)\n",
    "user_id = client.authenticate(username=username, password=password)['_id']\n",
    "annotationClient = annotations.UPennContrastAnnotationClient(apiUrl=apiUrl, token=client.token)"
   ]
  },
  {
   "cell_type": "code",
   "execution_count": 7,
   "metadata": {},
   "outputs": [
    {
     "data": {
      "text/html": [
       "<div>\n",
       "<style scoped>\n",
       "    .dataframe tbody tr th:only-of-type {\n",
       "        vertical-align: middle;\n",
       "    }\n",
       "\n",
       "    .dataframe tbody tr th {\n",
       "        vertical-align: top;\n",
       "    }\n",
       "\n",
       "    .dataframe thead th {\n",
       "        text-align: right;\n",
       "    }\n",
       "</style>\n",
       "<table border=\"1\" class=\"dataframe\">\n",
       "  <thead>\n",
       "    <tr style=\"text-align: right;\">\n",
       "      <th></th>\n",
       "      <th>Dataset Name</th>\n",
       "    </tr>\n",
       "  </thead>\n",
       "  <tbody>\n",
       "    <tr>\n",
       "      <th>0</th>\n",
       "      <td>20200110_2Dent_001</td>\n",
       "    </tr>\n",
       "    <tr>\n",
       "      <th>1</th>\n",
       "      <td>20200110_2Dent_001_maxmerge</td>\n",
       "    </tr>\n",
       "    <tr>\n",
       "      <th>2</th>\n",
       "      <td>20210723_155544_798__Plate20210723_STR_gfp_Well03_ChannelGFP,DAPI_Seq0000</td>\n",
       "    </tr>\n",
       "    <tr>\n",
       "      <th>3</th>\n",
       "      <td>20221122_143426_960__WellA4_ChannelDAPI,CY3,A594,CY5,CY7_Seq0007</td>\n",
       "    </tr>\n",
       "    <tr>\n",
       "      <th>4</th>\n",
       "      <td>20230314_175616_594__WellB2_ChannelDAPI,YFP,CY3,A594,CY5,CY7,Brightfield_Seq0001</td>\n",
       "    </tr>\n",
       "    <tr>\n",
       "      <th>...</th>\n",
       "      <td>...</td>\n",
       "    </tr>\n",
       "    <tr>\n",
       "      <th>107</th>\n",
       "      <td>UI TEST OASL_SOX10_VGF_maxmerge</td>\n",
       "    </tr>\n",
       "    <tr>\n",
       "      <th>108</th>\n",
       "      <td>UInormmedia_8well_col2_livecellgfp</td>\n",
       "    </tr>\n",
       "    <tr>\n",
       "      <th>109</th>\n",
       "      <td>UInormmedia_8well_col2_livecellgfp_maxmerge</td>\n",
       "    </tr>\n",
       "    <tr>\n",
       "      <th>110</th>\n",
       "      <td>WellA1_ChannelBrightfield,YFP,CY5,DAPI,A594_Seq0000</td>\n",
       "    </tr>\n",
       "    <tr>\n",
       "      <th>111</th>\n",
       "      <td>WellA2_ChannelBrightfield,YFP,CY5,DAPI,A594_Seq0001</td>\n",
       "    </tr>\n",
       "  </tbody>\n",
       "</table>\n",
       "<p>112 rows × 1 columns</p>\n",
       "</div>"
      ],
      "text/plain": [
       "                                                                         Dataset Name\n",
       "0                                                                  20200110_2Dent_001\n",
       "1                                                         20200110_2Dent_001_maxmerge\n",
       "2           20210723_155544_798__Plate20210723_STR_gfp_Well03_ChannelGFP,DAPI_Seq0000\n",
       "3                    20221122_143426_960__WellA4_ChannelDAPI,CY3,A594,CY5,CY7_Seq0007\n",
       "4    20230314_175616_594__WellB2_ChannelDAPI,YFP,CY3,A594,CY5,CY7,Brightfield_Seq0001\n",
       "..                                                                                ...\n",
       "107                                                   UI TEST OASL_SOX10_VGF_maxmerge\n",
       "108                                                UInormmedia_8well_col2_livecellgfp\n",
       "109                                       UInormmedia_8well_col2_livecellgfp_maxmerge\n",
       "110                               WellA1_ChannelBrightfield,YFP,CY5,DAPI,A594_Seq0000\n",
       "111                               WellA2_ChannelBrightfield,YFP,CY5,DAPI,A594_Seq0001\n",
       "\n",
       "[112 rows x 1 columns]"
      ]
     },
     "execution_count": 7,
     "metadata": {},
     "output_type": "execute_result"
    }
   ],
   "source": [
    "datasets = dict()\n",
    "for folder in annotationClient.client.listFolder(user_id,'user'):\n",
    "    for dataset in annotationClient.client.listFolder(folder['_id']):\n",
    "        datasets[dataset['name']] = dataset['_id']\n",
    "\n",
    "pd.DataFrame(datasets.keys(),columns=['Dataset Name'])"
   ]
  },
  {
   "cell_type": "code",
   "execution_count": 8,
   "metadata": {},
   "outputs": [],
   "source": [
    "dataset_name = 'RANDOMTESTnormmedia_8well_col2_livecellgfp'"
   ]
  },
  {
   "cell_type": "code",
   "execution_count": 9,
   "metadata": {},
   "outputs": [
    {
     "name": "stdout",
     "output_type": "stream",
     "text": [
      "1024\n",
      "1022\n"
     ]
    }
   ],
   "source": [
    "datasetId = datasets[dataset_name]\n",
    "datasetClient = tiles.UPennContrastDataset(apiUrl=apiUrl, token=client.token, datasetId=datasetId)\n",
    "vars(datasetClient)\n",
    "tile_width = datasetClient.tiles['tileWidth']\n",
    "tile_height = datasetClient.tiles['tileHeight']\n",
    "print(tile_width)\n",
    "print(tile_height)"
   ]
  },
  {
   "cell_type": "code",
   "execution_count": 10,
   "metadata": {},
   "outputs": [],
   "source": [
    "pointAnnotationList = annotationClient.getAnnotationsByDatasetId(datasetId, shape='point')\n",
    "blobAnnotationList = annotationClient.getAnnotationsByDatasetId(datasetId, shape='polygon')"
   ]
  },
  {
   "cell_type": "code",
   "execution_count": 11,
   "metadata": {},
   "outputs": [
    {
     "name": "stdout",
     "output_type": "stream",
     "text": [
      "{'_id': '647f7c348afc6319ddd7e977', 'access': {'groups': [], 'users': [{'flags': [], 'id': '62891fc02060d362984bc104', 'level': 2}]}, 'channel': 0, 'coordinates': [{'x': 765.2331282851312, 'y': 126.29577525503552}, {'x': 776.9331282851313, 'y': 126.29577525503552}, {'x': 776.9331282851313, 'y': 137.9957752550355}, {'x': 765.2331282851312, 'y': 137.9957752550355}], 'datasetId': '647f419a8afc6319ddd7e215', 'location': {'Time': 0, 'XY': 0, 'Z': 0}, 'shape': 'polygon', 'tags': ['random2']}\n"
     ]
    },
    {
     "ename": "IndexError",
     "evalue": "list index out of range",
     "output_type": "error",
     "traceback": [
      "\u001b[0;31m---------------------------------------------------------------------------\u001b[0m",
      "\u001b[0;31mIndexError\u001b[0m                                Traceback (most recent call last)",
      "Cell \u001b[0;32mIn[11], line 2\u001b[0m\n\u001b[1;32m      1\u001b[0m \u001b[39mprint\u001b[39m(blobAnnotationList[\u001b[39m0\u001b[39m])\n\u001b[0;32m----> 2\u001b[0m \u001b[39mprint\u001b[39m(pointAnnotationList[\u001b[39m0\u001b[39;49m])\n",
      "\u001b[0;31mIndexError\u001b[0m: list index out of range"
     ]
    }
   ],
   "source": [
    "print(blobAnnotationList[0])\n",
    "print(pointAnnotationList[0])"
   ]
  }
 ],
 "metadata": {
  "kernelspec": {
   "display_name": "Python 3",
   "language": "python",
   "name": "python3"
  },
  "language_info": {
   "codemirror_mode": {
    "name": "ipython",
    "version": 3
   },
   "file_extension": ".py",
   "mimetype": "text/x-python",
   "name": "python",
   "nbconvert_exporter": "python",
   "pygments_lexer": "ipython3",
   "version": "3.9.6"
  },
  "orig_nbformat": 4
 },
 "nbformat": 4,
 "nbformat_minor": 2
}
