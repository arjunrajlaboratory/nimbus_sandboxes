{
 "cells": [
  {
   "cell_type": "code",
   "execution_count": 1,
   "metadata": {},
   "outputs": [
    {
     "name": "stdout",
     "output_type": "stream",
     "text": [
      "Defaulting to user installation because normal site-packages is not writeable\n",
      "Requirement already satisfied: girder-client in /Users/arjunraj/Library/Python/3.9/lib/python/site-packages (from -r /Users/arjunraj/code/GitHub/UPennContrast/devops/girder/annotation_client/requirements.txt (line 1)) (3.1.20)\n",
      "Requirement already satisfied: diskcache in /Users/arjunraj/Library/Python/3.9/lib/python/site-packages (from girder-client->-r /Users/arjunraj/code/GitHub/UPennContrast/devops/girder/annotation_client/requirements.txt (line 1)) (5.6.1)\n",
      "Requirement already satisfied: click>=6.7 in /Users/arjunraj/Library/Python/3.9/lib/python/site-packages (from girder-client->-r /Users/arjunraj/code/GitHub/UPennContrast/devops/girder/annotation_client/requirements.txt (line 1)) (8.1.3)\n",
      "Requirement already satisfied: requests-toolbelt in /Users/arjunraj/Library/Python/3.9/lib/python/site-packages (from girder-client->-r /Users/arjunraj/code/GitHub/UPennContrast/devops/girder/annotation_client/requirements.txt (line 1)) (1.0.0)\n",
      "Requirement already satisfied: requests>=2.4.2 in /Users/arjunraj/Library/Python/3.9/lib/python/site-packages (from girder-client->-r /Users/arjunraj/code/GitHub/UPennContrast/devops/girder/annotation_client/requirements.txt (line 1)) (2.31.0)\n",
      "Requirement already satisfied: certifi>=2017.4.17 in /Users/arjunraj/Library/Python/3.9/lib/python/site-packages (from requests>=2.4.2->girder-client->-r /Users/arjunraj/code/GitHub/UPennContrast/devops/girder/annotation_client/requirements.txt (line 1)) (2023.5.7)\n",
      "Requirement already satisfied: charset-normalizer<4,>=2 in /Users/arjunraj/Library/Python/3.9/lib/python/site-packages (from requests>=2.4.2->girder-client->-r /Users/arjunraj/code/GitHub/UPennContrast/devops/girder/annotation_client/requirements.txt (line 1)) (3.1.0)\n",
      "Requirement already satisfied: urllib3<3,>=1.21.1 in /Users/arjunraj/Library/Python/3.9/lib/python/site-packages (from requests>=2.4.2->girder-client->-r /Users/arjunraj/code/GitHub/UPennContrast/devops/girder/annotation_client/requirements.txt (line 1)) (2.0.3)\n",
      "Requirement already satisfied: idna<4,>=2.5 in /Users/arjunraj/Library/Python/3.9/lib/python/site-packages (from requests>=2.4.2->girder-client->-r /Users/arjunraj/code/GitHub/UPennContrast/devops/girder/annotation_client/requirements.txt (line 1)) (3.4)\n",
      "\u001b[33mWARNING: You are using pip version 21.2.4; however, version 23.1.2 is available.\n",
      "You should consider upgrading via the '/Applications/Xcode.app/Contents/Developer/usr/bin/python3 -m pip install --upgrade pip' command.\u001b[0m\n",
      "Note: you may need to restart the kernel to use updated packages.\n",
      "Defaulting to user installation because normal site-packages is not writeable\n",
      "Obtaining file:///Users/arjunraj/code/GitHub/UPennContrast/devops/girder/annotation_client\n",
      "Installing collected packages: annotation-client\n",
      "  Attempting uninstall: annotation-client\n",
      "    Found existing installation: annotation-client 0.1\n",
      "    Uninstalling annotation-client-0.1:\n",
      "      Successfully uninstalled annotation-client-0.1\n",
      "  Running setup.py develop for annotation-client\n",
      "Successfully installed annotation-client-0.1\n",
      "\u001b[33mWARNING: You are using pip version 21.2.4; however, version 23.1.2 is available.\n",
      "You should consider upgrading via the '/Applications/Xcode.app/Contents/Developer/usr/bin/python3 -m pip install --upgrade pip' command.\u001b[0m\n",
      "Note: you may need to restart the kernel to use updated packages.\n",
      "Defaulting to user installation because normal site-packages is not writeable\n",
      "Requirement already satisfied: pandas in /Users/arjunraj/Library/Python/3.9/lib/python/site-packages (2.0.2)\n",
      "Requirement already satisfied: python-dateutil>=2.8.2 in /Users/arjunraj/Library/Python/3.9/lib/python/site-packages (from pandas) (2.8.2)\n",
      "Requirement already satisfied: pytz>=2020.1 in /Users/arjunraj/Library/Python/3.9/lib/python/site-packages (from pandas) (2023.3)\n",
      "Requirement already satisfied: numpy>=1.20.3 in /Users/arjunraj/Library/Python/3.9/lib/python/site-packages (from pandas) (1.25.0)\n",
      "Requirement already satisfied: tzdata>=2022.1 in /Users/arjunraj/Library/Python/3.9/lib/python/site-packages (from pandas) (2023.3)\n",
      "Requirement already satisfied: six>=1.5 in /Users/arjunraj/Library/Python/3.9/lib/python/site-packages (from python-dateutil>=2.8.2->pandas) (1.16.0)\n",
      "\u001b[33mWARNING: You are using pip version 21.2.4; however, version 23.1.2 is available.\n",
      "You should consider upgrading via the '/Applications/Xcode.app/Contents/Developer/usr/bin/python3 -m pip install --upgrade pip' command.\u001b[0m\n",
      "Note: you may need to restart the kernel to use updated packages.\n",
      "Defaulting to user installation because normal site-packages is not writeable\n",
      "Requirement already satisfied: imageio in /Users/arjunraj/Library/Python/3.9/lib/python/site-packages (2.31.1)\n",
      "Requirement already satisfied: numpy in /Users/arjunraj/Library/Python/3.9/lib/python/site-packages (from imageio) (1.25.0)\n",
      "Requirement already satisfied: pillow>=8.3.2 in /Users/arjunraj/Library/Python/3.9/lib/python/site-packages (from imageio) (9.5.0)\n",
      "\u001b[33mWARNING: You are using pip version 21.2.4; however, version 23.1.2 is available.\n",
      "You should consider upgrading via the '/Applications/Xcode.app/Contents/Developer/usr/bin/python3 -m pip install --upgrade pip' command.\u001b[0m\n",
      "Note: you may need to restart the kernel to use updated packages.\n",
      "Defaulting to user installation because normal site-packages is not writeable\n",
      "Requirement already satisfied: rtree in /Users/arjunraj/Library/Python/3.9/lib/python/site-packages (1.0.1)\n",
      "\u001b[33mWARNING: You are using pip version 21.2.4; however, version 23.1.2 is available.\n",
      "You should consider upgrading via the '/Applications/Xcode.app/Contents/Developer/usr/bin/python3 -m pip install --upgrade pip' command.\u001b[0m\n",
      "Note: you may need to restart the kernel to use updated packages.\n",
      "Defaulting to user installation because normal site-packages is not writeable\n",
      "Requirement already satisfied: scikit-image in /Users/arjunraj/Library/Python/3.9/lib/python/site-packages (0.21.0)\n",
      "Requirement already satisfied: PyWavelets>=1.1.1 in /Users/arjunraj/Library/Python/3.9/lib/python/site-packages (from scikit-image) (1.4.1)\n",
      "Requirement already satisfied: imageio>=2.27 in /Users/arjunraj/Library/Python/3.9/lib/python/site-packages (from scikit-image) (2.31.1)\n",
      "Requirement already satisfied: scipy>=1.8 in /Users/arjunraj/Library/Python/3.9/lib/python/site-packages (from scikit-image) (1.11.0)\n",
      "Requirement already satisfied: packaging>=21 in /Users/arjunraj/Library/Python/3.9/lib/python/site-packages (from scikit-image) (23.1)\n",
      "Requirement already satisfied: tifffile>=2022.8.12 in /Users/arjunraj/Library/Python/3.9/lib/python/site-packages (from scikit-image) (2023.4.12)\n",
      "Requirement already satisfied: lazy_loader>=0.2 in /Users/arjunraj/Library/Python/3.9/lib/python/site-packages (from scikit-image) (0.2)\n",
      "Requirement already satisfied: networkx>=2.8 in /Users/arjunraj/Library/Python/3.9/lib/python/site-packages (from scikit-image) (3.1)\n",
      "Requirement already satisfied: pillow>=9.0.1 in /Users/arjunraj/Library/Python/3.9/lib/python/site-packages (from scikit-image) (9.5.0)\n",
      "Requirement already satisfied: numpy>=1.21.1 in /Users/arjunraj/Library/Python/3.9/lib/python/site-packages (from scikit-image) (1.25.0)\n",
      "\u001b[33mWARNING: You are using pip version 21.2.4; however, version 23.1.2 is available.\n",
      "You should consider upgrading via the '/Applications/Xcode.app/Contents/Developer/usr/bin/python3 -m pip install --upgrade pip' command.\u001b[0m\n",
      "Note: you may need to restart the kernel to use updated packages.\n",
      "Defaulting to user installation because normal site-packages is not writeable\n",
      "Requirement already satisfied: shapely in /Users/arjunraj/Library/Python/3.9/lib/python/site-packages (2.0.1)\n",
      "Requirement already satisfied: numpy>=1.14 in /Users/arjunraj/Library/Python/3.9/lib/python/site-packages (from shapely) (1.25.0)\n",
      "\u001b[33mWARNING: You are using pip version 21.2.4; however, version 23.1.2 is available.\n",
      "You should consider upgrading via the '/Applications/Xcode.app/Contents/Developer/usr/bin/python3 -m pip install --upgrade pip' command.\u001b[0m\n",
      "Note: you may need to restart the kernel to use updated packages.\n",
      "Defaulting to user installation because normal site-packages is not writeable\n",
      "Requirement already satisfied: nd2reader in /Users/arjunraj/Library/Python/3.9/lib/python/site-packages (3.3.0)\n",
      "Requirement already satisfied: xmltodict>=0.9.2 in /Users/arjunraj/Library/Python/3.9/lib/python/site-packages (from nd2reader) (0.13.0)\n",
      "Requirement already satisfied: numpy>=1.14 in /Users/arjunraj/Library/Python/3.9/lib/python/site-packages (from nd2reader) (1.25.0)\n",
      "Requirement already satisfied: pims>=0.3.0 in /Users/arjunraj/Library/Python/3.9/lib/python/site-packages (from nd2reader) (0.6.1)\n",
      "Requirement already satisfied: six>=1.4 in /Users/arjunraj/Library/Python/3.9/lib/python/site-packages (from nd2reader) (1.16.0)\n",
      "Requirement already satisfied: imageio in /Users/arjunraj/Library/Python/3.9/lib/python/site-packages (from pims>=0.3.0->nd2reader) (2.31.1)\n",
      "Requirement already satisfied: slicerator>=0.9.8 in /Users/arjunraj/Library/Python/3.9/lib/python/site-packages (from pims>=0.3.0->nd2reader) (1.1.0)\n",
      "Requirement already satisfied: pillow>=8.3.2 in /Users/arjunraj/Library/Python/3.9/lib/python/site-packages (from imageio->pims>=0.3.0->nd2reader) (9.5.0)\n",
      "\u001b[33mWARNING: You are using pip version 21.2.4; however, version 23.1.2 is available.\n",
      "You should consider upgrading via the '/Applications/Xcode.app/Contents/Developer/usr/bin/python3 -m pip install --upgrade pip' command.\u001b[0m\n",
      "Note: you may need to restart the kernel to use updated packages.\n"
     ]
    }
   ],
   "source": [
    "%pip install -r ~/code/GitHub/UPennContrast/devops/girder/annotation_client/requirements.txt\n",
    "%pip install -e ~/code/GitHub/UPennContrast/devops/girder/annotation_client/\n",
    "%pip install pandas\n",
    "%pip install imageio\n",
    "%pip install rtree\n",
    "%pip install scikit-image\n",
    "%pip install shapely\n",
    "%pip install nd2reader"
   ]
  },
  {
   "cell_type": "code",
   "execution_count": 1,
   "metadata": {},
   "outputs": [
    {
     "name": "stderr",
     "output_type": "stream",
     "text": [
      "/Users/arjunraj/Library/Python/3.9/lib/python/site-packages/urllib3/__init__.py:34: NotOpenSSLWarning: urllib3 v2.0 only supports OpenSSL 1.1.1+, currently the 'ssl' module is compiled with 'LibreSSL 2.8.3'. See: https://github.com/urllib3/urllib3/issues/3020\n",
      "  warnings.warn(\n"
     ]
    }
   ],
   "source": [
    "import girder_client\n",
    "import annotation_client.annotations as annotations\n",
    "import annotation_client.tiles as tiles\n",
    "import pandas as pd\n",
    "import annotation_tools\n",
    "#import imageio\n",
    "from shapely.geometry import Point, Polygon, LineString\n",
    "#pd.set_option('display.max_colwidth', None)\n",
    "import numpy as np"
   ]
  },
  {
   "cell_type": "code",
   "execution_count": 2,
   "metadata": {},
   "outputs": [],
   "source": [
    "apiUrl = 'http://localhost:8080/api/v1'\n",
    "username = 'admin'\n",
    "password = 'password'"
   ]
  },
  {
   "cell_type": "code",
   "execution_count": 3,
   "metadata": {},
   "outputs": [],
   "source": [
    "client = girder_client.GirderClient(apiUrl=apiUrl)\n",
    "user_id = client.authenticate(username=username, password=password)['_id']\n",
    "annotationClient = annotations.UPennContrastAnnotationClient(apiUrl=apiUrl, token=client.token)"
   ]
  },
  {
   "cell_type": "code",
   "execution_count": 4,
   "metadata": {},
   "outputs": [
    {
     "data": {
      "text/html": [
       "<div>\n",
       "<style scoped>\n",
       "    .dataframe tbody tr th:only-of-type {\n",
       "        vertical-align: middle;\n",
       "    }\n",
       "\n",
       "    .dataframe tbody tr th {\n",
       "        vertical-align: top;\n",
       "    }\n",
       "\n",
       "    .dataframe thead th {\n",
       "        text-align: right;\n",
       "    }\n",
       "</style>\n",
       "<table border=\"1\" class=\"dataframe\">\n",
       "  <thead>\n",
       "    <tr style=\"text-align: right;\">\n",
       "      <th></th>\n",
       "      <th>Dataset Name</th>\n",
       "    </tr>\n",
       "  </thead>\n",
       "  <tbody>\n",
       "    <tr>\n",
       "      <th>0</th>\n",
       "      <td>111111_20210723_155544_798__Plate20210723_STR_...</td>\n",
       "    </tr>\n",
       "    <tr>\n",
       "      <th>1</th>\n",
       "      <td>111_20200110_2Dent_001</td>\n",
       "    </tr>\n",
       "    <tr>\n",
       "      <th>2</th>\n",
       "      <td>20200110_2Dent_001_maxmerge</td>\n",
       "    </tr>\n",
       "    <tr>\n",
       "      <th>3</th>\n",
       "      <td>20221122_143426_960__WellA4_ChannelDAPI,CY3,A5...</td>\n",
       "    </tr>\n",
       "    <tr>\n",
       "      <th>4</th>\n",
       "      <td>20230314_175616_594__WellB2_ChannelDAPI,YFP,CY...</td>\n",
       "    </tr>\n",
       "    <tr>\n",
       "      <th>...</th>\n",
       "      <td>...</td>\n",
       "    </tr>\n",
       "    <tr>\n",
       "      <th>158</th>\n",
       "      <td>UNROLL_MS2_1_maxmerge</td>\n",
       "    </tr>\n",
       "    <tr>\n",
       "      <th>159</th>\n",
       "      <td>Well2_50framesCOMPOSITENORECODE</td>\n",
       "    </tr>\n",
       "    <tr>\n",
       "      <th>160</th>\n",
       "      <td>Well2_50framesCOMPOSITENORECODE_maxmerge</td>\n",
       "    </tr>\n",
       "    <tr>\n",
       "      <th>161</th>\n",
       "      <td>WellA1_ChannelBrightfield,YFP,CY5,DAPI,A594_Se...</td>\n",
       "    </tr>\n",
       "    <tr>\n",
       "      <th>162</th>\n",
       "      <td>WellA2_ChannelBrightfield,YFP,CY5,DAPI,A594_Se...</td>\n",
       "    </tr>\n",
       "  </tbody>\n",
       "</table>\n",
       "<p>163 rows × 1 columns</p>\n",
       "</div>"
      ],
      "text/plain": [
       "                                          Dataset Name\n",
       "0    111111_20210723_155544_798__Plate20210723_STR_...\n",
       "1                               111_20200110_2Dent_001\n",
       "2                          20200110_2Dent_001_maxmerge\n",
       "3    20221122_143426_960__WellA4_ChannelDAPI,CY3,A5...\n",
       "4    20230314_175616_594__WellB2_ChannelDAPI,YFP,CY...\n",
       "..                                                 ...\n",
       "158                              UNROLL_MS2_1_maxmerge\n",
       "159                    Well2_50framesCOMPOSITENORECODE\n",
       "160           Well2_50framesCOMPOSITENORECODE_maxmerge\n",
       "161  WellA1_ChannelBrightfield,YFP,CY5,DAPI,A594_Se...\n",
       "162  WellA2_ChannelBrightfield,YFP,CY5,DAPI,A594_Se...\n",
       "\n",
       "[163 rows x 1 columns]"
      ]
     },
     "execution_count": 4,
     "metadata": {},
     "output_type": "execute_result"
    }
   ],
   "source": [
    "datasets = dict()\n",
    "for folder in annotationClient.client.listFolder(user_id,'user'):\n",
    "    for dataset in annotationClient.client.listFolder(folder['_id']):\n",
    "        datasets[dataset['name']] = dataset['_id']\n",
    "\n",
    "pd.DataFrame(datasets.keys(),columns=['Dataset Name'])"
   ]
  },
  {
   "cell_type": "code",
   "execution_count": 5,
   "metadata": {},
   "outputs": [],
   "source": [
    "dataset_name = 'Prop_test_normmedia_8well_col2_livecellgfp'"
   ]
  },
  {
   "cell_type": "code",
   "execution_count": 6,
   "metadata": {},
   "outputs": [
    {
     "name": "stdout",
     "output_type": "stream",
     "text": [
      "{'IndexRange': {'IndexC': 2, 'IndexT': 4, 'IndexXY': 6, 'IndexZ': 7}, 'IndexStride': {'IndexC': 1, 'IndexT': 14, 'IndexXY': 56, 'IndexZ': 2}, 'bandCount': 1, 'channelmap': {'Brightfield': 0, 'YFP': 1}, 'channels': ['Brightfield', 'YFP'], 'dtype': 'uint16', 'frames': [{'Channel': 'Brightfield', 'Frame': 0, 'Index': 0, 'IndexC': 0, 'IndexT': 0, 'IndexXY': 0, 'IndexZ': 0}, {'Channel': 'YFP', 'Frame': 1, 'Index': 0, 'IndexC': 1, 'IndexT': 0, 'IndexXY': 0, 'IndexZ': 0}, {'Channel': 'Brightfield', 'Frame': 2, 'Index': 1, 'IndexC': 0, 'IndexT': 0, 'IndexXY': 0, 'IndexZ': 1}, {'Channel': 'YFP', 'Frame': 3, 'Index': 1, 'IndexC': 1, 'IndexT': 0, 'IndexXY': 0, 'IndexZ': 1}, {'Channel': 'Brightfield', 'Frame': 4, 'Index': 2, 'IndexC': 0, 'IndexT': 0, 'IndexXY': 0, 'IndexZ': 2}, {'Channel': 'YFP', 'Frame': 5, 'Index': 2, 'IndexC': 1, 'IndexT': 0, 'IndexXY': 0, 'IndexZ': 2}, {'Channel': 'Brightfield', 'Frame': 6, 'Index': 3, 'IndexC': 0, 'IndexT': 0, 'IndexXY': 0, 'IndexZ': 3}, {'Channel': 'YFP', 'Frame': 7, 'Index': 3, 'IndexC': 1, 'IndexT': 0, 'IndexXY': 0, 'IndexZ': 3}, {'Channel': 'Brightfield', 'Frame': 8, 'Index': 4, 'IndexC': 0, 'IndexT': 0, 'IndexXY': 0, 'IndexZ': 4}, {'Channel': 'YFP', 'Frame': 9, 'Index': 4, 'IndexC': 1, 'IndexT': 0, 'IndexXY': 0, 'IndexZ': 4}, {'Channel': 'Brightfield', 'Frame': 10, 'Index': 5, 'IndexC': 0, 'IndexT': 0, 'IndexXY': 0, 'IndexZ': 5}, {'Channel': 'YFP', 'Frame': 11, 'Index': 5, 'IndexC': 1, 'IndexT': 0, 'IndexXY': 0, 'IndexZ': 5}, {'Channel': 'Brightfield', 'Frame': 12, 'Index': 6, 'IndexC': 0, 'IndexT': 0, 'IndexXY': 0, 'IndexZ': 6}, {'Channel': 'YFP', 'Frame': 13, 'Index': 6, 'IndexC': 1, 'IndexT': 0, 'IndexXY': 0, 'IndexZ': 6}, {'Channel': 'Brightfield', 'Frame': 14, 'Index': 7, 'IndexC': 0, 'IndexT': 1, 'IndexXY': 0, 'IndexZ': 0}, {'Channel': 'YFP', 'Frame': 15, 'Index': 7, 'IndexC': 1, 'IndexT': 1, 'IndexXY': 0, 'IndexZ': 0}, {'Channel': 'Brightfield', 'Frame': 16, 'Index': 8, 'IndexC': 0, 'IndexT': 1, 'IndexXY': 0, 'IndexZ': 1}, {'Channel': 'YFP', 'Frame': 17, 'Index': 8, 'IndexC': 1, 'IndexT': 1, 'IndexXY': 0, 'IndexZ': 1}, {'Channel': 'Brightfield', 'Frame': 18, 'Index': 9, 'IndexC': 0, 'IndexT': 1, 'IndexXY': 0, 'IndexZ': 2}, {'Channel': 'YFP', 'Frame': 19, 'Index': 9, 'IndexC': 1, 'IndexT': 1, 'IndexXY': 0, 'IndexZ': 2}, {'Channel': 'Brightfield', 'Frame': 20, 'Index': 10, 'IndexC': 0, 'IndexT': 1, 'IndexXY': 0, 'IndexZ': 3}, {'Channel': 'YFP', 'Frame': 21, 'Index': 10, 'IndexC': 1, 'IndexT': 1, 'IndexXY': 0, 'IndexZ': 3}, {'Channel': 'Brightfield', 'Frame': 22, 'Index': 11, 'IndexC': 0, 'IndexT': 1, 'IndexXY': 0, 'IndexZ': 4}, {'Channel': 'YFP', 'Frame': 23, 'Index': 11, 'IndexC': 1, 'IndexT': 1, 'IndexXY': 0, 'IndexZ': 4}, {'Channel': 'Brightfield', 'Frame': 24, 'Index': 12, 'IndexC': 0, 'IndexT': 1, 'IndexXY': 0, 'IndexZ': 5}, {'Channel': 'YFP', 'Frame': 25, 'Index': 12, 'IndexC': 1, 'IndexT': 1, 'IndexXY': 0, 'IndexZ': 5}, {'Channel': 'Brightfield', 'Frame': 26, 'Index': 13, 'IndexC': 0, 'IndexT': 1, 'IndexXY': 0, 'IndexZ': 6}, {'Channel': 'YFP', 'Frame': 27, 'Index': 13, 'IndexC': 1, 'IndexT': 1, 'IndexXY': 0, 'IndexZ': 6}, {'Channel': 'Brightfield', 'Frame': 28, 'Index': 14, 'IndexC': 0, 'IndexT': 2, 'IndexXY': 0, 'IndexZ': 0}, {'Channel': 'YFP', 'Frame': 29, 'Index': 14, 'IndexC': 1, 'IndexT': 2, 'IndexXY': 0, 'IndexZ': 0}, {'Channel': 'Brightfield', 'Frame': 30, 'Index': 15, 'IndexC': 0, 'IndexT': 2, 'IndexXY': 0, 'IndexZ': 1}, {'Channel': 'YFP', 'Frame': 31, 'Index': 15, 'IndexC': 1, 'IndexT': 2, 'IndexXY': 0, 'IndexZ': 1}, {'Channel': 'Brightfield', 'Frame': 32, 'Index': 16, 'IndexC': 0, 'IndexT': 2, 'IndexXY': 0, 'IndexZ': 2}, {'Channel': 'YFP', 'Frame': 33, 'Index': 16, 'IndexC': 1, 'IndexT': 2, 'IndexXY': 0, 'IndexZ': 2}, {'Channel': 'Brightfield', 'Frame': 34, 'Index': 17, 'IndexC': 0, 'IndexT': 2, 'IndexXY': 0, 'IndexZ': 3}, {'Channel': 'YFP', 'Frame': 35, 'Index': 17, 'IndexC': 1, 'IndexT': 2, 'IndexXY': 0, 'IndexZ': 3}, {'Channel': 'Brightfield', 'Frame': 36, 'Index': 18, 'IndexC': 0, 'IndexT': 2, 'IndexXY': 0, 'IndexZ': 4}, {'Channel': 'YFP', 'Frame': 37, 'Index': 18, 'IndexC': 1, 'IndexT': 2, 'IndexXY': 0, 'IndexZ': 4}, {'Channel': 'Brightfield', 'Frame': 38, 'Index': 19, 'IndexC': 0, 'IndexT': 2, 'IndexXY': 0, 'IndexZ': 5}, {'Channel': 'YFP', 'Frame': 39, 'Index': 19, 'IndexC': 1, 'IndexT': 2, 'IndexXY': 0, 'IndexZ': 5}, {'Channel': 'Brightfield', 'Frame': 40, 'Index': 20, 'IndexC': 0, 'IndexT': 2, 'IndexXY': 0, 'IndexZ': 6}, {'Channel': 'YFP', 'Frame': 41, 'Index': 20, 'IndexC': 1, 'IndexT': 2, 'IndexXY': 0, 'IndexZ': 6}, {'Channel': 'Brightfield', 'Frame': 42, 'Index': 21, 'IndexC': 0, 'IndexT': 3, 'IndexXY': 0, 'IndexZ': 0}, {'Channel': 'YFP', 'Frame': 43, 'Index': 21, 'IndexC': 1, 'IndexT': 3, 'IndexXY': 0, 'IndexZ': 0}, {'Channel': 'Brightfield', 'Frame': 44, 'Index': 22, 'IndexC': 0, 'IndexT': 3, 'IndexXY': 0, 'IndexZ': 1}, {'Channel': 'YFP', 'Frame': 45, 'Index': 22, 'IndexC': 1, 'IndexT': 3, 'IndexXY': 0, 'IndexZ': 1}, {'Channel': 'Brightfield', 'Frame': 46, 'Index': 23, 'IndexC': 0, 'IndexT': 3, 'IndexXY': 0, 'IndexZ': 2}, {'Channel': 'YFP', 'Frame': 47, 'Index': 23, 'IndexC': 1, 'IndexT': 3, 'IndexXY': 0, 'IndexZ': 2}, {'Channel': 'Brightfield', 'Frame': 48, 'Index': 24, 'IndexC': 0, 'IndexT': 3, 'IndexXY': 0, 'IndexZ': 3}, {'Channel': 'YFP', 'Frame': 49, 'Index': 24, 'IndexC': 1, 'IndexT': 3, 'IndexXY': 0, 'IndexZ': 3}, {'Channel': 'Brightfield', 'Frame': 50, 'Index': 25, 'IndexC': 0, 'IndexT': 3, 'IndexXY': 0, 'IndexZ': 4}, {'Channel': 'YFP', 'Frame': 51, 'Index': 25, 'IndexC': 1, 'IndexT': 3, 'IndexXY': 0, 'IndexZ': 4}, {'Channel': 'Brightfield', 'Frame': 52, 'Index': 26, 'IndexC': 0, 'IndexT': 3, 'IndexXY': 0, 'IndexZ': 5}, {'Channel': 'YFP', 'Frame': 53, 'Index': 26, 'IndexC': 1, 'IndexT': 3, 'IndexXY': 0, 'IndexZ': 5}, {'Channel': 'Brightfield', 'Frame': 54, 'Index': 27, 'IndexC': 0, 'IndexT': 3, 'IndexXY': 0, 'IndexZ': 6}, {'Channel': 'YFP', 'Frame': 55, 'Index': 27, 'IndexC': 1, 'IndexT': 3, 'IndexXY': 0, 'IndexZ': 6}, {'Channel': 'Brightfield', 'Frame': 56, 'Index': 28, 'IndexC': 0, 'IndexT': 0, 'IndexXY': 1, 'IndexZ': 0}, {'Channel': 'YFP', 'Frame': 57, 'Index': 28, 'IndexC': 1, 'IndexT': 0, 'IndexXY': 1, 'IndexZ': 0}, {'Channel': 'Brightfield', 'Frame': 58, 'Index': 29, 'IndexC': 0, 'IndexT': 0, 'IndexXY': 1, 'IndexZ': 1}, {'Channel': 'YFP', 'Frame': 59, 'Index': 29, 'IndexC': 1, 'IndexT': 0, 'IndexXY': 1, 'IndexZ': 1}, {'Channel': 'Brightfield', 'Frame': 60, 'Index': 30, 'IndexC': 0, 'IndexT': 0, 'IndexXY': 1, 'IndexZ': 2}, {'Channel': 'YFP', 'Frame': 61, 'Index': 30, 'IndexC': 1, 'IndexT': 0, 'IndexXY': 1, 'IndexZ': 2}, {'Channel': 'Brightfield', 'Frame': 62, 'Index': 31, 'IndexC': 0, 'IndexT': 0, 'IndexXY': 1, 'IndexZ': 3}, {'Channel': 'YFP', 'Frame': 63, 'Index': 31, 'IndexC': 1, 'IndexT': 0, 'IndexXY': 1, 'IndexZ': 3}, {'Channel': 'Brightfield', 'Frame': 64, 'Index': 32, 'IndexC': 0, 'IndexT': 0, 'IndexXY': 1, 'IndexZ': 4}, {'Channel': 'YFP', 'Frame': 65, 'Index': 32, 'IndexC': 1, 'IndexT': 0, 'IndexXY': 1, 'IndexZ': 4}, {'Channel': 'Brightfield', 'Frame': 66, 'Index': 33, 'IndexC': 0, 'IndexT': 0, 'IndexXY': 1, 'IndexZ': 5}, {'Channel': 'YFP', 'Frame': 67, 'Index': 33, 'IndexC': 1, 'IndexT': 0, 'IndexXY': 1, 'IndexZ': 5}, {'Channel': 'Brightfield', 'Frame': 68, 'Index': 34, 'IndexC': 0, 'IndexT': 0, 'IndexXY': 1, 'IndexZ': 6}, {'Channel': 'YFP', 'Frame': 69, 'Index': 34, 'IndexC': 1, 'IndexT': 0, 'IndexXY': 1, 'IndexZ': 6}, {'Channel': 'Brightfield', 'Frame': 70, 'Index': 35, 'IndexC': 0, 'IndexT': 1, 'IndexXY': 1, 'IndexZ': 0}, {'Channel': 'YFP', 'Frame': 71, 'Index': 35, 'IndexC': 1, 'IndexT': 1, 'IndexXY': 1, 'IndexZ': 0}, {'Channel': 'Brightfield', 'Frame': 72, 'Index': 36, 'IndexC': 0, 'IndexT': 1, 'IndexXY': 1, 'IndexZ': 1}, {'Channel': 'YFP', 'Frame': 73, 'Index': 36, 'IndexC': 1, 'IndexT': 1, 'IndexXY': 1, 'IndexZ': 1}, {'Channel': 'Brightfield', 'Frame': 74, 'Index': 37, 'IndexC': 0, 'IndexT': 1, 'IndexXY': 1, 'IndexZ': 2}, {'Channel': 'YFP', 'Frame': 75, 'Index': 37, 'IndexC': 1, 'IndexT': 1, 'IndexXY': 1, 'IndexZ': 2}, {'Channel': 'Brightfield', 'Frame': 76, 'Index': 38, 'IndexC': 0, 'IndexT': 1, 'IndexXY': 1, 'IndexZ': 3}, {'Channel': 'YFP', 'Frame': 77, 'Index': 38, 'IndexC': 1, 'IndexT': 1, 'IndexXY': 1, 'IndexZ': 3}, {'Channel': 'Brightfield', 'Frame': 78, 'Index': 39, 'IndexC': 0, 'IndexT': 1, 'IndexXY': 1, 'IndexZ': 4}, {'Channel': 'YFP', 'Frame': 79, 'Index': 39, 'IndexC': 1, 'IndexT': 1, 'IndexXY': 1, 'IndexZ': 4}, {'Channel': 'Brightfield', 'Frame': 80, 'Index': 40, 'IndexC': 0, 'IndexT': 1, 'IndexXY': 1, 'IndexZ': 5}, {'Channel': 'YFP', 'Frame': 81, 'Index': 40, 'IndexC': 1, 'IndexT': 1, 'IndexXY': 1, 'IndexZ': 5}, {'Channel': 'Brightfield', 'Frame': 82, 'Index': 41, 'IndexC': 0, 'IndexT': 1, 'IndexXY': 1, 'IndexZ': 6}, {'Channel': 'YFP', 'Frame': 83, 'Index': 41, 'IndexC': 1, 'IndexT': 1, 'IndexXY': 1, 'IndexZ': 6}, {'Channel': 'Brightfield', 'Frame': 84, 'Index': 42, 'IndexC': 0, 'IndexT': 2, 'IndexXY': 1, 'IndexZ': 0}, {'Channel': 'YFP', 'Frame': 85, 'Index': 42, 'IndexC': 1, 'IndexT': 2, 'IndexXY': 1, 'IndexZ': 0}, {'Channel': 'Brightfield', 'Frame': 86, 'Index': 43, 'IndexC': 0, 'IndexT': 2, 'IndexXY': 1, 'IndexZ': 1}, {'Channel': 'YFP', 'Frame': 87, 'Index': 43, 'IndexC': 1, 'IndexT': 2, 'IndexXY': 1, 'IndexZ': 1}, {'Channel': 'Brightfield', 'Frame': 88, 'Index': 44, 'IndexC': 0, 'IndexT': 2, 'IndexXY': 1, 'IndexZ': 2}, {'Channel': 'YFP', 'Frame': 89, 'Index': 44, 'IndexC': 1, 'IndexT': 2, 'IndexXY': 1, 'IndexZ': 2}, {'Channel': 'Brightfield', 'Frame': 90, 'Index': 45, 'IndexC': 0, 'IndexT': 2, 'IndexXY': 1, 'IndexZ': 3}, {'Channel': 'YFP', 'Frame': 91, 'Index': 45, 'IndexC': 1, 'IndexT': 2, 'IndexXY': 1, 'IndexZ': 3}, {'Channel': 'Brightfield', 'Frame': 92, 'Index': 46, 'IndexC': 0, 'IndexT': 2, 'IndexXY': 1, 'IndexZ': 4}, {'Channel': 'YFP', 'Frame': 93, 'Index': 46, 'IndexC': 1, 'IndexT': 2, 'IndexXY': 1, 'IndexZ': 4}, {'Channel': 'Brightfield', 'Frame': 94, 'Index': 47, 'IndexC': 0, 'IndexT': 2, 'IndexXY': 1, 'IndexZ': 5}, {'Channel': 'YFP', 'Frame': 95, 'Index': 47, 'IndexC': 1, 'IndexT': 2, 'IndexXY': 1, 'IndexZ': 5}, {'Channel': 'Brightfield', 'Frame': 96, 'Index': 48, 'IndexC': 0, 'IndexT': 2, 'IndexXY': 1, 'IndexZ': 6}, {'Channel': 'YFP', 'Frame': 97, 'Index': 48, 'IndexC': 1, 'IndexT': 2, 'IndexXY': 1, 'IndexZ': 6}, {'Channel': 'Brightfield', 'Frame': 98, 'Index': 49, 'IndexC': 0, 'IndexT': 3, 'IndexXY': 1, 'IndexZ': 0}, {'Channel': 'YFP', 'Frame': 99, 'Index': 49, 'IndexC': 1, 'IndexT': 3, 'IndexXY': 1, 'IndexZ': 0}, {'Channel': 'Brightfield', 'Frame': 100, 'Index': 50, 'IndexC': 0, 'IndexT': 3, 'IndexXY': 1, 'IndexZ': 1}, {'Channel': 'YFP', 'Frame': 101, 'Index': 50, 'IndexC': 1, 'IndexT': 3, 'IndexXY': 1, 'IndexZ': 1}, {'Channel': 'Brightfield', 'Frame': 102, 'Index': 51, 'IndexC': 0, 'IndexT': 3, 'IndexXY': 1, 'IndexZ': 2}, {'Channel': 'YFP', 'Frame': 103, 'Index': 51, 'IndexC': 1, 'IndexT': 3, 'IndexXY': 1, 'IndexZ': 2}, {'Channel': 'Brightfield', 'Frame': 104, 'Index': 52, 'IndexC': 0, 'IndexT': 3, 'IndexXY': 1, 'IndexZ': 3}, {'Channel': 'YFP', 'Frame': 105, 'Index': 52, 'IndexC': 1, 'IndexT': 3, 'IndexXY': 1, 'IndexZ': 3}, {'Channel': 'Brightfield', 'Frame': 106, 'Index': 53, 'IndexC': 0, 'IndexT': 3, 'IndexXY': 1, 'IndexZ': 4}, {'Channel': 'YFP', 'Frame': 107, 'Index': 53, 'IndexC': 1, 'IndexT': 3, 'IndexXY': 1, 'IndexZ': 4}, {'Channel': 'Brightfield', 'Frame': 108, 'Index': 54, 'IndexC': 0, 'IndexT': 3, 'IndexXY': 1, 'IndexZ': 5}, {'Channel': 'YFP', 'Frame': 109, 'Index': 54, 'IndexC': 1, 'IndexT': 3, 'IndexXY': 1, 'IndexZ': 5}, {'Channel': 'Brightfield', 'Frame': 110, 'Index': 55, 'IndexC': 0, 'IndexT': 3, 'IndexXY': 1, 'IndexZ': 6}, {'Channel': 'YFP', 'Frame': 111, 'Index': 55, 'IndexC': 1, 'IndexT': 3, 'IndexXY': 1, 'IndexZ': 6}, {'Channel': 'Brightfield', 'Frame': 112, 'Index': 56, 'IndexC': 0, 'IndexT': 0, 'IndexXY': 2, 'IndexZ': 0}, {'Channel': 'YFP', 'Frame': 113, 'Index': 56, 'IndexC': 1, 'IndexT': 0, 'IndexXY': 2, 'IndexZ': 0}, {'Channel': 'Brightfield', 'Frame': 114, 'Index': 57, 'IndexC': 0, 'IndexT': 0, 'IndexXY': 2, 'IndexZ': 1}, {'Channel': 'YFP', 'Frame': 115, 'Index': 57, 'IndexC': 1, 'IndexT': 0, 'IndexXY': 2, 'IndexZ': 1}, {'Channel': 'Brightfield', 'Frame': 116, 'Index': 58, 'IndexC': 0, 'IndexT': 0, 'IndexXY': 2, 'IndexZ': 2}, {'Channel': 'YFP', 'Frame': 117, 'Index': 58, 'IndexC': 1, 'IndexT': 0, 'IndexXY': 2, 'IndexZ': 2}, {'Channel': 'Brightfield', 'Frame': 118, 'Index': 59, 'IndexC': 0, 'IndexT': 0, 'IndexXY': 2, 'IndexZ': 3}, {'Channel': 'YFP', 'Frame': 119, 'Index': 59, 'IndexC': 1, 'IndexT': 0, 'IndexXY': 2, 'IndexZ': 3}, {'Channel': 'Brightfield', 'Frame': 120, 'Index': 60, 'IndexC': 0, 'IndexT': 0, 'IndexXY': 2, 'IndexZ': 4}, {'Channel': 'YFP', 'Frame': 121, 'Index': 60, 'IndexC': 1, 'IndexT': 0, 'IndexXY': 2, 'IndexZ': 4}, {'Channel': 'Brightfield', 'Frame': 122, 'Index': 61, 'IndexC': 0, 'IndexT': 0, 'IndexXY': 2, 'IndexZ': 5}, {'Channel': 'YFP', 'Frame': 123, 'Index': 61, 'IndexC': 1, 'IndexT': 0, 'IndexXY': 2, 'IndexZ': 5}, {'Channel': 'Brightfield', 'Frame': 124, 'Index': 62, 'IndexC': 0, 'IndexT': 0, 'IndexXY': 2, 'IndexZ': 6}, {'Channel': 'YFP', 'Frame': 125, 'Index': 62, 'IndexC': 1, 'IndexT': 0, 'IndexXY': 2, 'IndexZ': 6}, {'Channel': 'Brightfield', 'Frame': 126, 'Index': 63, 'IndexC': 0, 'IndexT': 1, 'IndexXY': 2, 'IndexZ': 0}, {'Channel': 'YFP', 'Frame': 127, 'Index': 63, 'IndexC': 1, 'IndexT': 1, 'IndexXY': 2, 'IndexZ': 0}, {'Channel': 'Brightfield', 'Frame': 128, 'Index': 64, 'IndexC': 0, 'IndexT': 1, 'IndexXY': 2, 'IndexZ': 1}, {'Channel': 'YFP', 'Frame': 129, 'Index': 64, 'IndexC': 1, 'IndexT': 1, 'IndexXY': 2, 'IndexZ': 1}, {'Channel': 'Brightfield', 'Frame': 130, 'Index': 65, 'IndexC': 0, 'IndexT': 1, 'IndexXY': 2, 'IndexZ': 2}, {'Channel': 'YFP', 'Frame': 131, 'Index': 65, 'IndexC': 1, 'IndexT': 1, 'IndexXY': 2, 'IndexZ': 2}, {'Channel': 'Brightfield', 'Frame': 132, 'Index': 66, 'IndexC': 0, 'IndexT': 1, 'IndexXY': 2, 'IndexZ': 3}, {'Channel': 'YFP', 'Frame': 133, 'Index': 66, 'IndexC': 1, 'IndexT': 1, 'IndexXY': 2, 'IndexZ': 3}, {'Channel': 'Brightfield', 'Frame': 134, 'Index': 67, 'IndexC': 0, 'IndexT': 1, 'IndexXY': 2, 'IndexZ': 4}, {'Channel': 'YFP', 'Frame': 135, 'Index': 67, 'IndexC': 1, 'IndexT': 1, 'IndexXY': 2, 'IndexZ': 4}, {'Channel': 'Brightfield', 'Frame': 136, 'Index': 68, 'IndexC': 0, 'IndexT': 1, 'IndexXY': 2, 'IndexZ': 5}, {'Channel': 'YFP', 'Frame': 137, 'Index': 68, 'IndexC': 1, 'IndexT': 1, 'IndexXY': 2, 'IndexZ': 5}, {'Channel': 'Brightfield', 'Frame': 138, 'Index': 69, 'IndexC': 0, 'IndexT': 1, 'IndexXY': 2, 'IndexZ': 6}, {'Channel': 'YFP', 'Frame': 139, 'Index': 69, 'IndexC': 1, 'IndexT': 1, 'IndexXY': 2, 'IndexZ': 6}, {'Channel': 'Brightfield', 'Frame': 140, 'Index': 70, 'IndexC': 0, 'IndexT': 2, 'IndexXY': 2, 'IndexZ': 0}, {'Channel': 'YFP', 'Frame': 141, 'Index': 70, 'IndexC': 1, 'IndexT': 2, 'IndexXY': 2, 'IndexZ': 0}, {'Channel': 'Brightfield', 'Frame': 142, 'Index': 71, 'IndexC': 0, 'IndexT': 2, 'IndexXY': 2, 'IndexZ': 1}, {'Channel': 'YFP', 'Frame': 143, 'Index': 71, 'IndexC': 1, 'IndexT': 2, 'IndexXY': 2, 'IndexZ': 1}, {'Channel': 'Brightfield', 'Frame': 144, 'Index': 72, 'IndexC': 0, 'IndexT': 2, 'IndexXY': 2, 'IndexZ': 2}, {'Channel': 'YFP', 'Frame': 145, 'Index': 72, 'IndexC': 1, 'IndexT': 2, 'IndexXY': 2, 'IndexZ': 2}, {'Channel': 'Brightfield', 'Frame': 146, 'Index': 73, 'IndexC': 0, 'IndexT': 2, 'IndexXY': 2, 'IndexZ': 3}, {'Channel': 'YFP', 'Frame': 147, 'Index': 73, 'IndexC': 1, 'IndexT': 2, 'IndexXY': 2, 'IndexZ': 3}, {'Channel': 'Brightfield', 'Frame': 148, 'Index': 74, 'IndexC': 0, 'IndexT': 2, 'IndexXY': 2, 'IndexZ': 4}, {'Channel': 'YFP', 'Frame': 149, 'Index': 74, 'IndexC': 1, 'IndexT': 2, 'IndexXY': 2, 'IndexZ': 4}, {'Channel': 'Brightfield', 'Frame': 150, 'Index': 75, 'IndexC': 0, 'IndexT': 2, 'IndexXY': 2, 'IndexZ': 5}, {'Channel': 'YFP', 'Frame': 151, 'Index': 75, 'IndexC': 1, 'IndexT': 2, 'IndexXY': 2, 'IndexZ': 5}, {'Channel': 'Brightfield', 'Frame': 152, 'Index': 76, 'IndexC': 0, 'IndexT': 2, 'IndexXY': 2, 'IndexZ': 6}, {'Channel': 'YFP', 'Frame': 153, 'Index': 76, 'IndexC': 1, 'IndexT': 2, 'IndexXY': 2, 'IndexZ': 6}, {'Channel': 'Brightfield', 'Frame': 154, 'Index': 77, 'IndexC': 0, 'IndexT': 3, 'IndexXY': 2, 'IndexZ': 0}, {'Channel': 'YFP', 'Frame': 155, 'Index': 77, 'IndexC': 1, 'IndexT': 3, 'IndexXY': 2, 'IndexZ': 0}, {'Channel': 'Brightfield', 'Frame': 156, 'Index': 78, 'IndexC': 0, 'IndexT': 3, 'IndexXY': 2, 'IndexZ': 1}, {'Channel': 'YFP', 'Frame': 157, 'Index': 78, 'IndexC': 1, 'IndexT': 3, 'IndexXY': 2, 'IndexZ': 1}, {'Channel': 'Brightfield', 'Frame': 158, 'Index': 79, 'IndexC': 0, 'IndexT': 3, 'IndexXY': 2, 'IndexZ': 2}, {'Channel': 'YFP', 'Frame': 159, 'Index': 79, 'IndexC': 1, 'IndexT': 3, 'IndexXY': 2, 'IndexZ': 2}, {'Channel': 'Brightfield', 'Frame': 160, 'Index': 80, 'IndexC': 0, 'IndexT': 3, 'IndexXY': 2, 'IndexZ': 3}, {'Channel': 'YFP', 'Frame': 161, 'Index': 80, 'IndexC': 1, 'IndexT': 3, 'IndexXY': 2, 'IndexZ': 3}, {'Channel': 'Brightfield', 'Frame': 162, 'Index': 81, 'IndexC': 0, 'IndexT': 3, 'IndexXY': 2, 'IndexZ': 4}, {'Channel': 'YFP', 'Frame': 163, 'Index': 81, 'IndexC': 1, 'IndexT': 3, 'IndexXY': 2, 'IndexZ': 4}, {'Channel': 'Brightfield', 'Frame': 164, 'Index': 82, 'IndexC': 0, 'IndexT': 3, 'IndexXY': 2, 'IndexZ': 5}, {'Channel': 'YFP', 'Frame': 165, 'Index': 82, 'IndexC': 1, 'IndexT': 3, 'IndexXY': 2, 'IndexZ': 5}, {'Channel': 'Brightfield', 'Frame': 166, 'Index': 83, 'IndexC': 0, 'IndexT': 3, 'IndexXY': 2, 'IndexZ': 6}, {'Channel': 'YFP', 'Frame': 167, 'Index': 83, 'IndexC': 1, 'IndexT': 3, 'IndexXY': 2, 'IndexZ': 6}, {'Channel': 'Brightfield', 'Frame': 168, 'Index': 84, 'IndexC': 0, 'IndexT': 0, 'IndexXY': 3, 'IndexZ': 0}, {'Channel': 'YFP', 'Frame': 169, 'Index': 84, 'IndexC': 1, 'IndexT': 0, 'IndexXY': 3, 'IndexZ': 0}, {'Channel': 'Brightfield', 'Frame': 170, 'Index': 85, 'IndexC': 0, 'IndexT': 0, 'IndexXY': 3, 'IndexZ': 1}, {'Channel': 'YFP', 'Frame': 171, 'Index': 85, 'IndexC': 1, 'IndexT': 0, 'IndexXY': 3, 'IndexZ': 1}, {'Channel': 'Brightfield', 'Frame': 172, 'Index': 86, 'IndexC': 0, 'IndexT': 0, 'IndexXY': 3, 'IndexZ': 2}, {'Channel': 'YFP', 'Frame': 173, 'Index': 86, 'IndexC': 1, 'IndexT': 0, 'IndexXY': 3, 'IndexZ': 2}, {'Channel': 'Brightfield', 'Frame': 174, 'Index': 87, 'IndexC': 0, 'IndexT': 0, 'IndexXY': 3, 'IndexZ': 3}, {'Channel': 'YFP', 'Frame': 175, 'Index': 87, 'IndexC': 1, 'IndexT': 0, 'IndexXY': 3, 'IndexZ': 3}, {'Channel': 'Brightfield', 'Frame': 176, 'Index': 88, 'IndexC': 0, 'IndexT': 0, 'IndexXY': 3, 'IndexZ': 4}, {'Channel': 'YFP', 'Frame': 177, 'Index': 88, 'IndexC': 1, 'IndexT': 0, 'IndexXY': 3, 'IndexZ': 4}, {'Channel': 'Brightfield', 'Frame': 178, 'Index': 89, 'IndexC': 0, 'IndexT': 0, 'IndexXY': 3, 'IndexZ': 5}, {'Channel': 'YFP', 'Frame': 179, 'Index': 89, 'IndexC': 1, 'IndexT': 0, 'IndexXY': 3, 'IndexZ': 5}, {'Channel': 'Brightfield', 'Frame': 180, 'Index': 90, 'IndexC': 0, 'IndexT': 0, 'IndexXY': 3, 'IndexZ': 6}, {'Channel': 'YFP', 'Frame': 181, 'Index': 90, 'IndexC': 1, 'IndexT': 0, 'IndexXY': 3, 'IndexZ': 6}, {'Channel': 'Brightfield', 'Frame': 182, 'Index': 91, 'IndexC': 0, 'IndexT': 1, 'IndexXY': 3, 'IndexZ': 0}, {'Channel': 'YFP', 'Frame': 183, 'Index': 91, 'IndexC': 1, 'IndexT': 1, 'IndexXY': 3, 'IndexZ': 0}, {'Channel': 'Brightfield', 'Frame': 184, 'Index': 92, 'IndexC': 0, 'IndexT': 1, 'IndexXY': 3, 'IndexZ': 1}, {'Channel': 'YFP', 'Frame': 185, 'Index': 92, 'IndexC': 1, 'IndexT': 1, 'IndexXY': 3, 'IndexZ': 1}, {'Channel': 'Brightfield', 'Frame': 186, 'Index': 93, 'IndexC': 0, 'IndexT': 1, 'IndexXY': 3, 'IndexZ': 2}, {'Channel': 'YFP', 'Frame': 187, 'Index': 93, 'IndexC': 1, 'IndexT': 1, 'IndexXY': 3, 'IndexZ': 2}, {'Channel': 'Brightfield', 'Frame': 188, 'Index': 94, 'IndexC': 0, 'IndexT': 1, 'IndexXY': 3, 'IndexZ': 3}, {'Channel': 'YFP', 'Frame': 189, 'Index': 94, 'IndexC': 1, 'IndexT': 1, 'IndexXY': 3, 'IndexZ': 3}, {'Channel': 'Brightfield', 'Frame': 190, 'Index': 95, 'IndexC': 0, 'IndexT': 1, 'IndexXY': 3, 'IndexZ': 4}, {'Channel': 'YFP', 'Frame': 191, 'Index': 95, 'IndexC': 1, 'IndexT': 1, 'IndexXY': 3, 'IndexZ': 4}, {'Channel': 'Brightfield', 'Frame': 192, 'Index': 96, 'IndexC': 0, 'IndexT': 1, 'IndexXY': 3, 'IndexZ': 5}, {'Channel': 'YFP', 'Frame': 193, 'Index': 96, 'IndexC': 1, 'IndexT': 1, 'IndexXY': 3, 'IndexZ': 5}, {'Channel': 'Brightfield', 'Frame': 194, 'Index': 97, 'IndexC': 0, 'IndexT': 1, 'IndexXY': 3, 'IndexZ': 6}, {'Channel': 'YFP', 'Frame': 195, 'Index': 97, 'IndexC': 1, 'IndexT': 1, 'IndexXY': 3, 'IndexZ': 6}, {'Channel': 'Brightfield', 'Frame': 196, 'Index': 98, 'IndexC': 0, 'IndexT': 2, 'IndexXY': 3, 'IndexZ': 0}, {'Channel': 'YFP', 'Frame': 197, 'Index': 98, 'IndexC': 1, 'IndexT': 2, 'IndexXY': 3, 'IndexZ': 0}, {'Channel': 'Brightfield', 'Frame': 198, 'Index': 99, 'IndexC': 0, 'IndexT': 2, 'IndexXY': 3, 'IndexZ': 1}, {'Channel': 'YFP', 'Frame': 199, 'Index': 99, 'IndexC': 1, 'IndexT': 2, 'IndexXY': 3, 'IndexZ': 1}, {'Channel': 'Brightfield', 'Frame': 200, 'Index': 100, 'IndexC': 0, 'IndexT': 2, 'IndexXY': 3, 'IndexZ': 2}, {'Channel': 'YFP', 'Frame': 201, 'Index': 100, 'IndexC': 1, 'IndexT': 2, 'IndexXY': 3, 'IndexZ': 2}, {'Channel': 'Brightfield', 'Frame': 202, 'Index': 101, 'IndexC': 0, 'IndexT': 2, 'IndexXY': 3, 'IndexZ': 3}, {'Channel': 'YFP', 'Frame': 203, 'Index': 101, 'IndexC': 1, 'IndexT': 2, 'IndexXY': 3, 'IndexZ': 3}, {'Channel': 'Brightfield', 'Frame': 204, 'Index': 102, 'IndexC': 0, 'IndexT': 2, 'IndexXY': 3, 'IndexZ': 4}, {'Channel': 'YFP', 'Frame': 205, 'Index': 102, 'IndexC': 1, 'IndexT': 2, 'IndexXY': 3, 'IndexZ': 4}, {'Channel': 'Brightfield', 'Frame': 206, 'Index': 103, 'IndexC': 0, 'IndexT': 2, 'IndexXY': 3, 'IndexZ': 5}, {'Channel': 'YFP', 'Frame': 207, 'Index': 103, 'IndexC': 1, 'IndexT': 2, 'IndexXY': 3, 'IndexZ': 5}, {'Channel': 'Brightfield', 'Frame': 208, 'Index': 104, 'IndexC': 0, 'IndexT': 2, 'IndexXY': 3, 'IndexZ': 6}, {'Channel': 'YFP', 'Frame': 209, 'Index': 104, 'IndexC': 1, 'IndexT': 2, 'IndexXY': 3, 'IndexZ': 6}, {'Channel': 'Brightfield', 'Frame': 210, 'Index': 105, 'IndexC': 0, 'IndexT': 3, 'IndexXY': 3, 'IndexZ': 0}, {'Channel': 'YFP', 'Frame': 211, 'Index': 105, 'IndexC': 1, 'IndexT': 3, 'IndexXY': 3, 'IndexZ': 0}, {'Channel': 'Brightfield', 'Frame': 212, 'Index': 106, 'IndexC': 0, 'IndexT': 3, 'IndexXY': 3, 'IndexZ': 1}, {'Channel': 'YFP', 'Frame': 213, 'Index': 106, 'IndexC': 1, 'IndexT': 3, 'IndexXY': 3, 'IndexZ': 1}, {'Channel': 'Brightfield', 'Frame': 214, 'Index': 107, 'IndexC': 0, 'IndexT': 3, 'IndexXY': 3, 'IndexZ': 2}, {'Channel': 'YFP', 'Frame': 215, 'Index': 107, 'IndexC': 1, 'IndexT': 3, 'IndexXY': 3, 'IndexZ': 2}, {'Channel': 'Brightfield', 'Frame': 216, 'Index': 108, 'IndexC': 0, 'IndexT': 3, 'IndexXY': 3, 'IndexZ': 3}, {'Channel': 'YFP', 'Frame': 217, 'Index': 108, 'IndexC': 1, 'IndexT': 3, 'IndexXY': 3, 'IndexZ': 3}, {'Channel': 'Brightfield', 'Frame': 218, 'Index': 109, 'IndexC': 0, 'IndexT': 3, 'IndexXY': 3, 'IndexZ': 4}, {'Channel': 'YFP', 'Frame': 219, 'Index': 109, 'IndexC': 1, 'IndexT': 3, 'IndexXY': 3, 'IndexZ': 4}, {'Channel': 'Brightfield', 'Frame': 220, 'Index': 110, 'IndexC': 0, 'IndexT': 3, 'IndexXY': 3, 'IndexZ': 5}, {'Channel': 'YFP', 'Frame': 221, 'Index': 110, 'IndexC': 1, 'IndexT': 3, 'IndexXY': 3, 'IndexZ': 5}, {'Channel': 'Brightfield', 'Frame': 222, 'Index': 111, 'IndexC': 0, 'IndexT': 3, 'IndexXY': 3, 'IndexZ': 6}, {'Channel': 'YFP', 'Frame': 223, 'Index': 111, 'IndexC': 1, 'IndexT': 3, 'IndexXY': 3, 'IndexZ': 6}, {'Channel': 'Brightfield', 'Frame': 224, 'Index': 112, 'IndexC': 0, 'IndexT': 0, 'IndexXY': 4, 'IndexZ': 0}, {'Channel': 'YFP', 'Frame': 225, 'Index': 112, 'IndexC': 1, 'IndexT': 0, 'IndexXY': 4, 'IndexZ': 0}, {'Channel': 'Brightfield', 'Frame': 226, 'Index': 113, 'IndexC': 0, 'IndexT': 0, 'IndexXY': 4, 'IndexZ': 1}, {'Channel': 'YFP', 'Frame': 227, 'Index': 113, 'IndexC': 1, 'IndexT': 0, 'IndexXY': 4, 'IndexZ': 1}, {'Channel': 'Brightfield', 'Frame': 228, 'Index': 114, 'IndexC': 0, 'IndexT': 0, 'IndexXY': 4, 'IndexZ': 2}, {'Channel': 'YFP', 'Frame': 229, 'Index': 114, 'IndexC': 1, 'IndexT': 0, 'IndexXY': 4, 'IndexZ': 2}, {'Channel': 'Brightfield', 'Frame': 230, 'Index': 115, 'IndexC': 0, 'IndexT': 0, 'IndexXY': 4, 'IndexZ': 3}, {'Channel': 'YFP', 'Frame': 231, 'Index': 115, 'IndexC': 1, 'IndexT': 0, 'IndexXY': 4, 'IndexZ': 3}, {'Channel': 'Brightfield', 'Frame': 232, 'Index': 116, 'IndexC': 0, 'IndexT': 0, 'IndexXY': 4, 'IndexZ': 4}, {'Channel': 'YFP', 'Frame': 233, 'Index': 116, 'IndexC': 1, 'IndexT': 0, 'IndexXY': 4, 'IndexZ': 4}, {'Channel': 'Brightfield', 'Frame': 234, 'Index': 117, 'IndexC': 0, 'IndexT': 0, 'IndexXY': 4, 'IndexZ': 5}, {'Channel': 'YFP', 'Frame': 235, 'Index': 117, 'IndexC': 1, 'IndexT': 0, 'IndexXY': 4, 'IndexZ': 5}, {'Channel': 'Brightfield', 'Frame': 236, 'Index': 118, 'IndexC': 0, 'IndexT': 0, 'IndexXY': 4, 'IndexZ': 6}, {'Channel': 'YFP', 'Frame': 237, 'Index': 118, 'IndexC': 1, 'IndexT': 0, 'IndexXY': 4, 'IndexZ': 6}, {'Channel': 'Brightfield', 'Frame': 238, 'Index': 119, 'IndexC': 0, 'IndexT': 1, 'IndexXY': 4, 'IndexZ': 0}, {'Channel': 'YFP', 'Frame': 239, 'Index': 119, 'IndexC': 1, 'IndexT': 1, 'IndexXY': 4, 'IndexZ': 0}, {'Channel': 'Brightfield', 'Frame': 240, 'Index': 120, 'IndexC': 0, 'IndexT': 1, 'IndexXY': 4, 'IndexZ': 1}, {'Channel': 'YFP', 'Frame': 241, 'Index': 120, 'IndexC': 1, 'IndexT': 1, 'IndexXY': 4, 'IndexZ': 1}, {'Channel': 'Brightfield', 'Frame': 242, 'Index': 121, 'IndexC': 0, 'IndexT': 1, 'IndexXY': 4, 'IndexZ': 2}, {'Channel': 'YFP', 'Frame': 243, 'Index': 121, 'IndexC': 1, 'IndexT': 1, 'IndexXY': 4, 'IndexZ': 2}, {'Channel': 'Brightfield', 'Frame': 244, 'Index': 122, 'IndexC': 0, 'IndexT': 1, 'IndexXY': 4, 'IndexZ': 3}, {'Channel': 'YFP', 'Frame': 245, 'Index': 122, 'IndexC': 1, 'IndexT': 1, 'IndexXY': 4, 'IndexZ': 3}, {'Channel': 'Brightfield', 'Frame': 246, 'Index': 123, 'IndexC': 0, 'IndexT': 1, 'IndexXY': 4, 'IndexZ': 4}, {'Channel': 'YFP', 'Frame': 247, 'Index': 123, 'IndexC': 1, 'IndexT': 1, 'IndexXY': 4, 'IndexZ': 4}, {'Channel': 'Brightfield', 'Frame': 248, 'Index': 124, 'IndexC': 0, 'IndexT': 1, 'IndexXY': 4, 'IndexZ': 5}, {'Channel': 'YFP', 'Frame': 249, 'Index': 124, 'IndexC': 1, 'IndexT': 1, 'IndexXY': 4, 'IndexZ': 5}, {'Channel': 'Brightfield', 'Frame': 250, 'Index': 125, 'IndexC': 0, 'IndexT': 1, 'IndexXY': 4, 'IndexZ': 6}, {'Channel': 'YFP', 'Frame': 251, 'Index': 125, 'IndexC': 1, 'IndexT': 1, 'IndexXY': 4, 'IndexZ': 6}, {'Channel': 'Brightfield', 'Frame': 252, 'Index': 126, 'IndexC': 0, 'IndexT': 2, 'IndexXY': 4, 'IndexZ': 0}, {'Channel': 'YFP', 'Frame': 253, 'Index': 126, 'IndexC': 1, 'IndexT': 2, 'IndexXY': 4, 'IndexZ': 0}, {'Channel': 'Brightfield', 'Frame': 254, 'Index': 127, 'IndexC': 0, 'IndexT': 2, 'IndexXY': 4, 'IndexZ': 1}, {'Channel': 'YFP', 'Frame': 255, 'Index': 127, 'IndexC': 1, 'IndexT': 2, 'IndexXY': 4, 'IndexZ': 1}, {'Channel': 'Brightfield', 'Frame': 256, 'Index': 128, 'IndexC': 0, 'IndexT': 2, 'IndexXY': 4, 'IndexZ': 2}, {'Channel': 'YFP', 'Frame': 257, 'Index': 128, 'IndexC': 1, 'IndexT': 2, 'IndexXY': 4, 'IndexZ': 2}, {'Channel': 'Brightfield', 'Frame': 258, 'Index': 129, 'IndexC': 0, 'IndexT': 2, 'IndexXY': 4, 'IndexZ': 3}, {'Channel': 'YFP', 'Frame': 259, 'Index': 129, 'IndexC': 1, 'IndexT': 2, 'IndexXY': 4, 'IndexZ': 3}, {'Channel': 'Brightfield', 'Frame': 260, 'Index': 130, 'IndexC': 0, 'IndexT': 2, 'IndexXY': 4, 'IndexZ': 4}, {'Channel': 'YFP', 'Frame': 261, 'Index': 130, 'IndexC': 1, 'IndexT': 2, 'IndexXY': 4, 'IndexZ': 4}, {'Channel': 'Brightfield', 'Frame': 262, 'Index': 131, 'IndexC': 0, 'IndexT': 2, 'IndexXY': 4, 'IndexZ': 5}, {'Channel': 'YFP', 'Frame': 263, 'Index': 131, 'IndexC': 1, 'IndexT': 2, 'IndexXY': 4, 'IndexZ': 5}, {'Channel': 'Brightfield', 'Frame': 264, 'Index': 132, 'IndexC': 0, 'IndexT': 2, 'IndexXY': 4, 'IndexZ': 6}, {'Channel': 'YFP', 'Frame': 265, 'Index': 132, 'IndexC': 1, 'IndexT': 2, 'IndexXY': 4, 'IndexZ': 6}, {'Channel': 'Brightfield', 'Frame': 266, 'Index': 133, 'IndexC': 0, 'IndexT': 3, 'IndexXY': 4, 'IndexZ': 0}, {'Channel': 'YFP', 'Frame': 267, 'Index': 133, 'IndexC': 1, 'IndexT': 3, 'IndexXY': 4, 'IndexZ': 0}, {'Channel': 'Brightfield', 'Frame': 268, 'Index': 134, 'IndexC': 0, 'IndexT': 3, 'IndexXY': 4, 'IndexZ': 1}, {'Channel': 'YFP', 'Frame': 269, 'Index': 134, 'IndexC': 1, 'IndexT': 3, 'IndexXY': 4, 'IndexZ': 1}, {'Channel': 'Brightfield', 'Frame': 270, 'Index': 135, 'IndexC': 0, 'IndexT': 3, 'IndexXY': 4, 'IndexZ': 2}, {'Channel': 'YFP', 'Frame': 271, 'Index': 135, 'IndexC': 1, 'IndexT': 3, 'IndexXY': 4, 'IndexZ': 2}, {'Channel': 'Brightfield', 'Frame': 272, 'Index': 136, 'IndexC': 0, 'IndexT': 3, 'IndexXY': 4, 'IndexZ': 3}, {'Channel': 'YFP', 'Frame': 273, 'Index': 136, 'IndexC': 1, 'IndexT': 3, 'IndexXY': 4, 'IndexZ': 3}, {'Channel': 'Brightfield', 'Frame': 274, 'Index': 137, 'IndexC': 0, 'IndexT': 3, 'IndexXY': 4, 'IndexZ': 4}, {'Channel': 'YFP', 'Frame': 275, 'Index': 137, 'IndexC': 1, 'IndexT': 3, 'IndexXY': 4, 'IndexZ': 4}, {'Channel': 'Brightfield', 'Frame': 276, 'Index': 138, 'IndexC': 0, 'IndexT': 3, 'IndexXY': 4, 'IndexZ': 5}, {'Channel': 'YFP', 'Frame': 277, 'Index': 138, 'IndexC': 1, 'IndexT': 3, 'IndexXY': 4, 'IndexZ': 5}, {'Channel': 'Brightfield', 'Frame': 278, 'Index': 139, 'IndexC': 0, 'IndexT': 3, 'IndexXY': 4, 'IndexZ': 6}, {'Channel': 'YFP', 'Frame': 279, 'Index': 139, 'IndexC': 1, 'IndexT': 3, 'IndexXY': 4, 'IndexZ': 6}, {'Channel': 'Brightfield', 'Frame': 280, 'Index': 140, 'IndexC': 0, 'IndexT': 0, 'IndexXY': 5, 'IndexZ': 0}, {'Channel': 'YFP', 'Frame': 281, 'Index': 140, 'IndexC': 1, 'IndexT': 0, 'IndexXY': 5, 'IndexZ': 0}, {'Channel': 'Brightfield', 'Frame': 282, 'Index': 141, 'IndexC': 0, 'IndexT': 0, 'IndexXY': 5, 'IndexZ': 1}, {'Channel': 'YFP', 'Frame': 283, 'Index': 141, 'IndexC': 1, 'IndexT': 0, 'IndexXY': 5, 'IndexZ': 1}, {'Channel': 'Brightfield', 'Frame': 284, 'Index': 142, 'IndexC': 0, 'IndexT': 0, 'IndexXY': 5, 'IndexZ': 2}, {'Channel': 'YFP', 'Frame': 285, 'Index': 142, 'IndexC': 1, 'IndexT': 0, 'IndexXY': 5, 'IndexZ': 2}, {'Channel': 'Brightfield', 'Frame': 286, 'Index': 143, 'IndexC': 0, 'IndexT': 0, 'IndexXY': 5, 'IndexZ': 3}, {'Channel': 'YFP', 'Frame': 287, 'Index': 143, 'IndexC': 1, 'IndexT': 0, 'IndexXY': 5, 'IndexZ': 3}, {'Channel': 'Brightfield', 'Frame': 288, 'Index': 144, 'IndexC': 0, 'IndexT': 0, 'IndexXY': 5, 'IndexZ': 4}, {'Channel': 'YFP', 'Frame': 289, 'Index': 144, 'IndexC': 1, 'IndexT': 0, 'IndexXY': 5, 'IndexZ': 4}, {'Channel': 'Brightfield', 'Frame': 290, 'Index': 145, 'IndexC': 0, 'IndexT': 0, 'IndexXY': 5, 'IndexZ': 5}, {'Channel': 'YFP', 'Frame': 291, 'Index': 145, 'IndexC': 1, 'IndexT': 0, 'IndexXY': 5, 'IndexZ': 5}, {'Channel': 'Brightfield', 'Frame': 292, 'Index': 146, 'IndexC': 0, 'IndexT': 0, 'IndexXY': 5, 'IndexZ': 6}, {'Channel': 'YFP', 'Frame': 293, 'Index': 146, 'IndexC': 1, 'IndexT': 0, 'IndexXY': 5, 'IndexZ': 6}, {'Channel': 'Brightfield', 'Frame': 294, 'Index': 147, 'IndexC': 0, 'IndexT': 1, 'IndexXY': 5, 'IndexZ': 0}, {'Channel': 'YFP', 'Frame': 295, 'Index': 147, 'IndexC': 1, 'IndexT': 1, 'IndexXY': 5, 'IndexZ': 0}, {'Channel': 'Brightfield', 'Frame': 296, 'Index': 148, 'IndexC': 0, 'IndexT': 1, 'IndexXY': 5, 'IndexZ': 1}, {'Channel': 'YFP', 'Frame': 297, 'Index': 148, 'IndexC': 1, 'IndexT': 1, 'IndexXY': 5, 'IndexZ': 1}, {'Channel': 'Brightfield', 'Frame': 298, 'Index': 149, 'IndexC': 0, 'IndexT': 1, 'IndexXY': 5, 'IndexZ': 2}, {'Channel': 'YFP', 'Frame': 299, 'Index': 149, 'IndexC': 1, 'IndexT': 1, 'IndexXY': 5, 'IndexZ': 2}, {'Channel': 'Brightfield', 'Frame': 300, 'Index': 150, 'IndexC': 0, 'IndexT': 1, 'IndexXY': 5, 'IndexZ': 3}, {'Channel': 'YFP', 'Frame': 301, 'Index': 150, 'IndexC': 1, 'IndexT': 1, 'IndexXY': 5, 'IndexZ': 3}, {'Channel': 'Brightfield', 'Frame': 302, 'Index': 151, 'IndexC': 0, 'IndexT': 1, 'IndexXY': 5, 'IndexZ': 4}, {'Channel': 'YFP', 'Frame': 303, 'Index': 151, 'IndexC': 1, 'IndexT': 1, 'IndexXY': 5, 'IndexZ': 4}, {'Channel': 'Brightfield', 'Frame': 304, 'Index': 152, 'IndexC': 0, 'IndexT': 1, 'IndexXY': 5, 'IndexZ': 5}, {'Channel': 'YFP', 'Frame': 305, 'Index': 152, 'IndexC': 1, 'IndexT': 1, 'IndexXY': 5, 'IndexZ': 5}, {'Channel': 'Brightfield', 'Frame': 306, 'Index': 153, 'IndexC': 0, 'IndexT': 1, 'IndexXY': 5, 'IndexZ': 6}, {'Channel': 'YFP', 'Frame': 307, 'Index': 153, 'IndexC': 1, 'IndexT': 1, 'IndexXY': 5, 'IndexZ': 6}, {'Channel': 'Brightfield', 'Frame': 308, 'Index': 154, 'IndexC': 0, 'IndexT': 2, 'IndexXY': 5, 'IndexZ': 0}, {'Channel': 'YFP', 'Frame': 309, 'Index': 154, 'IndexC': 1, 'IndexT': 2, 'IndexXY': 5, 'IndexZ': 0}, {'Channel': 'Brightfield', 'Frame': 310, 'Index': 155, 'IndexC': 0, 'IndexT': 2, 'IndexXY': 5, 'IndexZ': 1}, {'Channel': 'YFP', 'Frame': 311, 'Index': 155, 'IndexC': 1, 'IndexT': 2, 'IndexXY': 5, 'IndexZ': 1}, {'Channel': 'Brightfield', 'Frame': 312, 'Index': 156, 'IndexC': 0, 'IndexT': 2, 'IndexXY': 5, 'IndexZ': 2}, {'Channel': 'YFP', 'Frame': 313, 'Index': 156, 'IndexC': 1, 'IndexT': 2, 'IndexXY': 5, 'IndexZ': 2}, {'Channel': 'Brightfield', 'Frame': 314, 'Index': 157, 'IndexC': 0, 'IndexT': 2, 'IndexXY': 5, 'IndexZ': 3}, {'Channel': 'YFP', 'Frame': 315, 'Index': 157, 'IndexC': 1, 'IndexT': 2, 'IndexXY': 5, 'IndexZ': 3}, {'Channel': 'Brightfield', 'Frame': 316, 'Index': 158, 'IndexC': 0, 'IndexT': 2, 'IndexXY': 5, 'IndexZ': 4}, {'Channel': 'YFP', 'Frame': 317, 'Index': 158, 'IndexC': 1, 'IndexT': 2, 'IndexXY': 5, 'IndexZ': 4}, {'Channel': 'Brightfield', 'Frame': 318, 'Index': 159, 'IndexC': 0, 'IndexT': 2, 'IndexXY': 5, 'IndexZ': 5}, {'Channel': 'YFP', 'Frame': 319, 'Index': 159, 'IndexC': 1, 'IndexT': 2, 'IndexXY': 5, 'IndexZ': 5}, {'Channel': 'Brightfield', 'Frame': 320, 'Index': 160, 'IndexC': 0, 'IndexT': 2, 'IndexXY': 5, 'IndexZ': 6}, {'Channel': 'YFP', 'Frame': 321, 'Index': 160, 'IndexC': 1, 'IndexT': 2, 'IndexXY': 5, 'IndexZ': 6}, {'Channel': 'Brightfield', 'Frame': 322, 'Index': 161, 'IndexC': 0, 'IndexT': 3, 'IndexXY': 5, 'IndexZ': 0}, {'Channel': 'YFP', 'Frame': 323, 'Index': 161, 'IndexC': 1, 'IndexT': 3, 'IndexXY': 5, 'IndexZ': 0}, {'Channel': 'Brightfield', 'Frame': 324, 'Index': 162, 'IndexC': 0, 'IndexT': 3, 'IndexXY': 5, 'IndexZ': 1}, {'Channel': 'YFP', 'Frame': 325, 'Index': 162, 'IndexC': 1, 'IndexT': 3, 'IndexXY': 5, 'IndexZ': 1}, {'Channel': 'Brightfield', 'Frame': 326, 'Index': 163, 'IndexC': 0, 'IndexT': 3, 'IndexXY': 5, 'IndexZ': 2}, {'Channel': 'YFP', 'Frame': 327, 'Index': 163, 'IndexC': 1, 'IndexT': 3, 'IndexXY': 5, 'IndexZ': 2}, {'Channel': 'Brightfield', 'Frame': 328, 'Index': 164, 'IndexC': 0, 'IndexT': 3, 'IndexXY': 5, 'IndexZ': 3}, {'Channel': 'YFP', 'Frame': 329, 'Index': 164, 'IndexC': 1, 'IndexT': 3, 'IndexXY': 5, 'IndexZ': 3}, {'Channel': 'Brightfield', 'Frame': 330, 'Index': 165, 'IndexC': 0, 'IndexT': 3, 'IndexXY': 5, 'IndexZ': 4}, {'Channel': 'YFP', 'Frame': 331, 'Index': 165, 'IndexC': 1, 'IndexT': 3, 'IndexXY': 5, 'IndexZ': 4}, {'Channel': 'Brightfield', 'Frame': 332, 'Index': 166, 'IndexC': 0, 'IndexT': 3, 'IndexXY': 5, 'IndexZ': 5}, {'Channel': 'YFP', 'Frame': 333, 'Index': 166, 'IndexC': 1, 'IndexT': 3, 'IndexXY': 5, 'IndexZ': 5}, {'Channel': 'Brightfield', 'Frame': 334, 'Index': 167, 'IndexC': 0, 'IndexT': 3, 'IndexXY': 5, 'IndexZ': 6}, {'Channel': 'YFP', 'Frame': 335, 'Index': 167, 'IndexC': 1, 'IndexT': 3, 'IndexXY': 5, 'IndexZ': 6}], 'levels': 1, 'magnification': 15.397175034092347, 'mm_x': 0.00064946978766287, 'mm_y': 0.00064946978766287, 'sizeX': 1024, 'sizeY': 1022, 'tileHeight': 1022, 'tileWidth': 1024}\n",
      "1024\n",
      "1022\n"
     ]
    }
   ],
   "source": [
    "datasetId = datasets[dataset_name]\n",
    "datasetClient = tiles.UPennContrastDataset(apiUrl=apiUrl, token=client.token, datasetId=datasetId)\n",
    "print(datasetClient.tiles)\n",
    "tile_width = datasetClient.tiles['tileWidth']\n",
    "tile_height = datasetClient.tiles['tileHeight']\n",
    "print(tile_width)\n",
    "print(tile_height)"
   ]
  },
  {
   "cell_type": "code",
   "execution_count": 9,
   "metadata": {},
   "outputs": [],
   "source": [
    "pointAnnotationList = annotationClient.getAnnotationsByDatasetId(datasetId, shape='point')\n",
    "blobAnnotationList = annotationClient.getAnnotationsByDatasetId(datasetId, shape='polygon')\n",
    "lineAnnotationList = annotationClient.getAnnotationsByDatasetId(datasetId, shape='line')"
   ]
  },
  {
   "cell_type": "code",
   "execution_count": 10,
   "metadata": {},
   "outputs": [
    {
     "name": "stdout",
     "output_type": "stream",
     "text": [
      "64aa2973f69bc320e7503648\n",
      "[ { '_id': '64aa9a82f69bc320e750386e',\n",
      "    'access': { 'groups': [],\n",
      "                'users': [ { 'flags': [],\n",
      "                             'id': '62891fc02060d362984bc104',\n",
      "                             'level': 2}]},\n",
      "    'childId': '64aa9a46f69bc320e750386c',\n",
      "    'datasetId': '64aa2973f69bc320e7503648',\n",
      "    'label': 'Connection Add outerPt to innerPt',\n",
      "    'parentId': '64aa9990f69bc320e7503852',\n",
      "    'tags': ['outerPt', 'innerPt']},\n",
      "  { '_id': '64aa9ac3f69bc320e7503878',\n",
      "    'access': { 'groups': [],\n",
      "                'users': [ { 'flags': [],\n",
      "                             'id': '62891fc02060d362984bc104',\n",
      "                             'level': 2}]},\n",
      "    'childId': '64aa9aa1f69bc320e7503870',\n",
      "    'datasetId': '64aa2973f69bc320e7503648',\n",
      "    'label': 'Connection Add outerPt to innerPt',\n",
      "    'parentId': '64aa9aa7f69bc320e7503876',\n",
      "    'tags': ['outerPt', 'innerPt']},\n",
      "  { '_id': '64b66ca75a47f8266db0f1cf',\n",
      "    'access': { 'groups': [],\n",
      "                'users': [ { 'flags': [],\n",
      "                             'id': '62891fc02060d362984bc104',\n",
      "                             'level': 2}]},\n",
      "    'childId': '64aa99e3f69bc320e7503856',\n",
      "    'datasetId': '64aa2973f69bc320e7503648',\n",
      "    'parentId': '64aa9970f69bc320e7503830',\n",
      "    'tags': ['outerPt', 'innerPt']},\n",
      "  { '_id': '64b66d375a47f8266db0f1d8',\n",
      "    'access': { 'groups': [],\n",
      "                'users': [ { 'flags': [],\n",
      "                             'id': '62891fc02060d362984bc104',\n",
      "                             'level': 2}]},\n",
      "    'childId': '64aa99e4f69bc320e7503858',\n",
      "    'datasetId': '64aa2973f69bc320e7503648',\n",
      "    'label': 'Connection Add outerPt to innerPt',\n",
      "    'parentId': '64aa9973f69bc320e7503838',\n",
      "    'tags': ['outerPt', 'innerPt']}]\n"
     ]
    }
   ],
   "source": [
    "import pprint\n",
    "print(datasetId)\n",
    "connectionList = annotationClient.getAnnotationConnections(datasetId)\n",
    "pprint.pprint(connectionList,indent=2)"
   ]
  },
  {
   "cell_type": "code",
   "execution_count": 11,
   "metadata": {},
   "outputs": [
    {
     "name": "stdout",
     "output_type": "stream",
     "text": [
      "7\n",
      "21\n",
      "8\n",
      "{'_id': '64aa9942f69bc320e7503826', 'access': {'groups': [], 'users': [{'flags': [], 'id': '62891fc02060d362984bc104', 'level': 2}]}, 'channel': 1, 'coordinates': [{'x': 313.2846560841441, 'y': 436.8299470906123}, {'x': 313.2846560841441, 'y': 439.44455026536895}, {'x': 312.70363315642044, 'y': 442.0591534401256}, {'x': 311.25107583711116, 'y': 443.8022222232967}, {'x': 309.50800705394005, 'y': 445.254779542606}, {'x': 307.47442680690705, 'y': 447.57887125350084}, {'x': 306.02186948759777, 'y': 449.32194003667195}, {'x': 303.4072663128411, 'y': 450.1934744282575}, {'x': 298.7590828910515, 'y': 450.1934744282575}, {'x': 296.1444797162948, 'y': 449.32194003667195}, {'x': 293.5298765415381, 'y': 447.86938271736267}, {'x': 292.0773192222289, 'y': 446.7073368619153}, {'x': 291.2057848306433, 'y': 444.96426807874417}, {'x': 290.91527336678143, 'y': 442.0591534401256}, {'x': 291.2057848306433, 'y': 440.60659612081633}, {'x': 292.3678306860907, 'y': 437.70148148219783}, {'x': 292.94885361381444, 'y': 435.9584126990267}, {'x': 294.1108994692618, 'y': 433.9248324519937}, {'x': 295.85396825243294, 'y': 432.1817636688226}, {'x': 298.46857142718966, 'y': 431.31022927723706}, {'x': 300.79266313808444, 'y': 430.72920634951333}, {'x': 302.82624338511744, 'y': 430.72920634951333}, {'x': 310.67005290938744, 'y': 432.47227513268444}, {'x': 312.41312169255855, 'y': 434.79636684357934}], 'datasetId': '64aa2973f69bc320e7503648', 'location': {'Time': 0, 'XY': 0, 'Z': 0}, 'shape': 'polygon', 'tags': ['cell']}\n",
      "{'_id': '64aa9970f69bc320e7503830', 'access': {'groups': [], 'users': [{'flags': [], 'id': '62891fc02060d362984bc104', 'level': 2}]}, 'channel': 0, 'coordinates': [{'x': 288.8816931197485, 'y': 430.72920634951333, 'z': 0}], 'datasetId': '64aa2973f69bc320e7503648', 'location': {'Time': 0, 'XY': 0, 'Z': 0}, 'shape': 'point', 'tags': ['outerPt']}\n",
      "{'_id': '64aa9910f69bc320e750381e', 'access': {'groups': [], 'users': [{'flags': [], 'id': '62891fc02060d362984bc104', 'level': 2}]}, 'channel': 0, 'coordinates': [{'x': 441, 'y': 311.5, 'z': 0}, {'x': 449, 'y': 313.5, 'z': 0}, {'x': 454, 'y': 315.5, 'z': 0}, {'x': 460, 'y': 319.5, 'z': 0}, {'x': 467, 'y': 326.5, 'z': 0}, {'x': 472, 'y': 333.5, 'z': 0}, {'x': 498, 'y': 359.5, 'z': 0}, {'x': 502, 'y': 364.5, 'z': 0}, {'x': 505, 'y': 369.5, 'z': 0}, {'x': 512, 'y': 373.5, 'z': 0}, {'x': 518, 'y': 376.5, 'z': 0}, {'x': 524, 'y': 382.5, 'z': 0}, {'x': 529, 'y': 385.5, 'z': 0}, {'x': 531, 'y': 390.5, 'z': 0}, {'x': 535, 'y': 397.5, 'z': 0}, {'x': 538, 'y': 406.5, 'z': 0}, {'x': 540, 'y': 411.5, 'z': 0}, {'x': 543, 'y': 417.5, 'z': 0}, {'x': 545, 'y': 423.5, 'z': 0}, {'x': 547, 'y': 430.5, 'z': 0}, {'x': 547, 'y': 442.5, 'z': 0}, {'x': 541, 'y': 443.5, 'z': 0}, {'x': 534, 'y': 442.5, 'z': 0}, {'x': 528, 'y': 439.5, 'z': 0}, {'x': 521, 'y': 436.5, 'z': 0}, {'x': 511, 'y': 430.5, 'z': 0}, {'x': 504, 'y': 425.5, 'z': 0}, {'x': 498, 'y': 422.5, 'z': 0}, {'x': 488, 'y': 418.5, 'z': 0}, {'x': 480, 'y': 416.5, 'z': 0}, {'x': 464, 'y': 416.5, 'z': 0}, {'x': 440, 'y': 414.5, 'z': 0}, {'x': 434, 'y': 412.5, 'z': 0}, {'x': 422, 'y': 406.5, 'z': 0}, {'x': 417, 'y': 402.5, 'z': 0}, {'x': 411, 'y': 396.5, 'z': 0}, {'x': 407, 'y': 391.5, 'z': 0}, {'x': 401, 'y': 382.5, 'z': 0}, {'x': 397, 'y': 374.5, 'z': 0}, {'x': 394, 'y': 367.5, 'z': 0}, {'x': 392, 'y': 360.5, 'z': 0}, {'x': 392, 'y': 352.5, 'z': 0}, {'x': 395, 'y': 341.5, 'z': 0}, {'x': 399, 'y': 333.5, 'z': 0}, {'x': 401, 'y': 327.5, 'z': 0}, {'x': 407, 'y': 320.5, 'z': 0}, {'x': 412, 'y': 317.5, 'z': 0}, {'x': 418, 'y': 315.5, 'z': 0}, {'x': 426, 'y': 312.5, 'z': 0}, {'x': 433, 'y': 309.5, 'z': 0}, {'x': 438, 'y': 306.5, 'z': 0}], 'datasetId': '64aa2973f69bc320e7503648', 'location': {'Time': 0, 'XY': 0, 'Z': 0}, 'shape': 'line', 'tags': ['myLine']}\n"
     ]
    }
   ],
   "source": [
    "print(len(blobAnnotationList))\n",
    "print(len(pointAnnotationList))\n",
    "print(len(lineAnnotationList))\n",
    "print(blobAnnotationList[0])\n",
    "print(pointAnnotationList[0])\n",
    "print(lineAnnotationList[0])"
   ]
  },
  {
   "cell_type": "code",
   "execution_count": 21,
   "metadata": {},
   "outputs": [],
   "source": [
    "# point1 = pointAnnotationList[0]\n",
    "# #pprint.pprint(point1)\n",
    "# myPoint = {'channel': 0,'coordinates': [{'x': 600.8816931197485, 'y': 430.72920634951333, 'z': 0}],\n",
    "#  'datasetId': '64aa2973f69bc320e7503648',\n",
    "#  'location': {'Time': 0, 'XY': 0, 'Z': 0},\n",
    "#  'shape': 'point',\n",
    "#  'tags': ['outerPt']}\n",
    "\n",
    "# #pprint.pprint(myPoint)\n",
    "# annotationClient.createAnnotation(myPoint)"
   ]
  },
  {
   "cell_type": "code",
   "execution_count": 23,
   "metadata": {},
   "outputs": [
    {
     "name": "stdout",
     "output_type": "stream",
     "text": [
      "9\n",
      "10\n"
     ]
    }
   ],
   "source": [
    "filteredPointList = annotation_tools.get_annotations_with_tags(pointAnnotationList,['outerPt'],exclusive=False)\n",
    "print(len(filteredPointList))\n",
    "targetPointList = annotation_tools.get_annotations_with_tags(pointAnnotationList,['innerPt'],exclusive=False)\n",
    "print(len(targetPointList))"
   ]
  },
  {
   "cell_type": "code",
   "execution_count": 24,
   "metadata": {},
   "outputs": [
    {
     "name": "stdout",
     "output_type": "stream",
     "text": [
      "['outerPt', 'innerPt']\n",
      "{'childId': '64aa99e3f69bc320e7503856',\n",
      " 'datasetId': '64aa2973f69bc320e7503648',\n",
      " 'parentId': '64aa9970f69bc320e7503830',\n",
      " 'tags': ['outerPt', 'innerPt']}\n"
     ]
    },
    {
     "data": {
      "text/plain": [
       "{'_id': '64b66ca75a47f8266db0f1cf',\n",
       " 'access': {'groups': [],\n",
       "  'users': [{'flags': [], 'id': '62891fc02060d362984bc104', 'level': 2}]},\n",
       " 'childId': '64aa99e3f69bc320e7503856',\n",
       " 'datasetId': '64aa2973f69bc320e7503648',\n",
       " 'parentId': '64aa9970f69bc320e7503830',\n",
       " 'tags': ['outerPt', 'innerPt']}"
      ]
     },
     "execution_count": 24,
     "metadata": {},
     "output_type": "execute_result"
    }
   ],
   "source": [
    "annotation1 = filteredPointList[0].copy()\n",
    "annotation2 = targetPointList[0].copy()\n",
    "#print(datasetId)\n",
    "#pprint.pprint(annotation1)\n",
    "#pprint.pprint(annotation2)\n",
    "\n",
    "combined_tags = list(set(annotation1['tags'] + annotation2['tags']))\n",
    "print(combined_tags)\n",
    "\n",
    "myNewConnection = {'datasetId': datasetId,'parentId': annotation1['_id'], 'childId': annotation2['_id'],'tags': combined_tags}\n",
    "pprint.pprint(myNewConnection)\n",
    "\n",
    "#annotationClient.client.post(PATHS['connection'], json=myNewConnection)\n",
    "annotationClient.createConnection(myNewConnection)\n"
   ]
  },
  {
   "cell_type": "code",
   "execution_count": 10,
   "metadata": {},
   "outputs": [
    {
     "name": "stdout",
     "output_type": "stream",
     "text": [
      "For point id 64aa9970f69bc320e7503830, closest point is 64aa99e4f69bc320e7503858 with distance 44.97019871692391\n",
      "For point id 64aa9971f69bc320e7503832, closest point is 64aa99e4f69bc320e7503858 with distance 40.542745732502006\n",
      "For point id 64aa9972f69bc320e7503834, closest point is 64aa99ecf69bc320e7503864 with distance 22.147569722466812\n",
      "For point id 64aa9972f69bc320e7503836, closest point is 64aa99e3f69bc320e7503856 with distance 23.26450919111039\n",
      "For point id 64aa9973f69bc320e7503838, closest point is 64aa99e4f69bc320e7503858 with distance 15.882769465319464\n",
      "For point id 64aa9974f69bc320e750383a, closest point is 64aa99e4f69bc320e7503858 with distance 36.323228159944755\n",
      "For point id 64aa9990f69bc320e7503852, closest point is 64aa9a46f69bc320e750386c with distance 7.65561016396188\n"
     ]
    },
    {
     "ename": "TypeError",
     "evalue": "'NoneType' object is not subscriptable",
     "output_type": "error",
     "traceback": [
      "\u001b[0;31m---------------------------------------------------------------------------\u001b[0m",
      "\u001b[0;31mTypeError\u001b[0m                                 Traceback (most recent call last)",
      "Cell \u001b[0;32mIn[10], line 58\u001b[0m\n\u001b[1;32m     56\u001b[0m     matching_annotations \u001b[39m=\u001b[39m find_matching_annotations_by_location(source, targetPointList, Time\u001b[39m=\u001b[39m\u001b[39mTrue\u001b[39;00m, XY\u001b[39m=\u001b[39m\u001b[39mTrue\u001b[39;00m)\n\u001b[1;32m     57\u001b[0m     closest_point, min_distance \u001b[39m=\u001b[39m find_closest_point(source, matching_annotations)\n\u001b[0;32m---> 58\u001b[0m     \u001b[39mprint\u001b[39m(\u001b[39mf\u001b[39m\u001b[39m\"\u001b[39m\u001b[39mFor point id \u001b[39m\u001b[39m{\u001b[39;00msource[\u001b[39m'\u001b[39m\u001b[39m_id\u001b[39m\u001b[39m'\u001b[39m]\u001b[39m}\u001b[39;00m\u001b[39m, closest point is \u001b[39m\u001b[39m{\u001b[39;00mclosest_point[\u001b[39m'\u001b[39m\u001b[39m_id\u001b[39m\u001b[39m'\u001b[39m]\u001b[39m}\u001b[39;00m\u001b[39m with distance \u001b[39m\u001b[39m{\u001b[39;00mmin_distance\u001b[39m}\u001b[39;00m\u001b[39m\"\u001b[39m)\n\u001b[1;32m     60\u001b[0m \u001b[39mfor\u001b[39;00m source \u001b[39min\u001b[39;00m filteredPointList:\n\u001b[1;32m     61\u001b[0m     \u001b[39m# Add the attributes you want to match as keyword arguments here. If no arguments are provided, all 'location' attributes will be matched.\u001b[39;00m\n\u001b[1;32m     62\u001b[0m     matching_annotations \u001b[39m=\u001b[39m find_matching_annotations_by_location(source, targetPointList)\n",
      "\u001b[0;31mTypeError\u001b[0m: 'NoneType' object is not subscriptable"
     ]
    }
   ],
   "source": [
    "import math\n",
    "\n",
    "def calculate_distance(point1, point2):\n",
    "    x1, y1, z1 = point1['coordinates'][0]['x'], point1['coordinates'][0]['y'], point1['coordinates'][0]['z']\n",
    "    x2, y2, z2 = point2['coordinates'][0]['x'], point2['coordinates'][0]['y'], point2['coordinates'][0]['z']\n",
    "    return math.sqrt((x2 - x1) ** 2 + (y2 - y1) ** 2 + (z2 - z1) ** 2)\n",
    "\n",
    "\n",
    "def find_matching_annotations_by_location(source, target_list, Time=True, XY=True, Z=True):\n",
    "    \"\"\"\n",
    "    This function filters the target_list based on the 'location' of the source point.\n",
    "    The function parameters 'Time', 'XY', and 'Z' can be set to True or False to specify whether these 'location' attributes need to be matched.\n",
    "    By default, all of these parameters are set to True, meaning all 'location' attributes need to match.\n",
    "\n",
    "    Parameters:\n",
    "    source (dict): The source point annotation object\n",
    "    target_list (list): The list of target point annotation objects\n",
    "    Time (bool): Specifies whether the 'Time' attribute of 'location' needs to be matched. Default is True.\n",
    "    XY (bool): Specifies whether the 'XY' attribute of 'location' needs to be matched. Default is True.\n",
    "    Z (bool): Specifies whether the 'Z' attribute of 'location' needs to be matched. Default is True.\n",
    "\n",
    "    Returns:\n",
    "    list: The filtered list of target point annotation objects that match the specified 'location' attributes\n",
    "\n",
    "    Example of usage:\n",
    "    1) Matching all 'location' attributes:\n",
    "    source = {...}  # source point annotation object\n",
    "    target_list = [...]  # target point annotation list\n",
    "    matching_annotations = find_matching_annotations_by_location(source, target_list)\n",
    "\n",
    "    2) Matching specified 'location' attributes (in this case, 'Time' and 'XY'):\n",
    "    source = {...}  # source point annotation object\n",
    "    target_list = [...]  # target point annotation list\n",
    "    matching_annotations = find_matching_annotations_by_location(source, target_list, Time=True, XY=True, Z=False)\n",
    "    \"\"\"\n",
    "    params = {'Time': Time, 'XY': XY, 'Z': Z}\n",
    "    return [target for target in target_list if all(source['location'].get(attr) == target['location'].get(attr) for attr, value in params.items() if value)]\n",
    "\n",
    "def find_closest_point(source, target_list):\n",
    "    min_distance = float('inf')\n",
    "    closest_point = None\n",
    "    for target in target_list:\n",
    "        if source['_id'] == target['_id']:\n",
    "            continue\n",
    "        distance = calculate_distance(source, target)\n",
    "        if distance < min_distance:\n",
    "            min_distance = distance\n",
    "            closest_point = target\n",
    "    return closest_point, min_distance\n",
    "\n",
    "#filteredPointList = [...]  # Your filteredPointList here\n",
    "#targetPointList = [...]  # Your targetPointList here\n",
    "\n",
    "for source in filteredPointList:\n",
    "    # Add the attributes you want to match as keyword arguments here. If no arguments are provided, all 'location' attributes will be matched.\n",
    "    matching_annotations = find_matching_annotations_by_location(source, targetPointList, Time=True, XY=True)\n",
    "    closest_point, min_distance = find_closest_point(source, matching_annotations)\n",
    "    print(f\"For point id {source['_id']}, closest point is {closest_point['_id']} with distance {min_distance}\")\n",
    "\n",
    "for source in filteredPointList:\n",
    "    # Add the attributes you want to match as keyword arguments here. If no arguments are provided, all 'location' attributes will be matched.\n",
    "    matching_annotations = find_matching_annotations_by_location(source, targetPointList)\n",
    "    closest_point, min_distance = find_closest_point(source, matching_annotations)\n",
    "    print(f\"For point id {source['_id']}, closest point is {closest_point['_id']} with distance {min_distance}\")\n",
    "\n"
   ]
  }
 ],
 "metadata": {
  "kernelspec": {
   "display_name": "Python 3",
   "language": "python",
   "name": "python3"
  },
  "language_info": {
   "codemirror_mode": {
    "name": "ipython",
    "version": 3
   },
   "file_extension": ".py",
   "mimetype": "text/x-python",
   "name": "python",
   "nbconvert_exporter": "python",
   "pygments_lexer": "ipython3",
   "version": "3.9.6"
  },
  "orig_nbformat": 4
 },
 "nbformat": 4,
 "nbformat_minor": 2
}
